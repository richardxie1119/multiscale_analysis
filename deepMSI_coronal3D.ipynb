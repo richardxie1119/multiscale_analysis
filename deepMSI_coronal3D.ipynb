{
 "cells": [
  {
   "cell_type": "code",
   "execution_count": 1,
   "id": "6545360b",
   "metadata": {},
   "outputs": [
    {
     "name": "stdout",
     "output_type": "stream",
     "text": [
      "\n",
      "    ========================\n",
      "          SPIKE\n",
      "    ========================\n",
      "    Version     : 0.99.30\n",
      "    Date        : 22-03-2022\n",
      "    Revision Id : 563\n",
      "    ========================\n",
      "*** zoom3D not loaded ***\n",
      "plugins loaded:\n",
      "bcorr,  fastclean,  Fitter,  gaussenh,  Linear_prediction,  Peaks,  rem_ridge,  sane,  sg,  test,  urQRd, \n",
      "\n",
      "spike.plugins.report() for a short description of each plugins\n",
      "spike.plugins.report('module_name') for complete documentation on one plugin\n",
      "plugins loaded:\n",
      "diagonal_2DMS,  FTMS_calib,  PhaseMS, \n"
     ]
    }
   ],
   "source": [
    "import sys\n",
    "sys.path.append('../')\n",
    "from utils import *\n",
    "from processing import *\n",
    "import subspaceMSI\n",
    "from signal_model import *\n",
    "import argparse\n",
    "import logging\n",
    "import pickle\n",
    "from tensorflow import keras "
   ]
  },
  {
   "cell_type": "code",
   "execution_count": 2,
   "id": "2201d809",
   "metadata": {},
   "outputs": [],
   "source": [
    "with open('E:/3DCoronal/decoded_data_new/coronal3D_latent32_epoch10_slide3_5_R00_encoded_pred.pkl', 'rb') as f:\n",
    "    encoded_pred = pickle.load(f)"
   ]
  },
  {
   "cell_type": "code",
   "execution_count": 3,
   "id": "5c6b3a65",
   "metadata": {},
   "outputs": [
    {
     "name": "stdout",
     "output_type": "stream",
     "text": [
      "WARNING:tensorflow:No training configuration found in save file, so the model was *not* compiled. Compile it manually.\n"
     ]
    }
   ],
   "source": [
    "decoder_dir=\"D:/Work/projects/DeepMSI/saved_model/coronal3D_latent32_epoch10_decoder\"\n",
    "regressor_dir=\"D:/Work/projects/DeepMSI/saved_model/coronal3D_latent32_epoch10_regressor\"\n",
    "\n",
    "decoder = keras.models.load_model(decoder_dir)\n",
    "model_lp = keras.models.load_model(regressor_dir)"
   ]
  },
  {
   "cell_type": "code",
   "execution_count": 4,
   "id": "ca46e6dd",
   "metadata": {
    "scrolled": true
   },
   "outputs": [
    {
     "name": "stderr",
     "output_type": "stream",
     "text": [
      "100%|██████████████████████████████████████████████████████████████████████████████| 353/353 [1:23:54<00:00, 14.26s/it]\n",
      "  0%|                                                                                          | 0/353 [00:00<?, ?it/s]"
     ]
    },
    {
     "name": "stdout",
     "output_type": "stream",
     "text": [
      "(452361,)\n",
      "propogating encoded intensities of 3544 peaks...\n"
     ]
    },
    {
     "name": "stderr",
     "output_type": "stream",
     "text": [
      "100%|██████████████████████████████████████████████████████████████████████████████| 353/353 [1:36:55<00:00, 16.47s/it]\n"
     ]
    }
   ],
   "source": [
    "average_sp,peak_list_avg,peak_data_pred_decoded = decodeAvgSpectraPeaks(encoded_pred, decoder, (150,1100))"
   ]
  },
  {
   "cell_type": "code",
   "execution_count": 4,
   "id": "c97bbfe0",
   "metadata": {},
   "outputs": [],
   "source": [
    "import random\n",
    "random.seed(19)\n",
    "rows_id = random.sample(range(0, encoded_pred.shape[0]), int(encoded_pred.shape[0]*0.1))"
   ]
  },
  {
   "cell_type": "code",
   "execution_count": 5,
   "id": "050e2a14",
   "metadata": {},
   "outputs": [
    {
     "data": {
      "text/plain": [
       "array([[ 8.4253609e+04, -4.2224848e+04,  2.7302793e+04, ...,\n",
       "        -2.5668570e+04,  2.1869936e+04,  4.9657871e+04],\n",
       "       [ 1.4551316e+04, -5.7967173e+03,  2.9717592e+04, ...,\n",
       "        -2.9521112e+02, -5.9689520e+02,  2.5840173e+03],\n",
       "       [ 2.3011994e+04, -5.8685497e+01,  3.5379371e+04, ...,\n",
       "        -9.0481572e+03, -1.0538218e+04, -8.6155615e+03],\n",
       "       ...,\n",
       "       [ 2.9459541e+04, -2.4382881e+03,  3.3501953e+04, ...,\n",
       "        -6.6674053e+03, -3.5807791e+02,  4.0030457e+03],\n",
       "       [ 9.4126777e+03,  1.0220361e+04,  2.8035689e+04, ...,\n",
       "        -3.1389211e+03,  2.4759854e+03,  2.6922385e+03],\n",
       "       [ 3.9413316e+04, -3.7866741e+03,  4.3356418e+04, ...,\n",
       "        -2.5034795e+03, -4.8816543e+03,  6.0901428e+02]], dtype=float32)"
      ]
     },
     "execution_count": 5,
     "metadata": {},
     "output_type": "execute_result"
    }
   ],
   "source": [
    "encoded_pred[rows_id]"
   ]
  },
  {
   "cell_type": "code",
   "execution_count": 7,
   "id": "ac6acab6",
   "metadata": {},
   "outputs": [],
   "source": [
    "encoded = encoded_pred[rows_id]\n",
    "\n",
    "mz, sp, _ = decodeSpectra('./temp_fid', encoded[0].reshape(1,-1), decoder, (150,1100))\n",
    "average_sp = np.zeros(sp.shape)\n",
    "\n",
    "# for i in tqdm(range(0, encoded.shape[0], 128)):\n",
    "#     mz, sp_decoded, _ = decodeSpectra('./temp_fid', encoded[i:i+128], decoder, (150,1100))\n",
    "#     average_sp += np.sum(sp_decoded,0)\n",
    "# average_sp = average_sp[0]/encoded.shape[0]"
   ]
  },
  {
   "cell_type": "code",
   "execution_count": 9,
   "id": "795fee48",
   "metadata": {},
   "outputs": [],
   "source": [
    "groups_show = ['slide1_2_R00','slide1_2_R01','slide1_2_R02','slide1_2_R03','slide1_2_R04','slide1_2_R05','slide1_2_R06',\n",
    "              'slide1_2_R07','slide1_2_R08','slide3_5_R00','slide3_5_R10','slide3_5_R01','slide3_5_R02','slide3_5_R03',\n",
    "              'slide3_5_R04','slide4_6_R00','slide4_6_R11','slide4_6_R01','slide4_6_R02','slide4_6_R03','slide4_6_R04',\n",
    "              'slide3_5_R05','slide3_5_R06','slide3_5_R07','slide3_5_R08','slide3_5_R09','slide4_6_R05',\n",
    "              'slide4_6_R06','slide4_6_R07','slide4_6_R08','slide4_6_R09','slide4_6_R10','slide7_R00','slide7_R01']\n",
    "avg_spec_recon = []\n",
    "avg_spec_orig = []\n",
    "for group in groups_show:\n",
    "    with open('F:/3DCoronal/decoded_data_new/coronal3D_latent32_epoch10_{}_avgsp_decoded.pkl'.format(group), 'rb') as fp:\n",
    "        avg_spec_recon.append(pickle.load(fp))"
   ]
  },
  {
   "cell_type": "code",
   "execution_count": 14,
   "id": "962fb175",
   "metadata": {},
   "outputs": [
    {
     "data": {
      "image/png": "[encoded data removed]",
      "text/plain": [
       "<Figure size 432x288 with 1 Axes>"
      ]
     },
     "metadata": {
      "needs_background": "light"
     },
     "output_type": "display_data"
    }
   ],
   "source": [
    "mz_filter = (mz>700)&(mz<900)\n",
    "for spec in avg_spec_recon:\n",
    "    plt.plot(mz[mz_filter],spec[mz_filter],rasterized=True)\n",
    "plt.savefig('../figures/avg_spec_coronal3D_decoded.pdf')"
   ]
  },
  {
   "cell_type": "code",
   "execution_count": 34,
   "id": "c03da5fb",
   "metadata": {},
   "outputs": [],
   "source": [
    "with open('E:/3DCoronal/decoded_data_new/coronal3D_latent32_epoch10_slide3_5_R00_avgsp_decoded.pkl', 'rb') as fp:\n",
    "    average_sp_all =pickle.load(fp)"
   ]
  },
  {
   "cell_type": "code",
   "execution_count": 45,
   "id": "7d2b09ea",
   "metadata": {},
   "outputs": [],
   "source": [
    "from scipy.stats import median_abs_deviation as mad\n",
    "\n",
    "p1=peak_detection(mz, average_sp, prominence = mad(average_sp)*10, threshold = mad(average_sp)*10)\n",
    "p2=peak_detection(mz, average_sp_all, prominence = mad(average_sp_all)*10, threshold = mad(average_sp_all)*10)\n"
   ]
  },
  {
   "cell_type": "code",
   "execution_count": 5,
   "id": "477e542d",
   "metadata": {},
   "outputs": [],
   "source": [
    "with open('E:/3DCoronal/decoded_data/coronal3D_latent32_epoch10_slide3_5_R10_propagated_decoded2.pkl', 'wb') as fp:\n",
    "    pickle.dump(peak_data_pred_decoded, fp, protocol=pickle.HIGHEST_PROTOCOL)"
   ]
  },
  {
   "cell_type": "code",
   "execution_count": 13,
   "id": "33fd1a18",
   "metadata": {},
   "outputs": [],
   "source": [
    "with open('E:/3DCoronal/decoded_data/coronal3D_latent32_epoch10_slide3_5_R10_propagated_decoded2.pkl', 'rb') as fp:\n",
    "    peak_list =pickle.load(fp)"
   ]
  },
  {
   "cell_type": "code",
   "execution_count": 6,
   "id": "63ba4e61",
   "metadata": {},
   "outputs": [],
   "source": [
    "with open('E:/3DCoronal/decoded_data/coronal3D_latent32_epoch10_slide3_5_R10_propagated_decoded.pkl', 'rb') as fp:\n",
    "    peak_data_pred_decoded = pickle.load(fp)"
   ]
  },
  {
   "cell_type": "code",
   "execution_count": 54,
   "id": "6fb1706f",
   "metadata": {},
   "outputs": [],
   "source": [
    "#coord = peak_data_pred_decoded['coordinates']\n",
    "coords = [tuple([1,i]) for i in range(len(imzml_data.coords))]"
   ]
  },
  {
   "cell_type": "code",
   "execution_count": 56,
   "id": "95db7a04",
   "metadata": {},
   "outputs": [],
   "source": [
    "def pklist2imzML(peak_list_name,coords):\n",
    "\n",
    "    \"\"\"\n",
    "    \"\"\"\n",
    "    with open(peak_list_name+'.pkl', 'rb') as fp:\n",
    "        peak_list = pickle.load(fp)\n",
    "\n",
    "    with ImzMLWriter(peak_list_name+'.imzML') as w:\n",
    "\t        \n",
    "\t    for i in range(1,len(peak_list)+1):\n",
    "\t        \n",
    "\t        # writes data to the .ibd file\n",
    "\t        #print(i)\n",
    "\t        if peak_list[i]['mz'].size >0:\n",
    "\t            \n",
    "\t            w.addSpectrum(mzs = peak_list[i]['mz'],intensities = peak_list[i]['intensity'],\n",
    "\t                                    coords = tuple(coords[i-1]))"
   ]
  },
  {
   "cell_type": "code",
   "execution_count": 57,
   "id": "d7ee4f3f",
   "metadata": {},
   "outputs": [],
   "source": [
    "pklist2imzML('coronal3D_latent32_epoch10_slide3_5_R10_propagated_decoded2',coords)"
   ]
  },
  {
   "cell_type": "code",
   "execution_count": 58,
   "id": "9aa88d35",
   "metadata": {},
   "outputs": [
    {
     "name": "stderr",
     "output_type": "stream",
     "text": [
      "c:\\users\\richard\\appdata\\local\\programs\\python\\python38\\lib\\site-packages\\pyimzml\\ontology\\ontology.py:86: UserWarning: Accession IMS:1000491 found with incorrect name \"line scan left right\". Updating name to \"linescan left right\".\n",
      "  warn(\n"
     ]
    },
    {
     "name": "stdout",
     "output_type": "stream",
     "text": [
      "TODO: convert indices into real world coordinates\n",
      "loaded spectra\n",
      "file loaded\n"
     ]
    }
   ],
   "source": [
    "imzml_data = loadimzMLData('coronal3D_latent32_epoch10_slide3_5_R10_propagated_decoded2.imzML')"
   ]
  },
  {
   "cell_type": "code",
   "execution_count": 49,
   "id": "96f18934",
   "metadata": {},
   "outputs": [],
   "source": [
    "coords = [tuple([1,i]) for i in range(len(imzml_data.coords))]"
   ]
  },
  {
   "cell_type": "code",
   "execution_count": 59,
   "id": "32b2ea31",
   "metadata": {},
   "outputs": [
    {
     "name": "stderr",
     "output_type": "stream",
     "text": [
      "  0%|▏                                                                          | 354/168602 [00:00<01:34, 1774.68it/s]"
     ]
    },
    {
     "name": "stdout",
     "output_type": "stream",
     "text": [
      "number of mass bins 168602\n"
     ]
    },
    {
     "name": "stderr",
     "output_type": "stream",
     "text": [
      "100%|████████████████████████████████████████████████████████████████████████| 168602/168602 [01:32<00:00, 1831.70it/s]\n"
     ]
    }
   ],
   "source": [
    "intens_mtx = getIntensMtxData(imzml_data, (400,1100), 0.2, ppm=3)"
   ]
  },
  {
   "cell_type": "code",
   "execution_count": 60,
   "id": "2ec75a1c",
   "metadata": {},
   "outputs": [
    {
     "data": {
      "text/html": [
       "<div>\n",
       "<style scoped>\n",
       "    .dataframe tbody tr th:only-of-type {\n",
       "        vertical-align: middle;\n",
       "    }\n",
       "\n",
       "    .dataframe tbody tr th {\n",
       "        vertical-align: top;\n",
       "    }\n",
       "\n",
       "    .dataframe thead th {\n",
       "        text-align: right;\n",
       "    }\n",
       "</style>\n",
       "<table border=\"1\" class=\"dataframe\">\n",
       "  <thead>\n",
       "    <tr style=\"text-align: right;\">\n",
       "      <th></th>\n",
       "      <th>400.273693</th>\n",
       "      <th>400.278496</th>\n",
       "      <th>400.285701</th>\n",
       "      <th>400.340944</th>\n",
       "      <th>400.773545</th>\n",
       "      <th>400.780759</th>\n",
       "      <th>400.790377</th>\n",
       "      <th>401.240315</th>\n",
       "      <th>401.249945</th>\n",
       "      <th>401.278836</th>\n",
       "      <th>...</th>\n",
       "      <th>1091.697971</th>\n",
       "      <th>1092.707163</th>\n",
       "      <th>1094.275225</th>\n",
       "      <th>1094.472212</th>\n",
       "      <th>1096.417715</th>\n",
       "      <th>1097.418101</th>\n",
       "      <th>1097.951575</th>\n",
       "      <th>1098.406219</th>\n",
       "      <th>1099.494177</th>\n",
       "      <th>1099.586538</th>\n",
       "    </tr>\n",
       "  </thead>\n",
       "  <tbody>\n",
       "    <tr>\n",
       "      <th>0</th>\n",
       "      <td>53543.691406</td>\n",
       "      <td>79564.046875</td>\n",
       "      <td>74600.328125</td>\n",
       "      <td>1356.962036</td>\n",
       "      <td>14632.681641</td>\n",
       "      <td>32826.554688</td>\n",
       "      <td>31088.394531</td>\n",
       "      <td>4962.194336</td>\n",
       "      <td>3491.370605</td>\n",
       "      <td>5926.122070</td>\n",
       "      <td>...</td>\n",
       "      <td>1775.035156</td>\n",
       "      <td>2319.741943</td>\n",
       "      <td>2596.361328</td>\n",
       "      <td>5180.066406</td>\n",
       "      <td>1253.084229</td>\n",
       "      <td>5794.016602</td>\n",
       "      <td>4297.298828</td>\n",
       "      <td>3186.041748</td>\n",
       "      <td>5551.112793</td>\n",
       "      <td>9281.802734</td>\n",
       "    </tr>\n",
       "    <tr>\n",
       "      <th>1</th>\n",
       "      <td>54288.742188</td>\n",
       "      <td>86430.421875</td>\n",
       "      <td>79263.578125</td>\n",
       "      <td>1303.146240</td>\n",
       "      <td>14551.361328</td>\n",
       "      <td>35288.921875</td>\n",
       "      <td>32909.625000</td>\n",
       "      <td>5664.500488</td>\n",
       "      <td>3865.389160</td>\n",
       "      <td>6487.462402</td>\n",
       "      <td>...</td>\n",
       "      <td>2069.384277</td>\n",
       "      <td>2272.174072</td>\n",
       "      <td>2371.919678</td>\n",
       "      <td>5274.793945</td>\n",
       "      <td>1319.058350</td>\n",
       "      <td>5504.719238</td>\n",
       "      <td>4185.109863</td>\n",
       "      <td>3589.165039</td>\n",
       "      <td>5837.380371</td>\n",
       "      <td>8749.000977</td>\n",
       "    </tr>\n",
       "    <tr>\n",
       "      <th>2</th>\n",
       "      <td>70905.039062</td>\n",
       "      <td>71605.234375</td>\n",
       "      <td>99814.242188</td>\n",
       "      <td>2066.222656</td>\n",
       "      <td>27687.552734</td>\n",
       "      <td>49251.359375</td>\n",
       "      <td>63722.152344</td>\n",
       "      <td>8657.905273</td>\n",
       "      <td>6953.196777</td>\n",
       "      <td>11570.505859</td>\n",
       "      <td>...</td>\n",
       "      <td>7242.016602</td>\n",
       "      <td>3513.674805</td>\n",
       "      <td>4530.941895</td>\n",
       "      <td>8250.521484</td>\n",
       "      <td>3455.473877</td>\n",
       "      <td>15530.910156</td>\n",
       "      <td>5343.646973</td>\n",
       "      <td>5126.552246</td>\n",
       "      <td>8469.146484</td>\n",
       "      <td>14199.807617</td>\n",
       "    </tr>\n",
       "    <tr>\n",
       "      <th>3</th>\n",
       "      <td>75750.593750</td>\n",
       "      <td>85049.460938</td>\n",
       "      <td>103958.960938</td>\n",
       "      <td>803.608215</td>\n",
       "      <td>26043.898438</td>\n",
       "      <td>53109.882812</td>\n",
       "      <td>60149.757812</td>\n",
       "      <td>9123.227539</td>\n",
       "      <td>7029.463379</td>\n",
       "      <td>10813.848633</td>\n",
       "      <td>...</td>\n",
       "      <td>5358.834473</td>\n",
       "      <td>3029.785645</td>\n",
       "      <td>4673.420410</td>\n",
       "      <td>4789.851562</td>\n",
       "      <td>3333.410156</td>\n",
       "      <td>12274.907227</td>\n",
       "      <td>3873.650879</td>\n",
       "      <td>4930.978516</td>\n",
       "      <td>6996.516602</td>\n",
       "      <td>13003.016602</td>\n",
       "    </tr>\n",
       "    <tr>\n",
       "      <th>4</th>\n",
       "      <td>34028.121094</td>\n",
       "      <td>48867.953125</td>\n",
       "      <td>52460.718750</td>\n",
       "      <td>1831.760498</td>\n",
       "      <td>11309.078125</td>\n",
       "      <td>26035.472656</td>\n",
       "      <td>26914.232422</td>\n",
       "      <td>3698.095703</td>\n",
       "      <td>2588.790039</td>\n",
       "      <td>5083.515137</td>\n",
       "      <td>...</td>\n",
       "      <td>4431.931152</td>\n",
       "      <td>2828.025635</td>\n",
       "      <td>3875.748779</td>\n",
       "      <td>2465.847412</td>\n",
       "      <td>1319.494995</td>\n",
       "      <td>4997.669434</td>\n",
       "      <td>4302.845215</td>\n",
       "      <td>2272.078857</td>\n",
       "      <td>4124.330566</td>\n",
       "      <td>7314.972168</td>\n",
       "    </tr>\n",
       "    <tr>\n",
       "      <th>...</th>\n",
       "      <td>...</td>\n",
       "      <td>...</td>\n",
       "      <td>...</td>\n",
       "      <td>...</td>\n",
       "      <td>...</td>\n",
       "      <td>...</td>\n",
       "      <td>...</td>\n",
       "      <td>...</td>\n",
       "      <td>...</td>\n",
       "      <td>...</td>\n",
       "      <td>...</td>\n",
       "      <td>...</td>\n",
       "      <td>...</td>\n",
       "      <td>...</td>\n",
       "      <td>...</td>\n",
       "      <td>...</td>\n",
       "      <td>...</td>\n",
       "      <td>...</td>\n",
       "      <td>...</td>\n",
       "      <td>...</td>\n",
       "      <td>...</td>\n",
       "    </tr>\n",
       "    <tr>\n",
       "      <th>45178</th>\n",
       "      <td>1697.499268</td>\n",
       "      <td>7357.228027</td>\n",
       "      <td>5045.564941</td>\n",
       "      <td>336.208405</td>\n",
       "      <td>684.827087</td>\n",
       "      <td>4218.274414</td>\n",
       "      <td>2168.744873</td>\n",
       "      <td>775.498474</td>\n",
       "      <td>1266.584839</td>\n",
       "      <td>228.470230</td>\n",
       "      <td>...</td>\n",
       "      <td>3577.604004</td>\n",
       "      <td>2612.311768</td>\n",
       "      <td>2571.217773</td>\n",
       "      <td>549.649475</td>\n",
       "      <td>596.325684</td>\n",
       "      <td>206.535751</td>\n",
       "      <td>3192.384033</td>\n",
       "      <td>567.236755</td>\n",
       "      <td>2916.528076</td>\n",
       "      <td>5519.799805</td>\n",
       "    </tr>\n",
       "    <tr>\n",
       "      <th>45179</th>\n",
       "      <td>2299.292725</td>\n",
       "      <td>4892.474609</td>\n",
       "      <td>4313.596680</td>\n",
       "      <td>3247.526367</td>\n",
       "      <td>788.692139</td>\n",
       "      <td>2220.105469</td>\n",
       "      <td>3352.374512</td>\n",
       "      <td>777.136597</td>\n",
       "      <td>314.584503</td>\n",
       "      <td>1128.137695</td>\n",
       "      <td>...</td>\n",
       "      <td>3969.835938</td>\n",
       "      <td>1201.368652</td>\n",
       "      <td>3058.228271</td>\n",
       "      <td>1305.465332</td>\n",
       "      <td>698.206787</td>\n",
       "      <td>2028.932983</td>\n",
       "      <td>5245.129395</td>\n",
       "      <td>1041.057495</td>\n",
       "      <td>2996.880371</td>\n",
       "      <td>3132.547363</td>\n",
       "    </tr>\n",
       "    <tr>\n",
       "      <th>45180</th>\n",
       "      <td>32384.794922</td>\n",
       "      <td>75093.203125</td>\n",
       "      <td>60414.468750</td>\n",
       "      <td>1401.623657</td>\n",
       "      <td>8471.449219</td>\n",
       "      <td>27234.986328</td>\n",
       "      <td>22269.712891</td>\n",
       "      <td>3717.715088</td>\n",
       "      <td>2435.246826</td>\n",
       "      <td>4718.613281</td>\n",
       "      <td>...</td>\n",
       "      <td>727.224854</td>\n",
       "      <td>1524.720825</td>\n",
       "      <td>1081.571655</td>\n",
       "      <td>3526.092285</td>\n",
       "      <td>1444.291992</td>\n",
       "      <td>3488.462402</td>\n",
       "      <td>2656.982422</td>\n",
       "      <td>3643.940430</td>\n",
       "      <td>6277.415039</td>\n",
       "      <td>4896.414062</td>\n",
       "    </tr>\n",
       "    <tr>\n",
       "      <th>45181</th>\n",
       "      <td>27377.822266</td>\n",
       "      <td>61963.398438</td>\n",
       "      <td>50686.542969</td>\n",
       "      <td>1341.701538</td>\n",
       "      <td>7531.155273</td>\n",
       "      <td>23940.722656</td>\n",
       "      <td>19930.439453</td>\n",
       "      <td>2746.310547</td>\n",
       "      <td>2359.933838</td>\n",
       "      <td>3653.994385</td>\n",
       "      <td>...</td>\n",
       "      <td>935.749634</td>\n",
       "      <td>639.179382</td>\n",
       "      <td>1875.991333</td>\n",
       "      <td>3146.859863</td>\n",
       "      <td>1349.112305</td>\n",
       "      <td>3636.228760</td>\n",
       "      <td>3101.926758</td>\n",
       "      <td>3032.535156</td>\n",
       "      <td>5769.924805</td>\n",
       "      <td>4787.927734</td>\n",
       "    </tr>\n",
       "    <tr>\n",
       "      <th>45182</th>\n",
       "      <td>43626.609375</td>\n",
       "      <td>93622.109375</td>\n",
       "      <td>81314.867188</td>\n",
       "      <td>1574.459351</td>\n",
       "      <td>12425.419922</td>\n",
       "      <td>41024.851562</td>\n",
       "      <td>35998.328125</td>\n",
       "      <td>6756.222168</td>\n",
       "      <td>4470.981445</td>\n",
       "      <td>6445.963867</td>\n",
       "      <td>...</td>\n",
       "      <td>1162.115356</td>\n",
       "      <td>1453.742554</td>\n",
       "      <td>2090.682373</td>\n",
       "      <td>5293.213379</td>\n",
       "      <td>1297.607788</td>\n",
       "      <td>3868.523193</td>\n",
       "      <td>3203.127686</td>\n",
       "      <td>1924.242920</td>\n",
       "      <td>9075.773438</td>\n",
       "      <td>6385.917480</td>\n",
       "    </tr>\n",
       "  </tbody>\n",
       "</table>\n",
       "<p>45183 rows × 2793 columns</p>\n",
       "</div>"
      ],
      "text/plain": [
       "        400.273693    400.278496     400.285701   400.340944    400.773545   \\\n",
       "0      53543.691406  79564.046875   74600.328125  1356.962036  14632.681641   \n",
       "1      54288.742188  86430.421875   79263.578125  1303.146240  14551.361328   \n",
       "2      70905.039062  71605.234375   99814.242188  2066.222656  27687.552734   \n",
       "3      75750.593750  85049.460938  103958.960938   803.608215  26043.898438   \n",
       "4      34028.121094  48867.953125   52460.718750  1831.760498  11309.078125   \n",
       "...             ...           ...            ...          ...           ...   \n",
       "45178   1697.499268   7357.228027    5045.564941   336.208405    684.827087   \n",
       "45179   2299.292725   4892.474609    4313.596680  3247.526367    788.692139   \n",
       "45180  32384.794922  75093.203125   60414.468750  1401.623657   8471.449219   \n",
       "45181  27377.822266  61963.398438   50686.542969  1341.701538   7531.155273   \n",
       "45182  43626.609375  93622.109375   81314.867188  1574.459351  12425.419922   \n",
       "\n",
       "        400.780759    400.790377   401.240315   401.249945    401.278836   \\\n",
       "0      32826.554688  31088.394531  4962.194336  3491.370605   5926.122070   \n",
       "1      35288.921875  32909.625000  5664.500488  3865.389160   6487.462402   \n",
       "2      49251.359375  63722.152344  8657.905273  6953.196777  11570.505859   \n",
       "3      53109.882812  60149.757812  9123.227539  7029.463379  10813.848633   \n",
       "4      26035.472656  26914.232422  3698.095703  2588.790039   5083.515137   \n",
       "...             ...           ...          ...          ...           ...   \n",
       "45178   4218.274414   2168.744873   775.498474  1266.584839    228.470230   \n",
       "45179   2220.105469   3352.374512   777.136597   314.584503   1128.137695   \n",
       "45180  27234.986328  22269.712891  3717.715088  2435.246826   4718.613281   \n",
       "45181  23940.722656  19930.439453  2746.310547  2359.933838   3653.994385   \n",
       "45182  41024.851562  35998.328125  6756.222168  4470.981445   6445.963867   \n",
       "\n",
       "       ...  1091.697971  1092.707163  1094.275225  1094.472212  1096.417715  \\\n",
       "0      ...  1775.035156  2319.741943  2596.361328  5180.066406  1253.084229   \n",
       "1      ...  2069.384277  2272.174072  2371.919678  5274.793945  1319.058350   \n",
       "2      ...  7242.016602  3513.674805  4530.941895  8250.521484  3455.473877   \n",
       "3      ...  5358.834473  3029.785645  4673.420410  4789.851562  3333.410156   \n",
       "4      ...  4431.931152  2828.025635  3875.748779  2465.847412  1319.494995   \n",
       "...    ...          ...          ...          ...          ...          ...   \n",
       "45178  ...  3577.604004  2612.311768  2571.217773   549.649475   596.325684   \n",
       "45179  ...  3969.835938  1201.368652  3058.228271  1305.465332   698.206787   \n",
       "45180  ...   727.224854  1524.720825  1081.571655  3526.092285  1444.291992   \n",
       "45181  ...   935.749634   639.179382  1875.991333  3146.859863  1349.112305   \n",
       "45182  ...  1162.115356  1453.742554  2090.682373  5293.213379  1297.607788   \n",
       "\n",
       "        1097.418101  1097.951575  1098.406219  1099.494177   1099.586538  \n",
       "0       5794.016602  4297.298828  3186.041748  5551.112793   9281.802734  \n",
       "1       5504.719238  4185.109863  3589.165039  5837.380371   8749.000977  \n",
       "2      15530.910156  5343.646973  5126.552246  8469.146484  14199.807617  \n",
       "3      12274.907227  3873.650879  4930.978516  6996.516602  13003.016602  \n",
       "4       4997.669434  4302.845215  2272.078857  4124.330566   7314.972168  \n",
       "...             ...          ...          ...          ...           ...  \n",
       "45178    206.535751  3192.384033   567.236755  2916.528076   5519.799805  \n",
       "45179   2028.932983  5245.129395  1041.057495  2996.880371   3132.547363  \n",
       "45180   3488.462402  2656.982422  3643.940430  6277.415039   4896.414062  \n",
       "45181   3636.228760  3101.926758  3032.535156  5769.924805   4787.927734  \n",
       "45182   3868.523193  3203.127686  1924.242920  9075.773438   6385.917480  \n",
       "\n",
       "[45183 rows x 2793 columns]"
      ]
     },
     "execution_count": 60,
     "metadata": {},
     "output_type": "execute_result"
    }
   ],
   "source": [
    "intens_mtx"
   ]
  },
  {
   "cell_type": "code",
   "execution_count": 14,
   "id": "9bd3f924",
   "metadata": {},
   "outputs": [],
   "source": [
    "def extractMZFeatures(imzml_dataset, ppm, mz_range, feature_n = 0.05, mz_bins = []):\n",
    "        \n",
    "    if len(mz_bins) == 0:\n",
    "        mz_bins = [mz_range[0]]\n",
    "        while mz_bins[-1] < mz_range[1]:\n",
    "            mz_bins.append(mz_bins[-1]+mz_bins[-1]*2*ppm*10**-6)\n",
    "        \n",
    "    print('number of mass bins {}'.format(len(mz_bins)))\n",
    "\n",
    "    count = []\n",
    "    for i in tqdm(range(len(mz_bins))):\n",
    "        count.append(imzml_dataset.get_ion_image(mz_bins[i],ppm).xic_to_image(0).astype(bool).sum())\n",
    "    \n",
    "    mz_bins_filter = (np.array(count)>=int(imzml_dataset.coords.shape[0]*feature_n))\n",
    "    mz_bins_use = np.array(mz_bins)[mz_bins_filter]\n",
    "                \n",
    "    datacube = imzml_dataset.get_ion_image(mz_bins_use, ppm)\n",
    "    \n",
    "    datacube_array = [datacube.xic_to_image(i) for i in range(len(mz_bins_use))]\n",
    "    datacube_array = np.stack(datacube_array)\n",
    "        \n",
    "    return datacube_array, mz_bins_use, count"
   ]
  },
  {
   "cell_type": "code",
   "execution_count": 15,
   "id": "d0f496da",
   "metadata": {},
   "outputs": [
    {
     "name": "stderr",
     "output_type": "stream",
     "text": [
      "  0%|                                                                           | 149/168602 [00:00<01:53, 1479.20it/s]"
     ]
    },
    {
     "name": "stdout",
     "output_type": "stream",
     "text": [
      "number of mass bins 168602\n"
     ]
    },
    {
     "name": "stderr",
     "output_type": "stream",
     "text": [
      "100%|████████████████████████████████████████████████████████████████████████| 168602/168602 [01:19<00:00, 2115.32it/s]\n"
     ]
    }
   ],
   "source": [
    "intens_array, mz_bins_use, c = extractMZFeatures(imzml_data, ppm=3, mz_range=(400,1100), feature_n=0.2)"
   ]
  },
  {
   "cell_type": "code",
   "execution_count": 20,
   "id": "5ca89e5a",
   "metadata": {},
   "outputs": [
    {
     "data": {
      "text/plain": [
       "<matplotlib.image.AxesImage at 0x1fa84cf4a90>"
      ]
     },
     "execution_count": 20,
     "metadata": {},
     "output_type": "execute_result"
    },
    {
     "data": {
      "image/png": "[encoded data removed]",
      "text/plain": [
       "<Figure size 432x288 with 1 Axes>"
      ]
     },
     "metadata": {
      "needs_background": "light"
     },
     "output_type": "display_data"
    }
   ],
   "source": [
    "plt.imshow(intens_array[1324])"
   ]
  },
  {
   "cell_type": "code",
   "execution_count": 27,
   "id": "11b80ebc",
   "metadata": {},
   "outputs": [
    {
     "ename": "MemoryError",
     "evalue": "Unable to allocate 323. GiB for an array with shape (45183, 2, 2793, 172) and data type float64",
     "output_type": "error",
     "traceback": [
      "\u001b[1;31m---------------------------------------------------------------------------\u001b[0m",
      "\u001b[1;31mMemoryError\u001b[0m                               Traceback (most recent call last)",
      "\u001b[1;32m<ipython-input-27-3144d0cedde6>\u001b[0m in \u001b[0;36m<module>\u001b[1;34m\u001b[0m\n\u001b[1;32m----> 1\u001b[1;33m \u001b[0mintens_array\u001b[0m\u001b[1;33m[\u001b[0m\u001b[1;33m:\u001b[0m\u001b[1;33m,\u001b[0m\u001b[0mimzml_data\u001b[0m\u001b[1;33m.\u001b[0m\u001b[0mcoords\u001b[0m\u001b[1;33m[\u001b[0m\u001b[1;33m:\u001b[0m\u001b[1;33m,\u001b[0m\u001b[1;33m:\u001b[0m\u001b[1;36m2\u001b[0m\u001b[1;33m]\u001b[0m\u001b[1;33m]\u001b[0m\u001b[1;33m\u001b[0m\u001b[1;33m\u001b[0m\u001b[0m\n\u001b[0m",
      "\u001b[1;31mMemoryError\u001b[0m: Unable to allocate 323. GiB for an array with shape (45183, 2, 2793, 172) and data type float64"
     ]
    }
   ],
   "source": [
    "intens_array[:,imzml_data.coords[:,:2]]"
   ]
  },
  {
   "cell_type": "code",
   "execution_count": 28,
   "id": "ead9d292",
   "metadata": {},
   "outputs": [
    {
     "data": {
      "text/plain": [
       "(2793, 305, 172)"
      ]
     },
     "execution_count": 28,
     "metadata": {},
     "output_type": "execute_result"
    }
   ],
   "source": [
    "intens_array.shape"
   ]
  },
  {
   "cell_type": "code",
   "execution_count": 48,
   "id": "25ea23bc",
   "metadata": {},
   "outputs": [
    {
     "data": {
      "text/plain": [
       "79564.046875"
      ]
     },
     "execution_count": 48,
     "metadata": {},
     "output_type": "execute_result"
    }
   ],
   "source": [
    "intens_array[1][0,86]"
   ]
  },
  {
   "cell_type": "code",
   "execution_count": 46,
   "id": "b7c0cf53",
   "metadata": {},
   "outputs": [
    {
     "data": {
      "text/plain": [
       "array([ 0, 86])"
      ]
     },
     "execution_count": 46,
     "metadata": {},
     "output_type": "execute_result"
    }
   ],
   "source": [
    "imzml_data.coords[:,:2][0]"
   ]
  },
  {
   "cell_type": "code",
   "execution_count": 44,
   "id": "b1aec674",
   "metadata": {},
   "outputs": [
    {
     "data": {
      "text/plain": [
       "(45183, 2)"
      ]
     },
     "execution_count": 44,
     "metadata": {},
     "output_type": "execute_result"
    }
   ],
   "source": [
    "imzml_data.coords[:,:2]"
   ]
  },
  {
   "cell_type": "code",
   "execution_count": null,
   "id": "169626b6",
   "metadata": {},
   "outputs": [],
   "source": []
  }
 ],
 "metadata": {
  "kernelspec": {
   "display_name": "Python 3",
   "language": "python",
   "name": "python3"
  },
  "language_info": {
   "codemirror_mode": {
    "name": "ipython",
    "version": 3
   },
   "file_extension": ".py",
   "mimetype": "text/x-python",
   "name": "python",
   "nbconvert_exporter": "python",
   "pygments_lexer": "ipython3",
   "version": "3.8.2rc1"
  },
  "toc": {
   "base_numbering": 1,
   "nav_menu": {},
   "number_sections": true,
   "sideBar": true,
   "skip_h1_title": false,
   "title_cell": "Table of Contents",
   "title_sidebar": "Contents",
   "toc_cell": false,
   "toc_position": {},
   "toc_section_display": true,
   "toc_window_display": false
  }
 },
 "nbformat": 4,
 "nbformat_minor": 5
}
