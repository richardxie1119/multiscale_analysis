{
 "cells": [
  {
   "cell_type": "code",
   "execution_count": 1,
   "metadata": {},
   "outputs": [
    {
     "ename": "ImportError",
     "evalue": "Something is wrong with the numpy installation. While importing we detected an older version of numpy in ['/Users/richard/anaconda/lib/python3.6/site-packages/numpy']. One method of fixing this is to repeatedly uninstall numpy until none is found, then reinstall this version.",
     "output_type": "error",
     "traceback": [
      "\u001b[0;31m---------------------------------------------------------------------------\u001b[0m",
      "\u001b[0;31mImportError\u001b[0m                               Traceback (most recent call last)",
      "\u001b[0;32m<ipython-input-1-30d40043e466>\u001b[0m in \u001b[0;36m<module>\u001b[0;34m()\u001b[0m\n\u001b[0;32m----> 1\u001b[0;31m \u001b[0;32mimport\u001b[0m \u001b[0mnumpy\u001b[0m \u001b[0;32mas\u001b[0m \u001b[0mnp\u001b[0m\u001b[0;34m\u001b[0m\u001b[0m\n\u001b[0m\u001b[1;32m      2\u001b[0m \u001b[0;32mimport\u001b[0m \u001b[0mpandas\u001b[0m \u001b[0;32mas\u001b[0m \u001b[0mpd\u001b[0m\u001b[0;34m\u001b[0m\u001b[0m\n\u001b[1;32m      3\u001b[0m \u001b[0;32mimport\u001b[0m \u001b[0mos\u001b[0m\u001b[0;34m\u001b[0m\u001b[0m\n\u001b[1;32m      4\u001b[0m \u001b[0;32mfrom\u001b[0m \u001b[0mos\u001b[0m \u001b[0;32mimport\u001b[0m \u001b[0mpath\u001b[0m\u001b[0;34m\u001b[0m\u001b[0m\n\u001b[1;32m      5\u001b[0m \u001b[0;32mfrom\u001b[0m \u001b[0mglob\u001b[0m \u001b[0;32mimport\u001b[0m \u001b[0mglob\u001b[0m\u001b[0;34m\u001b[0m\u001b[0m\n",
      "\u001b[0;32m~/anaconda/lib/python3.6/site-packages/numpy/__init__.py\u001b[0m in \u001b[0;36m<module>\u001b[0;34m()\u001b[0m\n\u001b[1;32m    138\u001b[0m     \u001b[0;32mfrom\u001b[0m \u001b[0;34m.\u001b[0m \u001b[0;32mimport\u001b[0m \u001b[0m_distributor_init\u001b[0m\u001b[0;34m\u001b[0m\u001b[0m\n\u001b[1;32m    139\u001b[0m \u001b[0;34m\u001b[0m\u001b[0m\n\u001b[0;32m--> 140\u001b[0;31m     \u001b[0;32mfrom\u001b[0m \u001b[0;34m.\u001b[0m \u001b[0;32mimport\u001b[0m \u001b[0mcore\u001b[0m\u001b[0;34m\u001b[0m\u001b[0m\n\u001b[0m\u001b[1;32m    141\u001b[0m     \u001b[0;32mfrom\u001b[0m \u001b[0;34m.\u001b[0m\u001b[0mcore\u001b[0m \u001b[0;32mimport\u001b[0m \u001b[0;34m*\u001b[0m\u001b[0;34m\u001b[0m\u001b[0m\n\u001b[1;32m    142\u001b[0m     \u001b[0;32mfrom\u001b[0m \u001b[0;34m.\u001b[0m \u001b[0;32mimport\u001b[0m \u001b[0mcompat\u001b[0m\u001b[0;34m\u001b[0m\u001b[0m\n",
      "\u001b[0;32m~/anaconda/lib/python3.6/site-packages/numpy/core/__init__.py\u001b[0m in \u001b[0;36m<module>\u001b[0;34m()\u001b[0m\n\u001b[1;32m     66\u001b[0m         \u001b[0;34m\"numpy in {}. One method of fixing this is to repeatedly uninstall \"\u001b[0m\u001b[0;34m\u001b[0m\u001b[0m\n\u001b[1;32m     67\u001b[0m         \"numpy until none is found, then reinstall this version.\")\n\u001b[0;32m---> 68\u001b[0;31m     \u001b[0;32mraise\u001b[0m \u001b[0mImportError\u001b[0m\u001b[0;34m(\u001b[0m\u001b[0mmsg\u001b[0m\u001b[0;34m.\u001b[0m\u001b[0mformat\u001b[0m\u001b[0;34m(\u001b[0m\u001b[0mpath\u001b[0m\u001b[0;34m)\u001b[0m\u001b[0;34m)\u001b[0m\u001b[0;34m\u001b[0m\u001b[0m\n\u001b[0m\u001b[1;32m     69\u001b[0m \u001b[0;34m\u001b[0m\u001b[0m\n\u001b[1;32m     70\u001b[0m \u001b[0;32mfrom\u001b[0m \u001b[0;34m.\u001b[0m \u001b[0;32mimport\u001b[0m \u001b[0mnumerictypes\u001b[0m \u001b[0;32mas\u001b[0m \u001b[0mnt\u001b[0m\u001b[0;34m\u001b[0m\u001b[0m\n",
      "\u001b[0;31mImportError\u001b[0m: Something is wrong with the numpy installation. While importing we detected an older version of numpy in ['/Users/richard/anaconda/lib/python3.6/site-packages/numpy']. One method of fixing this is to repeatedly uninstall numpy until none is found, then reinstall this version."
     ]
    }
   ],
   "source": [
    "import numpy as np\n",
    "import pandas as pd\n",
    "import os\n",
    "from os import path\n",
    "from glob import glob\n",
    "import matplotlib.pyplot as plt\n",
    "import sys\n",
    "sys.path.append('../')\n",
    "from utils import *\n",
    "from processing import *\n",
    "import subspaceMSI\n",
    "import seaborn as sns\n",
    "from sklearn.decomposition import TruncatedSVD\n",
    "from signal_model import *\n",
    "from scipy.stats import pearsonr,spearmanr\n",
    "from scipy.signal import medfilt\n",
    "import h5py\n",
    "from numpy.fft import rfft\n",
    "from scipy.signal import find_peaks_cwt, find_peaks\n",
    "from scipy.stats import median_abs_deviation as mad\n",
    "from pyimzml.ImzMLWriter import ImzMLWriter\n"
   ]
  },
  {
   "cell_type": "code",
   "execution_count": 2,
   "metadata": {},
   "outputs": [
    {
     "ename": "NameError",
     "evalue": "name 'subspaceMSI' is not defined",
     "output_type": "error",
     "traceback": [
      "\u001b[0;31m---------------------------------------------------------------------------\u001b[0m",
      "\u001b[0;31mNameError\u001b[0m                                 Traceback (most recent call last)",
      "\u001b[0;32m<ipython-input-2-ff6691702eff>\u001b[0m in \u001b[0;36m<module>\u001b[0;34m()\u001b[0m\n\u001b[0;32m----> 1\u001b[0;31m \u001b[0mrecon_\u001b[0m \u001b[0;34m=\u001b[0m \u001b[0msubspaceMSI\u001b[0m\u001b[0;34m.\u001b[0m\u001b[0mSubspace\u001b[0m\u001b[0;34m(\u001b[0m\u001b[0mout_dir\u001b[0m\u001b[0;34m=\u001b[0m\u001b[0;34m'../processed_data'\u001b[0m\u001b[0;34m)\u001b[0m\u001b[0;34m\u001b[0m\u001b[0m\n\u001b[0m\u001b[1;32m      2\u001b[0m \u001b[0mrecon_\u001b[0m\u001b[0;34m.\u001b[0m\u001b[0mexperimentInfo\u001b[0m\u001b[0;34m(\u001b[0m\u001b[0;34m'../file_dir_singlecell_train.json'\u001b[0m\u001b[0;34m,\u001b[0m \u001b[0mif_simu\u001b[0m \u001b[0;34m=\u001b[0m \u001b[0;32mTrue\u001b[0m\u001b[0;34m,\u001b[0m \u001b[0msampling_pattern\u001b[0m \u001b[0;34m=\u001b[0m \u001b[0;32mNone\u001b[0m\u001b[0;34m)\u001b[0m\u001b[0;34m\u001b[0m\u001b[0m\n\u001b[1;32m      3\u001b[0m \u001b[0mm_HR\u001b[0m \u001b[0;34m=\u001b[0m \u001b[0mrecon_\u001b[0m\u001b[0;34m.\u001b[0m\u001b[0mparameters\u001b[0m\u001b[0;34m[\u001b[0m\u001b[0;34m'm_HR'\u001b[0m\u001b[0;34m]\u001b[0m\u001b[0;34m\u001b[0m\u001b[0m\n\u001b[1;32m      4\u001b[0m \u001b[0mt\u001b[0m \u001b[0;34m=\u001b[0m \u001b[0mrecon_\u001b[0m\u001b[0;34m.\u001b[0m\u001b[0mparameters\u001b[0m\u001b[0;34m[\u001b[0m\u001b[0;34m't_HR'\u001b[0m\u001b[0;34m]\u001b[0m\u001b[0;34m\u001b[0m\u001b[0m\n\u001b[1;32m      5\u001b[0m \u001b[0mm_LR\u001b[0m \u001b[0;34m=\u001b[0m \u001b[0mrecon_\u001b[0m\u001b[0;34m.\u001b[0m\u001b[0mparameters\u001b[0m\u001b[0;34m[\u001b[0m\u001b[0;34m'm_LR'\u001b[0m\u001b[0;34m]\u001b[0m\u001b[0;34m\u001b[0m\u001b[0m\n",
      "\u001b[0;31mNameError\u001b[0m: name 'subspaceMSI' is not defined"
     ]
    }
   ],
   "source": [
    "recon_ = subspaceMSI.Subspace(out_dir='../processed_data')\n",
    "recon_.experimentInfo('../file_dir_singlecell_train.json', if_simu = True, sampling_pattern = None)\n",
    "m_HR = recon_.parameters['m_HR']\n",
    "t = recon_.parameters['t_HR']\n",
    "m_LR = recon_.parameters['m_LR']\n",
    "t_LR = recon_.parameters['t_LR']"
   ]
  },
  {
   "cell_type": "code",
   "execution_count": 6,
   "metadata": {
    "collapsed": true
   },
   "outputs": [],
   "source": [
    "# file_path = 'Z:/Ellis_Joanna/Raw Files for 30k Cells/'\n",
    "# cell_file_dir = ['20171016/Scene 1','20171016/Scene 2','20171016/Scene 3','20171016/Scene 4',\n",
    "#                 '20171026/Slide 3/Scene 1','20171026/Slide 3/Scene 2','20171026/Slide 3/Scene 3','20171026/Slide 3/Scene 4',\n",
    "#                 '20171026/Slide 4/Scene 1','20171026/Slide 4/Scene 2','20171026/Slide 4/Scene 3','20171026/Slide 4/Scene 4',\n",
    "#                 '20171103/Slide 1/Scene 1','20171103/Slide 1/Scene 2','20171103/Slide 1/Scene 3','20171103/Slide 1/Scene 4',\n",
    "#                 '20171103/Slide 2/Scene 1','20171103/Slide 2/Scene 2','20171103/Slide 2/Scene 3','20171103/Slide 2/Scene 4',\n",
    "#                 '20171103/Slide 3/Scene 1','20171103/Slide 3/Scene 2','20171103/Slide 3/Scene 3','20171103/Slide 3/Scene 4',\n",
    "#                 '20171103/Slide 4/Scene 1','20171103/Slide 4/Scene 2','20171103/Slide 4/Scene 3','20171103/Slide 4/Scene 4',\n",
    "#                 '20171117/Slide 1/Scene 1','20171117/Slide 1/Scene 2','20171117/Slide 1/Scene 3','20171117/Slide 1/Scene 4',\n",
    "#                 '20171117/Slide 2/Scene 1','20171117/Slide 2/Scene 2','20171117/Slide 2/Scene 3','20171117/Slide 2/Scene 4',\n",
    "#                 '20171121/Slide 1/Scene 1','20171121/Slide 1/Scene 2','20171121/Slide 1/Scene 3','20171121/Slide 1/Scene 4',\n",
    "#                 '20171121/Slide 2/Scene 1','20171121/Slide 2/Scene 2','20171121/Slide 2/Scene 3','20171121/Slide 2/Scene 4',\n",
    "#                 '20171121/Slide 3/Scene 1','20171121/Slide 3/Scene 2','20171121/Slide 3/Scene 3','20171121/Slide 3/Scene 4'\n",
    "#                 ]\n",
    "file_path = 'V/20220209_BrainDissociate3D/'\n",
    "cell_file_dir = ['Slide1_Composite','Slide2_Composite']\n",
    "#cell_file_dir = ['Slide3_IndividualRegions/','Slide4_IndividualRegions/']\n",
    "# cell_file_dir = ['Slide5_IndividualRegions/','Slide6_IndividualRegions/','Slide7_IndividualRegions/','Slide8_IndividualRegions/',\n",
    "#                 'Slide9_IndividualRegions/','Slide10_IndividualRegions/']\n",
    "# regions = ['Corpus','Cortex','Hip','Striatum','Thalamus']"
   ]
  },
  {
   "cell_type": "code",
   "execution_count": 11,
   "metadata": {
    "collapsed": true
   },
   "outputs": [],
   "source": [
    "from glob import glob"
   ]
  },
  {
   "cell_type": "code",
   "execution_count": 12,
   "metadata": {
    "collapsed": true
   },
   "outputs": [],
   "source": [
    "cell_ser_file_dir = []\n",
    "for cell_file_dir_ in cell_file_dir:\n",
    "    #for region in regions:\n",
    "        cell_ser_file_dir += glob(file_path+cell_file_dir_+'/*.d')"
   ]
  },
  {
   "cell_type": "code",
   "execution_count": 13,
   "metadata": {},
   "outputs": [
    {
     "data": {
      "text/plain": [
       "0"
      ]
     },
     "execution_count": 13,
     "metadata": {},
     "output_type": "execute_result"
    }
   ],
   "source": [
    "len(cell_ser_file_dir)"
   ]
  },
  {
   "cell_type": "code",
   "execution_count": 67,
   "metadata": {},
   "outputs": [
    {
     "data": {
      "text/plain": [
       "'E:/20220209_BrainDissociate3D/Slide4_IndividualRegions/Thalamus\\\\x_50351y_12020.d'"
      ]
     },
     "execution_count": 67,
     "metadata": {},
     "output_type": "execute_result"
    }
   ],
   "source": [
    "cell_ser_file_dir[-1]"
   ]
  },
  {
   "cell_type": "code",
   "execution_count": 122,
   "metadata": {
    "scrolled": true
   },
   "outputs": [
    {
     "name": "stderr",
     "output_type": "stream",
     "text": [
      "100%|████████████████████████████████████████████████████████████████████████████| 13740/13740 [06:25<00:00, 35.68it/s]\n"
     ]
    }
   ],
   "source": [
    "#download the data and store in the h5 file\n",
    "\n",
    "hf = h5py.File('E:/20220209_BrainDissociate3D/raw_sc_regional.h5', 'w')\n",
    "\n",
    "for i in tqdm(range(0,len(cell_ser_file_dir))):\n",
    "    cell = cell_ser_file_dir[i]\n",
    "    if os.path.exists(cell_ser_file_dir[i]+'/ser'):\n",
    "        fid_loaded = loadBrukerFIDs(cell_ser_file_dir[i]+'/ser', \n",
    "                                recon_.parameters['fid_length_LR'], \n",
    "                                'all',\n",
    "                                1)\n",
    "        #mz,sp = fid2spec(fid_loaded,m_HR,(150,3000))\n",
    "        group = hf.create_group(cell_ser_file_dir[i])\n",
    "        cell_names = cell.split('/')\n",
    "        group.create_dataset('transient',data=fid_loaded)\n",
    "        #group.create_dataset('batch',data=cell_names[3])\n",
    "        group.create_dataset('cell name',data=cell.split('/')[-1].split('\\\\'))\n",
    "    #group.create_dataset('spectra',data=sp)\n",
    "hf.close()"
   ]
  },
  {
   "cell_type": "code",
   "execution_count": 6,
   "metadata": {
    "collapsed": true
   },
   "outputs": [],
   "source": [
    "# def get_dataset_keys(f):\n",
    "#     keys = []\n",
    "#     f.visit(lambda key : keys.append(key) if isinstance(f[key], h5py.Dataset) else None)\n",
    "#     return keys\n",
    "\n",
    "# with h5py.File('E:/deepMSI_singlecell/raw_transient_singlecell.h5','r') as h5:\n",
    "#     dataset_names = get_dataset_keys(h5)\n",
    "# dataset_combined = '\\t'.join(dataset_names)\n",
    "\n",
    "# cell_file_names = []\n",
    "# for cell in cell_ser_file_dir:\n",
    "#     if cell in dataset_combined:\n",
    "#         cell_file_names.append(cell)"
   ]
  },
  {
   "cell_type": "code",
   "execution_count": 32,
   "metadata": {
    "collapsed": true
   },
   "outputs": [],
   "source": [
    "#pd.DataFrame(cell_file_names).to_csv('../cell_file_names.csv')\n",
    "cell_file_names = list(pd.read_csv('../cell_file_names.csv')['0'].values)"
   ]
  },
  {
   "cell_type": "code",
   "execution_count": 33,
   "metadata": {
    "collapsed": true
   },
   "outputs": [],
   "source": [
    "np.random.seed(19)\n",
    "names_train = np.random.choice(cell_file_names,5000)"
   ]
  },
  {
   "cell_type": "code",
   "execution_count": 20,
   "metadata": {
    "collapsed": true
   },
   "outputs": [],
   "source": [
    "from train import *\n",
    "data_file_path = 'E:/20220209_BrainDissociate3D/raw_sc_composite_train.h5'\n",
    "fid_length = recon_.parameters['fid_length_HR']"
   ]
  },
  {
   "cell_type": "code",
   "execution_count": 21,
   "metadata": {},
   "outputs": [
    {
     "name": "stderr",
     "output_type": "stream",
     "text": [
      "\r",
      "  0%|                                                                                           | 0/89 [00:00<?, ?it/s]"
     ]
    },
    {
     "name": "stdout",
     "output_type": "stream",
     "text": [
      "\n",
      "Start of epoch 0\n"
     ]
    },
    {
     "name": "stderr",
     "output_type": "stream",
     "text": [
      " 17%|█████████████▊                                                                    | 15/89 [02:33<12:56, 10.49s/it]"
     ]
    },
    {
     "name": "stdout",
     "output_type": "stream",
     "text": [
      "Training loss (for one batch) at step 15: 5757.5000\n"
     ]
    },
    {
     "name": "stderr",
     "output_type": "stream",
     "text": [
      " 34%|███████████████████████████▋                                                      | 30/89 [05:17<11:22, 11.57s/it]"
     ]
    },
    {
     "name": "stdout",
     "output_type": "stream",
     "text": [
      "Training loss (for one batch) at step 30: 3844.4626\n"
     ]
    },
    {
     "name": "stderr",
     "output_type": "stream",
     "text": [
      " 51%|█████████████████████████████████████████▍                                        | 45/89 [08:07<08:35, 11.72s/it]"
     ]
    },
    {
     "name": "stdout",
     "output_type": "stream",
     "text": [
      "Training loss (for one batch) at step 45: 2766.8752\n"
     ]
    },
    {
     "name": "stderr",
     "output_type": "stream",
     "text": [
      " 67%|███████████████████████████████████████████████████████▎                          | 60/89 [11:12<06:25, 13.30s/it]"
     ]
    },
    {
     "name": "stdout",
     "output_type": "stream",
     "text": [
      "Training loss (for one batch) at step 60: 3518.1780\n"
     ]
    },
    {
     "name": "stderr",
     "output_type": "stream",
     "text": [
      " 84%|█████████████████████████████████████████████████████████████████████             | 75/89 [14:33<03:06, 13.31s/it]"
     ]
    },
    {
     "name": "stdout",
     "output_type": "stream",
     "text": [
      "Training loss (for one batch) at step 75: 2665.5874\n"
     ]
    },
    {
     "name": "stderr",
     "output_type": "stream",
     "text": [
      "100%|██████████████████████████████████████████████████████████████████████████████████| 89/89 [17:39<00:00, 11.91s/it]\n",
      "  0%|                                                                                           | 0/89 [00:00<?, ?it/s]"
     ]
    },
    {
     "name": "stdout",
     "output_type": "stream",
     "text": [
      "\n",
      "Start of epoch 1\n"
     ]
    },
    {
     "name": "stderr",
     "output_type": "stream",
     "text": [
      " 17%|█████████████▊                                                                    | 15/89 [01:56<09:51,  7.99s/it]"
     ]
    },
    {
     "name": "stdout",
     "output_type": "stream",
     "text": [
      "Training loss (for one batch) at step 15: 2111.9746\n"
     ]
    },
    {
     "name": "stderr",
     "output_type": "stream",
     "text": [
      " 34%|███████████████████████████▋                                                      | 30/89 [04:02<08:26,  8.59s/it]"
     ]
    },
    {
     "name": "stdout",
     "output_type": "stream",
     "text": [
      "Training loss (for one batch) at step 30: 2429.6475\n"
     ]
    },
    {
     "name": "stderr",
     "output_type": "stream",
     "text": [
      " 51%|█████████████████████████████████████████▍                                        | 45/89 [06:23<07:18,  9.97s/it]"
     ]
    },
    {
     "name": "stdout",
     "output_type": "stream",
     "text": [
      "Training loss (for one batch) at step 45: 2302.0767\n"
     ]
    },
    {
     "name": "stderr",
     "output_type": "stream",
     "text": [
      " 67%|███████████████████████████████████████████████████████▎                          | 60/89 [09:15<05:53, 12.18s/it]"
     ]
    },
    {
     "name": "stdout",
     "output_type": "stream",
     "text": [
      "Training loss (for one batch) at step 60: 2193.7173\n"
     ]
    },
    {
     "name": "stderr",
     "output_type": "stream",
     "text": [
      " 84%|█████████████████████████████████████████████████████████████████████             | 75/89 [12:40<03:12, 13.74s/it]"
     ]
    },
    {
     "name": "stdout",
     "output_type": "stream",
     "text": [
      "Training loss (for one batch) at step 75: 2199.9697\n"
     ]
    },
    {
     "name": "stderr",
     "output_type": "stream",
     "text": [
      "100%|██████████████████████████████████████████████████████████████████████████████████| 89/89 [15:44<00:00, 10.61s/it]\n",
      "  0%|                                                                                           | 0/89 [00:00<?, ?it/s]"
     ]
    },
    {
     "name": "stdout",
     "output_type": "stream",
     "text": [
      "\n",
      "Start of epoch 2\n"
     ]
    },
    {
     "name": "stderr",
     "output_type": "stream",
     "text": [
      " 17%|█████████████▊                                                                    | 15/89 [02:00<10:19,  8.37s/it]"
     ]
    },
    {
     "name": "stdout",
     "output_type": "stream",
     "text": [
      "Training loss (for one batch) at step 15: 1937.6294\n"
     ]
    },
    {
     "name": "stderr",
     "output_type": "stream",
     "text": [
      " 34%|███████████████████████████▋                                                      | 30/89 [04:12<08:49,  8.98s/it]"
     ]
    },
    {
     "name": "stdout",
     "output_type": "stream",
     "text": [
      "Training loss (for one batch) at step 30: 1989.1552\n"
     ]
    },
    {
     "name": "stderr",
     "output_type": "stream",
     "text": [
      " 51%|█████████████████████████████████████████▍                                        | 45/89 [06:37<07:26, 10.16s/it]"
     ]
    },
    {
     "name": "stdout",
     "output_type": "stream",
     "text": [
      "Training loss (for one batch) at step 45: 1770.6666\n"
     ]
    },
    {
     "name": "stderr",
     "output_type": "stream",
     "text": [
      " 67%|███████████████████████████████████████████████████████▎                          | 60/89 [09:36<06:15, 12.95s/it]"
     ]
    },
    {
     "name": "stdout",
     "output_type": "stream",
     "text": [
      "Training loss (for one batch) at step 60: 2117.2686\n"
     ]
    },
    {
     "name": "stderr",
     "output_type": "stream",
     "text": [
      " 84%|█████████████████████████████████████████████████████████████████████             | 75/89 [13:05<03:13, 13.83s/it]"
     ]
    },
    {
     "name": "stdout",
     "output_type": "stream",
     "text": [
      "Training loss (for one batch) at step 75: 1809.5569\n"
     ]
    },
    {
     "name": "stderr",
     "output_type": "stream",
     "text": [
      "100%|██████████████████████████████████████████████████████████████████████████████████| 89/89 [16:19<00:00, 11.01s/it]\n",
      "  0%|                                                                                           | 0/89 [00:00<?, ?it/s]"
     ]
    },
    {
     "name": "stdout",
     "output_type": "stream",
     "text": [
      "\n",
      "Start of epoch 3\n"
     ]
    },
    {
     "name": "stderr",
     "output_type": "stream",
     "text": [
      " 17%|█████████████▊                                                                    | 15/89 [01:57<10:08,  8.22s/it]"
     ]
    },
    {
     "name": "stdout",
     "output_type": "stream",
     "text": [
      "Training loss (for one batch) at step 15: 1957.3065\n"
     ]
    },
    {
     "name": "stderr",
     "output_type": "stream",
     "text": [
      " 34%|███████████████████████████▋                                                      | 30/89 [04:07<08:47,  8.94s/it]"
     ]
    },
    {
     "name": "stdout",
     "output_type": "stream",
     "text": [
      "Training loss (for one batch) at step 30: 1652.1223\n"
     ]
    },
    {
     "name": "stderr",
     "output_type": "stream",
     "text": [
      " 51%|█████████████████████████████████████████▍                                        | 45/89 [06:33<07:20, 10.02s/it]"
     ]
    },
    {
     "name": "stdout",
     "output_type": "stream",
     "text": [
      "Training loss (for one batch) at step 45: 1873.9463\n"
     ]
    },
    {
     "name": "stderr",
     "output_type": "stream",
     "text": [
      " 67%|███████████████████████████████████████████████████████▎                          | 60/89 [09:28<06:14, 12.92s/it]"
     ]
    },
    {
     "name": "stdout",
     "output_type": "stream",
     "text": [
      "Training loss (for one batch) at step 60: 1878.1687\n"
     ]
    },
    {
     "name": "stderr",
     "output_type": "stream",
     "text": [
      " 84%|█████████████████████████████████████████████████████████████████████             | 75/89 [12:54<03:12, 13.77s/it]"
     ]
    },
    {
     "name": "stdout",
     "output_type": "stream",
     "text": [
      "Training loss (for one batch) at step 75: 1660.1100\n"
     ]
    },
    {
     "name": "stderr",
     "output_type": "stream",
     "text": [
      "100%|██████████████████████████████████████████████████████████████████████████████████| 89/89 [16:02<00:00, 10.82s/it]\n",
      "  0%|                                                                                           | 0/89 [00:00<?, ?it/s]"
     ]
    },
    {
     "name": "stdout",
     "output_type": "stream",
     "text": [
      "\n",
      "Start of epoch 4\n"
     ]
    },
    {
     "name": "stderr",
     "output_type": "stream",
     "text": [
      " 17%|█████████████▊                                                                    | 15/89 [01:59<10:09,  8.24s/it]"
     ]
    },
    {
     "name": "stdout",
     "output_type": "stream",
     "text": [
      "Training loss (for one batch) at step 15: 1725.9045\n"
     ]
    },
    {
     "name": "stderr",
     "output_type": "stream",
     "text": [
      " 34%|███████████████████████████▋                                                      | 30/89 [04:11<08:40,  8.82s/it]"
     ]
    },
    {
     "name": "stdout",
     "output_type": "stream",
     "text": [
      "Training loss (for one batch) at step 30: 1843.5247\n"
     ]
    },
    {
     "name": "stderr",
     "output_type": "stream",
     "text": [
      " 51%|█████████████████████████████████████████▍                                        | 45/89 [06:43<07:50, 10.69s/it]"
     ]
    },
    {
     "name": "stdout",
     "output_type": "stream",
     "text": [
      "Training loss (for one batch) at step 45: 2068.0237\n"
     ]
    },
    {
     "name": "stderr",
     "output_type": "stream",
     "text": [
      " 67%|███████████████████████████████████████████████████████▎                          | 60/89 [09:32<05:47, 11.98s/it]"
     ]
    },
    {
     "name": "stdout",
     "output_type": "stream",
     "text": [
      "Training loss (for one batch) at step 60: 1759.0176\n"
     ]
    },
    {
     "name": "stderr",
     "output_type": "stream",
     "text": [
      " 84%|█████████████████████████████████████████████████████████████████████             | 75/89 [12:55<03:10, 13.62s/it]"
     ]
    },
    {
     "name": "stdout",
     "output_type": "stream",
     "text": [
      "Training loss (for one batch) at step 75: 1747.9053\n"
     ]
    },
    {
     "name": "stderr",
     "output_type": "stream",
     "text": [
      "100%|██████████████████████████████████████████████████████████████████████████████████| 89/89 [16:06<00:00, 10.86s/it]\n",
      "  0%|                                                                                           | 0/89 [00:00<?, ?it/s]"
     ]
    },
    {
     "name": "stdout",
     "output_type": "stream",
     "text": [
      "\n",
      "Start of epoch 5\n"
     ]
    },
    {
     "name": "stderr",
     "output_type": "stream",
     "text": [
      " 17%|█████████████▊                                                                    | 15/89 [02:00<10:04,  8.17s/it]"
     ]
    },
    {
     "name": "stdout",
     "output_type": "stream",
     "text": [
      "Training loss (for one batch) at step 15: 1645.5726\n"
     ]
    },
    {
     "name": "stderr",
     "output_type": "stream",
     "text": [
      " 34%|███████████████████████████▋                                                      | 30/89 [04:15<09:06,  9.26s/it]"
     ]
    },
    {
     "name": "stdout",
     "output_type": "stream",
     "text": [
      "Training loss (for one batch) at step 30: 1626.6732\n"
     ]
    },
    {
     "name": "stderr",
     "output_type": "stream",
     "text": [
      " 51%|█████████████████████████████████████████▍                                        | 45/89 [06:33<06:59,  9.54s/it]"
     ]
    },
    {
     "name": "stdout",
     "output_type": "stream",
     "text": [
      "Training loss (for one batch) at step 45: 1682.2710\n"
     ]
    },
    {
     "name": "stderr",
     "output_type": "stream",
     "text": [
      " 67%|███████████████████████████████████████████████████████▎                          | 60/89 [09:21<05:59, 12.41s/it]"
     ]
    },
    {
     "name": "stdout",
     "output_type": "stream",
     "text": [
      "Training loss (for one batch) at step 60: 1885.7784\n"
     ]
    },
    {
     "name": "stderr",
     "output_type": "stream",
     "text": [
      " 84%|█████████████████████████████████████████████████████████████████████             | 75/89 [12:44<03:10, 13.63s/it]"
     ]
    },
    {
     "name": "stdout",
     "output_type": "stream",
     "text": [
      "Training loss (for one batch) at step 75: 1727.0518\n"
     ]
    },
    {
     "name": "stderr",
     "output_type": "stream",
     "text": [
      "100%|██████████████████████████████████████████████████████████████████████████████████| 89/89 [15:53<00:00, 10.71s/it]\n",
      "  0%|                                                                                           | 0/89 [00:00<?, ?it/s]"
     ]
    },
    {
     "name": "stdout",
     "output_type": "stream",
     "text": [
      "\n",
      "Start of epoch 6\n"
     ]
    },
    {
     "name": "stderr",
     "output_type": "stream",
     "text": [
      " 17%|█████████████▊                                                                    | 15/89 [01:59<10:08,  8.23s/it]"
     ]
    },
    {
     "name": "stdout",
     "output_type": "stream",
     "text": [
      "Training loss (for one batch) at step 15: 1700.5833\n"
     ]
    },
    {
     "name": "stderr",
     "output_type": "stream",
     "text": [
      " 34%|███████████████████████████▋                                                      | 30/89 [04:04<08:27,  8.60s/it]"
     ]
    },
    {
     "name": "stdout",
     "output_type": "stream",
     "text": [
      "Training loss (for one batch) at step 30: 1638.7158\n"
     ]
    },
    {
     "name": "stderr",
     "output_type": "stream",
     "text": [
      " 51%|█████████████████████████████████████████▍                                        | 45/89 [06:29<07:13,  9.86s/it]"
     ]
    },
    {
     "name": "stdout",
     "output_type": "stream",
     "text": [
      "Training loss (for one batch) at step 45: 1699.2037\n"
     ]
    },
    {
     "name": "stderr",
     "output_type": "stream",
     "text": [
      " 67%|███████████████████████████████████████████████████████▎                          | 60/89 [09:20<05:57, 12.32s/it]"
     ]
    },
    {
     "name": "stdout",
     "output_type": "stream",
     "text": [
      "Training loss (for one batch) at step 60: 1760.9728\n"
     ]
    },
    {
     "name": "stderr",
     "output_type": "stream",
     "text": [
      " 84%|█████████████████████████████████████████████████████████████████████             | 75/89 [12:38<03:06, 13.32s/it]"
     ]
    },
    {
     "name": "stdout",
     "output_type": "stream",
     "text": [
      "Training loss (for one batch) at step 75: 1710.8188\n"
     ]
    },
    {
     "name": "stderr",
     "output_type": "stream",
     "text": [
      "100%|██████████████████████████████████████████████████████████████████████████████████| 89/89 [15:44<00:00, 10.61s/it]\n",
      "  0%|                                                                                           | 0/89 [00:00<?, ?it/s]"
     ]
    },
    {
     "name": "stdout",
     "output_type": "stream",
     "text": [
      "\n",
      "Start of epoch 7\n"
     ]
    },
    {
     "name": "stderr",
     "output_type": "stream",
     "text": [
      " 17%|█████████████▊                                                                    | 15/89 [01:58<10:03,  8.16s/it]"
     ]
    },
    {
     "name": "stdout",
     "output_type": "stream",
     "text": [
      "Training loss (for one batch) at step 15: 1540.3209\n"
     ]
    },
    {
     "name": "stderr",
     "output_type": "stream",
     "text": [
      " 34%|███████████████████████████▋                                                      | 30/89 [04:05<08:42,  8.86s/it]"
     ]
    },
    {
     "name": "stdout",
     "output_type": "stream",
     "text": [
      "Training loss (for one batch) at step 30: 1555.8535\n"
     ]
    },
    {
     "name": "stderr",
     "output_type": "stream",
     "text": [
      " 51%|█████████████████████████████████████████▍                                        | 45/89 [06:27<07:30, 10.23s/it]"
     ]
    },
    {
     "name": "stdout",
     "output_type": "stream",
     "text": [
      "Training loss (for one batch) at step 45: 1533.0118\n"
     ]
    },
    {
     "name": "stderr",
     "output_type": "stream",
     "text": [
      " 67%|███████████████████████████████████████████████████████▎                          | 60/89 [09:19<06:02, 12.50s/it]"
     ]
    },
    {
     "name": "stdout",
     "output_type": "stream",
     "text": [
      "Training loss (for one batch) at step 60: 1798.6001\n"
     ]
    },
    {
     "name": "stderr",
     "output_type": "stream",
     "text": [
      " 84%|█████████████████████████████████████████████████████████████████████             | 75/89 [12:34<03:00, 12.91s/it]"
     ]
    },
    {
     "name": "stdout",
     "output_type": "stream",
     "text": [
      "Training loss (for one batch) at step 75: 1646.3074\n"
     ]
    },
    {
     "name": "stderr",
     "output_type": "stream",
     "text": [
      "100%|██████████████████████████████████████████████████████████████████████████████████| 89/89 [15:34<00:00, 10.50s/it]\n",
      "  0%|                                                                                           | 0/89 [00:00<?, ?it/s]"
     ]
    },
    {
     "name": "stdout",
     "output_type": "stream",
     "text": [
      "\n",
      "Start of epoch 8\n"
     ]
    },
    {
     "name": "stderr",
     "output_type": "stream",
     "text": [
      " 17%|█████████████▊                                                                    | 15/89 [02:02<10:30,  8.52s/it]"
     ]
    },
    {
     "name": "stdout",
     "output_type": "stream",
     "text": [
      "Training loss (for one batch) at step 15: 1626.3550\n"
     ]
    },
    {
     "name": "stderr",
     "output_type": "stream",
     "text": [
      " 34%|███████████████████████████▋                                                      | 30/89 [04:17<09:01,  9.17s/it]"
     ]
    },
    {
     "name": "stdout",
     "output_type": "stream",
     "text": [
      "Training loss (for one batch) at step 30: 1604.2333\n"
     ]
    },
    {
     "name": "stderr",
     "output_type": "stream",
     "text": [
      " 51%|█████████████████████████████████████████▍                                        | 45/89 [06:39<07:06,  9.70s/it]"
     ]
    },
    {
     "name": "stdout",
     "output_type": "stream",
     "text": [
      "Training loss (for one batch) at step 45: 1625.2544\n"
     ]
    },
    {
     "name": "stderr",
     "output_type": "stream",
     "text": [
      " 67%|███████████████████████████████████████████████████████▎                          | 60/89 [09:29<05:50, 12.08s/it]"
     ]
    },
    {
     "name": "stdout",
     "output_type": "stream",
     "text": [
      "Training loss (for one batch) at step 60: 1517.0896\n"
     ]
    },
    {
     "name": "stderr",
     "output_type": "stream",
     "text": [
      " 84%|█████████████████████████████████████████████████████████████████████             | 75/89 [12:40<03:01, 12.93s/it]"
     ]
    },
    {
     "name": "stdout",
     "output_type": "stream",
     "text": [
      "Training loss (for one batch) at step 75: 1779.1011\n"
     ]
    },
    {
     "name": "stderr",
     "output_type": "stream",
     "text": [
      "100%|██████████████████████████████████████████████████████████████████████████████████| 89/89 [15:42<00:00, 10.59s/it]\n",
      "  0%|                                                                                           | 0/89 [00:00<?, ?it/s]"
     ]
    },
    {
     "name": "stdout",
     "output_type": "stream",
     "text": [
      "\n",
      "Start of epoch 9\n"
     ]
    },
    {
     "name": "stderr",
     "output_type": "stream",
     "text": [
      " 17%|█████████████▊                                                                    | 15/89 [01:58<10:06,  8.20s/it]"
     ]
    },
    {
     "name": "stdout",
     "output_type": "stream",
     "text": [
      "Training loss (for one batch) at step 15: 1480.2333\n"
     ]
    },
    {
     "name": "stderr",
     "output_type": "stream",
     "text": [
      " 34%|███████████████████████████▋                                                      | 30/89 [04:05<08:51,  9.00s/it]"
     ]
    },
    {
     "name": "stdout",
     "output_type": "stream",
     "text": [
      "Training loss (for one batch) at step 30: 1506.7975\n"
     ]
    },
    {
     "name": "stderr",
     "output_type": "stream",
     "text": [
      " 51%|█████████████████████████████████████████▍                                        | 45/89 [06:26<07:02,  9.61s/it]"
     ]
    },
    {
     "name": "stdout",
     "output_type": "stream",
     "text": [
      "Training loss (for one batch) at step 45: 1582.2224\n"
     ]
    },
    {
     "name": "stderr",
     "output_type": "stream",
     "text": [
      " 67%|███████████████████████████████████████████████████████▎                          | 60/89 [09:12<05:42, 11.82s/it]"
     ]
    },
    {
     "name": "stdout",
     "output_type": "stream",
     "text": [
      "Training loss (for one batch) at step 60: 1706.9541\n"
     ]
    },
    {
     "name": "stderr",
     "output_type": "stream",
     "text": [
      " 84%|█████████████████████████████████████████████████████████████████████             | 75/89 [12:28<03:03, 13.11s/it]"
     ]
    },
    {
     "name": "stdout",
     "output_type": "stream",
     "text": [
      "Training loss (for one batch) at step 75: 1814.7151\n"
     ]
    },
    {
     "name": "stderr",
     "output_type": "stream",
     "text": [
      "100%|██████████████████████████████████████████████████████████████████████████████████| 89/89 [15:30<00:00, 10.46s/it]\n",
      "  0%|                                                                                           | 0/89 [00:00<?, ?it/s]"
     ]
    },
    {
     "name": "stdout",
     "output_type": "stream",
     "text": [
      "\n",
      "Start of epoch 10\n"
     ]
    },
    {
     "name": "stderr",
     "output_type": "stream",
     "text": [
      " 17%|█████████████▊                                                                    | 15/89 [01:57<09:21,  7.59s/it]"
     ]
    },
    {
     "name": "stdout",
     "output_type": "stream",
     "text": [
      "Training loss (for one batch) at step 15: 1618.5193\n"
     ]
    },
    {
     "name": "stderr",
     "output_type": "stream",
     "text": [
      " 34%|███████████████████████████▋                                                      | 30/89 [04:00<08:17,  8.44s/it]"
     ]
    },
    {
     "name": "stdout",
     "output_type": "stream",
     "text": [
      "Training loss (for one batch) at step 30: 1557.9871\n"
     ]
    },
    {
     "name": "stderr",
     "output_type": "stream",
     "text": [
      " 51%|█████████████████████████████████████████▍                                        | 45/89 [06:17<06:43,  9.18s/it]"
     ]
    },
    {
     "name": "stdout",
     "output_type": "stream",
     "text": [
      "Training loss (for one batch) at step 45: 1572.7745\n"
     ]
    },
    {
     "name": "stderr",
     "output_type": "stream",
     "text": [
      " 67%|███████████████████████████████████████████████████████▎                          | 60/89 [09:01<05:39, 11.71s/it]"
     ]
    },
    {
     "name": "stdout",
     "output_type": "stream",
     "text": [
      "Training loss (for one batch) at step 60: 1522.7263\n"
     ]
    },
    {
     "name": "stderr",
     "output_type": "stream",
     "text": [
      " 84%|█████████████████████████████████████████████████████████████████████             | 75/89 [12:14<03:02, 13.05s/it]"
     ]
    },
    {
     "name": "stdout",
     "output_type": "stream",
     "text": [
      "Training loss (for one batch) at step 75: 1526.7314\n"
     ]
    },
    {
     "name": "stderr",
     "output_type": "stream",
     "text": [
      "100%|██████████████████████████████████████████████████████████████████████████████████| 89/89 [15:09<00:00, 10.22s/it]\n",
      "  0%|                                                                                           | 0/89 [00:00<?, ?it/s]"
     ]
    },
    {
     "name": "stdout",
     "output_type": "stream",
     "text": [
      "\n",
      "Start of epoch 11\n"
     ]
    },
    {
     "name": "stderr",
     "output_type": "stream",
     "text": [
      " 17%|█████████████▊                                                                    | 15/89 [01:52<09:37,  7.81s/it]"
     ]
    },
    {
     "name": "stdout",
     "output_type": "stream",
     "text": [
      "Training loss (for one batch) at step 15: 1432.1987\n"
     ]
    },
    {
     "name": "stderr",
     "output_type": "stream",
     "text": [
      " 34%|███████████████████████████▋                                                      | 30/89 [03:55<08:36,  8.75s/it]"
     ]
    },
    {
     "name": "stdout",
     "output_type": "stream",
     "text": [
      "Training loss (for one batch) at step 30: 1518.2866\n"
     ]
    },
    {
     "name": "stderr",
     "output_type": "stream",
     "text": [
      " 51%|█████████████████████████████████████████▍                                        | 45/89 [06:14<07:05,  9.67s/it]"
     ]
    },
    {
     "name": "stdout",
     "output_type": "stream",
     "text": [
      "Training loss (for one batch) at step 45: 1467.9889\n"
     ]
    },
    {
     "name": "stderr",
     "output_type": "stream",
     "text": [
      " 67%|███████████████████████████████████████████████████████▎                          | 60/89 [08:56<05:32, 11.47s/it]"
     ]
    },
    {
     "name": "stdout",
     "output_type": "stream",
     "text": [
      "Training loss (for one batch) at step 60: 1531.2444\n"
     ]
    },
    {
     "name": "stderr",
     "output_type": "stream",
     "text": [
      " 84%|█████████████████████████████████████████████████████████████████████             | 75/89 [12:01<02:54, 12.43s/it]"
     ]
    },
    {
     "name": "stdout",
     "output_type": "stream",
     "text": [
      "Training loss (for one batch) at step 75: 1545.8467\n"
     ]
    },
    {
     "name": "stderr",
     "output_type": "stream",
     "text": [
      "100%|██████████████████████████████████████████████████████████████████████████████████| 89/89 [14:54<00:00, 10.05s/it]\n",
      "  0%|                                                                                           | 0/89 [00:00<?, ?it/s]"
     ]
    },
    {
     "name": "stdout",
     "output_type": "stream",
     "text": [
      "\n",
      "Start of epoch 12\n"
     ]
    },
    {
     "name": "stderr",
     "output_type": "stream",
     "text": [
      " 17%|█████████████▊                                                                    | 15/89 [01:56<09:42,  7.87s/it]"
     ]
    },
    {
     "name": "stdout",
     "output_type": "stream",
     "text": [
      "Training loss (for one batch) at step 15: 1464.6007\n"
     ]
    },
    {
     "name": "stderr",
     "output_type": "stream",
     "text": [
      " 34%|███████████████████████████▋                                                      | 30/89 [04:01<08:26,  8.59s/it]"
     ]
    },
    {
     "name": "stdout",
     "output_type": "stream",
     "text": [
      "Training loss (for one batch) at step 30: 1528.1316\n"
     ]
    },
    {
     "name": "stderr",
     "output_type": "stream",
     "text": [
      " 51%|█████████████████████████████████████████▍                                        | 45/89 [06:21<06:49,  9.32s/it]"
     ]
    },
    {
     "name": "stdout",
     "output_type": "stream",
     "text": [
      "Training loss (for one batch) at step 45: 1557.9836\n"
     ]
    },
    {
     "name": "stderr",
     "output_type": "stream",
     "text": [
      " 67%|███████████████████████████████████████████████████████▎                          | 60/89 [09:02<05:34, 11.53s/it]"
     ]
    },
    {
     "name": "stdout",
     "output_type": "stream",
     "text": [
      "Training loss (for one batch) at step 60: 1557.9158\n"
     ]
    },
    {
     "name": "stderr",
     "output_type": "stream",
     "text": [
      " 84%|█████████████████████████████████████████████████████████████████████             | 75/89 [12:07<02:51, 12.28s/it]"
     ]
    },
    {
     "name": "stdout",
     "output_type": "stream",
     "text": [
      "Training loss (for one batch) at step 75: 1521.8359\n"
     ]
    },
    {
     "name": "stderr",
     "output_type": "stream",
     "text": [
      "100%|██████████████████████████████████████████████████████████████████████████████████| 89/89 [15:01<00:00, 10.13s/it]\n",
      "  0%|                                                                                           | 0/89 [00:00<?, ?it/s]"
     ]
    },
    {
     "name": "stdout",
     "output_type": "stream",
     "text": [
      "\n",
      "Start of epoch 13\n"
     ]
    },
    {
     "name": "stderr",
     "output_type": "stream",
     "text": [
      " 17%|█████████████▊                                                                    | 15/89 [01:53<09:07,  7.40s/it]"
     ]
    },
    {
     "name": "stdout",
     "output_type": "stream",
     "text": [
      "Training loss (for one batch) at step 15: 1471.4292\n"
     ]
    },
    {
     "name": "stderr",
     "output_type": "stream",
     "text": [
      " 34%|███████████████████████████▋                                                      | 30/89 [03:52<07:51,  7.98s/it]"
     ]
    },
    {
     "name": "stdout",
     "output_type": "stream",
     "text": [
      "Training loss (for one batch) at step 30: 1650.4918\n"
     ]
    },
    {
     "name": "stderr",
     "output_type": "stream",
     "text": [
      " 51%|█████████████████████████████████████████▍                                        | 45/89 [06:04<06:32,  8.92s/it]"
     ]
    },
    {
     "name": "stdout",
     "output_type": "stream",
     "text": [
      "Training loss (for one batch) at step 45: 1497.9652\n"
     ]
    },
    {
     "name": "stderr",
     "output_type": "stream",
     "text": [
      " 67%|███████████████████████████████████████████████████████▎                          | 60/89 [08:37<05:17, 10.95s/it]"
     ]
    },
    {
     "name": "stdout",
     "output_type": "stream",
     "text": [
      "Training loss (for one batch) at step 60: 1491.0674\n"
     ]
    },
    {
     "name": "stderr",
     "output_type": "stream",
     "text": [
      " 84%|█████████████████████████████████████████████████████████████████████             | 75/89 [11:33<02:45, 11.82s/it]"
     ]
    },
    {
     "name": "stdout",
     "output_type": "stream",
     "text": [
      "Training loss (for one batch) at step 75: 1566.2031\n"
     ]
    },
    {
     "name": "stderr",
     "output_type": "stream",
     "text": [
      "100%|██████████████████████████████████████████████████████████████████████████████████| 89/89 [14:16<00:00,  9.63s/it]\n",
      "  0%|                                                                                           | 0/89 [00:00<?, ?it/s]"
     ]
    },
    {
     "name": "stdout",
     "output_type": "stream",
     "text": [
      "\n",
      "Start of epoch 14\n"
     ]
    },
    {
     "name": "stderr",
     "output_type": "stream",
     "text": [
      " 17%|█████████████▊                                                                    | 15/89 [01:48<09:05,  7.37s/it]"
     ]
    },
    {
     "name": "stdout",
     "output_type": "stream",
     "text": [
      "Training loss (for one batch) at step 15: 1546.5001\n"
     ]
    },
    {
     "name": "stderr",
     "output_type": "stream",
     "text": [
      " 34%|███████████████████████████▋                                                      | 30/89 [03:47<07:51,  7.99s/it]"
     ]
    },
    {
     "name": "stdout",
     "output_type": "stream",
     "text": [
      "Training loss (for one batch) at step 30: 1560.0452\n"
     ]
    },
    {
     "name": "stderr",
     "output_type": "stream",
     "text": [
      " 51%|█████████████████████████████████████████▍                                        | 45/89 [05:57<06:28,  8.84s/it]"
     ]
    },
    {
     "name": "stdout",
     "output_type": "stream",
     "text": [
      "Training loss (for one batch) at step 45: 1522.0032\n"
     ]
    },
    {
     "name": "stderr",
     "output_type": "stream",
     "text": [
      " 67%|███████████████████████████████████████████████████████▎                          | 60/89 [08:30<05:21, 11.08s/it]"
     ]
    },
    {
     "name": "stdout",
     "output_type": "stream",
     "text": [
      "Training loss (for one batch) at step 60: 1501.4202\n"
     ]
    },
    {
     "name": "stderr",
     "output_type": "stream",
     "text": [
      " 84%|█████████████████████████████████████████████████████████████████████             | 75/89 [11:27<02:45, 11.81s/it]"
     ]
    },
    {
     "name": "stdout",
     "output_type": "stream",
     "text": [
      "Training loss (for one batch) at step 75: 1522.2915\n"
     ]
    },
    {
     "name": "stderr",
     "output_type": "stream",
     "text": [
      "100%|██████████████████████████████████████████████████████████████████████████████████| 89/89 [14:10<00:00,  9.56s/it]\n",
      "  0%|                                                                                           | 0/89 [00:00<?, ?it/s]"
     ]
    },
    {
     "name": "stdout",
     "output_type": "stream",
     "text": [
      "\n",
      "Start of epoch 15\n"
     ]
    },
    {
     "name": "stderr",
     "output_type": "stream",
     "text": [
      " 17%|█████████████▊                                                                    | 15/89 [01:49<08:50,  7.17s/it]"
     ]
    },
    {
     "name": "stdout",
     "output_type": "stream",
     "text": [
      "Training loss (for one batch) at step 15: 1595.5549\n"
     ]
    },
    {
     "name": "stderr",
     "output_type": "stream",
     "text": [
      " 34%|███████████████████████████▋                                                      | 30/89 [03:44<07:27,  7.59s/it]"
     ]
    },
    {
     "name": "stdout",
     "output_type": "stream",
     "text": [
      "Training loss (for one batch) at step 30: 1537.9685\n"
     ]
    },
    {
     "name": "stderr",
     "output_type": "stream",
     "text": [
      " 51%|█████████████████████████████████████████▍                                        | 45/89 [05:55<06:46,  9.25s/it]"
     ]
    },
    {
     "name": "stdout",
     "output_type": "stream",
     "text": [
      "Training loss (for one batch) at step 45: 1584.0327\n"
     ]
    },
    {
     "name": "stderr",
     "output_type": "stream",
     "text": [
      " 67%|███████████████████████████████████████████████████████▎                          | 60/89 [08:28<05:23, 11.17s/it]"
     ]
    },
    {
     "name": "stdout",
     "output_type": "stream",
     "text": [
      "Training loss (for one batch) at step 60: 1477.7517\n"
     ]
    },
    {
     "name": "stderr",
     "output_type": "stream",
     "text": [
      " 84%|█████████████████████████████████████████████████████████████████████             | 75/89 [11:25<02:44, 11.73s/it]"
     ]
    },
    {
     "name": "stdout",
     "output_type": "stream",
     "text": [
      "Training loss (for one batch) at step 75: 1641.1389\n"
     ]
    },
    {
     "name": "stderr",
     "output_type": "stream",
     "text": [
      "100%|██████████████████████████████████████████████████████████████████████████████████| 89/89 [14:09<00:00,  9.54s/it]\n",
      "  0%|                                                                                           | 0/89 [00:00<?, ?it/s]"
     ]
    },
    {
     "name": "stdout",
     "output_type": "stream",
     "text": [
      "\n",
      "Start of epoch 16\n"
     ]
    },
    {
     "name": "stderr",
     "output_type": "stream",
     "text": [
      " 17%|█████████████▊                                                                    | 15/89 [01:51<09:16,  7.52s/it]"
     ]
    },
    {
     "name": "stdout",
     "output_type": "stream",
     "text": [
      "Training loss (for one batch) at step 15: 1582.6011\n"
     ]
    },
    {
     "name": "stderr",
     "output_type": "stream",
     "text": [
      " 34%|███████████████████████████▋                                                      | 30/89 [03:51<08:16,  8.42s/it]"
     ]
    },
    {
     "name": "stdout",
     "output_type": "stream",
     "text": [
      "Training loss (for one batch) at step 30: 1562.6405\n"
     ]
    },
    {
     "name": "stderr",
     "output_type": "stream",
     "text": [
      " 51%|█████████████████████████████████████████▍                                        | 45/89 [06:03<06:37,  9.04s/it]"
     ]
    },
    {
     "name": "stdout",
     "output_type": "stream",
     "text": [
      "Training loss (for one batch) at step 45: 1552.9014\n"
     ]
    },
    {
     "name": "stderr",
     "output_type": "stream",
     "text": [
      " 67%|███████████████████████████████████████████████████████▎                          | 60/89 [08:33<05:06, 10.58s/it]"
     ]
    },
    {
     "name": "stdout",
     "output_type": "stream",
     "text": [
      "Training loss (for one batch) at step 60: 1512.4480\n"
     ]
    },
    {
     "name": "stderr",
     "output_type": "stream",
     "text": [
      " 84%|█████████████████████████████████████████████████████████████████████             | 75/89 [11:29<02:43, 11.65s/it]"
     ]
    },
    {
     "name": "stdout",
     "output_type": "stream",
     "text": [
      "Training loss (for one batch) at step 75: 1497.2711\n"
     ]
    },
    {
     "name": "stderr",
     "output_type": "stream",
     "text": [
      "100%|██████████████████████████████████████████████████████████████████████████████████| 89/89 [14:13<00:00,  9.59s/it]\n",
      "  0%|                                                                                           | 0/89 [00:00<?, ?it/s]"
     ]
    },
    {
     "name": "stdout",
     "output_type": "stream",
     "text": [
      "\n",
      "Start of epoch 17\n"
     ]
    },
    {
     "name": "stderr",
     "output_type": "stream",
     "text": [
      " 17%|█████████████▊                                                                    | 15/89 [01:45<08:44,  7.08s/it]"
     ]
    },
    {
     "name": "stdout",
     "output_type": "stream",
     "text": [
      "Training loss (for one batch) at step 15: 1538.5416\n"
     ]
    },
    {
     "name": "stderr",
     "output_type": "stream",
     "text": [
      " 34%|███████████████████████████▋                                                      | 30/89 [03:39<07:35,  7.71s/it]"
     ]
    },
    {
     "name": "stdout",
     "output_type": "stream",
     "text": [
      "Training loss (for one batch) at step 30: 1479.8137\n"
     ]
    },
    {
     "name": "stderr",
     "output_type": "stream",
     "text": [
      " 51%|█████████████████████████████████████████▍                                        | 45/89 [05:44<06:19,  8.64s/it]"
     ]
    },
    {
     "name": "stdout",
     "output_type": "stream",
     "text": [
      "Training loss (for one batch) at step 45: 1562.3131\n"
     ]
    },
    {
     "name": "stderr",
     "output_type": "stream",
     "text": [
      " 67%|███████████████████████████████████████████████████████▎                          | 60/89 [08:12<05:03, 10.48s/it]"
     ]
    },
    {
     "name": "stdout",
     "output_type": "stream",
     "text": [
      "Training loss (for one batch) at step 60: 1572.7104\n"
     ]
    },
    {
     "name": "stderr",
     "output_type": "stream",
     "text": [
      " 84%|█████████████████████████████████████████████████████████████████████             | 75/89 [11:07<02:44, 11.76s/it]"
     ]
    },
    {
     "name": "stdout",
     "output_type": "stream",
     "text": [
      "Training loss (for one batch) at step 75: 1460.4612\n"
     ]
    },
    {
     "name": "stderr",
     "output_type": "stream",
     "text": [
      "100%|██████████████████████████████████████████████████████████████████████████████████| 89/89 [13:51<00:00,  9.34s/it]\n",
      "  0%|                                                                                           | 0/89 [00:00<?, ?it/s]"
     ]
    },
    {
     "name": "stdout",
     "output_type": "stream",
     "text": [
      "\n",
      "Start of epoch 18\n"
     ]
    },
    {
     "name": "stderr",
     "output_type": "stream",
     "text": [
      " 17%|█████████████▊                                                                    | 15/89 [01:48<09:16,  7.53s/it]"
     ]
    },
    {
     "name": "stdout",
     "output_type": "stream",
     "text": [
      "Training loss (for one batch) at step 15: 1588.7876\n"
     ]
    },
    {
     "name": "stderr",
     "output_type": "stream",
     "text": [
      " 34%|███████████████████████████▋                                                      | 30/89 [03:39<07:45,  7.90s/it]"
     ]
    },
    {
     "name": "stdout",
     "output_type": "stream",
     "text": [
      "Training loss (for one batch) at step 30: 1462.7974\n"
     ]
    },
    {
     "name": "stderr",
     "output_type": "stream",
     "text": [
      " 51%|█████████████████████████████████████████▍                                        | 45/89 [05:47<06:28,  8.83s/it]"
     ]
    },
    {
     "name": "stdout",
     "output_type": "stream",
     "text": [
      "Training loss (for one batch) at step 45: 1505.7764\n"
     ]
    },
    {
     "name": "stderr",
     "output_type": "stream",
     "text": [
      " 67%|███████████████████████████████████████████████████████▎                          | 60/89 [08:11<04:58, 10.31s/it]"
     ]
    },
    {
     "name": "stdout",
     "output_type": "stream",
     "text": [
      "Training loss (for one batch) at step 60: 1492.1506\n"
     ]
    },
    {
     "name": "stderr",
     "output_type": "stream",
     "text": [
      " 84%|█████████████████████████████████████████████████████████████████████             | 75/89 [11:06<02:44, 11.78s/it]"
     ]
    },
    {
     "name": "stdout",
     "output_type": "stream",
     "text": [
      "Training loss (for one batch) at step 75: 1495.3494\n"
     ]
    },
    {
     "name": "stderr",
     "output_type": "stream",
     "text": [
      "100%|██████████████████████████████████████████████████████████████████████████████████| 89/89 [13:50<00:00,  9.33s/it]\n",
      "  0%|                                                                                           | 0/89 [00:00<?, ?it/s]"
     ]
    },
    {
     "name": "stdout",
     "output_type": "stream",
     "text": [
      "\n",
      "Start of epoch 19\n"
     ]
    },
    {
     "name": "stderr",
     "output_type": "stream",
     "text": [
      " 17%|█████████████▊                                                                    | 15/89 [01:41<08:35,  6.97s/it]"
     ]
    },
    {
     "name": "stdout",
     "output_type": "stream",
     "text": [
      "Training loss (for one batch) at step 15: 1431.2288\n"
     ]
    },
    {
     "name": "stderr",
     "output_type": "stream",
     "text": [
      " 34%|███████████████████████████▋                                                      | 30/89 [03:34<07:10,  7.30s/it]"
     ]
    },
    {
     "name": "stdout",
     "output_type": "stream",
     "text": [
      "Training loss (for one batch) at step 30: 1515.5037\n"
     ]
    },
    {
     "name": "stderr",
     "output_type": "stream",
     "text": [
      " 51%|█████████████████████████████████████████▍                                        | 45/89 [05:37<06:15,  8.54s/it]"
     ]
    },
    {
     "name": "stdout",
     "output_type": "stream",
     "text": [
      "Training loss (for one batch) at step 45: 1475.5037\n"
     ]
    },
    {
     "name": "stderr",
     "output_type": "stream",
     "text": [
      " 67%|███████████████████████████████████████████████████████▎                          | 60/89 [08:00<04:53, 10.13s/it]"
     ]
    },
    {
     "name": "stdout",
     "output_type": "stream",
     "text": [
      "Training loss (for one batch) at step 60: 1484.5376\n"
     ]
    },
    {
     "name": "stderr",
     "output_type": "stream",
     "text": [
      " 84%|█████████████████████████████████████████████████████████████████████             | 75/89 [10:54<02:45, 11.80s/it]"
     ]
    },
    {
     "name": "stdout",
     "output_type": "stream",
     "text": [
      "Training loss (for one batch) at step 75: 1476.4880\n"
     ]
    },
    {
     "name": "stderr",
     "output_type": "stream",
     "text": [
      "100%|██████████████████████████████████████████████████████████████████████████████████| 89/89 [13:38<00:00,  9.20s/it]\n"
     ]
    },
    {
     "data": {
      "text/plain": [
       "[6602.034,\n",
       " 2245.0288,\n",
       " 1911.034,\n",
       " 1805.2517,\n",
       " 1821.1694,\n",
       " 1757.7003,\n",
       " 1677.3453,\n",
       " 1620.1129,\n",
       " 1632.047,\n",
       " 1595.2627,\n",
       " 1570.4608,\n",
       " 1554.6255,\n",
       " 1556.6735,\n",
       " 1543.7058,\n",
       " 1567.5068,\n",
       " 1571.186,\n",
       " 1544.0323,\n",
       " 1500.3523,\n",
       " 1491.8738,\n",
       " 1502.6522]"
      ]
     },
     "execution_count": 21,
     "metadata": {},
     "output_type": "execute_result"
    }
   ],
   "source": [
    "model, encoder,decoder = ae_architecture(int(recon_.parameters['fid_length_HR']), 32)\n",
    "\n",
    "trainDecoder_singlecell(64, 20, cell_ser_file_dir , data_file_path, fid_length, fid_length, model)"
   ]
  },
  {
   "cell_type": "code",
   "execution_count": 22,
   "metadata": {},
   "outputs": [
    {
     "data": {
      "text/plain": [
       "[<matplotlib.lines.Line2D at 0x2a50d40ae20>]"
      ]
     },
     "execution_count": 22,
     "metadata": {},
     "output_type": "execute_result"
    },
    {
     "data": {
      "image/png": "[encoded data removed]",
      "text/plain": [
       "<Figure size 432x288 with 1 Axes>"
      ]
     },
     "metadata": {
      "needs_background": "light"
     },
     "output_type": "display_data"
    }
   ],
   "source": [
    "plt.plot([6602.034,\n",
    " 2245.0288,\n",
    " 1911.034,\n",
    " 1805.2517,\n",
    " 1821.1694,\n",
    " 1757.7003,\n",
    " 1677.3453,\n",
    " 1620.1129,\n",
    " 1632.047,\n",
    " 1595.2627,\n",
    " 1570.4608,\n",
    " 1554.6255,\n",
    " 1556.6735,\n",
    " 1543.7058,\n",
    " 1567.5068,\n",
    " 1571.186,\n",
    " 1544.0323,\n",
    " 1500.3523,\n",
    " 1491.8738,\n",
    " 1502.6522])"
   ]
  },
  {
   "cell_type": "code",
   "execution_count": 57,
   "metadata": {},
   "outputs": [
    {
     "name": "stdout",
     "output_type": "stream",
     "text": [
      "WARNING:tensorflow:Compiled the loaded model, but the compiled metrics have yet to be built. `model.compile_metrics` will be empty until you train or evaluate the model.\n",
      "INFO:tensorflow:Assets written to: ../saved_model/raw_sc_composite_encoder\\assets\n",
      "WARNING:tensorflow:Compiled the loaded model, but the compiled metrics have yet to be built. `model.compile_metrics` will be empty until you train or evaluate the model.\n",
      "INFO:tensorflow:Assets written to: ../saved_model/raw_sc_composite_decoder\\assets\n"
     ]
    }
   ],
   "source": [
    "encoder.save('../saved_model/raw_sc_composite_encoder')\n",
    "decoder.save('../saved_model/raw_sc_composite_decoder')"
   ]
  },
  {
   "cell_type": "code",
   "execution_count": 26,
   "metadata": {
    "collapsed": true
   },
   "outputs": [],
   "source": [
    "with h5py.File('E:/20220209_BrainDissociate3D/raw_sc_composite_train.h5','r') as h5:\n",
    "    fid_loaded = np.array(h5[cell_ser_file_dir[1321]].get('transient'))[:,:fid_length]\n",
    "fid_pred=model.predict(fid_loaded)"
   ]
  },
  {
   "cell_type": "code",
   "execution_count": 29,
   "metadata": {},
   "outputs": [
    {
     "name": "stderr",
     "output_type": "stream",
     "text": [
      "100%|██████████████████████████████████████████████████████████████████████████████| 5680/5680 [20:17<00:00,  4.67it/s]\n"
     ]
    }
   ],
   "source": [
    "signal_encodings = []\n",
    "for i in tqdm(range(len(cell_ser_file_dir))):\n",
    "    with h5py.File('E:/20220209_BrainDissociate3D/raw_sc_composite_train.h5','r') as h5:\n",
    "        fid_loaded = np.array(h5[cell_ser_file_dir[i]].get('transient'))[:,:fid_length]\n",
    "        signal_encodings.append(encoder(fid_loaded))"
   ]
  },
  {
   "cell_type": "code",
   "execution_count": 32,
   "metadata": {
    "collapsed": true
   },
   "outputs": [],
   "source": [
    "# signal_encodings_train = np.array(signal_encodings)[:,0]\n",
    "# np.save('../raw_sc_composite_train_encoded.npy',signal_encodings_train)\n",
    "signal_encodings_train = np.load('../raw_sc_composite_train_encoded.npy')"
   ]
  },
  {
   "cell_type": "code",
   "execution_count": 33,
   "metadata": {},
   "outputs": [
    {
     "name": "stderr",
     "output_type": "stream",
     "text": [
      "  0%|▏                                                                              | 14/5680 [00:00<00:43, 131.16it/s]"
     ]
    },
    {
     "name": "stdout",
     "output_type": "stream",
     "text": [
      "loading training data for the regressor...\n"
     ]
    },
    {
     "name": "stderr",
     "output_type": "stream",
     "text": [
      "100%|██████████████████████████████████████████████████████████████████████████████| 5680/5680 [03:37<00:00, 26.13it/s]\n",
      "  1%|▉                                                                                  | 1/89 [00:00<00:13,  6.31it/s]"
     ]
    },
    {
     "name": "stdout",
     "output_type": "stream",
     "text": [
      "\n",
      "Start of epoch 0\n"
     ]
    },
    {
     "name": "stderr",
     "output_type": "stream",
     "text": [
      " 57%|██████████████████████████████████████████████▉                                   | 51/89 [00:05<00:04,  9.07it/s]"
     ]
    },
    {
     "name": "stdout",
     "output_type": "stream",
     "text": [
      "Training loss (for one batch) at step 50: 202906000.0000\n"
     ]
    },
    {
     "name": "stderr",
     "output_type": "stream",
     "text": [
      "100%|██████████████████████████████████████████████████████████████████████████████████| 89/89 [00:09<00:00,  9.01it/s]\n",
      "  1%|▉                                                                                  | 1/89 [00:00<00:09,  9.20it/s]"
     ]
    },
    {
     "name": "stdout",
     "output_type": "stream",
     "text": [
      "\n",
      "Start of epoch 1\n"
     ]
    },
    {
     "name": "stderr",
     "output_type": "stream",
     "text": [
      " 57%|██████████████████████████████████████████████▉                                   | 51/89 [00:05<00:04,  9.01it/s]"
     ]
    },
    {
     "name": "stdout",
     "output_type": "stream",
     "text": [
      "Training loss (for one batch) at step 50: 49993164.0000\n"
     ]
    },
    {
     "name": "stderr",
     "output_type": "stream",
     "text": [
      "100%|██████████████████████████████████████████████████████████████████████████████████| 89/89 [00:09<00:00,  9.01it/s]\n",
      "  1%|▉                                                                                  | 1/89 [00:00<00:09,  9.03it/s]"
     ]
    },
    {
     "name": "stdout",
     "output_type": "stream",
     "text": [
      "\n",
      "Start of epoch 2\n"
     ]
    },
    {
     "name": "stderr",
     "output_type": "stream",
     "text": [
      " 57%|██████████████████████████████████████████████▉                                   | 51/89 [00:05<00:04,  8.97it/s]"
     ]
    },
    {
     "name": "stdout",
     "output_type": "stream",
     "text": [
      "Training loss (for one batch) at step 50: 29267664.0000\n"
     ]
    },
    {
     "name": "stderr",
     "output_type": "stream",
     "text": [
      "100%|██████████████████████████████████████████████████████████████████████████████████| 89/89 [00:10<00:00,  8.90it/s]\n",
      "  1%|▉                                                                                  | 1/89 [00:00<00:09,  9.03it/s]"
     ]
    },
    {
     "name": "stdout",
     "output_type": "stream",
     "text": [
      "\n",
      "Start of epoch 3\n"
     ]
    },
    {
     "name": "stderr",
     "output_type": "stream",
     "text": [
      " 57%|██████████████████████████████████████████████▉                                   | 51/89 [00:05<00:04,  8.88it/s]"
     ]
    },
    {
     "name": "stdout",
     "output_type": "stream",
     "text": [
      "Training loss (for one batch) at step 50: 21443360.0000\n"
     ]
    },
    {
     "name": "stderr",
     "output_type": "stream",
     "text": [
      "100%|██████████████████████████████████████████████████████████████████████████████████| 89/89 [00:10<00:00,  8.83it/s]\n",
      "  1%|▉                                                                                  | 1/89 [00:00<00:09,  8.87it/s]"
     ]
    },
    {
     "name": "stdout",
     "output_type": "stream",
     "text": [
      "\n",
      "Start of epoch 4\n"
     ]
    },
    {
     "name": "stderr",
     "output_type": "stream",
     "text": [
      " 57%|██████████████████████████████████████████████▉                                   | 51/89 [00:05<00:04,  8.81it/s]"
     ]
    },
    {
     "name": "stdout",
     "output_type": "stream",
     "text": [
      "Training loss (for one batch) at step 50: 10269924.0000\n"
     ]
    },
    {
     "name": "stderr",
     "output_type": "stream",
     "text": [
      "100%|██████████████████████████████████████████████████████████████████████████████████| 89/89 [00:10<00:00,  8.81it/s]\n",
      "  1%|▉                                                                                  | 1/89 [00:00<00:10,  8.80it/s]"
     ]
    },
    {
     "name": "stdout",
     "output_type": "stream",
     "text": [
      "\n",
      "Start of epoch 5\n"
     ]
    },
    {
     "name": "stderr",
     "output_type": "stream",
     "text": [
      " 57%|██████████████████████████████████████████████▉                                   | 51/89 [00:05<00:04,  8.84it/s]"
     ]
    },
    {
     "name": "stdout",
     "output_type": "stream",
     "text": [
      "Training loss (for one batch) at step 50: 14108930.0000\n"
     ]
    },
    {
     "name": "stderr",
     "output_type": "stream",
     "text": [
      "100%|██████████████████████████████████████████████████████████████████████████████████| 89/89 [00:10<00:00,  8.80it/s]\n",
      "  1%|▉                                                                                  | 1/89 [00:00<00:09,  8.95it/s]"
     ]
    },
    {
     "name": "stdout",
     "output_type": "stream",
     "text": [
      "\n",
      "Start of epoch 6\n"
     ]
    },
    {
     "name": "stderr",
     "output_type": "stream",
     "text": [
      " 57%|██████████████████████████████████████████████▉                                   | 51/89 [00:05<00:04,  8.82it/s]"
     ]
    },
    {
     "name": "stdout",
     "output_type": "stream",
     "text": [
      "Training loss (for one batch) at step 50: 12956263.0000\n"
     ]
    },
    {
     "name": "stderr",
     "output_type": "stream",
     "text": [
      "100%|██████████████████████████████████████████████████████████████████████████████████| 89/89 [00:10<00:00,  8.81it/s]\n",
      "  1%|▉                                                                                  | 1/89 [00:00<00:09,  8.95it/s]"
     ]
    },
    {
     "name": "stdout",
     "output_type": "stream",
     "text": [
      "\n",
      "Start of epoch 7\n"
     ]
    },
    {
     "name": "stderr",
     "output_type": "stream",
     "text": [
      " 57%|██████████████████████████████████████████████▉                                   | 51/89 [00:05<00:04,  8.86it/s]"
     ]
    },
    {
     "name": "stdout",
     "output_type": "stream",
     "text": [
      "Training loss (for one batch) at step 50: 9354719.0000\n"
     ]
    },
    {
     "name": "stderr",
     "output_type": "stream",
     "text": [
      "100%|██████████████████████████████████████████████████████████████████████████████████| 89/89 [00:10<00:00,  8.80it/s]\n",
      "  1%|▉                                                                                  | 1/89 [00:00<00:09,  8.95it/s]"
     ]
    },
    {
     "name": "stdout",
     "output_type": "stream",
     "text": [
      "\n",
      "Start of epoch 8\n"
     ]
    },
    {
     "name": "stderr",
     "output_type": "stream",
     "text": [
      " 57%|██████████████████████████████████████████████▉                                   | 51/89 [00:05<00:04,  8.81it/s]"
     ]
    },
    {
     "name": "stdout",
     "output_type": "stream",
     "text": [
      "Training loss (for one batch) at step 50: 9966182.0000\n"
     ]
    },
    {
     "name": "stderr",
     "output_type": "stream",
     "text": [
      "100%|██████████████████████████████████████████████████████████████████████████████████| 89/89 [00:10<00:00,  8.78it/s]\n",
      "  1%|▉                                                                                  | 1/89 [00:00<00:09,  8.87it/s]"
     ]
    },
    {
     "name": "stdout",
     "output_type": "stream",
     "text": [
      "\n",
      "Start of epoch 9\n"
     ]
    },
    {
     "name": "stderr",
     "output_type": "stream",
     "text": [
      " 57%|██████████████████████████████████████████████▉                                   | 51/89 [00:05<00:04,  8.82it/s]"
     ]
    },
    {
     "name": "stdout",
     "output_type": "stream",
     "text": [
      "Training loss (for one batch) at step 50: 7816895.0000\n"
     ]
    },
    {
     "name": "stderr",
     "output_type": "stream",
     "text": [
      "100%|██████████████████████████████████████████████████████████████████████████████████| 89/89 [00:10<00:00,  8.78it/s]\n",
      "  1%|▉                                                                                  | 1/89 [00:00<00:10,  8.72it/s]"
     ]
    },
    {
     "name": "stdout",
     "output_type": "stream",
     "text": [
      "\n",
      "Start of epoch 10\n"
     ]
    },
    {
     "name": "stderr",
     "output_type": "stream",
     "text": [
      " 57%|██████████████████████████████████████████████▉                                   | 51/89 [00:05<00:04,  8.84it/s]"
     ]
    },
    {
     "name": "stdout",
     "output_type": "stream",
     "text": [
      "Training loss (for one batch) at step 50: 8041401.5000\n"
     ]
    },
    {
     "name": "stderr",
     "output_type": "stream",
     "text": [
      "100%|██████████████████████████████████████████████████████████████████████████████████| 89/89 [00:10<00:00,  8.76it/s]\n",
      "  1%|▉                                                                                  | 1/89 [00:00<00:10,  8.80it/s]"
     ]
    },
    {
     "name": "stdout",
     "output_type": "stream",
     "text": [
      "\n",
      "Start of epoch 11\n"
     ]
    },
    {
     "name": "stderr",
     "output_type": "stream",
     "text": [
      " 57%|██████████████████████████████████████████████▉                                   | 51/89 [00:05<00:04,  8.69it/s]"
     ]
    },
    {
     "name": "stdout",
     "output_type": "stream",
     "text": [
      "Training loss (for one batch) at step 50: 5707102.0000\n"
     ]
    },
    {
     "name": "stderr",
     "output_type": "stream",
     "text": [
      "100%|██████████████████████████████████████████████████████████████████████████████████| 89/89 [00:10<00:00,  8.78it/s]\n",
      "  1%|▉                                                                                  | 1/89 [00:00<00:09,  8.95it/s]"
     ]
    },
    {
     "name": "stdout",
     "output_type": "stream",
     "text": [
      "\n",
      "Start of epoch 12\n"
     ]
    },
    {
     "name": "stderr",
     "output_type": "stream",
     "text": [
      " 57%|██████████████████████████████████████████████▉                                   | 51/89 [00:05<00:04,  8.84it/s]"
     ]
    },
    {
     "name": "stdout",
     "output_type": "stream",
     "text": [
      "Training loss (for one batch) at step 50: 8313270.0000\n"
     ]
    },
    {
     "name": "stderr",
     "output_type": "stream",
     "text": [
      "100%|██████████████████████████████████████████████████████████████████████████████████| 89/89 [00:10<00:00,  8.77it/s]\n",
      "  1%|▉                                                                                  | 1/89 [00:00<00:10,  8.80it/s]"
     ]
    },
    {
     "name": "stdout",
     "output_type": "stream",
     "text": [
      "\n",
      "Start of epoch 13\n"
     ]
    },
    {
     "name": "stderr",
     "output_type": "stream",
     "text": [
      " 57%|██████████████████████████████████████████████▉                                   | 51/89 [00:05<00:04,  8.68it/s]"
     ]
    },
    {
     "name": "stdout",
     "output_type": "stream",
     "text": [
      "Training loss (for one batch) at step 50: 6326026.0000\n"
     ]
    },
    {
     "name": "stderr",
     "output_type": "stream",
     "text": [
      "100%|██████████████████████████████████████████████████████████████████████████████████| 89/89 [00:10<00:00,  8.80it/s]\n",
      "  1%|▉                                                                                  | 1/89 [00:00<00:09,  9.12it/s]"
     ]
    },
    {
     "name": "stdout",
     "output_type": "stream",
     "text": [
      "\n",
      "Start of epoch 14\n"
     ]
    },
    {
     "name": "stderr",
     "output_type": "stream",
     "text": [
      " 57%|██████████████████████████████████████████████▉                                   | 51/89 [00:05<00:04,  8.71it/s]"
     ]
    },
    {
     "name": "stdout",
     "output_type": "stream",
     "text": [
      "Training loss (for one batch) at step 50: 5089646.5000\n"
     ]
    },
    {
     "name": "stderr",
     "output_type": "stream",
     "text": [
      "100%|██████████████████████████████████████████████████████████████████████████████████| 89/89 [00:10<00:00,  8.82it/s]\n",
      "  1%|▉                                                                                  | 1/89 [00:00<00:09,  8.95it/s]"
     ]
    },
    {
     "name": "stdout",
     "output_type": "stream",
     "text": [
      "\n",
      "Start of epoch 15\n"
     ]
    },
    {
     "name": "stderr",
     "output_type": "stream",
     "text": [
      " 57%|██████████████████████████████████████████████▉                                   | 51/89 [00:05<00:04,  8.65it/s]"
     ]
    },
    {
     "name": "stdout",
     "output_type": "stream",
     "text": [
      "Training loss (for one batch) at step 50: 5730541.0000\n"
     ]
    },
    {
     "name": "stderr",
     "output_type": "stream",
     "text": [
      "100%|██████████████████████████████████████████████████████████████████████████████████| 89/89 [00:10<00:00,  8.81it/s]\n",
      "  1%|▉                                                                                  | 1/89 [00:00<00:09,  9.03it/s]"
     ]
    },
    {
     "name": "stdout",
     "output_type": "stream",
     "text": [
      "\n",
      "Start of epoch 16\n"
     ]
    },
    {
     "name": "stderr",
     "output_type": "stream",
     "text": [
      " 57%|██████████████████████████████████████████████▉                                   | 51/89 [00:05<00:04,  8.77it/s]"
     ]
    },
    {
     "name": "stdout",
     "output_type": "stream",
     "text": [
      "Training loss (for one batch) at step 50: 4458087.0000\n"
     ]
    },
    {
     "name": "stderr",
     "output_type": "stream",
     "text": [
      "100%|██████████████████████████████████████████████████████████████████████████████████| 89/89 [00:10<00:00,  8.84it/s]\n",
      "  1%|▉                                                                                  | 1/89 [00:00<00:09,  9.12it/s]"
     ]
    },
    {
     "name": "stdout",
     "output_type": "stream",
     "text": [
      "\n",
      "Start of epoch 17\n"
     ]
    },
    {
     "name": "stderr",
     "output_type": "stream",
     "text": [
      " 57%|██████████████████████████████████████████████▉                                   | 51/89 [00:05<00:04,  8.95it/s]"
     ]
    },
    {
     "name": "stdout",
     "output_type": "stream",
     "text": [
      "Training loss (for one batch) at step 50: 3844880.2500\n"
     ]
    },
    {
     "name": "stderr",
     "output_type": "stream",
     "text": [
      "100%|██████████████████████████████████████████████████████████████████████████████████| 89/89 [00:09<00:00,  8.94it/s]\n",
      "  1%|▉                                                                                  | 1/89 [00:00<00:09,  9.28it/s]"
     ]
    },
    {
     "name": "stdout",
     "output_type": "stream",
     "text": [
      "\n",
      "Start of epoch 18\n"
     ]
    },
    {
     "name": "stderr",
     "output_type": "stream",
     "text": [
      " 57%|██████████████████████████████████████████████▉                                   | 51/89 [00:05<00:04,  8.91it/s]"
     ]
    },
    {
     "name": "stdout",
     "output_type": "stream",
     "text": [
      "Training loss (for one batch) at step 50: 4264929.0000\n"
     ]
    },
    {
     "name": "stderr",
     "output_type": "stream",
     "text": [
      "100%|██████████████████████████████████████████████████████████████████████████████████| 89/89 [00:09<00:00,  8.91it/s]\n",
      "  1%|▉                                                                                  | 1/89 [00:00<00:09,  9.20it/s]"
     ]
    },
    {
     "name": "stdout",
     "output_type": "stream",
     "text": [
      "\n",
      "Start of epoch 19\n"
     ]
    },
    {
     "name": "stderr",
     "output_type": "stream",
     "text": [
      " 57%|██████████████████████████████████████████████▉                                   | 51/89 [00:05<00:04,  8.92it/s]"
     ]
    },
    {
     "name": "stdout",
     "output_type": "stream",
     "text": [
      "Training loss (for one batch) at step 50: 4241362.0000\n"
     ]
    },
    {
     "name": "stderr",
     "output_type": "stream",
     "text": [
      "100%|██████████████████████████████████████████████████████████████████████████████████| 89/89 [00:09<00:00,  8.91it/s]\n",
      "  1%|▉                                                                                  | 1/89 [00:00<00:09,  9.20it/s]"
     ]
    },
    {
     "name": "stdout",
     "output_type": "stream",
     "text": [
      "\n",
      "Start of epoch 20\n"
     ]
    },
    {
     "name": "stderr",
     "output_type": "stream",
     "text": [
      " 57%|██████████████████████████████████████████████▉                                   | 51/89 [00:05<00:04,  8.92it/s]"
     ]
    },
    {
     "name": "stdout",
     "output_type": "stream",
     "text": [
      "Training loss (for one batch) at step 50: 4985222.0000\n"
     ]
    },
    {
     "name": "stderr",
     "output_type": "stream",
     "text": [
      "100%|██████████████████████████████████████████████████████████████████████████████████| 89/89 [00:09<00:00,  8.91it/s]\n",
      "  1%|▉                                                                                  | 1/89 [00:00<00:09,  9.12it/s]"
     ]
    },
    {
     "name": "stdout",
     "output_type": "stream",
     "text": [
      "\n",
      "Start of epoch 21\n"
     ]
    },
    {
     "name": "stderr",
     "output_type": "stream",
     "text": [
      " 57%|██████████████████████████████████████████████▉                                   | 51/89 [00:05<00:04,  8.73it/s]"
     ]
    },
    {
     "name": "stdout",
     "output_type": "stream",
     "text": [
      "Training loss (for one batch) at step 50: 4854250.0000\n"
     ]
    },
    {
     "name": "stderr",
     "output_type": "stream",
     "text": [
      "100%|██████████████████████████████████████████████████████████████████████████████████| 89/89 [00:10<00:00,  8.89it/s]\n",
      "  1%|▉                                                                                  | 1/89 [00:00<00:09,  9.12it/s]"
     ]
    },
    {
     "name": "stdout",
     "output_type": "stream",
     "text": [
      "\n",
      "Start of epoch 22\n"
     ]
    },
    {
     "name": "stderr",
     "output_type": "stream",
     "text": [
      " 57%|██████████████████████████████████████████████▉                                   | 51/89 [00:05<00:04,  8.82it/s]"
     ]
    },
    {
     "name": "stdout",
     "output_type": "stream",
     "text": [
      "Training loss (for one batch) at step 50: 4008565.5000\n"
     ]
    },
    {
     "name": "stderr",
     "output_type": "stream",
     "text": [
      "100%|██████████████████████████████████████████████████████████████████████████████████| 89/89 [00:10<00:00,  8.86it/s]\n",
      "  1%|▉                                                                                  | 1/89 [00:00<00:09,  9.20it/s]"
     ]
    },
    {
     "name": "stdout",
     "output_type": "stream",
     "text": [
      "\n",
      "Start of epoch 23\n"
     ]
    },
    {
     "name": "stderr",
     "output_type": "stream",
     "text": [
      " 57%|██████████████████████████████████████████████▉                                   | 51/89 [00:05<00:04,  8.92it/s]"
     ]
    },
    {
     "name": "stdout",
     "output_type": "stream",
     "text": [
      "Training loss (for one batch) at step 50: 4055339.7500\n"
     ]
    },
    {
     "name": "stderr",
     "output_type": "stream",
     "text": [
      "100%|██████████████████████████████████████████████████████████████████████████████████| 89/89 [00:10<00:00,  8.88it/s]\n",
      "  1%|▉                                                                                  | 1/89 [00:00<00:09,  9.20it/s]"
     ]
    },
    {
     "name": "stdout",
     "output_type": "stream",
     "text": [
      "\n",
      "Start of epoch 24\n"
     ]
    },
    {
     "name": "stderr",
     "output_type": "stream",
     "text": [
      " 57%|██████████████████████████████████████████████▉                                   | 51/89 [00:05<00:04,  8.86it/s]"
     ]
    },
    {
     "name": "stdout",
     "output_type": "stream",
     "text": [
      "Training loss (for one batch) at step 50: 4105567.0000\n"
     ]
    },
    {
     "name": "stderr",
     "output_type": "stream",
     "text": [
      "100%|██████████████████████████████████████████████████████████████████████████████████| 89/89 [00:09<00:00,  8.90it/s]\n",
      "  1%|▉                                                                                  | 1/89 [00:00<00:09,  9.20it/s]"
     ]
    },
    {
     "name": "stdout",
     "output_type": "stream",
     "text": [
      "\n",
      "Start of epoch 25\n"
     ]
    },
    {
     "name": "stderr",
     "output_type": "stream",
     "text": [
      " 57%|██████████████████████████████████████████████▉                                   | 51/89 [00:05<00:04,  8.87it/s]"
     ]
    },
    {
     "name": "stdout",
     "output_type": "stream",
     "text": [
      "Training loss (for one batch) at step 50: 3382236.0000\n"
     ]
    },
    {
     "name": "stderr",
     "output_type": "stream",
     "text": [
      "100%|██████████████████████████████████████████████████████████████████████████████████| 89/89 [00:10<00:00,  8.89it/s]\n",
      "  1%|▉                                                                                  | 1/89 [00:00<00:09,  9.20it/s]"
     ]
    },
    {
     "name": "stdout",
     "output_type": "stream",
     "text": [
      "\n",
      "Start of epoch 26\n"
     ]
    },
    {
     "name": "stderr",
     "output_type": "stream",
     "text": [
      " 57%|██████████████████████████████████████████████▉                                   | 51/89 [00:05<00:04,  8.85it/s]"
     ]
    },
    {
     "name": "stdout",
     "output_type": "stream",
     "text": [
      "Training loss (for one batch) at step 50: 2918584.0000\n"
     ]
    },
    {
     "name": "stderr",
     "output_type": "stream",
     "text": [
      "100%|██████████████████████████████████████████████████████████████████████████████████| 89/89 [00:09<00:00,  8.91it/s]\n",
      "  1%|▉                                                                                  | 1/89 [00:00<00:09,  8.95it/s]"
     ]
    },
    {
     "name": "stdout",
     "output_type": "stream",
     "text": [
      "\n",
      "Start of epoch 27\n"
     ]
    },
    {
     "name": "stderr",
     "output_type": "stream",
     "text": [
      " 57%|██████████████████████████████████████████████▉                                   | 51/89 [00:05<00:04,  8.76it/s]"
     ]
    },
    {
     "name": "stdout",
     "output_type": "stream",
     "text": [
      "Training loss (for one batch) at step 50: 3367712.2500\n"
     ]
    },
    {
     "name": "stderr",
     "output_type": "stream",
     "text": [
      "100%|██████████████████████████████████████████████████████████████████████████████████| 89/89 [00:10<00:00,  8.84it/s]\n",
      "  1%|▉                                                                                  | 1/89 [00:00<00:09,  9.12it/s]"
     ]
    },
    {
     "name": "stdout",
     "output_type": "stream",
     "text": [
      "\n",
      "Start of epoch 28\n"
     ]
    },
    {
     "name": "stderr",
     "output_type": "stream",
     "text": [
      " 57%|██████████████████████████████████████████████▉                                   | 51/89 [00:05<00:04,  8.94it/s]"
     ]
    },
    {
     "name": "stdout",
     "output_type": "stream",
     "text": [
      "Training loss (for one batch) at step 50: 3661083.5000\n"
     ]
    },
    {
     "name": "stderr",
     "output_type": "stream",
     "text": [
      "100%|██████████████████████████████████████████████████████████████████████████████████| 89/89 [00:10<00:00,  8.90it/s]\n",
      "  1%|▉                                                                                  | 1/89 [00:00<00:09,  9.03it/s]"
     ]
    },
    {
     "name": "stdout",
     "output_type": "stream",
     "text": [
      "\n",
      "Start of epoch 29\n"
     ]
    },
    {
     "name": "stderr",
     "output_type": "stream",
     "text": [
      " 57%|██████████████████████████████████████████████▉                                   | 51/89 [00:05<00:04,  8.82it/s]"
     ]
    },
    {
     "name": "stdout",
     "output_type": "stream",
     "text": [
      "Training loss (for one batch) at step 50: 3327664.0000\n"
     ]
    },
    {
     "name": "stderr",
     "output_type": "stream",
     "text": [
      "100%|██████████████████████████████████████████████████████████████████████████████████| 89/89 [00:10<00:00,  8.87it/s]\n",
      "  1%|▉                                                                                  | 1/89 [00:00<00:09,  9.12it/s]"
     ]
    },
    {
     "name": "stdout",
     "output_type": "stream",
     "text": [
      "\n",
      "Start of epoch 30\n"
     ]
    },
    {
     "name": "stderr",
     "output_type": "stream",
     "text": [
      " 57%|██████████████████████████████████████████████▉                                   | 51/89 [00:05<00:04,  8.94it/s]"
     ]
    },
    {
     "name": "stdout",
     "output_type": "stream",
     "text": [
      "Training loss (for one batch) at step 50: 3648309.7500\n"
     ]
    },
    {
     "name": "stderr",
     "output_type": "stream",
     "text": [
      "100%|██████████████████████████████████████████████████████████████████████████████████| 89/89 [00:10<00:00,  8.88it/s]\n",
      "  1%|▉                                                                                  | 1/89 [00:00<00:09,  8.95it/s]"
     ]
    },
    {
     "name": "stdout",
     "output_type": "stream",
     "text": [
      "\n",
      "Start of epoch 31\n"
     ]
    },
    {
     "name": "stderr",
     "output_type": "stream",
     "text": [
      " 57%|██████████████████████████████████████████████▉                                   | 51/89 [00:05<00:04,  8.88it/s]"
     ]
    },
    {
     "name": "stdout",
     "output_type": "stream",
     "text": [
      "Training loss (for one batch) at step 50: 2682880.0000\n"
     ]
    },
    {
     "name": "stderr",
     "output_type": "stream",
     "text": [
      "100%|██████████████████████████████████████████████████████████████████████████████████| 89/89 [00:10<00:00,  8.88it/s]\n",
      "  1%|▉                                                                                  | 1/89 [00:00<00:11,  7.71it/s]"
     ]
    },
    {
     "name": "stdout",
     "output_type": "stream",
     "text": [
      "\n",
      "Start of epoch 32\n"
     ]
    },
    {
     "name": "stderr",
     "output_type": "stream",
     "text": [
      " 57%|██████████████████████████████████████████████▉                                   | 51/89 [00:05<00:04,  8.86it/s]"
     ]
    },
    {
     "name": "stdout",
     "output_type": "stream",
     "text": [
      "Training loss (for one batch) at step 50: 3155557.5000\n"
     ]
    },
    {
     "name": "stderr",
     "output_type": "stream",
     "text": [
      "100%|██████████████████████████████████████████████████████████████████████████████████| 89/89 [00:10<00:00,  8.86it/s]\n",
      "  1%|▉                                                                                  | 1/89 [00:00<00:09,  8.95it/s]"
     ]
    },
    {
     "name": "stdout",
     "output_type": "stream",
     "text": [
      "\n",
      "Start of epoch 33\n"
     ]
    },
    {
     "name": "stderr",
     "output_type": "stream",
     "text": [
      " 57%|██████████████████████████████████████████████▉                                   | 51/89 [00:05<00:04,  8.84it/s]"
     ]
    },
    {
     "name": "stdout",
     "output_type": "stream",
     "text": [
      "Training loss (for one batch) at step 50: 2837311.0000\n"
     ]
    },
    {
     "name": "stderr",
     "output_type": "stream",
     "text": [
      "100%|██████████████████████████████████████████████████████████████████████████████████| 89/89 [00:10<00:00,  8.86it/s]\n",
      "  1%|▉                                                                                  | 1/89 [00:00<00:09,  8.87it/s]"
     ]
    },
    {
     "name": "stdout",
     "output_type": "stream",
     "text": [
      "\n",
      "Start of epoch 34\n"
     ]
    },
    {
     "name": "stderr",
     "output_type": "stream",
     "text": [
      " 57%|██████████████████████████████████████████████▉                                   | 51/89 [00:05<00:04,  8.87it/s]"
     ]
    },
    {
     "name": "stdout",
     "output_type": "stream",
     "text": [
      "Training loss (for one batch) at step 50: 4924371.5000\n"
     ]
    },
    {
     "name": "stderr",
     "output_type": "stream",
     "text": [
      "100%|██████████████████████████████████████████████████████████████████████████████████| 89/89 [00:10<00:00,  8.85it/s]\n",
      "  1%|▉                                                                                  | 1/89 [00:00<00:09,  9.12it/s]"
     ]
    },
    {
     "name": "stdout",
     "output_type": "stream",
     "text": [
      "\n",
      "Start of epoch 35\n"
     ]
    },
    {
     "name": "stderr",
     "output_type": "stream",
     "text": [
      " 57%|██████████████████████████████████████████████▉                                   | 51/89 [00:05<00:04,  8.84it/s]"
     ]
    },
    {
     "name": "stdout",
     "output_type": "stream",
     "text": [
      "Training loss (for one batch) at step 50: 3233561.0000\n"
     ]
    },
    {
     "name": "stderr",
     "output_type": "stream",
     "text": [
      "100%|██████████████████████████████████████████████████████████████████████████████████| 89/89 [00:10<00:00,  8.83it/s]\n",
      "  1%|▉                                                                                  | 1/89 [00:00<00:09,  9.12it/s]"
     ]
    },
    {
     "name": "stdout",
     "output_type": "stream",
     "text": [
      "\n",
      "Start of epoch 36\n"
     ]
    },
    {
     "name": "stderr",
     "output_type": "stream",
     "text": [
      " 57%|██████████████████████████████████████████████▉                                   | 51/89 [00:05<00:04,  8.79it/s]"
     ]
    },
    {
     "name": "stdout",
     "output_type": "stream",
     "text": [
      "Training loss (for one batch) at step 50: 2213783.0000\n"
     ]
    },
    {
     "name": "stderr",
     "output_type": "stream",
     "text": [
      "100%|██████████████████████████████████████████████████████████████████████████████████| 89/89 [00:10<00:00,  8.83it/s]\n",
      "  1%|▉                                                                                  | 1/89 [00:00<00:09,  9.12it/s]"
     ]
    },
    {
     "name": "stdout",
     "output_type": "stream",
     "text": [
      "\n",
      "Start of epoch 37\n"
     ]
    },
    {
     "name": "stderr",
     "output_type": "stream",
     "text": [
      " 57%|██████████████████████████████████████████████▉                                   | 51/89 [00:05<00:04,  8.81it/s]"
     ]
    },
    {
     "name": "stdout",
     "output_type": "stream",
     "text": [
      "Training loss (for one batch) at step 50: 2520243.2500\n"
     ]
    },
    {
     "name": "stderr",
     "output_type": "stream",
     "text": [
      "100%|██████████████████████████████████████████████████████████████████████████████████| 89/89 [00:10<00:00,  8.82it/s]\n",
      "  1%|▉                                                                                  | 1/89 [00:00<00:09,  9.12it/s]"
     ]
    },
    {
     "name": "stdout",
     "output_type": "stream",
     "text": [
      "\n",
      "Start of epoch 38\n"
     ]
    },
    {
     "name": "stderr",
     "output_type": "stream",
     "text": [
      " 57%|██████████████████████████████████████████████▉                                   | 51/89 [00:05<00:04,  8.79it/s]"
     ]
    },
    {
     "name": "stdout",
     "output_type": "stream",
     "text": [
      "Training loss (for one batch) at step 50: 2852263.0000\n"
     ]
    },
    {
     "name": "stderr",
     "output_type": "stream",
     "text": [
      "100%|██████████████████████████████████████████████████████████████████████████████████| 89/89 [00:10<00:00,  8.79it/s]\n",
      "  1%|▉                                                                                  | 1/89 [00:00<00:10,  8.72it/s]"
     ]
    },
    {
     "name": "stdout",
     "output_type": "stream",
     "text": [
      "\n",
      "Start of epoch 39\n"
     ]
    },
    {
     "name": "stderr",
     "output_type": "stream",
     "text": [
      " 57%|██████████████████████████████████████████████▉                                   | 51/89 [00:05<00:04,  8.90it/s]"
     ]
    },
    {
     "name": "stdout",
     "output_type": "stream",
     "text": [
      "Training loss (for one batch) at step 50: 2879701.5000\n"
     ]
    },
    {
     "name": "stderr",
     "output_type": "stream",
     "text": [
      "100%|██████████████████████████████████████████████████████████████████████████████████| 89/89 [00:10<00:00,  8.88it/s]\n",
      "  1%|▉                                                                                  | 1/89 [00:00<00:09,  9.37it/s]"
     ]
    },
    {
     "name": "stdout",
     "output_type": "stream",
     "text": [
      "\n",
      "Start of epoch 40\n"
     ]
    },
    {
     "name": "stderr",
     "output_type": "stream",
     "text": [
      " 57%|██████████████████████████████████████████████▉                                   | 51/89 [00:05<00:04,  8.98it/s]"
     ]
    },
    {
     "name": "stdout",
     "output_type": "stream",
     "text": [
      "Training loss (for one batch) at step 50: 2086168.5000\n"
     ]
    },
    {
     "name": "stderr",
     "output_type": "stream",
     "text": [
      "100%|██████████████████████████████████████████████████████████████████████████████████| 89/89 [00:09<00:00,  8.95it/s]\n",
      "  1%|▉                                                                                  | 1/89 [00:00<00:09,  9.12it/s]"
     ]
    },
    {
     "name": "stdout",
     "output_type": "stream",
     "text": [
      "\n",
      "Start of epoch 41\n"
     ]
    },
    {
     "name": "stderr",
     "output_type": "stream",
     "text": [
      " 57%|██████████████████████████████████████████████▉                                   | 51/89 [00:05<00:04,  8.83it/s]"
     ]
    },
    {
     "name": "stdout",
     "output_type": "stream",
     "text": [
      "Training loss (for one batch) at step 50: 2131621.0000\n"
     ]
    },
    {
     "name": "stderr",
     "output_type": "stream",
     "text": [
      "100%|██████████████████████████████████████████████████████████████████████████████████| 89/89 [00:10<00:00,  8.90it/s]\n",
      "  1%|▉                                                                                  | 1/89 [00:00<00:09,  9.28it/s]"
     ]
    },
    {
     "name": "stdout",
     "output_type": "stream",
     "text": [
      "\n",
      "Start of epoch 42\n"
     ]
    },
    {
     "name": "stderr",
     "output_type": "stream",
     "text": [
      " 57%|██████████████████████████████████████████████▉                                   | 51/89 [00:05<00:04,  8.94it/s]"
     ]
    },
    {
     "name": "stdout",
     "output_type": "stream",
     "text": [
      "Training loss (for one batch) at step 50: 1760976.2500\n"
     ]
    },
    {
     "name": "stderr",
     "output_type": "stream",
     "text": [
      "100%|██████████████████████████████████████████████████████████████████████████████████| 89/89 [00:10<00:00,  8.89it/s]\n",
      "  1%|▉                                                                                  | 1/89 [00:00<00:10,  8.43it/s]"
     ]
    },
    {
     "name": "stdout",
     "output_type": "stream",
     "text": [
      "\n",
      "Start of epoch 43\n"
     ]
    },
    {
     "name": "stderr",
     "output_type": "stream",
     "text": [
      " 57%|██████████████████████████████████████████████▉                                   | 51/89 [00:05<00:04,  8.88it/s]"
     ]
    },
    {
     "name": "stdout",
     "output_type": "stream",
     "text": [
      "Training loss (for one batch) at step 50: 1741167.3750\n"
     ]
    },
    {
     "name": "stderr",
     "output_type": "stream",
     "text": [
      "100%|██████████████████████████████████████████████████████████████████████████████████| 89/89 [00:10<00:00,  8.83it/s]\n",
      "  1%|▉                                                                                  | 1/89 [00:00<00:09,  9.12it/s]"
     ]
    },
    {
     "name": "stdout",
     "output_type": "stream",
     "text": [
      "\n",
      "Start of epoch 44\n"
     ]
    },
    {
     "name": "stderr",
     "output_type": "stream",
     "text": [
      " 57%|██████████████████████████████████████████████▉                                   | 51/89 [00:05<00:04,  8.90it/s]"
     ]
    },
    {
     "name": "stdout",
     "output_type": "stream",
     "text": [
      "Training loss (for one batch) at step 50: 2263423.5000\n"
     ]
    },
    {
     "name": "stderr",
     "output_type": "stream",
     "text": [
      "100%|██████████████████████████████████████████████████████████████████████████████████| 89/89 [00:10<00:00,  8.88it/s]\n",
      "  1%|▉                                                                                  | 1/89 [00:00<00:09,  9.12it/s]"
     ]
    },
    {
     "name": "stdout",
     "output_type": "stream",
     "text": [
      "\n",
      "Start of epoch 45\n"
     ]
    },
    {
     "name": "stderr",
     "output_type": "stream",
     "text": [
      " 57%|██████████████████████████████████████████████▉                                   | 51/89 [00:05<00:04,  8.63it/s]"
     ]
    },
    {
     "name": "stdout",
     "output_type": "stream",
     "text": [
      "Training loss (for one batch) at step 50: 1526668.5000\n"
     ]
    },
    {
     "name": "stderr",
     "output_type": "stream",
     "text": [
      "100%|██████████████████████████████████████████████████████████████████████████████████| 89/89 [00:10<00:00,  8.69it/s]\n",
      "  1%|▉                                                                                  | 1/89 [00:00<00:09,  8.87it/s]"
     ]
    },
    {
     "name": "stdout",
     "output_type": "stream",
     "text": [
      "\n",
      "Start of epoch 46\n"
     ]
    },
    {
     "name": "stderr",
     "output_type": "stream",
     "text": [
      " 57%|██████████████████████████████████████████████▉                                   | 51/89 [00:05<00:04,  8.55it/s]"
     ]
    },
    {
     "name": "stdout",
     "output_type": "stream",
     "text": [
      "Training loss (for one batch) at step 50: 2319130.5000\n"
     ]
    },
    {
     "name": "stderr",
     "output_type": "stream",
     "text": [
      "100%|██████████████████████████████████████████████████████████████████████████████████| 89/89 [00:10<00:00,  8.64it/s]\n",
      "  1%|▉                                                                                  | 1/89 [00:00<00:09,  8.87it/s]"
     ]
    },
    {
     "name": "stdout",
     "output_type": "stream",
     "text": [
      "\n",
      "Start of epoch 47\n"
     ]
    },
    {
     "name": "stderr",
     "output_type": "stream",
     "text": [
      " 57%|██████████████████████████████████████████████▉                                   | 51/89 [00:05<00:04,  8.65it/s]"
     ]
    },
    {
     "name": "stdout",
     "output_type": "stream",
     "text": [
      "Training loss (for one batch) at step 50: 2725272.0000\n"
     ]
    },
    {
     "name": "stderr",
     "output_type": "stream",
     "text": [
      "100%|██████████████████████████████████████████████████████████████████████████████████| 89/89 [00:10<00:00,  8.63it/s]\n",
      "  1%|▉                                                                                  | 1/89 [00:00<00:10,  8.80it/s]"
     ]
    },
    {
     "name": "stdout",
     "output_type": "stream",
     "text": [
      "\n",
      "Start of epoch 48\n"
     ]
    },
    {
     "name": "stderr",
     "output_type": "stream",
     "text": [
      " 57%|██████████████████████████████████████████████▉                                   | 51/89 [00:05<00:04,  8.70it/s]"
     ]
    },
    {
     "name": "stdout",
     "output_type": "stream",
     "text": [
      "Training loss (for one batch) at step 50: 5975663.0000\n"
     ]
    },
    {
     "name": "stderr",
     "output_type": "stream",
     "text": [
      "100%|██████████████████████████████████████████████████████████████████████████████████| 89/89 [00:10<00:00,  8.64it/s]\n",
      "  1%|▉                                                                                  | 1/89 [00:00<00:09,  8.95it/s]"
     ]
    },
    {
     "name": "stdout",
     "output_type": "stream",
     "text": [
      "\n",
      "Start of epoch 49\n"
     ]
    },
    {
     "name": "stderr",
     "output_type": "stream",
     "text": [
      " 57%|██████████████████████████████████████████████▉                                   | 51/89 [00:05<00:04,  8.65it/s]"
     ]
    },
    {
     "name": "stdout",
     "output_type": "stream",
     "text": [
      "Training loss (for one batch) at step 50: 1578949.2500\n"
     ]
    },
    {
     "name": "stderr",
     "output_type": "stream",
     "text": [
      "100%|██████████████████████████████████████████████████████████████████████████████████| 89/89 [00:10<00:00,  8.64it/s]\n"
     ]
    },
    {
     "data": {
      "text/plain": [
       "[295663000.0,\n",
       " 62908430.0,\n",
       " 31800328.0,\n",
       " 20297178.0,\n",
       " 14806744.0,\n",
       " 12674492.0,\n",
       " 10809807.0,\n",
       " 10907595.0,\n",
       " 8910739.0,\n",
       " 7962146.5,\n",
       " 7491702.0,\n",
       " 6878669.5,\n",
       " 6529355.0,\n",
       " 6256506.0,\n",
       " 5602831.0,\n",
       " 5497386.5,\n",
       " 4947248.5,\n",
       " 4942994.0,\n",
       " 5001368.0,\n",
       " 5358649.5,\n",
       " 4384200.0,\n",
       " 4658630.0,\n",
       " 4089906.2,\n",
       " 5269357.0,\n",
       " 4715678.5,\n",
       " 3704700.8,\n",
       " 3336820.8,\n",
       " 3645700.0,\n",
       " 3672998.5,\n",
       " 4248518.0,\n",
       " 3555450.0,\n",
       " 2910970.5,\n",
       " 3552356.2,\n",
       " 3466251.8,\n",
       " 3047016.8,\n",
       " 3128656.2,\n",
       " 2829386.2,\n",
       " 2542651.2,\n",
       " 4995105.0,\n",
       " 3667181.8,\n",
       " 2247216.2,\n",
       " 2573848.8,\n",
       " 2523949.8,\n",
       " 2124621.0,\n",
       " 2220430.8,\n",
       " 2216496.2,\n",
       " 2705816.2,\n",
       " 3008683.2,\n",
       " 2995997.5,\n",
       " 2028512.0]"
      ]
     },
     "execution_count": 33,
     "metadata": {},
     "output_type": "execute_result"
    }
   ],
   "source": [
    "model_lp = lp_architecture(65536, 32)\n",
    "trainRegressor_singlecell(64,50,signal_encodings_train, cell_ser_file_dir, data_file_path, fid_length, 65536, model_lp)"
   ]
  },
  {
   "cell_type": "code",
   "execution_count": 58,
   "metadata": {},
   "outputs": [
    {
     "name": "stdout",
     "output_type": "stream",
     "text": [
      "INFO:tensorflow:Assets written to: ../saved_model/raw_sc_composite_regressor\\assets\n"
     ]
    }
   ],
   "source": [
    "model_lp.save('../saved_model/raw_sc_composite_regressor')"
   ]
  },
  {
   "cell_type": "code",
   "execution_count": 59,
   "metadata": {},
   "outputs": [
    {
     "name": "stdout",
     "output_type": "stream",
     "text": [
      "WARNING:tensorflow:No training configuration found in save file, so the model was *not* compiled. Compile it manually.\n",
      "WARNING:tensorflow:No training configuration found in save file, so the model was *not* compiled. Compile it manually.\n"
     ]
    }
   ],
   "source": [
    "encoder = keras.models.load_model('../saved_model/raw_sc_composite_encoder')\n",
    "decoder = keras.models.load_model('../saved_model/raw_sc_composite_decoder')\n",
    "model_lp = keras.models.load_model('../saved_model/raw_sc_composite_regressor')"
   ]
  },
  {
   "cell_type": "code",
   "execution_count": 35,
   "metadata": {
    "collapsed": true
   },
   "outputs": [],
   "source": [
    "with h5py.File('E:/20220209_BrainDissociate3D/raw_sc_composite_train.h5','r') as h5:\n",
    "    fid_loaded = np.array(h5[cell_ser_file_dir[1233]].get('transient'))[:,:fid_length]"
   ]
  },
  {
   "cell_type": "code",
   "execution_count": 36,
   "metadata": {
    "collapsed": true
   },
   "outputs": [],
   "source": [
    "encoded_pred = model_lp.predict(fid_loaded[:,:65536])\n",
    "fid_decoded = decoder(encoded_pred)"
   ]
  },
  {
   "cell_type": "code",
   "execution_count": 37,
   "metadata": {},
   "outputs": [
    {
     "data": {
      "text/plain": [
       "<matplotlib.collections.PathCollection at 0x2a507d3e820>"
      ]
     },
     "execution_count": 37,
     "metadata": {},
     "output_type": "execute_result"
    },
    {
     "data": {
      "image/png": "[encoded data removed]",
      "text/plain": [
       "<Figure size 432x288 with 1 Axes>"
      ]
     },
     "metadata": {
      "needs_background": "light"
     },
     "output_type": "display_data"
    }
   ],
   "source": [
    "plt.scatter(signal_encodings_train[1233],encoded_pred)"
   ]
  },
  {
   "cell_type": "code",
   "execution_count": 45,
   "metadata": {},
   "outputs": [
    {
     "name": "stderr",
     "output_type": "stream",
     "text": [
      "100%|██████████████████████████████████████████████████████████████████████████| 24086/24086 [2:52:15<00:00,  2.33it/s]\n"
     ]
    }
   ],
   "source": [
    "signal_encodings_pred = []\n",
    "for i in tqdm(range(len(cell_file_names))):\n",
    "    with h5py.File('E:/deepMSI_singlecell/raw_transient_singlecell.h5','r') as h5:\n",
    "        fid_loaded = np.array(h5[cell_file_names[i]].get('transient'))[:,:65536]\n",
    "        if fid_loaded.shape[1] != 0:\n",
    "            signal_encodings_pred.append(np.array(model_lp(fid_loaded)))\n",
    "signal_encodings_pred = np.array(signal_encodings_pred)"
   ]
  },
  {
   "cell_type": "code",
   "execution_count": 50,
   "metadata": {
    "collapsed": true
   },
   "outputs": [],
   "source": [
    "#np.save('../singlecell_encoded_pred_all.npy',signal_encodings_pred[:,0])\n",
    "signal_encodings_pred = np.load('../singlecell_encoded_pred_all.npy')"
   ]
  },
  {
   "cell_type": "code",
   "execution_count": 55,
   "metadata": {
    "collapsed": true
   },
   "outputs": [],
   "source": [
    "with h5py.File('E:/20220209_BrainDissociate3D/raw_sc_composite_train.h5','r') as h5:\n",
    "    fid_loaded = np.array(h5[cell_ser_file_dir[411]].get('transient'))[:,:fid_length]\n",
    "fid_decoded = decoder(signal_encodings_train[411].reshape(1,-1))"
   ]
  },
  {
   "cell_type": "code",
   "execution_count": 56,
   "metadata": {},
   "outputs": [
    {
     "data": {
      "text/plain": [
       "[<matplotlib.lines.Line2D at 0x2a508779490>]"
      ]
     },
     "execution_count": 56,
     "metadata": {},
     "output_type": "execute_result"
    },
    {
     "data": {
      "image/png": "[encoded data removed]",
      "text/plain": [
       "<Figure size 720x360 with 1 Axes>"
      ]
     },
     "metadata": {
      "needs_background": "light"
     },
     "output_type": "display_data"
    }
   ],
   "source": [
    "plt.figure(figsize=(10,5))\n",
    "mz,sp = fid2spec(fid_loaded,m_HR,(400,900))\n",
    "mz,sp_pred = fid2spec(fid_decoded,m_HR,(400,900))\n",
    "\n",
    "mz_filter = (mz<1600)&(mz>400)\n",
    "plt.plot(mz[mz_filter],sp[0][mz_filter])\n",
    "plt.plot(mz[mz_filter],sp_pred[0][mz_filter])"
   ]
  },
  {
   "cell_type": "code",
   "execution_count": 101,
   "metadata": {},
   "outputs": [
    {
     "data": {
      "text/plain": [
       "array([36148.11451611, 36097.22889068, 38707.84421199, ...,\n",
       "       12403.58650241, 17519.83484547, 19650.19357514])"
      ]
     },
     "execution_count": 101,
     "metadata": {},
     "output_type": "execute_result"
    }
   ],
   "source": [
    "sp[0,find_peaks(sp[0])[0]]"
   ]
  },
  {
   "cell_type": "code",
   "execution_count": 64,
   "metadata": {},
   "outputs": [
    {
     "data": {
      "text/plain": [
       "[<matplotlib.lines.Line2D at 0x292988ac310>]"
      ]
     },
     "execution_count": 64,
     "metadata": {},
     "output_type": "execute_result"
    },
    {
     "data": {
      "image/png": "[encoded data removed]",
      "text/plain": [
       "<Figure size 432x288 with 1 Axes>"
      ]
     },
     "metadata": {
      "needs_background": "light"
     },
     "output_type": "display_data"
    }
   ],
   "source": [
    "mz_filter = (mz<2500)&(mz>2000)\n",
    "plt.plot(mz[mz_filter],sp[0][mz_filter])\n",
    "plt.plot(mz[mz_filter],sp_pred[0][mz_filter])"
   ]
  },
  {
   "cell_type": "code",
   "execution_count": 1,
   "metadata": {},
   "outputs": [],
   "source": [
    "peak_data_decode = {}\n",
    "peak_data_orig = {}\n",
    "\n",
    "for i in tqdm(range(len(cell_ser_file_dir))):\n",
    "    with h5py.File('E:/20220209_BrainDissociate3D/raw_sc_regional.h5','r') as h5:\n",
    "        fid_loaded = np.array(h5[cell_ser_file_dir[i]].get('transient'))[:,:65536]\n",
    "        if fid_loaded.shape[1] != 0:\n",
    "            signal_encoded = np.array(model_lp(fid_loaded[:,:65536]))\n",
    "            fid_decoded = decoder(signal_encoded.reshape(1,-1))\n",
    "            mz,sp = fid2spec(fid_loaded,m_LR,(400,1600))\n",
    "            mz,sp_pred = fid2spec(fid_decoded,m_HR,(400,1600))\n",
    "            peak_idx = find_peaks(sp[0],threshold=3*mad(sp[0]))[0]\n",
    "            peak_idx_decode = find_peaks(sp_pred[0],threshold=3*mad(sp_pred[0]))[0]\n",
    "\n",
    "            peak_data_orig[cell_ser_file_dir[i]] = {'mz':mz[peak_idx],'intensity':sp[0,peak_idx],'noise':mad(sp[0]),'index':peak_idx}\n",
    "            peak_data_decode[cell_ser_file_dir[i]] = {'mz':mz[peak_idx_decode],'intensity':sp_pred[0,peak_idx_decode],'noise':mad(sp_pred[0]),'index':peak_idx_decode}"
   ]
  },
  {
   "cell_type": "code",
   "execution_count": 196,
   "metadata": {},
   "outputs": [
    {
     "data": {
      "text/plain": [
       "array([1152.8923486 , 1146.1455486 , 1143.14839575, ...,  400.51464191,\n",
       "        400.06912453,  400.04080694])"
      ]
     },
     "execution_count": 196,
     "metadata": {},
     "output_type": "execute_result"
    }
   ],
   "source": [
    "mz[peak_idx_decode]"
   ]
  },
  {
   "cell_type": "code",
   "execution_count": 192,
   "metadata": {},
   "outputs": [
    {
     "data": {
      "text/plain": [
       "[<matplotlib.lines.Line2D at 0x2a5164faac0>]"
      ]
     },
     "execution_count": 192,
     "metadata": {},
     "output_type": "execute_result"
    },
    {
     "data": {
      "image/png": "[encoded data removed]",
      "text/plain": [
       "<Figure size 432x288 with 1 Axes>"
      ]
     },
     "metadata": {
      "needs_background": "light"
     },
     "output_type": "display_data"
    }
   ],
   "source": [
    "plt.plot(mz[40000:],sp_pred[0][40000:])"
   ]
  },
  {
   "cell_type": "code",
   "execution_count": 184,
   "metadata": {},
   "outputs": [
    {
     "data": {
      "text/plain": [
       "array([1394.05969778, 1148.37457953, 1131.1693517 , ...,  400.06912453,\n",
       "        400.04889728,  400.04080694])"
      ]
     },
     "execution_count": 184,
     "metadata": {},
     "output_type": "execute_result"
    }
   ],
   "source": [
    "peak_data_decode['E:/20220209_BrainDissociate3D/Slide5_IndividualRegions/Hip\\\\x_31195y_11682.d']['mz']"
   ]
  },
  {
   "cell_type": "code",
   "execution_count": 181,
   "metadata": {},
   "outputs": [
    {
     "data": {
      "text/plain": [
       "['E:/20220209_BrainDissociate3D/Slide5_IndividualRegions/Corpus\\\\x_75033y_15293.d',\n",
       " 'E:/20220209_BrainDissociate3D/Slide5_IndividualRegions/Corpus\\\\x_75050y_16593.d',\n",
       " 'E:/20220209_BrainDissociate3D/Slide5_IndividualRegions/Corpus\\\\x_75154y_15888.d',\n",
       " 'E:/20220209_BrainDissociate3D/Slide5_IndividualRegions/Corpus\\\\x_75227y_13834.d',\n",
       " 'E:/20220209_BrainDissociate3D/Slide5_IndividualRegions/Corpus\\\\x_75305y_14826.d',\n",
       " 'E:/20220209_BrainDissociate3D/Slide5_IndividualRegions/Corpus\\\\x_75368y_16543.d',\n",
       " 'E:/20220209_BrainDissociate3D/Slide5_IndividualRegions/Corpus\\\\x_75401y_12938.d',\n",
       " 'E:/20220209_BrainDissociate3D/Slide5_IndividualRegions/Corpus\\\\x_75573y_16682.d',\n",
       " 'E:/20220209_BrainDissociate3D/Slide5_IndividualRegions/Corpus\\\\x_75582y_14117.d',\n",
       " 'E:/20220209_BrainDissociate3D/Slide5_IndividualRegions/Corpus\\\\x_75603y_18813.d',\n",
       " 'E:/20220209_BrainDissociate3D/Slide5_IndividualRegions/Corpus\\\\x_75614y_15238.d',\n",
       " 'E:/20220209_BrainDissociate3D/Slide5_IndividualRegions/Corpus\\\\x_75741y_19412.d',\n",
       " 'E:/20220209_BrainDissociate3D/Slide5_IndividualRegions/Corpus\\\\x_75799y_14169.d',\n",
       " 'E:/20220209_BrainDissociate3D/Slide5_IndividualRegions/Corpus\\\\x_75829y_13277.d',\n",
       " 'E:/20220209_BrainDissociate3D/Slide5_IndividualRegions/Corpus\\\\x_75864y_14006.d',\n",
       " 'E:/20220209_BrainDissociate3D/Slide5_IndividualRegions/Corpus\\\\x_75884y_15356.d',\n",
       " 'E:/20220209_BrainDissociate3D/Slide5_IndividualRegions/Corpus\\\\x_75885y_12653.d',\n",
       " 'E:/20220209_BrainDissociate3D/Slide5_IndividualRegions/Corpus\\\\x_75910y_20436.d',\n",
       " 'E:/20220209_BrainDissociate3D/Slide5_IndividualRegions/Corpus\\\\x_75917y_17567.d',\n",
       " 'E:/20220209_BrainDissociate3D/Slide5_IndividualRegions/Corpus\\\\x_76023y_13509.d',\n",
       " 'E:/20220209_BrainDissociate3D/Slide5_IndividualRegions/Corpus\\\\x_76026y_16760.d',\n",
       " 'E:/20220209_BrainDissociate3D/Slide5_IndividualRegions/Corpus\\\\x_76038y_19666.d',\n",
       " 'E:/20220209_BrainDissociate3D/Slide5_IndividualRegions/Corpus\\\\x_76043y_20361.d',\n",
       " 'E:/20220209_BrainDissociate3D/Slide5_IndividualRegions/Corpus\\\\x_76086y_13937.d',\n",
       " 'E:/20220209_BrainDissociate3D/Slide5_IndividualRegions/Corpus\\\\x_76090y_11769.d',\n",
       " 'E:/20220209_BrainDissociate3D/Slide5_IndividualRegions/Corpus\\\\x_76093y_19146.d',\n",
       " 'E:/20220209_BrainDissociate3D/Slide5_IndividualRegions/Corpus\\\\x_76095y_18600.d',\n",
       " 'E:/20220209_BrainDissociate3D/Slide5_IndividualRegions/Corpus\\\\x_76151y_12624.d',\n",
       " 'E:/20220209_BrainDissociate3D/Slide5_IndividualRegions/Corpus\\\\x_76176y_14107.d',\n",
       " 'E:/20220209_BrainDissociate3D/Slide5_IndividualRegions/Corpus\\\\x_76196y_15023.d',\n",
       " 'E:/20220209_BrainDissociate3D/Slide5_IndividualRegions/Corpus\\\\x_76218y_17802.d',\n",
       " 'E:/20220209_BrainDissociate3D/Slide5_IndividualRegions/Corpus\\\\x_76302y_11657.d',\n",
       " 'E:/20220209_BrainDissociate3D/Slide5_IndividualRegions/Corpus\\\\x_76364y_17552.d',\n",
       " 'E:/20220209_BrainDissociate3D/Slide5_IndividualRegions/Corpus\\\\x_76437y_19578.d',\n",
       " 'E:/20220209_BrainDissociate3D/Slide5_IndividualRegions/Corpus\\\\x_76497y_13402.d',\n",
       " 'E:/20220209_BrainDissociate3D/Slide5_IndividualRegions/Corpus\\\\x_76499y_18618.d',\n",
       " 'E:/20220209_BrainDissociate3D/Slide5_IndividualRegions/Corpus\\\\x_76530y_13763.d',\n",
       " 'E:/20220209_BrainDissociate3D/Slide5_IndividualRegions/Corpus\\\\x_76535y_17642.d',\n",
       " 'E:/20220209_BrainDissociate3D/Slide5_IndividualRegions/Corpus\\\\x_76573y_12504.d',\n",
       " 'E:/20220209_BrainDissociate3D/Slide5_IndividualRegions/Corpus\\\\x_76610y_14183.d',\n",
       " 'E:/20220209_BrainDissociate3D/Slide5_IndividualRegions/Corpus\\\\x_76759y_14762.d',\n",
       " 'E:/20220209_BrainDissociate3D/Slide5_IndividualRegions/Corpus\\\\x_76785y_20517.d',\n",
       " 'E:/20220209_BrainDissociate3D/Slide5_IndividualRegions/Corpus\\\\x_76819y_18156.d',\n",
       " 'E:/20220209_BrainDissociate3D/Slide5_IndividualRegions/Corpus\\\\x_76886y_14065.d',\n",
       " 'E:/20220209_BrainDissociate3D/Slide5_IndividualRegions/Corpus\\\\x_76936y_14477.d',\n",
       " 'E:/20220209_BrainDissociate3D/Slide5_IndividualRegions/Corpus\\\\x_77009y_19694.d',\n",
       " 'E:/20220209_BrainDissociate3D/Slide5_IndividualRegions/Corpus\\\\x_77016y_19188.d',\n",
       " 'E:/20220209_BrainDissociate3D/Slide5_IndividualRegions/Corpus\\\\x_77030y_16064.d',\n",
       " 'E:/20220209_BrainDissociate3D/Slide5_IndividualRegions/Corpus\\\\x_77057y_18462.d',\n",
       " 'E:/20220209_BrainDissociate3D/Slide5_IndividualRegions/Corpus\\\\x_77063y_12704.d',\n",
       " 'E:/20220209_BrainDissociate3D/Slide5_IndividualRegions/Corpus\\\\x_77070y_11378.d',\n",
       " 'E:/20220209_BrainDissociate3D/Slide5_IndividualRegions/Corpus\\\\x_77087y_18629.d',\n",
       " 'E:/20220209_BrainDissociate3D/Slide5_IndividualRegions/Corpus\\\\x_77107y_17970.d',\n",
       " 'E:/20220209_BrainDissociate3D/Slide5_IndividualRegions/Corpus\\\\x_77148y_13112.d',\n",
       " 'E:/20220209_BrainDissociate3D/Slide5_IndividualRegions/Corpus\\\\x_77236y_17396.d',\n",
       " 'E:/20220209_BrainDissociate3D/Slide5_IndividualRegions/Corpus\\\\x_77264y_19898.d',\n",
       " 'E:/20220209_BrainDissociate3D/Slide5_IndividualRegions/Corpus\\\\x_77306y_19534.d',\n",
       " 'E:/20220209_BrainDissociate3D/Slide5_IndividualRegions/Corpus\\\\x_77334y_14780.d',\n",
       " 'E:/20220209_BrainDissociate3D/Slide5_IndividualRegions/Corpus\\\\x_77354y_19204.d',\n",
       " 'E:/20220209_BrainDissociate3D/Slide5_IndividualRegions/Corpus\\\\x_77361y_15431.d',\n",
       " 'E:/20220209_BrainDissociate3D/Slide5_IndividualRegions/Corpus\\\\x_77385y_13884.d',\n",
       " 'E:/20220209_BrainDissociate3D/Slide5_IndividualRegions/Corpus\\\\x_77408y_16472.d',\n",
       " 'E:/20220209_BrainDissociate3D/Slide5_IndividualRegions/Corpus\\\\x_77423y_18430.d',\n",
       " 'E:/20220209_BrainDissociate3D/Slide5_IndividualRegions/Corpus\\\\x_77445y_15228.d',\n",
       " 'E:/20220209_BrainDissociate3D/Slide5_IndividualRegions/Corpus\\\\x_77537y_17806.d',\n",
       " 'E:/20220209_BrainDissociate3D/Slide5_IndividualRegions/Corpus\\\\x_77565y_20491.d',\n",
       " 'E:/20220209_BrainDissociate3D/Slide5_IndividualRegions/Corpus\\\\x_77573y_19548.d',\n",
       " 'E:/20220209_BrainDissociate3D/Slide5_IndividualRegions/Corpus\\\\x_77604y_11198.d',\n",
       " 'E:/20220209_BrainDissociate3D/Slide5_IndividualRegions/Corpus\\\\x_77617y_17196.d',\n",
       " 'E:/20220209_BrainDissociate3D/Slide5_IndividualRegions/Corpus\\\\x_77641y_15095.d',\n",
       " 'E:/20220209_BrainDissociate3D/Slide5_IndividualRegions/Corpus\\\\x_77643y_11824.d',\n",
       " 'E:/20220209_BrainDissociate3D/Slide5_IndividualRegions/Corpus\\\\x_77645y_19320.d',\n",
       " 'E:/20220209_BrainDissociate3D/Slide5_IndividualRegions/Corpus\\\\x_77698y_15884.d',\n",
       " 'E:/20220209_BrainDissociate3D/Slide5_IndividualRegions/Corpus\\\\x_77699y_18673.d',\n",
       " 'E:/20220209_BrainDissociate3D/Slide5_IndividualRegions/Corpus\\\\x_77730y_11380.d',\n",
       " 'E:/20220209_BrainDissociate3D/Slide5_IndividualRegions/Corpus\\\\x_77750y_20649.d',\n",
       " 'E:/20220209_BrainDissociate3D/Slide5_IndividualRegions/Corpus\\\\x_77758y_16342.d',\n",
       " 'E:/20220209_BrainDissociate3D/Slide5_IndividualRegions/Corpus\\\\x_77794y_15501.d',\n",
       " 'E:/20220209_BrainDissociate3D/Slide5_IndividualRegions/Corpus\\\\x_77799y_15185.d',\n",
       " 'E:/20220209_BrainDissociate3D/Slide5_IndividualRegions/Corpus\\\\x_77816y_11629.d',\n",
       " 'E:/20220209_BrainDissociate3D/Slide5_IndividualRegions/Corpus\\\\x_77908y_13893.d',\n",
       " 'E:/20220209_BrainDissociate3D/Slide5_IndividualRegions/Corpus\\\\x_77916y_17631.d',\n",
       " 'E:/20220209_BrainDissociate3D/Slide5_IndividualRegions/Corpus\\\\x_77922y_11743.d',\n",
       " 'E:/20220209_BrainDissociate3D/Slide5_IndividualRegions/Corpus\\\\x_77936y_15901.d',\n",
       " 'E:/20220209_BrainDissociate3D/Slide5_IndividualRegions/Corpus\\\\x_77945y_15403.d',\n",
       " 'E:/20220209_BrainDissociate3D/Slide5_IndividualRegions/Corpus\\\\x_77966y_11565.d',\n",
       " 'E:/20220209_BrainDissociate3D/Slide5_IndividualRegions/Corpus\\\\x_77973y_18930.d',\n",
       " 'E:/20220209_BrainDissociate3D/Slide5_IndividualRegions/Corpus\\\\x_78009y_14911.d',\n",
       " 'E:/20220209_BrainDissociate3D/Slide5_IndividualRegions/Corpus\\\\x_78028y_14643.d',\n",
       " 'E:/20220209_BrainDissociate3D/Slide5_IndividualRegions/Corpus\\\\x_78069y_19654.d',\n",
       " 'E:/20220209_BrainDissociate3D/Slide5_IndividualRegions/Corpus\\\\x_78099y_17112.d',\n",
       " 'E:/20220209_BrainDissociate3D/Slide5_IndividualRegions/Corpus\\\\x_78124y_12643.d',\n",
       " 'E:/20220209_BrainDissociate3D/Slide5_IndividualRegions/Corpus\\\\x_78132y_13443.d',\n",
       " 'E:/20220209_BrainDissociate3D/Slide5_IndividualRegions/Corpus\\\\x_78148y_15450.d',\n",
       " 'E:/20220209_BrainDissociate3D/Slide5_IndividualRegions/Corpus\\\\x_78149y_11190.d',\n",
       " 'E:/20220209_BrainDissociate3D/Slide5_IndividualRegions/Corpus\\\\x_78171y_18202.d',\n",
       " 'E:/20220209_BrainDissociate3D/Slide5_IndividualRegions/Corpus\\\\x_78174y_18483.d',\n",
       " 'E:/20220209_BrainDissociate3D/Slide5_IndividualRegions/Corpus\\\\x_78176y_16477.d',\n",
       " 'E:/20220209_BrainDissociate3D/Slide5_IndividualRegions/Corpus\\\\x_78181y_16225.d',\n",
       " 'E:/20220209_BrainDissociate3D/Slide5_IndividualRegions/Corpus\\\\x_78188y_18965.d',\n",
       " 'E:/20220209_BrainDissociate3D/Slide5_IndividualRegions/Corpus\\\\x_78229y_19814.d',\n",
       " 'E:/20220209_BrainDissociate3D/Slide5_IndividualRegions/Corpus\\\\x_78234y_14202.d',\n",
       " 'E:/20220209_BrainDissociate3D/Slide5_IndividualRegions/Corpus\\\\x_78252y_17318.d',\n",
       " 'E:/20220209_BrainDissociate3D/Slide5_IndividualRegions/Corpus\\\\x_78280y_18763.d',\n",
       " 'E:/20220209_BrainDissociate3D/Slide5_IndividualRegions/Corpus\\\\x_78284y_17868.d',\n",
       " 'E:/20220209_BrainDissociate3D/Slide5_IndividualRegions/Corpus\\\\x_78402y_17234.d',\n",
       " 'E:/20220209_BrainDissociate3D/Slide5_IndividualRegions/Corpus\\\\x_78448y_14182.d',\n",
       " 'E:/20220209_BrainDissociate3D/Slide5_IndividualRegions/Corpus\\\\x_78481y_18633.d',\n",
       " 'E:/20220209_BrainDissociate3D/Slide5_IndividualRegions/Corpus\\\\x_78540y_19846.d',\n",
       " 'E:/20220209_BrainDissociate3D/Slide5_IndividualRegions/Corpus\\\\x_78550y_12489.d',\n",
       " 'E:/20220209_BrainDissociate3D/Slide5_IndividualRegions/Corpus\\\\x_78572y_17053.d',\n",
       " 'E:/20220209_BrainDissociate3D/Slide5_IndividualRegions/Corpus\\\\x_78572y_18783.d',\n",
       " 'E:/20220209_BrainDissociate3D/Slide5_IndividualRegions/Corpus\\\\x_78643y_16542.d',\n",
       " 'E:/20220209_BrainDissociate3D/Slide5_IndividualRegions/Corpus\\\\x_78652y_16692.d',\n",
       " 'E:/20220209_BrainDissociate3D/Slide5_IndividualRegions/Corpus\\\\x_78688y_15293.d',\n",
       " 'E:/20220209_BrainDissociate3D/Slide5_IndividualRegions/Corpus\\\\x_78749y_19314.d',\n",
       " 'E:/20220209_BrainDissociate3D/Slide5_IndividualRegions/Corpus\\\\x_78776y_17365.d',\n",
       " 'E:/20220209_BrainDissociate3D/Slide5_IndividualRegions/Corpus\\\\x_78785y_10936.d',\n",
       " 'E:/20220209_BrainDissociate3D/Slide5_IndividualRegions/Corpus\\\\x_78806y_17778.d',\n",
       " 'E:/20220209_BrainDissociate3D/Slide5_IndividualRegions/Corpus\\\\x_78871y_12144.d',\n",
       " 'E:/20220209_BrainDissociate3D/Slide5_IndividualRegions/Corpus\\\\x_78990y_15998.d',\n",
       " 'E:/20220209_BrainDissociate3D/Slide5_IndividualRegions/Corpus\\\\x_79049y_13059.d',\n",
       " 'E:/20220209_BrainDissociate3D/Slide5_IndividualRegions/Corpus\\\\x_79101y_12687.d',\n",
       " 'E:/20220209_BrainDissociate3D/Slide5_IndividualRegions/Corpus\\\\x_79116y_17212.d',\n",
       " 'E:/20220209_BrainDissociate3D/Slide5_IndividualRegions/Corpus\\\\x_79137y_18283.d',\n",
       " 'E:/20220209_BrainDissociate3D/Slide5_IndividualRegions/Corpus\\\\x_79183y_16704.d',\n",
       " 'E:/20220209_BrainDissociate3D/Slide5_IndividualRegions/Corpus\\\\x_79200y_12195.d',\n",
       " 'E:/20220209_BrainDissociate3D/Slide5_IndividualRegions/Corpus\\\\x_79233y_18742.d',\n",
       " 'E:/20220209_BrainDissociate3D/Slide5_IndividualRegions/Corpus\\\\x_79282y_16877.d',\n",
       " 'E:/20220209_BrainDissociate3D/Slide5_IndividualRegions/Corpus\\\\x_79379y_12638.d',\n",
       " 'E:/20220209_BrainDissociate3D/Slide5_IndividualRegions/Corpus\\\\x_79399y_19974.d',\n",
       " 'E:/20220209_BrainDissociate3D/Slide5_IndividualRegions/Corpus\\\\x_79415y_13720.d',\n",
       " 'E:/20220209_BrainDissociate3D/Slide5_IndividualRegions/Corpus\\\\x_79427y_20648.d',\n",
       " 'E:/20220209_BrainDissociate3D/Slide5_IndividualRegions/Corpus\\\\x_79452y_17274.d',\n",
       " 'E:/20220209_BrainDissociate3D/Slide5_IndividualRegions/Corpus\\\\x_79481y_20948.d',\n",
       " 'E:/20220209_BrainDissociate3D/Slide5_IndividualRegions/Corpus\\\\x_79497y_12987.d',\n",
       " 'E:/20220209_BrainDissociate3D/Slide5_IndividualRegions/Corpus\\\\x_79504y_14686.d',\n",
       " 'E:/20220209_BrainDissociate3D/Slide5_IndividualRegions/Corpus\\\\x_79531y_18950.d',\n",
       " 'E:/20220209_BrainDissociate3D/Slide5_IndividualRegions/Corpus\\\\x_79536y_19184.d',\n",
       " 'E:/20220209_BrainDissociate3D/Slide5_IndividualRegions/Corpus\\\\x_79567y_18199.d',\n",
       " 'E:/20220209_BrainDissociate3D/Slide5_IndividualRegions/Corpus\\\\x_79599y_19637.d',\n",
       " 'E:/20220209_BrainDissociate3D/Slide5_IndividualRegions/Corpus\\\\x_79627y_17821.d',\n",
       " 'E:/20220209_BrainDissociate3D/Slide5_IndividualRegions/Corpus\\\\x_79627y_18022.d',\n",
       " 'E:/20220209_BrainDissociate3D/Slide5_IndividualRegions/Corpus\\\\x_79694y_17527.d',\n",
       " 'E:/20220209_BrainDissociate3D/Slide5_IndividualRegions/Corpus\\\\x_79754y_18863.d',\n",
       " 'E:/20220209_BrainDissociate3D/Slide5_IndividualRegions/Corpus\\\\x_79793y_14891.d',\n",
       " 'E:/20220209_BrainDissociate3D/Slide5_IndividualRegions/Corpus\\\\x_79798y_19167.d',\n",
       " 'E:/20220209_BrainDissociate3D/Slide5_IndividualRegions/Corpus\\\\x_79840y_14593.d',\n",
       " 'E:/20220209_BrainDissociate3D/Slide5_IndividualRegions/Corpus\\\\x_79845y_11949.d',\n",
       " 'E:/20220209_BrainDissociate3D/Slide5_IndividualRegions/Corpus\\\\x_79882y_16621.d',\n",
       " 'E:/20220209_BrainDissociate3D/Slide5_IndividualRegions/Corpus\\\\x_79886y_18769.d',\n",
       " 'E:/20220209_BrainDissociate3D/Slide5_IndividualRegions/Corpus\\\\x_79920y_18515.d',\n",
       " 'E:/20220209_BrainDissociate3D/Slide5_IndividualRegions/Corpus\\\\x_79925y_21186.d',\n",
       " 'E:/20220209_BrainDissociate3D/Slide5_IndividualRegions/Corpus\\\\x_79958y_15006.d',\n",
       " 'E:/20220209_BrainDissociate3D/Slide5_IndividualRegions/Corpus\\\\x_79980y_10539.d',\n",
       " 'E:/20220209_BrainDissociate3D/Slide5_IndividualRegions/Corpus\\\\x_79980y_13918.d',\n",
       " 'E:/20220209_BrainDissociate3D/Slide5_IndividualRegions/Corpus\\\\x_80085y_16644.d',\n",
       " 'E:/20220209_BrainDissociate3D/Slide5_IndividualRegions/Corpus\\\\x_80135y_18454.d',\n",
       " 'E:/20220209_BrainDissociate3D/Slide5_IndividualRegions/Corpus\\\\x_80149y_19654.d',\n",
       " 'E:/20220209_BrainDissociate3D/Slide5_IndividualRegions/Corpus\\\\x_80225y_18111.d',\n",
       " 'E:/20220209_BrainDissociate3D/Slide5_IndividualRegions/Corpus\\\\x_80285y_16539.d',\n",
       " 'E:/20220209_BrainDissociate3D/Slide5_IndividualRegions/Corpus\\\\x_80331y_15231.d',\n",
       " 'E:/20220209_BrainDissociate3D/Slide5_IndividualRegions/Corpus\\\\x_80345y_11064.d',\n",
       " 'E:/20220209_BrainDissociate3D/Slide5_IndividualRegions/Corpus\\\\x_80387y_13894.d',\n",
       " 'E:/20220209_BrainDissociate3D/Slide5_IndividualRegions/Corpus\\\\x_80437y_17204.d',\n",
       " 'E:/20220209_BrainDissociate3D/Slide5_IndividualRegions/Corpus\\\\x_80442y_15035.d',\n",
       " 'E:/20220209_BrainDissociate3D/Slide5_IndividualRegions/Corpus\\\\x_80456y_19234.d',\n",
       " 'E:/20220209_BrainDissociate3D/Slide5_IndividualRegions/Corpus\\\\x_80480y_12835.d',\n",
       " 'E:/20220209_BrainDissociate3D/Slide5_IndividualRegions/Corpus\\\\x_80481y_20779.d',\n",
       " 'E:/20220209_BrainDissociate3D/Slide5_IndividualRegions/Corpus\\\\x_80511y_18724.d',\n",
       " 'E:/20220209_BrainDissociate3D/Slide5_IndividualRegions/Corpus\\\\x_80530y_15602.d',\n",
       " 'E:/20220209_BrainDissociate3D/Slide5_IndividualRegions/Corpus\\\\x_80559y_19920.d',\n",
       " 'E:/20220209_BrainDissociate3D/Slide5_IndividualRegions/Corpus\\\\x_80561y_14637.d',\n",
       " 'E:/20220209_BrainDissociate3D/Slide5_IndividualRegions/Corpus\\\\x_80671y_19689.d',\n",
       " 'E:/20220209_BrainDissociate3D/Slide5_IndividualRegions/Corpus\\\\x_80736y_14409.d',\n",
       " 'E:/20220209_BrainDissociate3D/Slide5_IndividualRegions/Corpus\\\\x_80807y_12993.d',\n",
       " 'E:/20220209_BrainDissociate3D/Slide5_IndividualRegions/Corpus\\\\x_80814y_16436.d',\n",
       " 'E:/20220209_BrainDissociate3D/Slide5_IndividualRegions/Corpus\\\\x_80819y_21401.d',\n",
       " 'E:/20220209_BrainDissociate3D/Slide5_IndividualRegions/Corpus\\\\x_80834y_13700.d',\n",
       " 'E:/20220209_BrainDissociate3D/Slide5_IndividualRegions/Corpus\\\\x_80841y_20960.d',\n",
       " 'E:/20220209_BrainDissociate3D/Slide5_IndividualRegions/Corpus\\\\x_80869y_14702.d',\n",
       " 'E:/20220209_BrainDissociate3D/Slide5_IndividualRegions/Corpus\\\\x_80871y_18716.d',\n",
       " 'E:/20220209_BrainDissociate3D/Slide5_IndividualRegions/Corpus\\\\x_80872y_12686.d',\n",
       " 'E:/20220209_BrainDissociate3D/Slide5_IndividualRegions/Corpus\\\\x_80873y_11495.d',\n",
       " 'E:/20220209_BrainDissociate3D/Slide5_IndividualRegions/Corpus\\\\x_80947y_20551.d',\n",
       " 'E:/20220209_BrainDissociate3D/Slide5_IndividualRegions/Corpus\\\\x_81000y_18015.d',\n",
       " 'E:/20220209_BrainDissociate3D/Slide5_IndividualRegions/Corpus\\\\x_81022y_13366.d',\n",
       " 'E:/20220209_BrainDissociate3D/Slide5_IndividualRegions/Corpus\\\\x_81046y_13633.d',\n",
       " 'E:/20220209_BrainDissociate3D/Slide5_IndividualRegions/Corpus\\\\x_81071y_20715.d',\n",
       " 'E:/20220209_BrainDissociate3D/Slide5_IndividualRegions/Corpus\\\\x_81102y_12536.d',\n",
       " 'E:/20220209_BrainDissociate3D/Slide5_IndividualRegions/Corpus\\\\x_81211y_15749.d',\n",
       " 'E:/20220209_BrainDissociate3D/Slide5_IndividualRegions/Corpus\\\\x_81227y_20466.d',\n",
       " 'E:/20220209_BrainDissociate3D/Slide5_IndividualRegions/Corpus\\\\x_81230y_18768.d',\n",
       " 'E:/20220209_BrainDissociate3D/Slide5_IndividualRegions/Corpus\\\\x_81318y_11879.d',\n",
       " 'E:/20220209_BrainDissociate3D/Slide5_IndividualRegions/Corpus\\\\x_81392y_18362.d',\n",
       " 'E:/20220209_BrainDissociate3D/Slide5_IndividualRegions/Corpus\\\\x_81395y_18856.d',\n",
       " 'E:/20220209_BrainDissociate3D/Slide5_IndividualRegions/Corpus\\\\x_81465y_14153.d',\n",
       " 'E:/20220209_BrainDissociate3D/Slide5_IndividualRegions/Corpus\\\\x_81479y_11537.d',\n",
       " 'E:/20220209_BrainDissociate3D/Slide5_IndividualRegions/Corpus\\\\x_81484y_10990.d',\n",
       " 'E:/20220209_BrainDissociate3D/Slide5_IndividualRegions/Corpus\\\\x_81497y_20383.d',\n",
       " 'E:/20220209_BrainDissociate3D/Slide5_IndividualRegions/Corpus\\\\x_81546y_14866.d',\n",
       " 'E:/20220209_BrainDissociate3D/Slide5_IndividualRegions/Corpus\\\\x_81551y_18472.d',\n",
       " 'E:/20220209_BrainDissociate3D/Slide5_IndividualRegions/Corpus\\\\x_81611y_18117.d',\n",
       " 'E:/20220209_BrainDissociate3D/Slide5_IndividualRegions/Corpus\\\\x_81628y_17154.d',\n",
       " 'E:/20220209_BrainDissociate3D/Slide5_IndividualRegions/Corpus\\\\x_81724y_15743.d',\n",
       " 'E:/20220209_BrainDissociate3D/Slide5_IndividualRegions/Corpus\\\\x_81757y_16219.d',\n",
       " 'E:/20220209_BrainDissociate3D/Slide5_IndividualRegions/Corpus\\\\x_81803y_13006.d',\n",
       " 'E:/20220209_BrainDissociate3D/Slide5_IndividualRegions/Corpus\\\\x_81826y_17941.d',\n",
       " 'E:/20220209_BrainDissociate3D/Slide5_IndividualRegions/Corpus\\\\x_81873y_15615.d',\n",
       " 'E:/20220209_BrainDissociate3D/Slide5_IndividualRegions/Corpus\\\\x_81878y_11105.d',\n",
       " 'E:/20220209_BrainDissociate3D/Slide5_IndividualRegions/Corpus\\\\x_81881y_17786.d',\n",
       " 'E:/20220209_BrainDissociate3D/Slide5_IndividualRegions/Corpus\\\\x_81959y_18457.d',\n",
       " 'E:/20220209_BrainDissociate3D/Slide5_IndividualRegions/Corpus\\\\x_82043y_16703.d',\n",
       " 'E:/20220209_BrainDissociate3D/Slide5_IndividualRegions/Corpus\\\\x_82057y_17947.d',\n",
       " 'E:/20220209_BrainDissociate3D/Slide5_IndividualRegions/Corpus\\\\x_82079y_16411.d',\n",
       " 'E:/20220209_BrainDissociate3D/Slide5_IndividualRegions/Corpus\\\\x_82120y_12898.d',\n",
       " 'E:/20220209_BrainDissociate3D/Slide5_IndividualRegions/Corpus\\\\x_82143y_13780.d',\n",
       " 'E:/20220209_BrainDissociate3D/Slide5_IndividualRegions/Corpus\\\\x_82177y_14629.d',\n",
       " 'E:/20220209_BrainDissociate3D/Slide5_IndividualRegions/Corpus\\\\x_82187y_18978.d',\n",
       " 'E:/20220209_BrainDissociate3D/Slide5_IndividualRegions/Corpus\\\\x_82305y_13599.d',\n",
       " 'E:/20220209_BrainDissociate3D/Slide5_IndividualRegions/Corpus\\\\x_82418y_11242.d',\n",
       " 'E:/20220209_BrainDissociate3D/Slide5_IndividualRegions/Corpus\\\\x_82483y_14605.d',\n",
       " 'E:/20220209_BrainDissociate3D/Slide5_IndividualRegions/Corpus\\\\x_82530y_16162.d',\n",
       " 'E:/20220209_BrainDissociate3D/Slide5_IndividualRegions/Corpus\\\\x_82547y_19475.d',\n",
       " 'E:/20220209_BrainDissociate3D/Slide5_IndividualRegions/Corpus\\\\x_82548y_12252.d',\n",
       " 'E:/20220209_BrainDissociate3D/Slide5_IndividualRegions/Corpus\\\\x_82575y_11377.d',\n",
       " 'E:/20220209_BrainDissociate3D/Slide5_IndividualRegions/Corpus\\\\x_82587y_13043.d',\n",
       " 'E:/20220209_BrainDissociate3D/Slide5_IndividualRegions/Corpus\\\\x_82609y_11700.d',\n",
       " 'E:/20220209_BrainDissociate3D/Slide5_IndividualRegions/Corpus\\\\x_82646y_18509.d',\n",
       " 'E:/20220209_BrainDissociate3D/Slide5_IndividualRegions/Corpus\\\\x_82714y_18764.d',\n",
       " 'E:/20220209_BrainDissociate3D/Slide5_IndividualRegions/Corpus\\\\x_82755y_19563.d',\n",
       " 'E:/20220209_BrainDissociate3D/Slide5_IndividualRegions/Corpus\\\\x_82873y_17221.d',\n",
       " 'E:/20220209_BrainDissociate3D/Slide5_IndividualRegions/Corpus\\\\x_82937y_18746.d',\n",
       " 'E:/20220209_BrainDissociate3D/Slide5_IndividualRegions/Corpus\\\\x_83123y_11135.d',\n",
       " 'E:/20220209_BrainDissociate3D/Slide5_IndividualRegions/Corpus\\\\x_83156y_14744.d',\n",
       " 'E:/20220209_BrainDissociate3D/Slide5_IndividualRegions/Corpus\\\\x_83173y_10819.d',\n",
       " 'E:/20220209_BrainDissociate3D/Slide5_IndividualRegions/Corpus\\\\x_83173y_17209.d',\n",
       " 'E:/20220209_BrainDissociate3D/Slide5_IndividualRegions/Corpus\\\\x_83181y_14550.d',\n",
       " 'E:/20220209_BrainDissociate3D/Slide5_IndividualRegions/Corpus\\\\x_83240y_15277.d',\n",
       " 'E:/20220209_BrainDissociate3D/Slide5_IndividualRegions/Corpus\\\\x_83258y_18277.d',\n",
       " 'E:/20220209_BrainDissociate3D/Slide5_IndividualRegions/Corpus\\\\x_83274y_15896.d',\n",
       " 'E:/20220209_BrainDissociate3D/Slide5_IndividualRegions/Corpus\\\\x_83277y_18946.d',\n",
       " 'E:/20220209_BrainDissociate3D/Slide5_IndividualRegions/Corpus\\\\x_83280y_17347.d',\n",
       " 'E:/20220209_BrainDissociate3D/Slide5_IndividualRegions/Corpus\\\\x_83287y_16843.d',\n",
       " 'E:/20220209_BrainDissociate3D/Slide5_IndividualRegions/Corpus\\\\x_83337y_13574.d',\n",
       " 'E:/20220209_BrainDissociate3D/Slide5_IndividualRegions/Corpus\\\\x_83405y_16639.d',\n",
       " 'E:/20220209_BrainDissociate3D/Slide5_IndividualRegions/Cortex\\\\x_10006y_12465.d',\n",
       " 'E:/20220209_BrainDissociate3D/Slide5_IndividualRegions/Cortex\\\\x_10060y_12920.d',\n",
       " 'E:/20220209_BrainDissociate3D/Slide5_IndividualRegions/Cortex\\\\x_10121y_8789.d',\n",
       " 'E:/20220209_BrainDissociate3D/Slide5_IndividualRegions/Cortex\\\\x_10141y_8520.d',\n",
       " 'E:/20220209_BrainDissociate3D/Slide5_IndividualRegions/Cortex\\\\x_10162y_14906.d',\n",
       " 'E:/20220209_BrainDissociate3D/Slide5_IndividualRegions/Cortex\\\\x_10164y_10536.d',\n",
       " 'E:/20220209_BrainDissociate3D/Slide5_IndividualRegions/Cortex\\\\x_10206y_11107.d',\n",
       " 'E:/20220209_BrainDissociate3D/Slide5_IndividualRegions/Cortex\\\\x_10255y_9603.d',\n",
       " 'E:/20220209_BrainDissociate3D/Slide5_IndividualRegions/Cortex\\\\x_10272y_12112.d',\n",
       " 'E:/20220209_BrainDissociate3D/Slide5_IndividualRegions/Cortex\\\\x_10314y_15345.d',\n",
       " 'E:/20220209_BrainDissociate3D/Slide5_IndividualRegions/Cortex\\\\x_10328y_20318.d',\n",
       " 'E:/20220209_BrainDissociate3D/Slide5_IndividualRegions/Cortex\\\\x_10329y_10861.d',\n",
       " 'E:/20220209_BrainDissociate3D/Slide5_IndividualRegions/Cortex\\\\x_10330y_9974.d',\n",
       " 'E:/20220209_BrainDissociate3D/Slide5_IndividualRegions/Cortex\\\\x_10333y_17430.d',\n",
       " 'E:/20220209_BrainDissociate3D/Slide5_IndividualRegions/Cortex\\\\x_10351y_13995.d',\n",
       " 'E:/20220209_BrainDissociate3D/Slide5_IndividualRegions/Cortex\\\\x_10372y_16231.d',\n",
       " 'E:/20220209_BrainDissociate3D/Slide5_IndividualRegions/Cortex\\\\x_10392y_14584.d',\n",
       " 'E:/20220209_BrainDissociate3D/Slide5_IndividualRegions/Cortex\\\\x_10411y_15560.d',\n",
       " 'E:/20220209_BrainDissociate3D/Slide5_IndividualRegions/Cortex\\\\x_10411y_16766.d',\n",
       " 'E:/20220209_BrainDissociate3D/Slide5_IndividualRegions/Cortex\\\\x_10426y_18422.d',\n",
       " 'E:/20220209_BrainDissociate3D/Slide5_IndividualRegions/Cortex\\\\x_10477y_14804.d',\n",
       " 'E:/20220209_BrainDissociate3D/Slide5_IndividualRegions/Cortex\\\\x_10507y_10261.d',\n",
       " 'E:/20220209_BrainDissociate3D/Slide5_IndividualRegions/Cortex\\\\x_10547y_12069.d',\n",
       " 'E:/20220209_BrainDissociate3D/Slide5_IndividualRegions/Cortex\\\\x_10592y_19586.d',\n",
       " 'E:/20220209_BrainDissociate3D/Slide5_IndividualRegions/Cortex\\\\x_10627y_17719.d',\n",
       " 'E:/20220209_BrainDissociate3D/Slide5_IndividualRegions/Cortex\\\\x_10630y_11203.d',\n",
       " 'E:/20220209_BrainDissociate3D/Slide5_IndividualRegions/Cortex\\\\x_10657y_14557.d',\n",
       " 'E:/20220209_BrainDissociate3D/Slide5_IndividualRegions/Cortex\\\\x_10674y_9266.d',\n",
       " 'E:/20220209_BrainDissociate3D/Slide5_IndividualRegions/Cortex\\\\x_10676y_12540.d',\n",
       " 'E:/20220209_BrainDissociate3D/Slide5_IndividualRegions/Cortex\\\\x_10677y_14322.d',\n",
       " 'E:/20220209_BrainDissociate3D/Slide5_IndividualRegions/Cortex\\\\x_10684y_12771.d',\n",
       " 'E:/20220209_BrainDissociate3D/Slide5_IndividualRegions/Cortex\\\\x_10699y_19182.d',\n",
       " 'E:/20220209_BrainDissociate3D/Slide5_IndividualRegions/Cortex\\\\x_10703y_18722.d',\n",
       " 'E:/20220209_BrainDissociate3D/Slide5_IndividualRegions/Cortex\\\\x_10711y_8629.d',\n",
       " 'E:/20220209_BrainDissociate3D/Slide5_IndividualRegions/Cortex\\\\x_10766y_10104.d',\n",
       " 'E:/20220209_BrainDissociate3D/Slide5_IndividualRegions/Cortex\\\\x_10787y_15153.d',\n",
       " 'E:/20220209_BrainDissociate3D/Slide5_IndividualRegions/Cortex\\\\x_10792y_18984.d',\n",
       " 'E:/20220209_BrainDissociate3D/Slide5_IndividualRegions/Cortex\\\\x_10793y_8945.d',\n",
       " 'E:/20220209_BrainDissociate3D/Slide5_IndividualRegions/Cortex\\\\x_10795y_17432.d',\n",
       " 'E:/20220209_BrainDissociate3D/Slide5_IndividualRegions/Cortex\\\\x_10816y_17612.d',\n",
       " 'E:/20220209_BrainDissociate3D/Slide5_IndividualRegions/Cortex\\\\x_10824y_10881.d',\n",
       " 'E:/20220209_BrainDissociate3D/Slide5_IndividualRegions/Cortex\\\\x_10871y_10629.d',\n",
       " 'E:/20220209_BrainDissociate3D/Slide5_IndividualRegions/Cortex\\\\x_10878y_11681.d',\n",
       " 'E:/20220209_BrainDissociate3D/Slide5_IndividualRegions/Cortex\\\\x_10878y_13986.d',\n",
       " 'E:/20220209_BrainDissociate3D/Slide5_IndividualRegions/Cortex\\\\x_10885y_19986.d',\n",
       " 'E:/20220209_BrainDissociate3D/Slide5_IndividualRegions/Cortex\\\\x_10902y_13242.d',\n",
       " 'E:/20220209_BrainDissociate3D/Slide5_IndividualRegions/Cortex\\\\x_10933y_20347.d',\n",
       " 'E:/20220209_BrainDissociate3D/Slide5_IndividualRegions/Cortex\\\\x_10989y_16051.d',\n",
       " 'E:/20220209_BrainDissociate3D/Slide5_IndividualRegions/Cortex\\\\x_11001y_9692.d',\n",
       " 'E:/20220209_BrainDissociate3D/Slide5_IndividualRegions/Cortex\\\\x_11015y_14169.d',\n",
       " 'E:/20220209_BrainDissociate3D/Slide5_IndividualRegions/Cortex\\\\x_11030y_17534.d',\n",
       " 'E:/20220209_BrainDissociate3D/Slide5_IndividualRegions/Cortex\\\\x_11031y_17695.d',\n",
       " 'E:/20220209_BrainDissociate3D/Slide5_IndividualRegions/Cortex\\\\x_11062y_13187.d',\n",
       " 'E:/20220209_BrainDissociate3D/Slide5_IndividualRegions/Cortex\\\\x_11086y_19394.d',\n",
       " 'E:/20220209_BrainDissociate3D/Slide5_IndividualRegions/Cortex\\\\x_11094y_14695.d',\n",
       " 'E:/20220209_BrainDissociate3D/Slide5_IndividualRegions/Cortex\\\\x_11106y_13993.d',\n",
       " 'E:/20220209_BrainDissociate3D/Slide5_IndividualRegions/Cortex\\\\x_11109y_11479.d',\n",
       " 'E:/20220209_BrainDissociate3D/Slide5_IndividualRegions/Cortex\\\\x_11164y_17130.d',\n",
       " 'E:/20220209_BrainDissociate3D/Slide5_IndividualRegions/Cortex\\\\x_11192y_10895.d',\n",
       " 'E:/20220209_BrainDissociate3D/Slide5_IndividualRegions/Cortex\\\\x_11205y_13325.d',\n",
       " 'E:/20220209_BrainDissociate3D/Slide5_IndividualRegions/Cortex\\\\x_11333y_16687.d',\n",
       " 'E:/20220209_BrainDissociate3D/Slide5_IndividualRegions/Cortex\\\\x_11355y_19698.d',\n",
       " 'E:/20220209_BrainDissociate3D/Slide5_IndividualRegions/Cortex\\\\x_11377y_17411.d',\n",
       " 'E:/20220209_BrainDissociate3D/Slide5_IndividualRegions/Cortex\\\\x_11399y_9356.d',\n",
       " 'E:/20220209_BrainDissociate3D/Slide5_IndividualRegions/Cortex\\\\x_11403y_8856.d',\n",
       " 'E:/20220209_BrainDissociate3D/Slide5_IndividualRegions/Cortex\\\\x_11406y_20172.d',\n",
       " 'E:/20220209_BrainDissociate3D/Slide5_IndividualRegions/Cortex\\\\x_11421y_18689.d',\n",
       " 'E:/20220209_BrainDissociate3D/Slide5_IndividualRegions/Cortex\\\\x_11497y_18297.d',\n",
       " 'E:/20220209_BrainDissociate3D/Slide5_IndividualRegions/Cortex\\\\x_11562y_8823.d',\n",
       " 'E:/20220209_BrainDissociate3D/Slide5_IndividualRegions/Cortex\\\\x_11589y_13774.d',\n",
       " 'E:/20220209_BrainDissociate3D/Slide5_IndividualRegions/Cortex\\\\x_11596y_9680.d',\n",
       " 'E:/20220209_BrainDissociate3D/Slide5_IndividualRegions/Cortex\\\\x_11614y_14421.d',\n",
       " 'E:/20220209_BrainDissociate3D/Slide5_IndividualRegions/Cortex\\\\x_11678y_14703.d',\n",
       " 'E:/20220209_BrainDissociate3D/Slide5_IndividualRegions/Cortex\\\\x_11682y_13181.d',\n",
       " 'E:/20220209_BrainDissociate3D/Slide5_IndividualRegions/Cortex\\\\x_11711y_18547.d',\n",
       " 'E:/20220209_BrainDissociate3D/Slide5_IndividualRegions/Cortex\\\\x_11735y_10769.d',\n",
       " 'E:/20220209_BrainDissociate3D/Slide5_IndividualRegions/Cortex\\\\x_11736y_11909.d',\n",
       " 'E:/20220209_BrainDissociate3D/Slide5_IndividualRegions/Cortex\\\\x_11764y_10961.d',\n",
       " 'E:/20220209_BrainDissociate3D/Slide5_IndividualRegions/Cortex\\\\x_11767y_19022.d',\n",
       " 'E:/20220209_BrainDissociate3D/Slide5_IndividualRegions/Cortex\\\\x_11768y_19196.d',\n",
       " 'E:/20220209_BrainDissociate3D/Slide5_IndividualRegions/Cortex\\\\x_11786y_13022.d',\n",
       " 'E:/20220209_BrainDissociate3D/Slide5_IndividualRegions/Cortex\\\\x_11808y_17343.d',\n",
       " 'E:/20220209_BrainDissociate3D/Slide5_IndividualRegions/Cortex\\\\x_11811y_18049.d',\n",
       " 'E:/20220209_BrainDissociate3D/Slide5_IndividualRegions/Cortex\\\\x_11825y_13782.d',\n",
       " 'E:/20220209_BrainDissociate3D/Slide5_IndividualRegions/Cortex\\\\x_11826y_14148.d',\n",
       " 'E:/20220209_BrainDissociate3D/Slide5_IndividualRegions/Cortex\\\\x_11873y_11134.d',\n",
       " 'E:/20220209_BrainDissociate3D/Slide5_IndividualRegions/Cortex\\\\x_11895y_18690.d',\n",
       " 'E:/20220209_BrainDissociate3D/Slide5_IndividualRegions/Cortex\\\\x_11903y_16310.d',\n",
       " 'E:/20220209_BrainDissociate3D/Slide5_IndividualRegions/Cortex\\\\x_11912y_11342.d',\n",
       " 'E:/20220209_BrainDissociate3D/Slide5_IndividualRegions/Cortex\\\\x_11913y_16024.d',\n",
       " 'E:/20220209_BrainDissociate3D/Slide5_IndividualRegions/Cortex\\\\x_11928y_12357.d',\n",
       " 'E:/20220209_BrainDissociate3D/Slide5_IndividualRegions/Cortex\\\\x_11934y_9598.d',\n",
       " 'E:/20220209_BrainDissociate3D/Slide5_IndividualRegions/Cortex\\\\x_11968y_13272.d',\n",
       " 'E:/20220209_BrainDissociate3D/Slide5_IndividualRegions/Cortex\\\\x_11985y_12970.d',\n",
       " 'E:/20220209_BrainDissociate3D/Slide5_IndividualRegions/Cortex\\\\x_12025y_18123.d',\n",
       " 'E:/20220209_BrainDissociate3D/Slide5_IndividualRegions/Cortex\\\\x_12039y_17568.d',\n",
       " 'E:/20220209_BrainDissociate3D/Slide5_IndividualRegions/Cortex\\\\x_12062y_16743.d',\n",
       " 'E:/20220209_BrainDissociate3D/Slide5_IndividualRegions/Cortex\\\\x_12092y_14734.d',\n",
       " 'E:/20220209_BrainDissociate3D/Slide5_IndividualRegions/Cortex\\\\x_12097y_9112.d',\n",
       " 'E:/20220209_BrainDissociate3D/Slide5_IndividualRegions/Cortex\\\\x_12133y_9725.d',\n",
       " 'E:/20220209_BrainDissociate3D/Slide5_IndividualRegions/Cortex\\\\x_12137y_15223.d',\n",
       " 'E:/20220209_BrainDissociate3D/Slide5_IndividualRegions/Cortex\\\\x_12160y_19985.d',\n",
       " 'E:/20220209_BrainDissociate3D/Slide5_IndividualRegions/Cortex\\\\x_12178y_15927.d',\n",
       " 'E:/20220209_BrainDissociate3D/Slide5_IndividualRegions/Cortex\\\\x_12193y_18792.d',\n",
       " 'E:/20220209_BrainDissociate3D/Slide5_IndividualRegions/Cortex\\\\x_12230y_11074.d',\n",
       " 'E:/20220209_BrainDissociate3D/Slide5_IndividualRegions/Cortex\\\\x_12242y_17058.d',\n",
       " 'E:/20220209_BrainDissociate3D/Slide5_IndividualRegions/Cortex\\\\x_12287y_18184.d',\n",
       " 'E:/20220209_BrainDissociate3D/Slide5_IndividualRegions/Cortex\\\\x_12315y_14799.d',\n",
       " 'E:/20220209_BrainDissociate3D/Slide5_IndividualRegions/Cortex\\\\x_12318y_9960.d',\n",
       " 'E:/20220209_BrainDissociate3D/Slide5_IndividualRegions/Cortex\\\\x_12340y_8537.d',\n",
       " 'E:/20220209_BrainDissociate3D/Slide5_IndividualRegions/Cortex\\\\x_12366y_15224.d',\n",
       " 'E:/20220209_BrainDissociate3D/Slide5_IndividualRegions/Cortex\\\\x_12413y_9530.d',\n",
       " 'E:/20220209_BrainDissociate3D/Slide5_IndividualRegions/Cortex\\\\x_12459y_13741.d',\n",
       " 'E:/20220209_BrainDissociate3D/Slide5_IndividualRegions/Cortex\\\\x_12478y_16609.d',\n",
       " 'E:/20220209_BrainDissociate3D/Slide5_IndividualRegions/Cortex\\\\x_12481y_15744.d',\n",
       " 'E:/20220209_BrainDissociate3D/Slide5_IndividualRegions/Cortex\\\\x_12488y_10160.d',\n",
       " 'E:/20220209_BrainDissociate3D/Slide5_IndividualRegions/Cortex\\\\x_12506y_9993.d',\n",
       " 'E:/20220209_BrainDissociate3D/Slide5_IndividualRegions/Cortex\\\\x_12528y_13000.d',\n",
       " 'E:/20220209_BrainDissociate3D/Slide5_IndividualRegions/Cortex\\\\x_12627y_12623.d',\n",
       " 'E:/20220209_BrainDissociate3D/Slide5_IndividualRegions/Cortex\\\\x_12663y_12378.d',\n",
       " 'E:/20220209_BrainDissociate3D/Slide5_IndividualRegions/Cortex\\\\x_12669y_9978.d',\n",
       " 'E:/20220209_BrainDissociate3D/Slide5_IndividualRegions/Cortex\\\\x_12670y_14229.d',\n",
       " 'E:/20220209_BrainDissociate3D/Slide5_IndividualRegions/Cortex\\\\x_12724y_13483.d',\n",
       " 'E:/20220209_BrainDissociate3D/Slide5_IndividualRegions/Cortex\\\\x_12726y_18749.d',\n",
       " 'E:/20220209_BrainDissociate3D/Slide5_IndividualRegions/Cortex\\\\x_12768y_12507.d',\n",
       " 'E:/20220209_BrainDissociate3D/Slide5_IndividualRegions/Cortex\\\\x_12803y_15484.d',\n",
       " 'E:/20220209_BrainDissociate3D/Slide5_IndividualRegions/Cortex\\\\x_12809y_10791.d',\n",
       " 'E:/20220209_BrainDissociate3D/Slide5_IndividualRegions/Cortex\\\\x_12859y_18482.d',\n",
       " 'E:/20220209_BrainDissociate3D/Slide5_IndividualRegions/Cortex\\\\x_12879y_14363.d',\n",
       " 'E:/20220209_BrainDissociate3D/Slide5_IndividualRegions/Cortex\\\\x_12896y_17223.d',\n",
       " 'E:/20220209_BrainDissociate3D/Slide5_IndividualRegions/Cortex\\\\x_12900y_10526.d',\n",
       " 'E:/20220209_BrainDissociate3D/Slide5_IndividualRegions/Cortex\\\\x_12959y_14094.d',\n",
       " 'E:/20220209_BrainDissociate3D/Slide5_IndividualRegions/Cortex\\\\x_13059y_16967.d',\n",
       " 'E:/20220209_BrainDissociate3D/Slide5_IndividualRegions/Cortex\\\\x_13078y_16360.d',\n",
       " 'E:/20220209_BrainDissociate3D/Slide5_IndividualRegions/Cortex\\\\x_13090y_15985.d',\n",
       " 'E:/20220209_BrainDissociate3D/Slide5_IndividualRegions/Cortex\\\\x_13125y_14217.d',\n",
       " 'E:/20220209_BrainDissociate3D/Slide5_IndividualRegions/Cortex\\\\x_13134y_13639.d',\n",
       " 'E:/20220209_BrainDissociate3D/Slide5_IndividualRegions/Cortex\\\\x_13144y_8558.d',\n",
       " 'E:/20220209_BrainDissociate3D/Slide5_IndividualRegions/Cortex\\\\x_13147y_12831.d',\n",
       " 'E:/20220209_BrainDissociate3D/Slide5_IndividualRegions/Cortex\\\\x_13185y_12401.d',\n",
       " 'E:/20220209_BrainDissociate3D/Slide5_IndividualRegions/Cortex\\\\x_13195y_11688.d',\n",
       " 'E:/20220209_BrainDissociate3D/Slide5_IndividualRegions/Cortex\\\\x_13251y_9025.d',\n",
       " 'E:/20220209_BrainDissociate3D/Slide5_IndividualRegions/Cortex\\\\x_13302y_17366.d',\n",
       " 'E:/20220209_BrainDissociate3D/Slide5_IndividualRegions/Cortex\\\\x_13310y_10902.d',\n",
       " 'E:/20220209_BrainDissociate3D/Slide5_IndividualRegions/Cortex\\\\x_13320y_14374.d',\n",
       " 'E:/20220209_BrainDissociate3D/Slide5_IndividualRegions/Cortex\\\\x_13330y_10431.d',\n",
       " 'E:/20220209_BrainDissociate3D/Slide5_IndividualRegions/Cortex\\\\x_13330y_10598.d',\n",
       " 'E:/20220209_BrainDissociate3D/Slide5_IndividualRegions/Cortex\\\\x_13333y_12809.d',\n",
       " 'E:/20220209_BrainDissociate3D/Slide5_IndividualRegions/Cortex\\\\x_13344y_11921.d',\n",
       " 'E:/20220209_BrainDissociate3D/Slide5_IndividualRegions/Cortex\\\\x_13356y_11437.d',\n",
       " 'E:/20220209_BrainDissociate3D/Slide5_IndividualRegions/Cortex\\\\x_13406y_17214.d',\n",
       " 'E:/20220209_BrainDissociate3D/Slide5_IndividualRegions/Cortex\\\\x_13429y_12551.d',\n",
       " 'E:/20220209_BrainDissociate3D/Slide5_IndividualRegions/Cortex\\\\x_13456y_10333.d',\n",
       " 'E:/20220209_BrainDissociate3D/Slide5_IndividualRegions/Cortex\\\\x_13458y_12937.d',\n",
       " 'E:/20220209_BrainDissociate3D/Slide5_IndividualRegions/Cortex\\\\x_13502y_11930.d',\n",
       " 'E:/20220209_BrainDissociate3D/Slide5_IndividualRegions/Cortex\\\\x_13534y_13086.d',\n",
       " 'E:/20220209_BrainDissociate3D/Slide5_IndividualRegions/Cortex\\\\x_13592y_17833.d',\n",
       " 'E:/20220209_BrainDissociate3D/Slide5_IndividualRegions/Cortex\\\\x_13655y_16014.d',\n",
       " 'E:/20220209_BrainDissociate3D/Slide5_IndividualRegions/Cortex\\\\x_13666y_11228.d',\n",
       " 'E:/20220209_BrainDissociate3D/Slide5_IndividualRegions/Cortex\\\\x_13673y_10220.d',\n",
       " 'E:/20220209_BrainDissociate3D/Slide5_IndividualRegions/Cortex\\\\x_13713y_10872.d',\n",
       " 'E:/20220209_BrainDissociate3D/Slide5_IndividualRegions/Cortex\\\\x_13724y_14858.d',\n",
       " 'E:/20220209_BrainDissociate3D/Slide5_IndividualRegions/Cortex\\\\x_13778y_13948.d',\n",
       " 'E:/20220209_BrainDissociate3D/Slide5_IndividualRegions/Cortex\\\\x_13804y_16454.d',\n",
       " 'E:/20220209_BrainDissociate3D/Slide5_IndividualRegions/Cortex\\\\x_13827y_15044.d',\n",
       " 'E:/20220209_BrainDissociate3D/Slide5_IndividualRegions/Cortex\\\\x_13837y_10267.d',\n",
       " 'E:/20220209_BrainDissociate3D/Slide5_IndividualRegions/Cortex\\\\x_13900y_11706.d',\n",
       " 'E:/20220209_BrainDissociate3D/Slide5_IndividualRegions/Cortex\\\\x_13964y_9168.d',\n",
       " 'E:/20220209_BrainDissociate3D/Slide5_IndividualRegions/Cortex\\\\x_13976y_15159.d',\n",
       " 'E:/20220209_BrainDissociate3D/Slide5_IndividualRegions/Cortex\\\\x_14003y_10229.d',\n",
       " 'E:/20220209_BrainDissociate3D/Slide5_IndividualRegions/Cortex\\\\x_14051y_17820.d',\n",
       " 'E:/20220209_BrainDissociate3D/Slide5_IndividualRegions/Cortex\\\\x_14100y_15584.d',\n",
       " 'E:/20220209_BrainDissociate3D/Slide5_IndividualRegions/Cortex\\\\x_14115y_17473.d',\n",
       " 'E:/20220209_BrainDissociate3D/Slide5_IndividualRegions/Cortex\\\\x_14233y_16642.d',\n",
       " 'E:/20220209_BrainDissociate3D/Slide5_IndividualRegions/Cortex\\\\x_14303y_13109.d',\n",
       " 'E:/20220209_BrainDissociate3D/Slide5_IndividualRegions/Cortex\\\\x_14367y_16012.d',\n",
       " 'E:/20220209_BrainDissociate3D/Slide5_IndividualRegions/Cortex\\\\x_14416y_12751.d',\n",
       " 'E:/20220209_BrainDissociate3D/Slide5_IndividualRegions/Cortex\\\\x_14538y_15219.d',\n",
       " 'E:/20220209_BrainDissociate3D/Slide5_IndividualRegions/Cortex\\\\x_14630y_11884.d',\n",
       " 'E:/20220209_BrainDissociate3D/Slide5_IndividualRegions/Cortex\\\\x_14658y_13743.d',\n",
       " 'E:/20220209_BrainDissociate3D/Slide5_IndividualRegions/Cortex\\\\x_14658y_16501.d',\n",
       " 'E:/20220209_BrainDissociate3D/Slide5_IndividualRegions/Cortex\\\\x_16067y_16027.d',\n",
       " 'E:/20220209_BrainDissociate3D/Slide5_IndividualRegions/Cortex\\\\x_2333y_22926.d',\n",
       " 'E:/20220209_BrainDissociate3D/Slide5_IndividualRegions/Cortex\\\\x_2799y_22866.d',\n",
       " 'E:/20220209_BrainDissociate3D/Slide5_IndividualRegions/Cortex\\\\x_2969y_10190.d',\n",
       " 'E:/20220209_BrainDissociate3D/Slide5_IndividualRegions/Cortex\\\\x_3004y_9389.d',\n",
       " 'E:/20220209_BrainDissociate3D/Slide5_IndividualRegions/Cortex\\\\x_3069y_22987.d',\n",
       " 'E:/20220209_BrainDissociate3D/Slide5_IndividualRegions/Cortex\\\\x_3295y_12770.d',\n",
       " 'E:/20220209_BrainDissociate3D/Slide5_IndividualRegions/Cortex\\\\x_3351y_10335.d',\n",
       " 'E:/20220209_BrainDissociate3D/Slide5_IndividualRegions/Cortex\\\\x_3402y_12995.d',\n",
       " 'E:/20220209_BrainDissociate3D/Slide5_IndividualRegions/Cortex\\\\x_3410y_14279.d',\n",
       " 'E:/20220209_BrainDissociate3D/Slide5_IndividualRegions/Cortex\\\\x_3415y_14947.d',\n",
       " 'E:/20220209_BrainDissociate3D/Slide5_IndividualRegions/Cortex\\\\x_3445y_15152.d',\n",
       " 'E:/20220209_BrainDissociate3D/Slide5_IndividualRegions/Cortex\\\\x_3565y_16762.d',\n",
       " 'E:/20220209_BrainDissociate3D/Slide5_IndividualRegions/Cortex\\\\x_3574y_14806.d',\n",
       " 'E:/20220209_BrainDissociate3D/Slide5_IndividualRegions/Cortex\\\\x_3639y_22781.d',\n",
       " 'E:/20220209_BrainDissociate3D/Slide5_IndividualRegions/Cortex\\\\x_3652y_10393.d',\n",
       " 'E:/20220209_BrainDissociate3D/Slide5_IndividualRegions/Cortex\\\\x_3766y_22497.d',\n",
       " 'E:/20220209_BrainDissociate3D/Slide5_IndividualRegions/Cortex\\\\x_3821y_12704.d',\n",
       " 'E:/20220209_BrainDissociate3D/Slide5_IndividualRegions/Cortex\\\\x_3823y_16181.d',\n",
       " 'E:/20220209_BrainDissociate3D/Slide5_IndividualRegions/Cortex\\\\x_3838y_15553.d',\n",
       " 'E:/20220209_BrainDissociate3D/Slide5_IndividualRegions/Cortex\\\\x_3870y_12188.d',\n",
       " 'E:/20220209_BrainDissociate3D/Slide5_IndividualRegions/Cortex\\\\x_3888y_15361.d',\n",
       " 'E:/20220209_BrainDissociate3D/Slide5_IndividualRegions/Cortex\\\\x_3974y_15934.d',\n",
       " 'E:/20220209_BrainDissociate3D/Slide5_IndividualRegions/Cortex\\\\x_3994y_12765.d',\n",
       " 'E:/20220209_BrainDissociate3D/Slide5_IndividualRegions/Cortex\\\\x_4001y_17095.d',\n",
       " 'E:/20220209_BrainDissociate3D/Slide5_IndividualRegions/Cortex\\\\x_4078y_19679.d',\n",
       " 'E:/20220209_BrainDissociate3D/Slide5_IndividualRegions/Cortex\\\\x_4149y_14763.d',\n",
       " 'E:/20220209_BrainDissociate3D/Slide5_IndividualRegions/Cortex\\\\x_4159y_16091.d',\n",
       " 'E:/20220209_BrainDissociate3D/Slide5_IndividualRegions/Cortex\\\\x_4194y_14104.d',\n",
       " 'E:/20220209_BrainDissociate3D/Slide5_IndividualRegions/Cortex\\\\x_4308y_19497.d',\n",
       " 'E:/20220209_BrainDissociate3D/Slide5_IndividualRegions/Cortex\\\\x_4368y_18456.d',\n",
       " 'E:/20220209_BrainDissociate3D/Slide5_IndividualRegions/Cortex\\\\x_4370y_12701.d',\n",
       " 'E:/20220209_BrainDissociate3D/Slide5_IndividualRegions/Cortex\\\\x_4411y_11933.d',\n",
       " 'E:/20220209_BrainDissociate3D/Slide5_IndividualRegions/Cortex\\\\x_4430y_15750.d',\n",
       " 'E:/20220209_BrainDissociate3D/Slide5_IndividualRegions/Cortex\\\\x_4448y_11148.d',\n",
       " 'E:/20220209_BrainDissociate3D/Slide5_IndividualRegions/Cortex\\\\x_4448y_13083.d',\n",
       " 'E:/20220209_BrainDissociate3D/Slide5_IndividualRegions/Cortex\\\\x_4535y_10885.d',\n",
       " 'E:/20220209_BrainDissociate3D/Slide5_IndividualRegions/Cortex\\\\x_4535y_13599.d',\n",
       " 'E:/20220209_BrainDissociate3D/Slide5_IndividualRegions/Cortex\\\\x_4544y_17101.d',\n",
       " 'E:/20220209_BrainDissociate3D/Slide5_IndividualRegions/Cortex\\\\x_4606y_12106.d',\n",
       " 'E:/20220209_BrainDissociate3D/Slide5_IndividualRegions/Cortex\\\\x_4606y_15847.d',\n",
       " 'E:/20220209_BrainDissociate3D/Slide5_IndividualRegions/Cortex\\\\x_4618y_10678.d',\n",
       " 'E:/20220209_BrainDissociate3D/Slide5_IndividualRegions/Cortex\\\\x_4628y_16409.d',\n",
       " 'E:/20220209_BrainDissociate3D/Slide5_IndividualRegions/Cortex\\\\x_4632y_12344.d',\n",
       " 'E:/20220209_BrainDissociate3D/Slide5_IndividualRegions/Cortex\\\\x_4664y_10448.d',\n",
       " 'E:/20220209_BrainDissociate3D/Slide5_IndividualRegions/Cortex\\\\x_4679y_10944.d',\n",
       " 'E:/20220209_BrainDissociate3D/Slide5_IndividualRegions/Cortex\\\\x_4713y_15657.d',\n",
       " 'E:/20220209_BrainDissociate3D/Slide5_IndividualRegions/Cortex\\\\x_4740y_12620.d',\n",
       " 'E:/20220209_BrainDissociate3D/Slide5_IndividualRegions/Cortex\\\\x_4754y_10262.d',\n",
       " 'E:/20220209_BrainDissociate3D/Slide5_IndividualRegions/Cortex\\\\x_4761y_11334.d',\n",
       " 'E:/20220209_BrainDissociate3D/Slide5_IndividualRegions/Cortex\\\\x_4790y_19922.d',\n",
       " 'E:/20220209_BrainDissociate3D/Slide5_IndividualRegions/Cortex\\\\x_4797y_19182.d',\n",
       " 'E:/20220209_BrainDissociate3D/Slide5_IndividualRegions/Cortex\\\\x_4803y_16252.d',\n",
       " 'E:/20220209_BrainDissociate3D/Slide5_IndividualRegions/Cortex\\\\x_4824y_10607.d',\n",
       " 'E:/20220209_BrainDissociate3D/Slide5_IndividualRegions/Cortex\\\\x_4833y_17681.d',\n",
       " 'E:/20220209_BrainDissociate3D/Slide5_IndividualRegions/Cortex\\\\x_4845y_10056.d',\n",
       " 'E:/20220209_BrainDissociate3D/Slide5_IndividualRegions/Cortex\\\\x_4875y_20139.d',\n",
       " 'E:/20220209_BrainDissociate3D/Slide5_IndividualRegions/Cortex\\\\x_4885y_12302.d',\n",
       " 'E:/20220209_BrainDissociate3D/Slide5_IndividualRegions/Cortex\\\\x_4889y_13599.d',\n",
       " 'E:/20220209_BrainDissociate3D/Slide5_IndividualRegions/Cortex\\\\x_4893y_10795.d',\n",
       " 'E:/20220209_BrainDissociate3D/Slide5_IndividualRegions/Cortex\\\\x_4929y_12778.d',\n",
       " 'E:/20220209_BrainDissociate3D/Slide5_IndividualRegions/Cortex\\\\x_4968y_13040.d',\n",
       " 'E:/20220209_BrainDissociate3D/Slide5_IndividualRegions/Cortex\\\\x_5003y_12603.d',\n",
       " 'E:/20220209_BrainDissociate3D/Slide5_IndividualRegions/Cortex\\\\x_5024y_20074.d',\n",
       " 'E:/20220209_BrainDissociate3D/Slide5_IndividualRegions/Cortex\\\\x_5035y_15694.d',\n",
       " 'E:/20220209_BrainDissociate3D/Slide5_IndividualRegions/Cortex\\\\x_5038y_16254.d',\n",
       " 'E:/20220209_BrainDissociate3D/Slide5_IndividualRegions/Cortex\\\\x_5059y_18141.d',\n",
       " 'E:/20220209_BrainDissociate3D/Slide5_IndividualRegions/Cortex\\\\x_5124y_13028.d',\n",
       " 'E:/20220209_BrainDissociate3D/Slide5_IndividualRegions/Cortex\\\\x_5160y_10219.d',\n",
       " 'E:/20220209_BrainDissociate3D/Slide5_IndividualRegions/Cortex\\\\x_5186y_18031.d',\n",
       " 'E:/20220209_BrainDissociate3D/Slide5_IndividualRegions/Cortex\\\\x_5281y_11722.d',\n",
       " 'E:/20220209_BrainDissociate3D/Slide5_IndividualRegions/Cortex\\\\x_5290y_13083.d',\n",
       " 'E:/20220209_BrainDissociate3D/Slide5_IndividualRegions/Cortex\\\\x_5316y_20109.d',\n",
       " 'E:/20220209_BrainDissociate3D/Slide5_IndividualRegions/Cortex\\\\x_5319y_15730.d',\n",
       " 'E:/20220209_BrainDissociate3D/Slide5_IndividualRegions/Cortex\\\\x_5358y_19941.d',\n",
       " 'E:/20220209_BrainDissociate3D/Slide5_IndividualRegions/Cortex\\\\x_5427y_14932.d',\n",
       " 'E:/20220209_BrainDissociate3D/Slide5_IndividualRegions/Cortex\\\\x_5428y_17673.d',\n",
       " 'E:/20220209_BrainDissociate3D/Slide5_IndividualRegions/Cortex\\\\x_5431y_15386.d',\n",
       " 'E:/20220209_BrainDissociate3D/Slide5_IndividualRegions/Cortex\\\\x_5454y_17889.d',\n",
       " 'E:/20220209_BrainDissociate3D/Slide5_IndividualRegions/Cortex\\\\x_5469y_11470.d',\n",
       " 'E:/20220209_BrainDissociate3D/Slide5_IndividualRegions/Cortex\\\\x_5480y_11120.d',\n",
       " 'E:/20220209_BrainDissociate3D/Slide5_IndividualRegions/Cortex\\\\x_5485y_12231.d',\n",
       " 'E:/20220209_BrainDissociate3D/Slide5_IndividualRegions/Cortex\\\\x_5586y_19496.d',\n",
       " 'E:/20220209_BrainDissociate3D/Slide5_IndividualRegions/Cortex\\\\x_5641y_14663.d',\n",
       " 'E:/20220209_BrainDissociate3D/Slide5_IndividualRegions/Cortex\\\\x_5651y_13351.d',\n",
       " 'E:/20220209_BrainDissociate3D/Slide5_IndividualRegions/Cortex\\\\x_5688y_17156.d',\n",
       " 'E:/20220209_BrainDissociate3D/Slide5_IndividualRegions/Cortex\\\\x_5705y_14227.d',\n",
       " 'E:/20220209_BrainDissociate3D/Slide5_IndividualRegions/Cortex\\\\x_5710y_18956.d',\n",
       " 'E:/20220209_BrainDissociate3D/Slide5_IndividualRegions/Cortex\\\\x_5734y_19641.d',\n",
       " 'E:/20220209_BrainDissociate3D/Slide5_IndividualRegions/Cortex\\\\x_5743y_15725.d',\n",
       " 'E:/20220209_BrainDissociate3D/Slide5_IndividualRegions/Cortex\\\\x_5744y_11880.d',\n",
       " 'E:/20220209_BrainDissociate3D/Slide5_IndividualRegions/Cortex\\\\x_5750y_11079.d',\n",
       " 'E:/20220209_BrainDissociate3D/Slide5_IndividualRegions/Cortex\\\\x_5787y_10418.d',\n",
       " 'E:/20220209_BrainDissociate3D/Slide5_IndividualRegions/Cortex\\\\x_5814y_14072.d',\n",
       " 'E:/20220209_BrainDissociate3D/Slide5_IndividualRegions/Cortex\\\\x_5859y_12652.d',\n",
       " 'E:/20220209_BrainDissociate3D/Slide5_IndividualRegions/Cortex\\\\x_5872y_9599.d',\n",
       " 'E:/20220209_BrainDissociate3D/Slide5_IndividualRegions/Cortex\\\\x_5876y_15204.d',\n",
       " 'E:/20220209_BrainDissociate3D/Slide5_IndividualRegions/Cortex\\\\x_5876y_15832.d',\n",
       " 'E:/20220209_BrainDissociate3D/Slide5_IndividualRegions/Cortex\\\\x_5936y_12206.d',\n",
       " 'E:/20220209_BrainDissociate3D/Slide5_IndividualRegions/Cortex\\\\x_5973y_9719.d',\n",
       " 'E:/20220209_BrainDissociate3D/Slide5_IndividualRegions/Cortex\\\\x_5991y_15473.d',\n",
       " 'E:/20220209_BrainDissociate3D/Slide5_IndividualRegions/Cortex\\\\x_6015y_10924.d',\n",
       " 'E:/20220209_BrainDissociate3D/Slide5_IndividualRegions/Cortex\\\\x_6041y_17247.d',\n",
       " 'E:/20220209_BrainDissociate3D/Slide5_IndividualRegions/Cortex\\\\x_6044y_17453.d',\n",
       " 'E:/20220209_BrainDissociate3D/Slide5_IndividualRegions/Cortex\\\\x_6051y_15142.d',\n",
       " 'E:/20220209_BrainDissociate3D/Slide5_IndividualRegions/Cortex\\\\x_6075y_12313.d',\n",
       " 'E:/20220209_BrainDissociate3D/Slide5_IndividualRegions/Cortex\\\\x_6140y_17834.d',\n",
       " 'E:/20220209_BrainDissociate3D/Slide5_IndividualRegions/Cortex\\\\x_6170y_18619.d',\n",
       " 'E:/20220209_BrainDissociate3D/Slide5_IndividualRegions/Cortex\\\\x_6171y_16499.d',\n",
       " 'E:/20220209_BrainDissociate3D/Slide5_IndividualRegions/Cortex\\\\x_6177y_14601.d',\n",
       " 'E:/20220209_BrainDissociate3D/Slide5_IndividualRegions/Cortex\\\\x_6210y_12206.d',\n",
       " 'E:/20220209_BrainDissociate3D/Slide5_IndividualRegions/Cortex\\\\x_6239y_16967.d',\n",
       " 'E:/20220209_BrainDissociate3D/Slide5_IndividualRegions/Cortex\\\\x_6241y_16710.d',\n",
       " 'E:/20220209_BrainDissociate3D/Slide5_IndividualRegions/Cortex\\\\x_6257y_13817.d',\n",
       " 'E:/20220209_BrainDissociate3D/Slide5_IndividualRegions/Cortex\\\\x_6259y_14782.d',\n",
       " 'E:/20220209_BrainDissociate3D/Slide5_IndividualRegions/Cortex\\\\x_6260y_13994.d',\n",
       " 'E:/20220209_BrainDissociate3D/Slide5_IndividualRegions/Cortex\\\\x_6278y_11980.d',\n",
       " 'E:/20220209_BrainDissociate3D/Slide5_IndividualRegions/Cortex\\\\x_6280y_18432.d',\n",
       " 'E:/20220209_BrainDissociate3D/Slide5_IndividualRegions/Cortex\\\\x_6311y_17161.d',\n",
       " 'E:/20220209_BrainDissociate3D/Slide5_IndividualRegions/Cortex\\\\x_6361y_12517.d',\n",
       " 'E:/20220209_BrainDissociate3D/Slide5_IndividualRegions/Cortex\\\\x_6387y_9953.d',\n",
       " 'E:/20220209_BrainDissociate3D/Slide5_IndividualRegions/Cortex\\\\x_6396y_18539.d',\n",
       " 'E:/20220209_BrainDissociate3D/Slide5_IndividualRegions/Cortex\\\\x_6412y_14948.d',\n",
       " 'E:/20220209_BrainDissociate3D/Slide5_IndividualRegions/Cortex\\\\x_6417y_11152.d',\n",
       " 'E:/20220209_BrainDissociate3D/Slide5_IndividualRegions/Cortex\\\\x_6456y_13171.d',\n",
       " 'E:/20220209_BrainDissociate3D/Slide5_IndividualRegions/Cortex\\\\x_6496y_12140.d',\n",
       " 'E:/20220209_BrainDissociate3D/Slide5_IndividualRegions/Cortex\\\\x_6497y_15878.d',\n",
       " 'E:/20220209_BrainDissociate3D/Slide5_IndividualRegions/Cortex\\\\x_6500y_10071.d',\n",
       " 'E:/20220209_BrainDissociate3D/Slide5_IndividualRegions/Cortex\\\\x_6526y_10862.d',\n",
       " 'E:/20220209_BrainDissociate3D/Slide5_IndividualRegions/Cortex\\\\x_6544y_9582.d',\n",
       " 'E:/20220209_BrainDissociate3D/Slide5_IndividualRegions/Cortex\\\\x_6561y_16148.d',\n",
       " 'E:/20220209_BrainDissociate3D/Slide5_IndividualRegions/Cortex\\\\x_6574y_9779.d',\n",
       " 'E:/20220209_BrainDissociate3D/Slide5_IndividualRegions/Cortex\\\\x_6578y_13600.d',\n",
       " 'E:/20220209_BrainDissociate3D/Slide5_IndividualRegions/Cortex\\\\x_6596y_17095.d',\n",
       " 'E:/20220209_BrainDissociate3D/Slide5_IndividualRegions/Cortex\\\\x_6640y_17571.d',\n",
       " 'E:/20220209_BrainDissociate3D/Slide5_IndividualRegions/Cortex\\\\x_6678y_8984.d',\n",
       " 'E:/20220209_BrainDissociate3D/Slide5_IndividualRegions/Cortex\\\\x_6695y_13787.d',\n",
       " 'E:/20220209_BrainDissociate3D/Slide5_IndividualRegions/Cortex\\\\x_6701y_16091.d',\n",
       " 'E:/20220209_BrainDissociate3D/Slide5_IndividualRegions/Cortex\\\\x_6705y_12706.d',\n",
       " 'E:/20220209_BrainDissociate3D/Slide5_IndividualRegions/Cortex\\\\x_6723y_16748.d',\n",
       " 'E:/20220209_BrainDissociate3D/Slide5_IndividualRegions/Cortex\\\\x_6726y_16930.d',\n",
       " 'E:/20220209_BrainDissociate3D/Slide5_IndividualRegions/Cortex\\\\x_6734y_9258.d',\n",
       " 'E:/20220209_BrainDissociate3D/Slide5_IndividualRegions/Cortex\\\\x_6743y_10742.d',\n",
       " 'E:/20220209_BrainDissociate3D/Slide5_IndividualRegions/Cortex\\\\x_6773y_13968.d',\n",
       " 'E:/20220209_BrainDissociate3D/Slide5_IndividualRegions/Cortex\\\\x_6825y_16449.d',\n",
       " 'E:/20220209_BrainDissociate3D/Slide5_IndividualRegions/Cortex\\\\x_6834y_14303.d',\n",
       " 'E:/20220209_BrainDissociate3D/Slide5_IndividualRegions/Cortex\\\\x_6893y_10839.d',\n",
       " 'E:/20220209_BrainDissociate3D/Slide5_IndividualRegions/Cortex\\\\x_6911y_17163.d',\n",
       " 'E:/20220209_BrainDissociate3D/Slide5_IndividualRegions/Cortex\\\\x_6949y_12397.d',\n",
       " 'E:/20220209_BrainDissociate3D/Slide5_IndividualRegions/Cortex\\\\x_7029y_17614.d',\n",
       " 'E:/20220209_BrainDissociate3D/Slide5_IndividualRegions/Cortex\\\\x_7040y_20098.d',\n",
       " 'E:/20220209_BrainDissociate3D/Slide5_IndividualRegions/Cortex\\\\x_7137y_16703.d',\n",
       " 'E:/20220209_BrainDissociate3D/Slide5_IndividualRegions/Cortex\\\\x_7144y_17309.d',\n",
       " 'E:/20220209_BrainDissociate3D/Slide5_IndividualRegions/Cortex\\\\x_7166y_14479.d',\n",
       " 'E:/20220209_BrainDissociate3D/Slide5_IndividualRegions/Cortex\\\\x_7175y_16027.d',\n",
       " 'E:/20220209_BrainDissociate3D/Slide5_IndividualRegions/Cortex\\\\x_7178y_20848.d',\n",
       " 'E:/20220209_BrainDissociate3D/Slide5_IndividualRegions/Cortex\\\\x_7202y_13021.d',\n",
       " 'E:/20220209_BrainDissociate3D/Slide5_IndividualRegions/Cortex\\\\x_7223y_15855.d',\n",
       " 'E:/20220209_BrainDissociate3D/Slide5_IndividualRegions/Cortex\\\\x_7256y_8474.d',\n",
       " 'E:/20220209_BrainDissociate3D/Slide5_IndividualRegions/Cortex\\\\x_7275y_10433.d',\n",
       " 'E:/20220209_BrainDissociate3D/Slide5_IndividualRegions/Cortex\\\\x_7275y_12228.d',\n",
       " 'E:/20220209_BrainDissociate3D/Slide5_IndividualRegions/Cortex\\\\x_7331y_18991.d',\n",
       " 'E:/20220209_BrainDissociate3D/Slide5_IndividualRegions/Cortex\\\\x_7355y_13496.d',\n",
       " 'E:/20220209_BrainDissociate3D/Slide5_IndividualRegions/Cortex\\\\x_7384y_15470.d',\n",
       " 'E:/20220209_BrainDissociate3D/Slide5_IndividualRegions/Cortex\\\\x_7384y_9951.d',\n",
       " 'E:/20220209_BrainDissociate3D/Slide5_IndividualRegions/Cortex\\\\x_7397y_17883.d',\n",
       " 'E:/20220209_BrainDissociate3D/Slide5_IndividualRegions/Cortex\\\\x_7442y_10356.d',\n",
       " 'E:/20220209_BrainDissociate3D/Slide5_IndividualRegions/Cortex\\\\x_7446y_11807.d',\n",
       " 'E:/20220209_BrainDissociate3D/Slide5_IndividualRegions/Cortex\\\\x_7451y_12476.d',\n",
       " 'E:/20220209_BrainDissociate3D/Slide5_IndividualRegions/Cortex\\\\x_7467y_10977.d',\n",
       " 'E:/20220209_BrainDissociate3D/Slide5_IndividualRegions/Cortex\\\\x_7470y_15291.d',\n",
       " 'E:/20220209_BrainDissociate3D/Slide5_IndividualRegions/Cortex\\\\x_7472y_19744.d',\n",
       " 'E:/20220209_BrainDissociate3D/Slide5_IndividualRegions/Cortex\\\\x_7491y_19266.d',\n",
       " 'E:/20220209_BrainDissociate3D/Slide5_IndividualRegions/Cortex\\\\x_7508y_11575.d',\n",
       " 'E:/20220209_BrainDissociate3D/Slide5_IndividualRegions/Cortex\\\\x_7513y_8854.d',\n",
       " 'E:/20220209_BrainDissociate3D/Slide5_IndividualRegions/Cortex\\\\x_7589y_17433.d',\n",
       " 'E:/20220209_BrainDissociate3D/Slide5_IndividualRegions/Cortex\\\\x_7600y_13384.d',\n",
       " 'E:/20220209_BrainDissociate3D/Slide5_IndividualRegions/Cortex\\\\x_7610y_16292.d',\n",
       " 'E:/20220209_BrainDissociate3D/Slide5_IndividualRegions/Cortex\\\\x_7635y_9743.d',\n",
       " 'E:/20220209_BrainDissociate3D/Slide5_IndividualRegions/Cortex\\\\x_7649y_19887.d',\n",
       " 'E:/20220209_BrainDissociate3D/Slide5_IndividualRegions/Cortex\\\\x_7672y_11789.d',\n",
       " 'E:/20220209_BrainDissociate3D/Slide5_IndividualRegions/Cortex\\\\x_7700y_18383.d',\n",
       " 'E:/20220209_BrainDissociate3D/Slide5_IndividualRegions/Cortex\\\\x_7701y_9883.d',\n",
       " 'E:/20220209_BrainDissociate3D/Slide5_IndividualRegions/Cortex\\\\x_7742y_16747.d',\n",
       " 'E:/20220209_BrainDissociate3D/Slide5_IndividualRegions/Cortex\\\\x_7761y_18563.d',\n",
       " 'E:/20220209_BrainDissociate3D/Slide5_IndividualRegions/Cortex\\\\x_7768y_14631.d',\n",
       " 'E:/20220209_BrainDissociate3D/Slide5_IndividualRegions/Cortex\\\\x_7802y_10167.d',\n",
       " 'E:/20220209_BrainDissociate3D/Slide5_IndividualRegions/Cortex\\\\x_7828y_9014.d',\n",
       " 'E:/20220209_BrainDissociate3D/Slide5_IndividualRegions/Cortex\\\\x_7833y_16565.d',\n",
       " 'E:/20220209_BrainDissociate3D/Slide5_IndividualRegions/Cortex\\\\x_7847y_12976.d',\n",
       " 'E:/20220209_BrainDissociate3D/Slide5_IndividualRegions/Cortex\\\\x_7900y_10751.d',\n",
       " 'E:/20220209_BrainDissociate3D/Slide5_IndividualRegions/Cortex\\\\x_7962y_19623.d',\n",
       " 'E:/20220209_BrainDissociate3D/Slide5_IndividualRegions/Cortex\\\\x_7967y_16204.d',\n",
       " 'E:/20220209_BrainDissociate3D/Slide5_IndividualRegions/Cortex\\\\x_7970y_11790.d',\n",
       " 'E:/20220209_BrainDissociate3D/Slide5_IndividualRegions/Cortex\\\\x_7984y_13166.d',\n",
       " 'E:/20220209_BrainDissociate3D/Slide5_IndividualRegions/Cortex\\\\x_7988y_9015.d',\n",
       " 'E:/20220209_BrainDissociate3D/Slide5_IndividualRegions/Cortex\\\\x_8079y_19103.d',\n",
       " 'E:/20220209_BrainDissociate3D/Slide5_IndividualRegions/Cortex\\\\x_8110y_16665.d',\n",
       " 'E:/20220209_BrainDissociate3D/Slide5_IndividualRegions/Cortex\\\\x_8113y_14632.d',\n",
       " 'E:/20220209_BrainDissociate3D/Slide5_IndividualRegions/Cortex\\\\x_8132y_12008.d',\n",
       " 'E:/20220209_BrainDissociate3D/Slide5_IndividualRegions/Cortex\\\\x_8168y_14211.d',\n",
       " 'E:/20220209_BrainDissociate3D/Slide5_IndividualRegions/Cortex\\\\x_8171y_11035.d',\n",
       " 'E:/20220209_BrainDissociate3D/Slide5_IndividualRegions/Cortex\\\\x_8181y_20521.d',\n",
       " 'E:/20220209_BrainDissociate3D/Slide5_IndividualRegions/Cortex\\\\x_8190y_12273.d',\n",
       " 'E:/20220209_BrainDissociate3D/Slide5_IndividualRegions/Cortex\\\\x_8197y_18180.d',\n",
       " 'E:/20220209_BrainDissociate3D/Slide5_IndividualRegions/Cortex\\\\x_8304y_12115.d',\n",
       " 'E:/20220209_BrainDissociate3D/Slide5_IndividualRegions/Cortex\\\\x_8370y_10146.d',\n",
       " 'E:/20220209_BrainDissociate3D/Slide5_IndividualRegions/Cortex\\\\x_8385y_19156.d',\n",
       " 'E:/20220209_BrainDissociate3D/Slide5_IndividualRegions/Cortex\\\\x_8387y_14567.d',\n",
       " 'E:/20220209_BrainDissociate3D/Slide5_IndividualRegions/Cortex\\\\x_8397y_16427.d',\n",
       " 'E:/20220209_BrainDissociate3D/Slide5_IndividualRegions/Cortex\\\\x_8413y_20693.d',\n",
       " 'E:/20220209_BrainDissociate3D/Slide5_IndividualRegions/Cortex\\\\x_8417y_22767.d',\n",
       " 'E:/20220209_BrainDissociate3D/Slide5_IndividualRegions/Cortex\\\\x_8429y_18215.d',\n",
       " 'E:/20220209_BrainDissociate3D/Slide5_IndividualRegions/Cortex\\\\x_8475y_16021.d',\n",
       " 'E:/20220209_BrainDissociate3D/Slide5_IndividualRegions/Cortex\\\\x_8505y_10278.d',\n",
       " 'E:/20220209_BrainDissociate3D/Slide5_IndividualRegions/Cortex\\\\x_8511y_10468.d',\n",
       " 'E:/20220209_BrainDissociate3D/Slide5_IndividualRegions/Cortex\\\\x_8515y_13098.d',\n",
       " 'E:/20220209_BrainDissociate3D/Slide5_IndividualRegions/Cortex\\\\x_8521y_15331.d',\n",
       " 'E:/20220209_BrainDissociate3D/Slide5_IndividualRegions/Cortex\\\\x_8585y_13859.d',\n",
       " 'E:/20220209_BrainDissociate3D/Slide5_IndividualRegions/Cortex\\\\x_8613y_11389.d',\n",
       " 'E:/20220209_BrainDissociate3D/Slide5_IndividualRegions/Cortex\\\\x_8626y_17319.d',\n",
       " 'E:/20220209_BrainDissociate3D/Slide5_IndividualRegions/Cortex\\\\x_8629y_9315.d',\n",
       " 'E:/20220209_BrainDissociate3D/Slide5_IndividualRegions/Cortex\\\\x_8643y_11163.d',\n",
       " 'E:/20220209_BrainDissociate3D/Slide5_IndividualRegions/Cortex\\\\x_8691y_11702.d',\n",
       " 'E:/20220209_BrainDissociate3D/Slide5_IndividualRegions/Cortex\\\\x_8740y_19139.d',\n",
       " 'E:/20220209_BrainDissociate3D/Slide5_IndividualRegions/Cortex\\\\x_8748y_11878.d',\n",
       " 'E:/20220209_BrainDissociate3D/Slide5_IndividualRegions/Cortex\\\\x_8892y_15251.d',\n",
       " 'E:/20220209_BrainDissociate3D/Slide5_IndividualRegions/Cortex\\\\x_8895y_14800.d',\n",
       " 'E:/20220209_BrainDissociate3D/Slide5_IndividualRegions/Cortex\\\\x_8920y_14452.d',\n",
       " 'E:/20220209_BrainDissociate3D/Slide5_IndividualRegions/Cortex\\\\x_8967y_16656.d',\n",
       " 'E:/20220209_BrainDissociate3D/Slide5_IndividualRegions/Cortex\\\\x_8977y_15408.d',\n",
       " 'E:/20220209_BrainDissociate3D/Slide5_IndividualRegions/Cortex\\\\x_9025y_15638.d',\n",
       " 'E:/20220209_BrainDissociate3D/Slide5_IndividualRegions/Cortex\\\\x_9025y_15997.d',\n",
       " 'E:/20220209_BrainDissociate3D/Slide5_IndividualRegions/Cortex\\\\x_9105y_9905.d',\n",
       " 'E:/20220209_BrainDissociate3D/Slide5_IndividualRegions/Cortex\\\\x_9126y_16624.d',\n",
       " 'E:/20220209_BrainDissociate3D/Slide5_IndividualRegions/Cortex\\\\x_9178y_17993.d',\n",
       " 'E:/20220209_BrainDissociate3D/Slide5_IndividualRegions/Cortex\\\\x_9241y_16933.d',\n",
       " 'E:/20220209_BrainDissociate3D/Slide5_IndividualRegions/Cortex\\\\x_9243y_15197.d',\n",
       " 'E:/20220209_BrainDissociate3D/Slide5_IndividualRegions/Cortex\\\\x_9257y_21880.d',\n",
       " 'E:/20220209_BrainDissociate3D/Slide5_IndividualRegions/Cortex\\\\x_9259y_14246.d',\n",
       " 'E:/20220209_BrainDissociate3D/Slide5_IndividualRegions/Cortex\\\\x_9267y_8990.d',\n",
       " 'E:/20220209_BrainDissociate3D/Slide5_IndividualRegions/Cortex\\\\x_9305y_20290.d',\n",
       " 'E:/20220209_BrainDissociate3D/Slide5_IndividualRegions/Cortex\\\\x_9342y_18171.d',\n",
       " 'E:/20220209_BrainDissociate3D/Slide5_IndividualRegions/Cortex\\\\x_9360y_15441.d',\n",
       " 'E:/20220209_BrainDissociate3D/Slide5_IndividualRegions/Cortex\\\\x_9362y_16816.d',\n",
       " 'E:/20220209_BrainDissociate3D/Slide5_IndividualRegions/Cortex\\\\x_9401y_17630.d',\n",
       " 'E:/20220209_BrainDissociate3D/Slide5_IndividualRegions/Cortex\\\\x_9459y_17119.d',\n",
       " 'E:/20220209_BrainDissociate3D/Slide5_IndividualRegions/Cortex\\\\x_9593y_17688.d',\n",
       " 'E:/20220209_BrainDissociate3D/Slide5_IndividualRegions/Cortex\\\\x_9625y_11768.d',\n",
       " 'E:/20220209_BrainDissociate3D/Slide5_IndividualRegions/Cortex\\\\x_9635y_10999.d',\n",
       " 'E:/20220209_BrainDissociate3D/Slide5_IndividualRegions/Cortex\\\\x_9696y_13545.d',\n",
       " 'E:/20220209_BrainDissociate3D/Slide5_IndividualRegions/Cortex\\\\x_9731y_11316.d',\n",
       " 'E:/20220209_BrainDissociate3D/Slide5_IndividualRegions/Cortex\\\\x_9743y_8621.d',\n",
       " 'E:/20220209_BrainDissociate3D/Slide5_IndividualRegions/Cortex\\\\x_9759y_12398.d',\n",
       " 'E:/20220209_BrainDissociate3D/Slide5_IndividualRegions/Cortex\\\\x_9790y_15099.d',\n",
       " 'E:/20220209_BrainDissociate3D/Slide5_IndividualRegions/Cortex\\\\x_9842y_9781.d',\n",
       " 'E:/20220209_BrainDissociate3D/Slide5_IndividualRegions/Cortex\\\\x_9853y_9994.d',\n",
       " 'E:/20220209_BrainDissociate3D/Slide5_IndividualRegions/Cortex\\\\x_9864y_14852.d',\n",
       " 'E:/20220209_BrainDissociate3D/Slide5_IndividualRegions/Cortex\\\\x_9880y_19773.d',\n",
       " 'E:/20220209_BrainDissociate3D/Slide5_IndividualRegions/Cortex\\\\x_9939y_15383.d',\n",
       " 'E:/20220209_BrainDissociate3D/Slide5_IndividualRegions/Cortex\\\\x_9945y_10476.d',\n",
       " 'E:/20220209_BrainDissociate3D/Slide5_IndividualRegions/Cortex\\\\x_9952y_14045.d',\n",
       " 'E:/20220209_BrainDissociate3D/Slide5_IndividualRegions/Cortex\\\\x_9974y_10097.d',\n",
       " 'E:/20220209_BrainDissociate3D/Slide5_IndividualRegions/Cortex\\\\x_9974y_13375.d',\n",
       " 'E:/20220209_BrainDissociate3D/Slide5_IndividualRegions/Cortex\\\\x_9986y_15126.d',\n",
       " 'E:/20220209_BrainDissociate3D/Slide5_IndividualRegions/Hip\\\\x_23006y_17058.d',\n",
       " 'E:/20220209_BrainDissociate3D/Slide5_IndividualRegions/Hip\\\\x_23051y_13205.d',\n",
       " 'E:/20220209_BrainDissociate3D/Slide5_IndividualRegions/Hip\\\\x_23085y_16096.d',\n",
       " 'E:/20220209_BrainDissociate3D/Slide5_IndividualRegions/Hip\\\\x_23089y_19279.d',\n",
       " 'E:/20220209_BrainDissociate3D/Slide5_IndividualRegions/Hip\\\\x_23164y_18367.d',\n",
       " 'E:/20220209_BrainDissociate3D/Slide5_IndividualRegions/Hip\\\\x_23178y_14048.d',\n",
       " 'E:/20220209_BrainDissociate3D/Slide5_IndividualRegions/Hip\\\\x_23183y_19678.d',\n",
       " 'E:/20220209_BrainDissociate3D/Slide5_IndividualRegions/Hip\\\\x_23197y_17150.d',\n",
       " 'E:/20220209_BrainDissociate3D/Slide5_IndividualRegions/Hip\\\\x_23205y_17684.d',\n",
       " 'E:/20220209_BrainDissociate3D/Slide5_IndividualRegions/Hip\\\\x_23245y_14851.d',\n",
       " 'E:/20220209_BrainDissociate3D/Slide5_IndividualRegions/Hip\\\\x_23264y_17859.d',\n",
       " 'E:/20220209_BrainDissociate3D/Slide5_IndividualRegions/Hip\\\\x_23331y_15806.d',\n",
       " 'E:/20220209_BrainDissociate3D/Slide5_IndividualRegions/Hip\\\\x_23464y_16805.d',\n",
       " 'E:/20220209_BrainDissociate3D/Slide5_IndividualRegions/Hip\\\\x_23502y_15378.d',\n",
       " 'E:/20220209_BrainDissociate3D/Slide5_IndividualRegions/Hip\\\\x_23561y_15163.d',\n",
       " 'E:/20220209_BrainDissociate3D/Slide5_IndividualRegions/Hip\\\\x_23651y_17874.d',\n",
       " 'E:/20220209_BrainDissociate3D/Slide5_IndividualRegions/Hip\\\\x_23665y_19246.d',\n",
       " 'E:/20220209_BrainDissociate3D/Slide5_IndividualRegions/Hip\\\\x_23688y_20890.d',\n",
       " 'E:/20220209_BrainDissociate3D/Slide5_IndividualRegions/Hip\\\\x_23707y_16440.d',\n",
       " 'E:/20220209_BrainDissociate3D/Slide5_IndividualRegions/Hip\\\\x_23723y_13835.d',\n",
       " 'E:/20220209_BrainDissociate3D/Slide5_IndividualRegions/Hip\\\\x_23850y_12940.d',\n",
       " 'E:/20220209_BrainDissociate3D/Slide5_IndividualRegions/Hip\\\\x_23887y_13179.d',\n",
       " 'E:/20220209_BrainDissociate3D/Slide5_IndividualRegions/Hip\\\\x_23925y_17866.d',\n",
       " 'E:/20220209_BrainDissociate3D/Slide5_IndividualRegions/Hip\\\\x_24021y_13582.d',\n",
       " 'E:/20220209_BrainDissociate3D/Slide5_IndividualRegions/Hip\\\\x_24022y_17403.d',\n",
       " 'E:/20220209_BrainDissociate3D/Slide5_IndividualRegions/Hip\\\\x_24097y_15989.d',\n",
       " 'E:/20220209_BrainDissociate3D/Slide5_IndividualRegions/Hip\\\\x_24255y_18027.d',\n",
       " 'E:/20220209_BrainDissociate3D/Slide5_IndividualRegions/Hip\\\\x_24313y_16008.d',\n",
       " 'E:/20220209_BrainDissociate3D/Slide5_IndividualRegions/Hip\\\\x_24423y_14981.d',\n",
       " 'E:/20220209_BrainDissociate3D/Slide5_IndividualRegions/Hip\\\\x_24458y_15956.d',\n",
       " 'E:/20220209_BrainDissociate3D/Slide5_IndividualRegions/Hip\\\\x_24471y_15724.d',\n",
       " 'E:/20220209_BrainDissociate3D/Slide5_IndividualRegions/Hip\\\\x_24494y_16104.d',\n",
       " 'E:/20220209_BrainDissociate3D/Slide5_IndividualRegions/Hip\\\\x_24780y_17644.d',\n",
       " 'E:/20220209_BrainDissociate3D/Slide5_IndividualRegions/Hip\\\\x_24811y_13887.d',\n",
       " 'E:/20220209_BrainDissociate3D/Slide5_IndividualRegions/Hip\\\\x_24829y_19019.d',\n",
       " 'E:/20220209_BrainDissociate3D/Slide5_IndividualRegions/Hip\\\\x_24832y_15872.d',\n",
       " 'E:/20220209_BrainDissociate3D/Slide5_IndividualRegions/Hip\\\\x_24885y_15064.d',\n",
       " 'E:/20220209_BrainDissociate3D/Slide5_IndividualRegions/Hip\\\\x_24945y_14854.d',\n",
       " 'E:/20220209_BrainDissociate3D/Slide5_IndividualRegions/Hip\\\\x_24966y_22615.d',\n",
       " 'E:/20220209_BrainDissociate3D/Slide5_IndividualRegions/Hip\\\\x_24990y_11494.d',\n",
       " 'E:/20220209_BrainDissociate3D/Slide5_IndividualRegions/Hip\\\\x_25008y_17312.d',\n",
       " 'E:/20220209_BrainDissociate3D/Slide5_IndividualRegions/Hip\\\\x_25045y_17132.d',\n",
       " 'E:/20220209_BrainDissociate3D/Slide5_IndividualRegions/Hip\\\\x_25124y_20264.d',\n",
       " 'E:/20220209_BrainDissociate3D/Slide5_IndividualRegions/Hip\\\\x_25237y_13802.d',\n",
       " 'E:/20220209_BrainDissociate3D/Slide5_IndividualRegions/Hip\\\\x_25240y_19881.d',\n",
       " 'E:/20220209_BrainDissociate3D/Slide5_IndividualRegions/Hip\\\\x_25302y_18023.d',\n",
       " 'E:/20220209_BrainDissociate3D/Slide5_IndividualRegions/Hip\\\\x_25342y_16861.d',\n",
       " 'E:/20220209_BrainDissociate3D/Slide5_IndividualRegions/Hip\\\\x_25362y_15778.d',\n",
       " 'E:/20220209_BrainDissociate3D/Slide5_IndividualRegions/Hip\\\\x_25421y_19851.d',\n",
       " 'E:/20220209_BrainDissociate3D/Slide5_IndividualRegions/Hip\\\\x_25444y_21165.d',\n",
       " 'E:/20220209_BrainDissociate3D/Slide5_IndividualRegions/Hip\\\\x_25520y_14895.d',\n",
       " 'E:/20220209_BrainDissociate3D/Slide5_IndividualRegions/Hip\\\\x_25550y_19042.d',\n",
       " 'E:/20220209_BrainDissociate3D/Slide5_IndividualRegions/Hip\\\\x_25606y_15396.d',\n",
       " 'E:/20220209_BrainDissociate3D/Slide5_IndividualRegions/Hip\\\\x_25612y_18820.d',\n",
       " 'E:/20220209_BrainDissociate3D/Slide5_IndividualRegions/Hip\\\\x_25617y_19487.d',\n",
       " 'E:/20220209_BrainDissociate3D/Slide5_IndividualRegions/Hip\\\\x_25632y_12144.d',\n",
       " 'E:/20220209_BrainDissociate3D/Slide5_IndividualRegions/Hip\\\\x_25666y_15208.d',\n",
       " 'E:/20220209_BrainDissociate3D/Slide5_IndividualRegions/Hip\\\\x_25670y_11828.d',\n",
       " 'E:/20220209_BrainDissociate3D/Slide5_IndividualRegions/Hip\\\\x_25678y_19291.d',\n",
       " 'E:/20220209_BrainDissociate3D/Slide5_IndividualRegions/Hip\\\\x_25690y_15563.d',\n",
       " 'E:/20220209_BrainDissociate3D/Slide5_IndividualRegions/Hip\\\\x_25809y_10527.d',\n",
       " 'E:/20220209_BrainDissociate3D/Slide5_IndividualRegions/Hip\\\\x_25851y_17280.d',\n",
       " 'E:/20220209_BrainDissociate3D/Slide5_IndividualRegions/Hip\\\\x_25856y_21983.d',\n",
       " 'E:/20220209_BrainDissociate3D/Slide5_IndividualRegions/Hip\\\\x_25878y_17772.d',\n",
       " 'E:/20220209_BrainDissociate3D/Slide5_IndividualRegions/Hip\\\\x_25894y_17039.d',\n",
       " 'E:/20220209_BrainDissociate3D/Slide5_IndividualRegions/Hip\\\\x_25922y_23084.d',\n",
       " 'E:/20220209_BrainDissociate3D/Slide5_IndividualRegions/Hip\\\\x_25939y_22878.d',\n",
       " 'E:/20220209_BrainDissociate3D/Slide5_IndividualRegions/Hip\\\\x_25944y_19318.d',\n",
       " 'E:/20220209_BrainDissociate3D/Slide5_IndividualRegions/Hip\\\\x_25949y_15827.d',\n",
       " 'E:/20220209_BrainDissociate3D/Slide5_IndividualRegions/Hip\\\\x_25967y_20913.d',\n",
       " 'E:/20220209_BrainDissociate3D/Slide5_IndividualRegions/Hip\\\\x_25983y_12760.d',\n",
       " 'E:/20220209_BrainDissociate3D/Slide5_IndividualRegions/Hip\\\\x_26002y_16609.d',\n",
       " 'E:/20220209_BrainDissociate3D/Slide5_IndividualRegions/Hip\\\\x_26010y_15687.d',\n",
       " 'E:/20220209_BrainDissociate3D/Slide5_IndividualRegions/Hip\\\\x_26085y_11769.d',\n",
       " 'E:/20220209_BrainDissociate3D/Slide5_IndividualRegions/Hip\\\\x_26102y_13882.d',\n",
       " 'E:/20220209_BrainDissociate3D/Slide5_IndividualRegions/Hip\\\\x_26110y_19582.d',\n",
       " 'E:/20220209_BrainDissociate3D/Slide5_IndividualRegions/Hip\\\\x_26206y_14679.d',\n",
       " 'E:/20220209_BrainDissociate3D/Slide5_IndividualRegions/Hip\\\\x_26228y_14432.d',\n",
       " 'E:/20220209_BrainDissociate3D/Slide5_IndividualRegions/Hip\\\\x_26261y_15613.d',\n",
       " 'E:/20220209_BrainDissociate3D/Slide5_IndividualRegions/Hip\\\\x_26306y_18296.d',\n",
       " 'E:/20220209_BrainDissociate3D/Slide5_IndividualRegions/Hip\\\\x_26313y_12988.d',\n",
       " 'E:/20220209_BrainDissociate3D/Slide5_IndividualRegions/Hip\\\\x_26321y_20787.d',\n",
       " 'E:/20220209_BrainDissociate3D/Slide5_IndividualRegions/Hip\\\\x_26368y_17410.d',\n",
       " 'E:/20220209_BrainDissociate3D/Slide5_IndividualRegions/Hip\\\\x_26419y_17247.d',\n",
       " 'E:/20220209_BrainDissociate3D/Slide5_IndividualRegions/Hip\\\\x_26419y_17648.d',\n",
       " 'E:/20220209_BrainDissociate3D/Slide5_IndividualRegions/Hip\\\\x_26424y_15559.d',\n",
       " 'E:/20220209_BrainDissociate3D/Slide5_IndividualRegions/Hip\\\\x_26428y_16006.d',\n",
       " 'E:/20220209_BrainDissociate3D/Slide5_IndividualRegions/Hip\\\\x_26456y_17945.d',\n",
       " 'E:/20220209_BrainDissociate3D/Slide5_IndividualRegions/Hip\\\\x_26477y_15742.d',\n",
       " 'E:/20220209_BrainDissociate3D/Slide5_IndividualRegions/Hip\\\\x_26488y_11513.d',\n",
       " 'E:/20220209_BrainDissociate3D/Slide5_IndividualRegions/Hip\\\\x_26525y_20346.d',\n",
       " 'E:/20220209_BrainDissociate3D/Slide5_IndividualRegions/Hip\\\\x_26558y_20503.d',\n",
       " 'E:/20220209_BrainDissociate3D/Slide5_IndividualRegions/Hip\\\\x_26610y_18383.d',\n",
       " 'E:/20220209_BrainDissociate3D/Slide5_IndividualRegions/Hip\\\\x_26613y_21632.d',\n",
       " 'E:/20220209_BrainDissociate3D/Slide5_IndividualRegions/Hip\\\\x_26621y_12710.d',\n",
       " 'E:/20220209_BrainDissociate3D/Slide5_IndividualRegions/Hip\\\\x_26688y_15081.d',\n",
       " 'E:/20220209_BrainDissociate3D/Slide5_IndividualRegions/Hip\\\\x_26771y_15288.d',\n",
       " 'E:/20220209_BrainDissociate3D/Slide5_IndividualRegions/Hip\\\\x_26817y_21038.d',\n",
       " 'E:/20220209_BrainDissociate3D/Slide5_IndividualRegions/Hip\\\\x_26847y_15998.d',\n",
       " 'E:/20220209_BrainDissociate3D/Slide5_IndividualRegions/Hip\\\\x_26866y_14725.d',\n",
       " 'E:/20220209_BrainDissociate3D/Slide5_IndividualRegions/Hip\\\\x_26889y_14510.d',\n",
       " 'E:/20220209_BrainDissociate3D/Slide5_IndividualRegions/Hip\\\\x_26890y_15194.d',\n",
       " 'E:/20220209_BrainDissociate3D/Slide5_IndividualRegions/Hip\\\\x_26893y_20570.d',\n",
       " 'E:/20220209_BrainDissociate3D/Slide5_IndividualRegions/Hip\\\\x_26961y_11276.d',\n",
       " 'E:/20220209_BrainDissociate3D/Slide5_IndividualRegions/Hip\\\\x_26963y_18747.d',\n",
       " 'E:/20220209_BrainDissociate3D/Slide5_IndividualRegions/Hip\\\\x_26985y_15650.d',\n",
       " 'E:/20220209_BrainDissociate3D/Slide5_IndividualRegions/Hip\\\\x_27054y_23892.d',\n",
       " 'E:/20220209_BrainDissociate3D/Slide5_IndividualRegions/Hip\\\\x_27090y_22358.d',\n",
       " 'E:/20220209_BrainDissociate3D/Slide5_IndividualRegions/Hip\\\\x_27095y_19028.d',\n",
       " 'E:/20220209_BrainDissociate3D/Slide5_IndividualRegions/Hip\\\\x_27120y_12473.d',\n",
       " 'E:/20220209_BrainDissociate3D/Slide5_IndividualRegions/Hip\\\\x_27133y_21290.d',\n",
       " 'E:/20220209_BrainDissociate3D/Slide5_IndividualRegions/Hip\\\\x_27152y_15828.d',\n",
       " 'E:/20220209_BrainDissociate3D/Slide5_IndividualRegions/Hip\\\\x_27156y_11708.d',\n",
       " 'E:/20220209_BrainDissociate3D/Slide5_IndividualRegions/Hip\\\\x_27180y_16118.d',\n",
       " 'E:/20220209_BrainDissociate3D/Slide5_IndividualRegions/Hip\\\\x_27200y_13743.d',\n",
       " 'E:/20220209_BrainDissociate3D/Slide5_IndividualRegions/Hip\\\\x_27249y_19595.d',\n",
       " 'E:/20220209_BrainDissociate3D/Slide5_IndividualRegions/Hip\\\\x_27340y_16510.d',\n",
       " 'E:/20220209_BrainDissociate3D/Slide5_IndividualRegions/Hip\\\\x_27350y_17379.d',\n",
       " 'E:/20220209_BrainDissociate3D/Slide5_IndividualRegions/Hip\\\\x_27361y_11733.d',\n",
       " 'E:/20220209_BrainDissociate3D/Slide5_IndividualRegions/Hip\\\\x_27394y_12127.d',\n",
       " 'E:/20220209_BrainDissociate3D/Slide5_IndividualRegions/Hip\\\\x_27395y_13259.d',\n",
       " 'E:/20220209_BrainDissociate3D/Slide5_IndividualRegions/Hip\\\\x_27405y_19151.d',\n",
       " 'E:/20220209_BrainDissociate3D/Slide5_IndividualRegions/Hip\\\\x_27430y_15513.d',\n",
       " 'E:/20220209_BrainDissociate3D/Slide5_IndividualRegions/Hip\\\\x_27437y_21014.d',\n",
       " 'E:/20220209_BrainDissociate3D/Slide5_IndividualRegions/Hip\\\\x_27444y_13701.d',\n",
       " 'E:/20220209_BrainDissociate3D/Slide5_IndividualRegions/Hip\\\\x_27454y_9847.d',\n",
       " 'E:/20220209_BrainDissociate3D/Slide5_IndividualRegions/Hip\\\\x_27460y_13936.d',\n",
       " 'E:/20220209_BrainDissociate3D/Slide5_IndividualRegions/Hip\\\\x_27477y_16814.d',\n",
       " 'E:/20220209_BrainDissociate3D/Slide5_IndividualRegions/Hip\\\\x_27511y_16991.d',\n",
       " 'E:/20220209_BrainDissociate3D/Slide5_IndividualRegions/Hip\\\\x_27518y_21956.d',\n",
       " 'E:/20220209_BrainDissociate3D/Slide5_IndividualRegions/Hip\\\\x_27533y_13001.d',\n",
       " 'E:/20220209_BrainDissociate3D/Slide5_IndividualRegions/Hip\\\\x_27533y_14530.d',\n",
       " 'E:/20220209_BrainDissociate3D/Slide5_IndividualRegions/Hip\\\\x_27567y_10643.d',\n",
       " 'E:/20220209_BrainDissociate3D/Slide5_IndividualRegions/Hip\\\\x_27582y_15462.d',\n",
       " 'E:/20220209_BrainDissociate3D/Slide5_IndividualRegions/Hip\\\\x_27586y_19783.d',\n",
       " 'E:/20220209_BrainDissociate3D/Slide5_IndividualRegions/Hip\\\\x_27612y_19457.d',\n",
       " 'E:/20220209_BrainDissociate3D/Slide5_IndividualRegions/Hip\\\\x_27612y_22832.d',\n",
       " 'E:/20220209_BrainDissociate3D/Slide5_IndividualRegions/Hip\\\\x_27641y_12198.d',\n",
       " 'E:/20220209_BrainDissociate3D/Slide5_IndividualRegions/Hip\\\\x_27676y_11286.d',\n",
       " 'E:/20220209_BrainDissociate3D/Slide5_IndividualRegions/Hip\\\\x_27760y_20809.d',\n",
       " 'E:/20220209_BrainDissociate3D/Slide5_IndividualRegions/Hip\\\\x_27766y_13766.d',\n",
       " 'E:/20220209_BrainDissociate3D/Slide5_IndividualRegions/Hip\\\\x_27784y_14852.d',\n",
       " 'E:/20220209_BrainDissociate3D/Slide5_IndividualRegions/Hip\\\\x_27791y_18326.d',\n",
       " 'E:/20220209_BrainDissociate3D/Slide5_IndividualRegions/Hip\\\\x_27802y_15675.d',\n",
       " 'E:/20220209_BrainDissociate3D/Slide5_IndividualRegions/Hip\\\\x_27824y_20617.d',\n",
       " 'E:/20220209_BrainDissociate3D/Slide5_IndividualRegions/Hip\\\\x_27837y_23534.d',\n",
       " 'E:/20220209_BrainDissociate3D/Slide5_IndividualRegions/Hip\\\\x_27838y_15476.d',\n",
       " 'E:/20220209_BrainDissociate3D/Slide5_IndividualRegions/Hip\\\\x_27844y_14627.d',\n",
       " 'E:/20220209_BrainDissociate3D/Slide5_IndividualRegions/Hip\\\\x_28005y_14409.d',\n",
       " 'E:/20220209_BrainDissociate3D/Slide5_IndividualRegions/Hip\\\\x_28030y_23185.d',\n",
       " 'E:/20220209_BrainDissociate3D/Slide5_IndividualRegions/Hip\\\\x_28046y_20385.d',\n",
       " 'E:/20220209_BrainDissociate3D/Slide5_IndividualRegions/Hip\\\\x_28052y_20069.d',\n",
       " 'E:/20220209_BrainDissociate3D/Slide5_IndividualRegions/Hip\\\\x_28074y_18866.d',\n",
       " 'E:/20220209_BrainDissociate3D/Slide5_IndividualRegions/Hip\\\\x_28086y_17812.d',\n",
       " 'E:/20220209_BrainDissociate3D/Slide5_IndividualRegions/Hip\\\\x_28121y_18380.d',\n",
       " 'E:/20220209_BrainDissociate3D/Slide5_IndividualRegions/Hip\\\\x_28167y_14922.d',\n",
       " 'E:/20220209_BrainDissociate3D/Slide5_IndividualRegions/Hip\\\\x_28178y_10257.d',\n",
       " 'E:/20220209_BrainDissociate3D/Slide5_IndividualRegions/Hip\\\\x_28189y_15981.d',\n",
       " 'E:/20220209_BrainDissociate3D/Slide5_IndividualRegions/Hip\\\\x_28216y_13641.d',\n",
       " 'E:/20220209_BrainDissociate3D/Slide5_IndividualRegions/Hip\\\\x_28228y_17865.d',\n",
       " 'E:/20220209_BrainDissociate3D/Slide5_IndividualRegions/Hip\\\\x_28235y_17278.d',\n",
       " 'E:/20220209_BrainDissociate3D/Slide5_IndividualRegions/Hip\\\\x_28306y_18791.d',\n",
       " 'E:/20220209_BrainDissociate3D/Slide5_IndividualRegions/Hip\\\\x_28391y_18563.d',\n",
       " 'E:/20220209_BrainDissociate3D/Slide5_IndividualRegions/Hip\\\\x_28429y_14060.d',\n",
       " 'E:/20220209_BrainDissociate3D/Slide5_IndividualRegions/Hip\\\\x_28474y_13714.d',\n",
       " 'E:/20220209_BrainDissociate3D/Slide5_IndividualRegions/Hip\\\\x_28521y_12789.d',\n",
       " 'E:/20220209_BrainDissociate3D/Slide5_IndividualRegions/Hip\\\\x_28530y_19687.d',\n",
       " 'E:/20220209_BrainDissociate3D/Slide5_IndividualRegions/Hip\\\\x_28534y_18676.d',\n",
       " 'E:/20220209_BrainDissociate3D/Slide5_IndividualRegions/Hip\\\\x_28585y_13023.d',\n",
       " 'E:/20220209_BrainDissociate3D/Slide5_IndividualRegions/Hip\\\\x_28622y_20991.d',\n",
       " 'E:/20220209_BrainDissociate3D/Slide5_IndividualRegions/Hip\\\\x_28631y_12359.d',\n",
       " 'E:/20220209_BrainDissociate3D/Slide5_IndividualRegions/Hip\\\\x_28656y_20237.d',\n",
       " 'E:/20220209_BrainDissociate3D/Slide5_IndividualRegions/Hip\\\\x_28687y_15090.d',\n",
       " 'E:/20220209_BrainDissociate3D/Slide5_IndividualRegions/Hip\\\\x_28696y_11629.d',\n",
       " 'E:/20220209_BrainDissociate3D/Slide5_IndividualRegions/Hip\\\\x_28699y_23153.d',\n",
       " 'E:/20220209_BrainDissociate3D/Slide5_IndividualRegions/Hip\\\\x_28711y_19870.d',\n",
       " 'E:/20220209_BrainDissociate3D/Slide5_IndividualRegions/Hip\\\\x_28759y_17497.d',\n",
       " 'E:/20220209_BrainDissociate3D/Slide5_IndividualRegions/Hip\\\\x_28771y_11917.d',\n",
       " 'E:/20220209_BrainDissociate3D/Slide5_IndividualRegions/Hip\\\\x_28784y_21091.d',\n",
       " 'E:/20220209_BrainDissociate3D/Slide5_IndividualRegions/Hip\\\\x_28792y_14099.d',\n",
       " 'E:/20220209_BrainDissociate3D/Slide5_IndividualRegions/Hip\\\\x_28798y_12324.d',\n",
       " 'E:/20220209_BrainDissociate3D/Slide5_IndividualRegions/Hip\\\\x_28799y_20303.d',\n",
       " 'E:/20220209_BrainDissociate3D/Slide5_IndividualRegions/Hip\\\\x_28811y_14531.d',\n",
       " 'E:/20220209_BrainDissociate3D/Slide5_IndividualRegions/Hip\\\\x_28851y_17995.d',\n",
       " 'E:/20220209_BrainDissociate3D/Slide5_IndividualRegions/Hip\\\\x_28885y_13864.d',\n",
       " 'E:/20220209_BrainDissociate3D/Slide5_IndividualRegions/Hip\\\\x_28931y_13121.d',\n",
       " 'E:/20220209_BrainDissociate3D/Slide5_IndividualRegions/Hip\\\\x_28965y_18525.d',\n",
       " 'E:/20220209_BrainDissociate3D/Slide5_IndividualRegions/Hip\\\\x_28968y_12169.d',\n",
       " 'E:/20220209_BrainDissociate3D/Slide5_IndividualRegions/Hip\\\\x_28974y_19579.d',\n",
       " 'E:/20220209_BrainDissociate3D/Slide5_IndividualRegions/Hip\\\\x_28989y_20353.d',\n",
       " 'E:/20220209_BrainDissociate3D/Slide5_IndividualRegions/Hip\\\\x_28994y_20911.d',\n",
       " 'E:/20220209_BrainDissociate3D/Slide5_IndividualRegions/Hip\\\\x_28995y_13662.d',\n",
       " 'E:/20220209_BrainDissociate3D/Slide5_IndividualRegions/Hip\\\\x_28998y_11345.d',\n",
       " 'E:/20220209_BrainDissociate3D/Slide5_IndividualRegions/Hip\\\\x_29064y_11014.d',\n",
       " 'E:/20220209_BrainDissociate3D/Slide5_IndividualRegions/Hip\\\\x_29089y_17483.d',\n",
       " 'E:/20220209_BrainDissociate3D/Slide5_IndividualRegions/Hip\\\\x_29106y_17300.d',\n",
       " 'E:/20220209_BrainDissociate3D/Slide5_IndividualRegions/Hip\\\\x_29154y_10793.d',\n",
       " 'E:/20220209_BrainDissociate3D/Slide5_IndividualRegions/Hip\\\\x_29180y_23005.d',\n",
       " 'E:/20220209_BrainDissociate3D/Slide5_IndividualRegions/Hip\\\\x_29211y_16353.d',\n",
       " 'E:/20220209_BrainDissociate3D/Slide5_IndividualRegions/Hip\\\\x_29232y_18096.d',\n",
       " 'E:/20220209_BrainDissociate3D/Slide5_IndividualRegions/Hip\\\\x_29264y_12304.d',\n",
       " 'E:/20220209_BrainDissociate3D/Slide5_IndividualRegions/Hip\\\\x_29290y_15793.d',\n",
       " 'E:/20220209_BrainDissociate3D/Slide5_IndividualRegions/Hip\\\\x_29308y_13659.d',\n",
       " 'E:/20220209_BrainDissociate3D/Slide5_IndividualRegions/Hip\\\\x_29314y_16472.d',\n",
       " 'E:/20220209_BrainDissociate3D/Slide5_IndividualRegions/Hip\\\\x_29329y_20100.d',\n",
       " 'E:/20220209_BrainDissociate3D/Slide5_IndividualRegions/Hip\\\\x_29343y_14339.d',\n",
       " 'E:/20220209_BrainDissociate3D/Slide5_IndividualRegions/Hip\\\\x_29363y_18702.d',\n",
       " 'E:/20220209_BrainDissociate3D/Slide5_IndividualRegions/Hip\\\\x_29365y_14761.d',\n",
       " 'E:/20220209_BrainDissociate3D/Slide5_IndividualRegions/Hip\\\\x_29379y_17993.d',\n",
       " 'E:/20220209_BrainDissociate3D/Slide5_IndividualRegions/Hip\\\\x_29380y_14970.d',\n",
       " 'E:/20220209_BrainDissociate3D/Slide5_IndividualRegions/Hip\\\\x_29406y_10384.d',\n",
       " 'E:/20220209_BrainDissociate3D/Slide5_IndividualRegions/Hip\\\\x_29420y_10578.d',\n",
       " 'E:/20220209_BrainDissociate3D/Slide5_IndividualRegions/Hip\\\\x_29428y_21631.d',\n",
       " 'E:/20220209_BrainDissociate3D/Slide5_IndividualRegions/Hip\\\\x_29486y_14029.d',\n",
       " 'E:/20220209_BrainDissociate3D/Slide5_IndividualRegions/Hip\\\\x_29499y_20191.d',\n",
       " 'E:/20220209_BrainDissociate3D/Slide5_IndividualRegions/Hip\\\\x_29551y_10160.d',\n",
       " 'E:/20220209_BrainDissociate3D/Slide5_IndividualRegions/Hip\\\\x_29557y_13063.d',\n",
       " 'E:/20220209_BrainDissociate3D/Slide5_IndividualRegions/Hip\\\\x_29605y_14695.d',\n",
       " 'E:/20220209_BrainDissociate3D/Slide5_IndividualRegions/Hip\\\\x_29645y_18805.d',\n",
       " 'E:/20220209_BrainDissociate3D/Slide5_IndividualRegions/Hip\\\\x_29646y_14390.d',\n",
       " 'E:/20220209_BrainDissociate3D/Slide5_IndividualRegions/Hip\\\\x_29660y_18203.d',\n",
       " 'E:/20220209_BrainDissociate3D/Slide5_IndividualRegions/Hip\\\\x_29662y_20035.d',\n",
       " 'E:/20220209_BrainDissociate3D/Slide5_IndividualRegions/Hip\\\\x_29671y_21958.d',\n",
       " 'E:/20220209_BrainDissociate3D/Slide5_IndividualRegions/Hip\\\\x_29723y_20567.d',\n",
       " 'E:/20220209_BrainDissociate3D/Slide5_IndividualRegions/Hip\\\\x_29730y_12303.d',\n",
       " 'E:/20220209_BrainDissociate3D/Slide5_IndividualRegions/Hip\\\\x_29731y_18967.d',\n",
       " 'E:/20220209_BrainDissociate3D/Slide5_IndividualRegions/Hip\\\\x_29744y_13954.d',\n",
       " 'E:/20220209_BrainDissociate3D/Slide5_IndividualRegions/Hip\\\\x_29773y_21109.d',\n",
       " 'E:/20220209_BrainDissociate3D/Slide5_IndividualRegions/Hip\\\\x_29773y_21828.d',\n",
       " 'E:/20220209_BrainDissociate3D/Slide5_IndividualRegions/Hip\\\\x_29795y_10824.d',\n",
       " 'E:/20220209_BrainDissociate3D/Slide5_IndividualRegions/Hip\\\\x_29839y_22134.d',\n",
       " 'E:/20220209_BrainDissociate3D/Slide5_IndividualRegions/Hip\\\\x_29843y_16154.d',\n",
       " 'E:/20220209_BrainDissociate3D/Slide5_IndividualRegions/Hip\\\\x_29849y_19103.d',\n",
       " 'E:/20220209_BrainDissociate3D/Slide5_IndividualRegions/Hip\\\\x_29862y_14768.d',\n",
       " 'E:/20220209_BrainDissociate3D/Slide5_IndividualRegions/Hip\\\\x_29894y_18256.d',\n",
       " 'E:/20220209_BrainDissociate3D/Slide5_IndividualRegions/Hip\\\\x_29913y_12836.d',\n",
       " 'E:/20220209_BrainDissociate3D/Slide5_IndividualRegions/Hip\\\\x_29932y_12290.d',\n",
       " 'E:/20220209_BrainDissociate3D/Slide5_IndividualRegions/Hip\\\\x_29940y_13385.d',\n",
       " 'E:/20220209_BrainDissociate3D/Slide5_IndividualRegions/Hip\\\\x_29946y_16297.d',\n",
       " 'E:/20220209_BrainDissociate3D/Slide5_IndividualRegions/Hip\\\\x_30040y_18039.d',\n",
       " 'E:/20220209_BrainDissociate3D/Slide5_IndividualRegions/Hip\\\\x_30063y_22177.d',\n",
       " 'E:/20220209_BrainDissociate3D/Slide5_IndividualRegions/Hip\\\\x_30082y_11393.d',\n",
       " 'E:/20220209_BrainDissociate3D/Slide5_IndividualRegions/Hip\\\\x_30109y_20298.d',\n",
       " 'E:/20220209_BrainDissociate3D/Slide5_IndividualRegions/Hip\\\\x_30124y_15997.d',\n",
       " 'E:/20220209_BrainDissociate3D/Slide5_IndividualRegions/Hip\\\\x_30126y_20844.d',\n",
       " 'E:/20220209_BrainDissociate3D/Slide5_IndividualRegions/Hip\\\\x_30129y_12698.d',\n",
       " 'E:/20220209_BrainDissociate3D/Slide5_IndividualRegions/Hip\\\\x_30134y_14055.d',\n",
       " 'E:/20220209_BrainDissociate3D/Slide5_IndividualRegions/Hip\\\\x_30153y_19445.d',\n",
       " 'E:/20220209_BrainDissociate3D/Slide5_IndividualRegions/Hip\\\\x_30169y_13503.d',\n",
       " 'E:/20220209_BrainDissociate3D/Slide5_IndividualRegions/Hip\\\\x_30270y_22009.d',\n",
       " 'E:/20220209_BrainDissociate3D/Slide5_IndividualRegions/Hip\\\\x_30274y_21241.d',\n",
       " 'E:/20220209_BrainDissociate3D/Slide5_IndividualRegions/Hip\\\\x_30288y_10214.d',\n",
       " 'E:/20220209_BrainDissociate3D/Slide5_IndividualRegions/Hip\\\\x_30296y_14342.d',\n",
       " 'E:/20220209_BrainDissociate3D/Slide5_IndividualRegions/Hip\\\\x_30362y_10851.d',\n",
       " 'E:/20220209_BrainDissociate3D/Slide5_IndividualRegions/Hip\\\\x_30379y_21810.d',\n",
       " 'E:/20220209_BrainDissociate3D/Slide5_IndividualRegions/Hip\\\\x_30386y_20218.d',\n",
       " 'E:/20220209_BrainDissociate3D/Slide5_IndividualRegions/Hip\\\\x_30427y_13609.d',\n",
       " 'E:/20220209_BrainDissociate3D/Slide5_IndividualRegions/Hip\\\\x_30440y_14934.d',\n",
       " 'E:/20220209_BrainDissociate3D/Slide5_IndividualRegions/Hip\\\\x_30455y_12299.d',\n",
       " 'E:/20220209_BrainDissociate3D/Slide5_IndividualRegions/Hip\\\\x_30504y_21115.d',\n",
       " 'E:/20220209_BrainDissociate3D/Slide5_IndividualRegions/Hip\\\\x_30544y_15217.d',\n",
       " 'E:/20220209_BrainDissociate3D/Slide5_IndividualRegions/Hip\\\\x_30567y_20091.d',\n",
       " 'E:/20220209_BrainDissociate3D/Slide5_IndividualRegions/Hip\\\\x_30586y_20622.d',\n",
       " 'E:/20220209_BrainDissociate3D/Slide5_IndividualRegions/Hip\\\\x_30603y_23485.d',\n",
       " 'E:/20220209_BrainDissociate3D/Slide5_IndividualRegions/Hip\\\\x_30616y_19376.d',\n",
       " 'E:/20220209_BrainDissociate3D/Slide5_IndividualRegions/Hip\\\\x_30626y_19582.d',\n",
       " 'E:/20220209_BrainDissociate3D/Slide5_IndividualRegions/Hip\\\\x_30654y_10645.d',\n",
       " 'E:/20220209_BrainDissociate3D/Slide5_IndividualRegions/Hip\\\\x_30698y_22176.d',\n",
       " 'E:/20220209_BrainDissociate3D/Slide5_IndividualRegions/Hip\\\\x_30729y_15473.d',\n",
       " 'E:/20220209_BrainDissociate3D/Slide5_IndividualRegions/Hip\\\\x_30738y_23252.d',\n",
       " 'E:/20220209_BrainDissociate3D/Slide5_IndividualRegions/Hip\\\\x_30740y_18629.d',\n",
       " 'E:/20220209_BrainDissociate3D/Slide5_IndividualRegions/Hip\\\\x_30757y_12134.d',\n",
       " 'E:/20220209_BrainDissociate3D/Slide5_IndividualRegions/Hip\\\\x_30782y_10551.d',\n",
       " 'E:/20220209_BrainDissociate3D/Slide5_IndividualRegions/Hip\\\\x_30805y_21213.d',\n",
       " 'E:/20220209_BrainDissociate3D/Slide5_IndividualRegions/Hip\\\\x_30821y_22646.d',\n",
       " 'E:/20220209_BrainDissociate3D/Slide5_IndividualRegions/Hip\\\\x_30848y_16688.d',\n",
       " 'E:/20220209_BrainDissociate3D/Slide5_IndividualRegions/Hip\\\\x_30899y_11500.d',\n",
       " 'E:/20220209_BrainDissociate3D/Slide5_IndividualRegions/Hip\\\\x_30905y_23553.d',\n",
       " 'E:/20220209_BrainDissociate3D/Slide5_IndividualRegions/Hip\\\\x_30957y_14546.d',\n",
       " 'E:/20220209_BrainDissociate3D/Slide5_IndividualRegions/Hip\\\\x_30968y_21941.d',\n",
       " 'E:/20220209_BrainDissociate3D/Slide5_IndividualRegions/Hip\\\\x_30972y_14955.d',\n",
       " 'E:/20220209_BrainDissociate3D/Slide5_IndividualRegions/Hip\\\\x_30986y_23122.d',\n",
       " 'E:/20220209_BrainDissociate3D/Slide5_IndividualRegions/Hip\\\\x_31022y_22740.d',\n",
       " 'E:/20220209_BrainDissociate3D/Slide5_IndividualRegions/Hip\\\\x_31026y_11905.d',\n",
       " 'E:/20220209_BrainDissociate3D/Slide5_IndividualRegions/Hip\\\\x_31044y_14092.d',\n",
       " 'E:/20220209_BrainDissociate3D/Slide5_IndividualRegions/Hip\\\\x_31083y_21791.d',\n",
       " 'E:/20220209_BrainDissociate3D/Slide5_IndividualRegions/Hip\\\\x_31085y_14272.d',\n",
       " 'E:/20220209_BrainDissociate3D/Slide5_IndividualRegions/Hip\\\\x_31156y_21539.d',\n",
       " 'E:/20220209_BrainDissociate3D/Slide5_IndividualRegions/Hip\\\\x_31168y_10887.d',\n",
       " 'E:/20220209_BrainDissociate3D/Slide5_IndividualRegions/Hip\\\\x_31170y_16104.d',\n",
       " 'E:/20220209_BrainDissociate3D/Slide5_IndividualRegions/Hip\\\\x_31192y_20935.d',\n",
       " 'E:/20220209_BrainDissociate3D/Slide5_IndividualRegions/Hip\\\\x_31194y_12133.d',\n",
       " 'E:/20220209_BrainDissociate3D/Slide5_IndividualRegions/Hip\\\\x_31195y_11682.d',\n",
       " 'E:/20220209_BrainDissociate3D/Slide5_IndividualRegions/Hip\\\\x_31209y_15110.d',\n",
       " 'E:/20220209_BrainDissociate3D/Slide5_IndividualRegions/Hip\\\\x_31219y_17700.d',\n",
       " 'E:/20220209_BrainDissociate3D/Slide5_IndividualRegions/Hip\\\\x_31253y_19945.d',\n",
       " 'E:/20220209_BrainDissociate3D/Slide5_IndividualRegions/Hip\\\\x_31288y_13236.d',\n",
       " 'E:/20220209_BrainDissociate3D/Slide5_IndividualRegions/Hip\\\\x_31342y_16847.d',\n",
       " 'E:/20220209_BrainDissociate3D/Slide5_IndividualRegions/Hip\\\\x_31396y_10172.d',\n",
       " 'E:/20220209_BrainDissociate3D/Slide5_IndividualRegions/Hip\\\\x_31410y_17809.d',\n",
       " 'E:/20220209_BrainDissociate3D/Slide5_IndividualRegions/Hip\\\\x_31466y_13890.d',\n",
       " 'E:/20220209_BrainDissociate3D/Slide5_IndividualRegions/Hip\\\\x_31477y_20285.d',\n",
       " 'E:/20220209_BrainDissociate3D/Slide5_IndividualRegions/Hip\\\\x_31494y_16537.d',\n",
       " 'E:/20220209_BrainDissociate3D/Slide5_IndividualRegions/Hip\\\\x_31519y_17316.d',\n",
       " 'E:/20220209_BrainDissociate3D/Slide5_IndividualRegions/Hip\\\\x_31552y_19938.d',\n",
       " 'E:/20220209_BrainDissociate3D/Slide5_IndividualRegions/Hip\\\\x_31555y_18622.d',\n",
       " 'E:/20220209_BrainDissociate3D/Slide5_IndividualRegions/Hip\\\\x_31562y_22656.d',\n",
       " 'E:/20220209_BrainDissociate3D/Slide5_IndividualRegions/Hip\\\\x_31577y_16921.d',\n",
       " ...]"
      ]
     },
     "execution_count": 181,
     "metadata": {},
     "output_type": "execute_result"
    }
   ],
   "source": [
    "cell_ser_file_dir"
   ]
  },
  {
   "cell_type": "code",
   "execution_count": 124,
   "metadata": {},
   "outputs": [
    {
     "data": {
      "text/plain": [
       "(1, 65536)"
      ]
     },
     "execution_count": 124,
     "metadata": {},
     "output_type": "execute_result"
    }
   ],
   "source": [
    "fid_loaded.shape"
   ]
  },
  {
   "cell_type": "code",
   "execution_count": 19,
   "metadata": {
    "collapsed": true
   },
   "outputs": [],
   "source": [
    "import pickle \n",
    "with open('../singlecell_peak_data_decode.pkl', 'rb') as handle:\n",
    "    peak_data_orig = pickle.load(handle)"
   ]
  },
  {
   "cell_type": "code",
   "execution_count": 23,
   "metadata": {
    "collapsed": true
   },
   "outputs": [],
   "source": [
    "del peak_data_orig"
   ]
  },
  {
   "cell_type": "code",
   "execution_count": 20,
   "metadata": {},
   "outputs": [
    {
     "name": "stderr",
     "output_type": "stream",
     "text": [
      "100%|███████████████████████████████████████████████████████████████████████████| 24083/24083 [01:00<00:00, 398.16it/s]\n"
     ]
    }
   ],
   "source": [
    "peak_data_use = {}\n",
    "keys = list(peak_data_orig.keys())\n",
    "for i in tqdm(range(len(keys))):\n",
    "    peak_data = peak_data_orig[keys[i]]\n",
    "    snr = peak_data['intensity']/peak_data['noise']\n",
    "    \n",
    "    peak_data_use[keys[i]] = {'mz':peak_data['mz'][snr>6],'intensity':peak_data['intensity'][snr>6],'snr':snr[snr>6]}"
   ]
  },
  {
   "cell_type": "code",
   "execution_count": 197,
   "metadata": {
    "collapsed": true
   },
   "outputs": [],
   "source": [
    "with open('../peak_data_sc_regional_decode.pkl', 'wb') as handle:\n",
    "    pickle.dump(peak_data_decode, handle, protocol=pickle.HIGHEST_PROTOCOL)"
   ]
  },
  {
   "cell_type": "code",
   "execution_count": 136,
   "metadata": {
    "collapsed": true
   },
   "outputs": [],
   "source": [
    "with open('../peak_data_sc_composite_val_orig.pkl', 'rb') as handle:\n",
    "    peak_data_orig = pickle.load(handle)\n",
    "with open('../peak_data_sc_composite_val_decode.pkl', 'rb') as handle:\n",
    "    peak_data_decode = pickle.load(handle)"
   ]
  },
  {
   "cell_type": "code",
   "execution_count": 30,
   "metadata": {
    "collapsed": true
   },
   "outputs": [],
   "source": [
    "import scipy\n",
    "scipy.io.savemat('../singlecell_peak_data_decode_use.mat',peak_data_decode)"
   ]
  },
  {
   "cell_type": "code",
   "execution_count": 171,
   "metadata": {},
   "outputs": [
    {
     "name": "stderr",
     "output_type": "stream",
     "text": [
      "100%|█████████████████████████████████████████████████████████████████████████| 13566/13566 [00:01<00:00, 10685.22it/s]\n"
     ]
    }
   ],
   "source": [
    "keys = list(peak_data_decode.keys())\n",
    "\n",
    "with ImzMLWriter('../peak_data_sc_reginoal_orig'+'.imzML') as w:\n",
    "\n",
    "    for i in tqdm(range(len(keys))):\n",
    "        # writes data to the .ibd file\n",
    "        #print(i)\n",
    "        if peak_data_orig[keys[i]]['mz'].size >0:\n",
    "            w.addSpectrum(mzs = peak_data_orig[keys[i]]['mz'], intensities = peak_data_orig[keys[i]]['intensity'], coords = tuple([1,i]))"
   ]
  },
  {
   "cell_type": "code",
   "execution_count": 198,
   "metadata": {},
   "outputs": [
    {
     "name": "stderr",
     "output_type": "stream",
     "text": [
      "100%|██████████████████████████████████████████████████████████████████████████| 13566/13566 [00:12<00:00, 1098.64it/s]\n"
     ]
    }
   ],
   "source": [
    "keys = list(peak_data_decode.keys())\n",
    "\n",
    "with ImzMLWriter('../peak_data_sc_reginoal_decode'+'.imzML') as w:\n",
    "\n",
    "    for i in tqdm(range(len(keys))):\n",
    "        # writes data to the .ibd file\n",
    "        #print(i)\n",
    "        if peak_data_decode[keys[i]]['mz'].size >0:\n",
    "            w.addSpectrum(mzs = peak_data_decode[keys[i]]['mz'], intensities = peak_data_decode[keys[i]]['intensity'], coords = tuple([1,i]))"
   ]
  },
  {
   "cell_type": "code",
   "execution_count": 135,
   "metadata": {},
   "outputs": [
    {
     "data": {
      "text/plain": [
       "[<matplotlib.lines.Line2D at 0x2a5cb353100>]"
      ]
     },
     "execution_count": 135,
     "metadata": {},
     "output_type": "execute_result"
    },
    {
     "data": {
      "image/png": "[encoded data removed]",
      "text/plain": [
       "<Figure size 432x288 with 1 Axes>"
      ]
     },
     "metadata": {
      "needs_background": "light"
     },
     "output_type": "display_data"
    }
   ],
   "source": [
    "plt.plot(peak_data_decode[keys[11414]]['mz'][25000:30000],peak_data_decode[keys[11414]]['intensity'][25000:30000])\n",
    "#plt.plot(peak_data_orig[keys[151]]['mz'][25000:30000],peak_data_orig[keys[151]]['intensity'][25000:30000])"
   ]
  },
  {
   "cell_type": "code",
   "execution_count": 101,
   "metadata": {},
   "outputs": [
    {
     "data": {
      "text/plain": [
       "1383"
      ]
     },
     "execution_count": 101,
     "metadata": {},
     "output_type": "execute_result"
    }
   ],
   "source": [
    "len(set(peak_data_decode[keys[151]]['mz'][25000:30000])&set(peak_data_orig[keys[151]]['mz'][25000:30000]))"
   ]
  },
  {
   "cell_type": "code",
   "execution_count": 36,
   "metadata": {},
   "outputs": [
    {
     "name": "stderr",
     "output_type": "stream",
     "text": [
      "100%|██████████████████████████████████████████████████████████████████████████████| 1000/1000 [14:00<00:00,  1.19it/s]\n"
     ]
    }
   ],
   "source": [
    "np.random.seed(199)\n",
    "names_val = np.random.choice(cell_file_names,1000)\n",
    "\n",
    "sp_val = []\n",
    "sp_val_pred = []\n",
    "\n",
    "for i in tqdm(range(len(names_val))):\n",
    "    with h5py.File('E:/deepMSI_singlecell/raw_transient_singlecell.h5','r') as h5:\n",
    "        fid_loaded = np.array(h5[names_val[i]].get('transient'))[:,:fid_length]\n",
    "        if fid_loaded.shape[1] != 0:\n",
    "            signal_encoded = np.array(model_lp(fid_loaded[:,:65536]))\n",
    "            fid_decoded = decoder(signal_encoded.reshape(1,-1))\n",
    "            mz,sp = fid2spec(fid_loaded,m_HR,(400,1600))\n",
    "            mz,sp_pred = fid2spec(fid_decoded,m_HR,(400,1600))\n",
    "            \n",
    "            sp_val.append(sp)\n",
    "            sp_val_pred.append(sp_pred)"
   ]
  },
  {
   "cell_type": "code",
   "execution_count": 123,
   "metadata": {
    "collapsed": true
   },
   "outputs": [],
   "source": [
    "peak_val = []\n",
    "peak_mz = []\n",
    "peak_val_pred = []\n",
    "\n",
    "for i in range(len(sp_val)):\n",
    "    peak_idx = find_peaks(sp_val[i][0])[0]\n",
    "    peaks = sp_val[i][0][peak_idx]\n",
    "    noise = mad(sp_val[i][0])\n",
    "    snr = peaks/noise\n",
    "    peak_mz.append(mz[peak_idx[snr>6]])\n",
    "    peak_val.append(sp_val[i][0,peak_idx[snr>6]])\n",
    "    peak_val_pred.append(sp_val_pred[i][0,peak_idx[snr>6]])"
   ]
  },
  {
   "cell_type": "code",
   "execution_count": 126,
   "metadata": {},
   "outputs": [
    {
     "name": "stderr",
     "output_type": "stream",
     "text": [
      "100%|█████████████████████████████████████████████████████████████████████████████| 1000/1000 [00:03<00:00, 319.99it/s]\n"
     ]
    }
   ],
   "source": [
    "with ImzMLWriter('../singlecell_peak_data_decode_val'+'.imzML') as w:\n",
    "\n",
    "    for i in tqdm(range(len(peak_val))):\n",
    "        # writes data to the .ibd file\n",
    "        #print(i)\n",
    "        if peak_val_pred[i].size >0:\n",
    "            w.addSpectrum(mzs = peak_mz[i], intensities = peak_val_pred[i], coords = tuple([1,i]))"
   ]
  },
  {
   "cell_type": "code",
   "execution_count": 140,
   "metadata": {
    "collapsed": true
   },
   "outputs": [],
   "source": [
    "peak_corr = [pearsonr(peak_data_orig[key]['intensity'],peak_data_decode[key]['intensity'])[0] for key in peak_data_orig.keys()]"
   ]
  },
  {
   "cell_type": "code",
   "execution_count": 142,
   "metadata": {},
   "outputs": [
    {
     "name": "stderr",
     "output_type": "stream",
     "text": [
      "c:\\users\\richard\\appdata\\local\\programs\\python\\python38\\lib\\site-packages\\seaborn\\_decorators.py:36: FutureWarning: Pass the following variable as a keyword arg: x. From version 0.12, the only valid positional argument will be `data`, and passing other arguments without an explicit keyword will result in an error or misinterpretation.\n",
      "  warnings.warn(\n"
     ]
    },
    {
     "data": {
      "text/plain": [
       "<AxesSubplot:>"
      ]
     },
     "execution_count": 142,
     "metadata": {},
     "output_type": "execute_result"
    },
    {
     "data": {
      "image/png": "[encoded data removed]",
      "text/plain": [
       "<Figure size 216x72 with 1 Axes>"
      ]
     },
     "metadata": {
      "needs_background": "light"
     },
     "output_type": "display_data"
    }
   ],
   "source": [
    "plt.figure(figsize=(3,1))\n",
    "sns.boxplot(peak_corr,showfliers=False)\n",
    "#plt.savefig('../figures/singlecell_peakcorr.pdf')"
   ]
  },
  {
   "cell_type": "code",
   "execution_count": 148,
   "metadata": {},
   "outputs": [
    {
     "data": {
      "image/png": "[encoded data removed]",
      "text/plain": [
       "<Figure size 576x720 with 6 Axes>"
      ]
     },
     "metadata": {
      "needs_background": "light"
     },
     "output_type": "display_data"
    }
   ],
   "source": [
    "mz_filter = (mz<1000)&(mz>400)\n",
    "fig,axes = plt.subplots(3,2,figsize=(8,10))\n",
    "ax = axes.ravel()\n",
    "idx_show = [922,227,230]\n",
    "for i,idx in enumerate(idx_show):\n",
    "    ax[2*i].plot(mz[mz_filter],sp_val[idx][0][mz_filter],'k',alpha=0.9)\n",
    "    ax[2*i].plot(mz[mz_filter],sp_val_pred[idx][0][mz_filter],'salmon',alpha=0.9)\n",
    "    ax[2*i+1].scatter(peak_val[idx],peak_val_pred[idx],color='grey',s=15)\n",
    "fig.savefig('../figures/singlecell_spec_val.pdf')"
   ]
  },
  {
   "cell_type": "code",
   "execution_count": 182,
   "metadata": {
    "collapsed": true
   },
   "outputs": [],
   "source": [
    "import h5py\n",
    "\n",
    "hf = h5py.File('../processed_data/singlecell_peak_data_decode_use_intens.h5', 'w')\n",
    "keys = list(peak_data_decode.keys())\n",
    "\n",
    "for key in keys:\n",
    "    #group = hf.create_group(cell)\n",
    "    hf.create_dataset(key.split('\\\\')[1],data=peak_data_decode[key]['intensity'])\n",
    "    #group.create_dataset('intens',data=peak_data_decode[cell]['intensity'])\n",
    "hf.close()"
   ]
  },
  {
   "cell_type": "code",
   "execution_count": 195,
   "metadata": {
    "collapsed": true
   },
   "outputs": [],
   "source": [
    "import mat73\n",
    "data_dict = mat73.loadmat('../processed_data/singlecell_peak_data_decode_use_aligned.mat')"
   ]
  },
  {
   "cell_type": "code",
   "execution_count": 209,
   "metadata": {
    "collapsed": true
   },
   "outputs": [],
   "source": [
    "sc_data = pd.DataFrame(data_dict['data']['intens'].T,columns=data_dict['data']['mzs'],index=data_dict['data']['names'])"
   ]
  },
  {
   "cell_type": "code",
   "execution_count": 210,
   "metadata": {},
   "outputs": [
    {
     "data": {
      "text/html": [
       "<div>\n",
       "<style scoped>\n",
       "    .dataframe tbody tr th:only-of-type {\n",
       "        vertical-align: middle;\n",
       "    }\n",
       "\n",
       "    .dataframe tbody tr th {\n",
       "        vertical-align: top;\n",
       "    }\n",
       "\n",
       "    .dataframe thead th {\n",
       "        text-align: right;\n",
       "    }\n",
       "</style>\n",
       "<table border=\"1\" class=\"dataframe\">\n",
       "  <thead>\n",
       "    <tr style=\"text-align: right;\">\n",
       "      <th></th>\n",
       "      <th>400.021222</th>\n",
       "      <th>400.031222</th>\n",
       "      <th>400.035222</th>\n",
       "      <th>400.037444</th>\n",
       "      <th>400.039444</th>\n",
       "      <th>400.047444</th>\n",
       "      <th>400.061667</th>\n",
       "      <th>400.065667</th>\n",
       "      <th>400.067667</th>\n",
       "      <th>400.071667</th>\n",
       "      <th>...</th>\n",
       "      <th>1599.183333</th>\n",
       "      <th>1599.310000</th>\n",
       "      <th>1599.410000</th>\n",
       "      <th>1599.536667</th>\n",
       "      <th>1599.603333</th>\n",
       "      <th>1599.663333</th>\n",
       "      <th>1599.763333</th>\n",
       "      <th>1599.830000</th>\n",
       "      <th>1599.890000</th>\n",
       "      <th>1599.956667</th>\n",
       "    </tr>\n",
       "  </thead>\n",
       "  <tbody>\n",
       "    <tr>\n",
       "      <th>x_10001y_12260.d</th>\n",
       "      <td>0.0</td>\n",
       "      <td>0.0</td>\n",
       "      <td>0.0</td>\n",
       "      <td>0.0</td>\n",
       "      <td>0.0</td>\n",
       "      <td>0.0</td>\n",
       "      <td>0.000000</td>\n",
       "      <td>0.0</td>\n",
       "      <td>0.000000</td>\n",
       "      <td>0.000000</td>\n",
       "      <td>...</td>\n",
       "      <td>32360.776142</td>\n",
       "      <td>0.0</td>\n",
       "      <td>88886.367108</td>\n",
       "      <td>0.000000</td>\n",
       "      <td>0.000000</td>\n",
       "      <td>0.000000</td>\n",
       "      <td>13264.027001</td>\n",
       "      <td>0.0</td>\n",
       "      <td>0.0</td>\n",
       "      <td>0.0</td>\n",
       "    </tr>\n",
       "    <tr>\n",
       "      <th>x_10001y_22958.d</th>\n",
       "      <td>0.0</td>\n",
       "      <td>0.0</td>\n",
       "      <td>0.0</td>\n",
       "      <td>0.0</td>\n",
       "      <td>0.0</td>\n",
       "      <td>0.0</td>\n",
       "      <td>0.000000</td>\n",
       "      <td>0.0</td>\n",
       "      <td>0.000000</td>\n",
       "      <td>0.000000</td>\n",
       "      <td>...</td>\n",
       "      <td>0.000000</td>\n",
       "      <td>0.0</td>\n",
       "      <td>0.000000</td>\n",
       "      <td>0.000000</td>\n",
       "      <td>0.000000</td>\n",
       "      <td>3547.701407</td>\n",
       "      <td>0.000000</td>\n",
       "      <td>0.0</td>\n",
       "      <td>0.0</td>\n",
       "      <td>0.0</td>\n",
       "    </tr>\n",
       "    <tr>\n",
       "      <th>x_10001y_26724.d</th>\n",
       "      <td>0.0</td>\n",
       "      <td>0.0</td>\n",
       "      <td>0.0</td>\n",
       "      <td>0.0</td>\n",
       "      <td>0.0</td>\n",
       "      <td>0.0</td>\n",
       "      <td>0.000000</td>\n",
       "      <td>0.0</td>\n",
       "      <td>0.000000</td>\n",
       "      <td>0.000000</td>\n",
       "      <td>...</td>\n",
       "      <td>0.000000</td>\n",
       "      <td>0.0</td>\n",
       "      <td>18124.207614</td>\n",
       "      <td>0.000000</td>\n",
       "      <td>0.000000</td>\n",
       "      <td>0.000000</td>\n",
       "      <td>0.000000</td>\n",
       "      <td>0.0</td>\n",
       "      <td>0.0</td>\n",
       "      <td>0.0</td>\n",
       "    </tr>\n",
       "    <tr>\n",
       "      <th>x_10001y_32225.d</th>\n",
       "      <td>0.0</td>\n",
       "      <td>0.0</td>\n",
       "      <td>0.0</td>\n",
       "      <td>0.0</td>\n",
       "      <td>0.0</td>\n",
       "      <td>0.0</td>\n",
       "      <td>0.000000</td>\n",
       "      <td>0.0</td>\n",
       "      <td>0.000000</td>\n",
       "      <td>13974.740848</td>\n",
       "      <td>...</td>\n",
       "      <td>0.000000</td>\n",
       "      <td>0.0</td>\n",
       "      <td>20708.255340</td>\n",
       "      <td>0.000000</td>\n",
       "      <td>0.000000</td>\n",
       "      <td>0.000000</td>\n",
       "      <td>0.000000</td>\n",
       "      <td>0.0</td>\n",
       "      <td>0.0</td>\n",
       "      <td>0.0</td>\n",
       "    </tr>\n",
       "    <tr>\n",
       "      <th>x_10002y_11750.d</th>\n",
       "      <td>0.0</td>\n",
       "      <td>0.0</td>\n",
       "      <td>0.0</td>\n",
       "      <td>0.0</td>\n",
       "      <td>0.0</td>\n",
       "      <td>0.0</td>\n",
       "      <td>0.000000</td>\n",
       "      <td>0.0</td>\n",
       "      <td>6234.238502</td>\n",
       "      <td>7263.719717</td>\n",
       "      <td>...</td>\n",
       "      <td>0.000000</td>\n",
       "      <td>0.0</td>\n",
       "      <td>36194.562736</td>\n",
       "      <td>0.000000</td>\n",
       "      <td>0.000000</td>\n",
       "      <td>0.000000</td>\n",
       "      <td>0.000000</td>\n",
       "      <td>0.0</td>\n",
       "      <td>0.0</td>\n",
       "      <td>0.0</td>\n",
       "    </tr>\n",
       "    <tr>\n",
       "      <th>...</th>\n",
       "      <td>...</td>\n",
       "      <td>...</td>\n",
       "      <td>...</td>\n",
       "      <td>...</td>\n",
       "      <td>...</td>\n",
       "      <td>...</td>\n",
       "      <td>...</td>\n",
       "      <td>...</td>\n",
       "      <td>...</td>\n",
       "      <td>...</td>\n",
       "      <td>...</td>\n",
       "      <td>...</td>\n",
       "      <td>...</td>\n",
       "      <td>...</td>\n",
       "      <td>...</td>\n",
       "      <td>...</td>\n",
       "      <td>...</td>\n",
       "      <td>...</td>\n",
       "      <td>...</td>\n",
       "      <td>...</td>\n",
       "      <td>...</td>\n",
       "    </tr>\n",
       "    <tr>\n",
       "      <th>x_9997y_13470.d</th>\n",
       "      <td>0.0</td>\n",
       "      <td>0.0</td>\n",
       "      <td>0.0</td>\n",
       "      <td>0.0</td>\n",
       "      <td>0.0</td>\n",
       "      <td>0.0</td>\n",
       "      <td>12189.573986</td>\n",
       "      <td>0.0</td>\n",
       "      <td>9131.297601</td>\n",
       "      <td>12893.147513</td>\n",
       "      <td>...</td>\n",
       "      <td>0.000000</td>\n",
       "      <td>0.0</td>\n",
       "      <td>0.000000</td>\n",
       "      <td>0.000000</td>\n",
       "      <td>0.000000</td>\n",
       "      <td>0.000000</td>\n",
       "      <td>0.000000</td>\n",
       "      <td>0.0</td>\n",
       "      <td>0.0</td>\n",
       "      <td>0.0</td>\n",
       "    </tr>\n",
       "    <tr>\n",
       "      <th>x_9997y_15638.d</th>\n",
       "      <td>0.0</td>\n",
       "      <td>0.0</td>\n",
       "      <td>0.0</td>\n",
       "      <td>0.0</td>\n",
       "      <td>0.0</td>\n",
       "      <td>0.0</td>\n",
       "      <td>0.000000</td>\n",
       "      <td>0.0</td>\n",
       "      <td>0.000000</td>\n",
       "      <td>8324.260723</td>\n",
       "      <td>...</td>\n",
       "      <td>0.000000</td>\n",
       "      <td>0.0</td>\n",
       "      <td>8949.593182</td>\n",
       "      <td>0.000000</td>\n",
       "      <td>0.000000</td>\n",
       "      <td>0.000000</td>\n",
       "      <td>0.000000</td>\n",
       "      <td>0.0</td>\n",
       "      <td>0.0</td>\n",
       "      <td>0.0</td>\n",
       "    </tr>\n",
       "    <tr>\n",
       "      <th>x_9998y_15774.d</th>\n",
       "      <td>0.0</td>\n",
       "      <td>0.0</td>\n",
       "      <td>0.0</td>\n",
       "      <td>0.0</td>\n",
       "      <td>0.0</td>\n",
       "      <td>0.0</td>\n",
       "      <td>5067.920716</td>\n",
       "      <td>0.0</td>\n",
       "      <td>5446.013245</td>\n",
       "      <td>8697.000952</td>\n",
       "      <td>...</td>\n",
       "      <td>0.000000</td>\n",
       "      <td>0.0</td>\n",
       "      <td>0.000000</td>\n",
       "      <td>6233.056646</td>\n",
       "      <td>0.000000</td>\n",
       "      <td>0.000000</td>\n",
       "      <td>7358.097953</td>\n",
       "      <td>0.0</td>\n",
       "      <td>0.0</td>\n",
       "      <td>0.0</td>\n",
       "    </tr>\n",
       "    <tr>\n",
       "      <th>x_9998y_33525.d</th>\n",
       "      <td>0.0</td>\n",
       "      <td>0.0</td>\n",
       "      <td>0.0</td>\n",
       "      <td>0.0</td>\n",
       "      <td>0.0</td>\n",
       "      <td>0.0</td>\n",
       "      <td>0.000000</td>\n",
       "      <td>0.0</td>\n",
       "      <td>0.000000</td>\n",
       "      <td>0.000000</td>\n",
       "      <td>...</td>\n",
       "      <td>4859.285391</td>\n",
       "      <td>0.0</td>\n",
       "      <td>30577.889331</td>\n",
       "      <td>0.000000</td>\n",
       "      <td>5902.687838</td>\n",
       "      <td>0.000000</td>\n",
       "      <td>0.000000</td>\n",
       "      <td>0.0</td>\n",
       "      <td>0.0</td>\n",
       "      <td>0.0</td>\n",
       "    </tr>\n",
       "    <tr>\n",
       "      <th>x_9999y_31090.d</th>\n",
       "      <td>0.0</td>\n",
       "      <td>0.0</td>\n",
       "      <td>0.0</td>\n",
       "      <td>0.0</td>\n",
       "      <td>0.0</td>\n",
       "      <td>0.0</td>\n",
       "      <td>0.000000</td>\n",
       "      <td>0.0</td>\n",
       "      <td>0.000000</td>\n",
       "      <td>6363.309933</td>\n",
       "      <td>...</td>\n",
       "      <td>9683.673522</td>\n",
       "      <td>0.0</td>\n",
       "      <td>26202.388618</td>\n",
       "      <td>0.000000</td>\n",
       "      <td>0.000000</td>\n",
       "      <td>0.000000</td>\n",
       "      <td>5821.291537</td>\n",
       "      <td>0.0</td>\n",
       "      <td>0.0</td>\n",
       "      <td>0.0</td>\n",
       "    </tr>\n",
       "  </tbody>\n",
       "</table>\n",
       "<p>24083 rows × 37076 columns</p>\n",
       "</div>"
      ],
      "text/plain": [
       "                  400.021222   400.031222   400.035222   400.037444   \\\n",
       "x_10001y_12260.d          0.0          0.0          0.0          0.0   \n",
       "x_10001y_22958.d          0.0          0.0          0.0          0.0   \n",
       "x_10001y_26724.d          0.0          0.0          0.0          0.0   \n",
       "x_10001y_32225.d          0.0          0.0          0.0          0.0   \n",
       "x_10002y_11750.d          0.0          0.0          0.0          0.0   \n",
       "...                       ...          ...          ...          ...   \n",
       "x_9997y_13470.d           0.0          0.0          0.0          0.0   \n",
       "x_9997y_15638.d           0.0          0.0          0.0          0.0   \n",
       "x_9998y_15774.d           0.0          0.0          0.0          0.0   \n",
       "x_9998y_33525.d           0.0          0.0          0.0          0.0   \n",
       "x_9999y_31090.d           0.0          0.0          0.0          0.0   \n",
       "\n",
       "                  400.039444   400.047444    400.061667   400.065667   \\\n",
       "x_10001y_12260.d          0.0          0.0      0.000000          0.0   \n",
       "x_10001y_22958.d          0.0          0.0      0.000000          0.0   \n",
       "x_10001y_26724.d          0.0          0.0      0.000000          0.0   \n",
       "x_10001y_32225.d          0.0          0.0      0.000000          0.0   \n",
       "x_10002y_11750.d          0.0          0.0      0.000000          0.0   \n",
       "...                       ...          ...           ...          ...   \n",
       "x_9997y_13470.d           0.0          0.0  12189.573986          0.0   \n",
       "x_9997y_15638.d           0.0          0.0      0.000000          0.0   \n",
       "x_9998y_15774.d           0.0          0.0   5067.920716          0.0   \n",
       "x_9998y_33525.d           0.0          0.0      0.000000          0.0   \n",
       "x_9999y_31090.d           0.0          0.0      0.000000          0.0   \n",
       "\n",
       "                  400.067667    400.071667   ...   1599.183333  1599.310000  \\\n",
       "x_10001y_12260.d     0.000000      0.000000  ...  32360.776142          0.0   \n",
       "x_10001y_22958.d     0.000000      0.000000  ...      0.000000          0.0   \n",
       "x_10001y_26724.d     0.000000      0.000000  ...      0.000000          0.0   \n",
       "x_10001y_32225.d     0.000000  13974.740848  ...      0.000000          0.0   \n",
       "x_10002y_11750.d  6234.238502   7263.719717  ...      0.000000          0.0   \n",
       "...                       ...           ...  ...           ...          ...   \n",
       "x_9997y_13470.d   9131.297601  12893.147513  ...      0.000000          0.0   \n",
       "x_9997y_15638.d      0.000000   8324.260723  ...      0.000000          0.0   \n",
       "x_9998y_15774.d   5446.013245   8697.000952  ...      0.000000          0.0   \n",
       "x_9998y_33525.d      0.000000      0.000000  ...   4859.285391          0.0   \n",
       "x_9999y_31090.d      0.000000   6363.309933  ...   9683.673522          0.0   \n",
       "\n",
       "                   1599.410000  1599.536667  1599.603333  1599.663333  \\\n",
       "x_10001y_12260.d  88886.367108     0.000000     0.000000     0.000000   \n",
       "x_10001y_22958.d      0.000000     0.000000     0.000000  3547.701407   \n",
       "x_10001y_26724.d  18124.207614     0.000000     0.000000     0.000000   \n",
       "x_10001y_32225.d  20708.255340     0.000000     0.000000     0.000000   \n",
       "x_10002y_11750.d  36194.562736     0.000000     0.000000     0.000000   \n",
       "...                        ...          ...          ...          ...   \n",
       "x_9997y_13470.d       0.000000     0.000000     0.000000     0.000000   \n",
       "x_9997y_15638.d    8949.593182     0.000000     0.000000     0.000000   \n",
       "x_9998y_15774.d       0.000000  6233.056646     0.000000     0.000000   \n",
       "x_9998y_33525.d   30577.889331     0.000000  5902.687838     0.000000   \n",
       "x_9999y_31090.d   26202.388618     0.000000     0.000000     0.000000   \n",
       "\n",
       "                   1599.763333  1599.830000  1599.890000  1599.956667  \n",
       "x_10001y_12260.d  13264.027001          0.0          0.0          0.0  \n",
       "x_10001y_22958.d      0.000000          0.0          0.0          0.0  \n",
       "x_10001y_26724.d      0.000000          0.0          0.0          0.0  \n",
       "x_10001y_32225.d      0.000000          0.0          0.0          0.0  \n",
       "x_10002y_11750.d      0.000000          0.0          0.0          0.0  \n",
       "...                        ...          ...          ...          ...  \n",
       "x_9997y_13470.d       0.000000          0.0          0.0          0.0  \n",
       "x_9997y_15638.d       0.000000          0.0          0.0          0.0  \n",
       "x_9998y_15774.d    7358.097953          0.0          0.0          0.0  \n",
       "x_9998y_33525.d       0.000000          0.0          0.0          0.0  \n",
       "x_9999y_31090.d    5821.291537          0.0          0.0          0.0  \n",
       "\n",
       "[24083 rows x 37076 columns]"
      ]
     },
     "execution_count": 210,
     "metadata": {},
     "output_type": "execute_result"
    }
   ],
   "source": [
    "sc_data"
   ]
  },
  {
   "cell_type": "code",
   "execution_count": 215,
   "metadata": {
    "collapsed": true
   },
   "outputs": [],
   "source": [
    "sc_data = sc_data.iloc[:,sc_data.astype(bool).sum(axis=0).values>0.15*sc_data.shape[0]]"
   ]
  },
  {
   "cell_type": "code",
   "execution_count": 219,
   "metadata": {},
   "outputs": [
    {
     "name": "stderr",
     "output_type": "stream",
     "text": [
      "  0%|                                                                                         | 0/9438 [00:00<?, ?it/s]<ipython-input-219-e30a3d941871>:4: FutureWarning: The error_bad_lines argument has been deprecated and will be removed in a future version.\n",
      "\n",
      "\n",
      "  annot_df, matched, unmatched = LipidMaps_annotate(sc_data.columns, adducts, 2, site_url)\n",
      "100%|████████████████████████████████████████████████████████████████████████████| 9438/9438 [4:59:19<00:00,  1.90s/it]\n"
     ]
    }
   ],
   "source": [
    "adducts = ['M+H','M+Na','M+K']\n",
    "site_url = 'https://www.lipidmaps.org/rest/moverz/LIPIDS'\n",
    "\n",
    "annot_df, matched, unmatched = LipidMaps_annotate(sc_data.columns, adducts, 2, site_url)\n",
    "\n",
    "annot_df['ppm'] = annot_df['Delta']/annot_df['Input m/z']*1e6"
   ]
  },
  {
   "cell_type": "code",
   "execution_count": 222,
   "metadata": {
    "collapsed": true
   },
   "outputs": [],
   "source": [
    "annot_df.to_pickle('../singlecell_decode_annot.pkl')"
   ]
  },
  {
   "cell_type": "code",
   "execution_count": 223,
   "metadata": {
    "collapsed": true
   },
   "outputs": [],
   "source": [
    "annot_df = pd.read_pickle('../singlecell_decode_annot.pkl')"
   ]
  },
  {
   "cell_type": "code",
   "execution_count": 226,
   "metadata": {
    "collapsed": true
   },
   "outputs": [],
   "source": [
    "sc_data[annot_df['Input m/z'].unique()].to_pickle('../matched_data_singlecell_aligned.pkl')"
   ]
  },
  {
   "cell_type": "code",
   "execution_count": null,
   "metadata": {
    "collapsed": true
   },
   "outputs": [],
   "source": []
  }
 ],
 "metadata": {
  "kernelspec": {
   "display_name": "Python 3",
   "language": "python",
   "name": "python3"
  },
  "language_info": {
   "codemirror_mode": {
    "name": "ipython",
    "version": 3
   },
   "file_extension": ".py",
   "mimetype": "text/x-python",
   "name": "python",
   "nbconvert_exporter": "python",
   "pygments_lexer": "ipython3",
   "version": "3.6.2"
  },
  "toc": {
   "base_numbering": 1,
   "nav_menu": {},
   "number_sections": true,
   "sideBar": true,
   "skip_h1_title": false,
   "title_cell": "Table of Contents",
   "title_sidebar": "Contents",
   "toc_cell": false,
   "toc_position": {},
   "toc_section_display": true,
   "toc_window_display": false
  }
 },
 "nbformat": 4,
 "nbformat_minor": 5
}
