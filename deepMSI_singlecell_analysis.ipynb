{
 "cells": [
  {
   "cell_type": "code",
   "execution_count": 1,
   "metadata": {},
   "outputs": [
    {
     "name": "stdout",
     "output_type": "stream",
     "text": [
      "No module named 'brainpy._c.composition'\n",
      "\n",
      "    ========================\n",
      "          SPIKE\n",
      "    ========================\n",
      "    Version     : 0.99.30\n",
      "    Date        : 22-03-2022\n",
      "    Revision Id : 563\n",
      "    ========================\n",
      "*** zoom3D not loaded ***\n",
      "plugins loaded:\n",
      "Fitter,  Linear_prediction,  Peaks,  bcorr,  fastclean,  gaussenh,  rem_ridge,  sane,  sg,  test,  urQRd, \n",
      "\n",
      "spike.plugins.report() for a short description of each plugins\n",
      "spike.plugins.report('module_name') for complete documentation on one plugin\n",
      "plugins loaded:\n",
      "FTMS_calib,  PhaseMS,  diagonal_2DMS, \n"
     ]
    }
   ],
   "source": [
    "import sys\n",
    "sys.path.append('../')\n",
    "#from pyimzml.ImzMLParser import ImzMLParser, getionimage\n",
    "#from pyImagingMSpec.inMemoryIMS import inMemoryIMS\n",
    "from tqdm import tqdm\n",
    "from matplotlib import pyplot as plt\n",
    "import numpy as np\n",
    "import pandas as pd\n",
    "import pickle\n",
    "import seaborn as sns\n",
    "from scipy.stats import spearmanr, ttest_ind\n",
    "import os, re, glob\n",
    "import anndata\n",
    "import scanpy as sc\n",
    "from sklearn.metrics import accuracy_score\n",
    "sys.path.append('../scms_py')\n",
    "from scMSData import scMSData\n",
    "from analysis import scMSAnalysis\n",
    "from sklearn.preprocessing import LabelEncoder\n",
    "\n",
    "import ipywidgets as widgets\n",
    "from ipywidgets import Box, IntSlider"
   ]
  },
  {
   "cell_type": "code",
   "execution_count": 49,
   "metadata": {},
   "outputs": [
    {
     "data": {
      "text/plain": [
       "2"
      ]
     },
     "execution_count": 49,
     "metadata": {},
     "output_type": "execute_result"
    }
   ],
   "source": [
    "5//2\n"
   ]
  },
  {
   "cell_type": "code",
   "execution_count": 2,
   "metadata": {
    "collapsed": true
   },
   "outputs": [],
   "source": [
    "# with open('deepMSI/peak_data_sc_regional_orig.pkl', 'rb') as handle:\n",
    "#     peak_data_orig = pickle.load(handle)\n",
    "with open('../peak_data_sc_regional_decode.pkl', 'rb') as handle:\n",
    "    peak_data_decode = pickle.load(handle)"
   ]
  },
  {
   "cell_type": "code",
   "execution_count": 3,
   "metadata": {
    "collapsed": true
   },
   "outputs": [],
   "source": [
    "names = list(peak_data_decode.keys())\n",
    "scms_decode = scMSData()\n",
    "scms_orig = scMSData()\n",
    "scms_tiss = scMSData()\n",
    "scms_decode.names = names\n",
    "scms_orig.names = names\n",
    "scms_tiss.names = names\n",
    "batch = [name.split('/')[2] for name in names]"
   ]
  },
  {
   "cell_type": "code",
   "execution_count": 4,
   "metadata": {
    "collapsed": true
   },
   "outputs": [],
   "source": [
    "regions = ['Corpus','Cortex','Hip','Striatum','Thalamus']\n",
    "types = []\n",
    "for name in names:\n",
    "    for region in regions:\n",
    "        if region in name:\n",
    "            types.append(region)"
   ]
  },
  {
   "cell_type": "code",
   "execution_count": 5,
   "metadata": {
    "collapsed": true
   },
   "outputs": [],
   "source": [
    "import umap\n",
    "labels = []\n",
    "for t in types:\n",
    "    labels.append(regions.index(t))\n",
    "labels_batch = []\n",
    "for b in batch:\n",
    "    labels_batch.append(list(set(batch)).index(b))"
   ]
  },
  {
   "cell_type": "code",
   "execution_count": 6,
   "metadata": {
    "collapsed": true
   },
   "outputs": [],
   "source": [
    "metadata = pd.DataFrame({'types':types,'batch':batch},index=names)"
   ]
  },
  {
   "cell_type": "code",
   "execution_count": 7,
   "metadata": {},
   "outputs": [
    {
     "data": {
      "text/plain": [
       "array(['Corpus', 'Cortex', 'Hip', 'Striatum', 'Thalamus'], dtype='<U8')"
      ]
     },
     "execution_count": 7,
     "metadata": {},
     "output_type": "execute_result"
    }
   ],
   "source": [
    "from sklearn.preprocessing import LabelEncoder\n",
    "label_encoder = LabelEncoder()\n",
    "integer_encoded = label_encoder.fit_transform(types)\n",
    "label_encoder.classes_"
   ]
  },
  {
   "cell_type": "code",
   "execution_count": 8,
   "metadata": {
    "collapsed": true
   },
   "outputs": [],
   "source": [
    "annot_df_tiss = pd.read_pickle('Coronal3D_annotation_decoded.pkl')"
   ]
  },
  {
   "cell_type": "code",
   "execution_count": 8,
   "metadata": {},
   "outputs": [
    {
     "name": "stderr",
     "output_type": "stream",
     "text": [
      "/Users/richard/anaconda/envs/scms/lib/python3.8/site-packages/pyimzml/ontology/ontology.py:92: UserWarning: Accession IMS:1000491 found with incorrect name \"line scan left right\". Updating name to \"linescan left right\".\n",
      "  warn(\n"
     ]
    },
    {
     "name": "stdout",
     "output_type": "stream",
     "text": [
      "TODO: convert indices into real world coordinates\n",
      "loaded spectra\n",
      "file loaded\n",
      "TODO: convert indices into real world coordinates\n",
      "loaded spectra\n",
      "file loaded\n"
     ]
    }
   ],
   "source": [
    "scms_decode.loadimzMLData('../peak_data_sc_regional_decode.imzML')\n",
    "# scms_orig.loadimzMLData('deepMSI/peak_data_sc_regional_orig.imzML')\n",
    "scms_tiss.loadimzMLData('../peak_data_sc_regional_decode.imzML')"
   ]
  },
  {
   "cell_type": "code",
   "execution_count": 9,
   "metadata": {},
   "outputs": [
    {
     "data": {
      "text/plain": [
       "E:/20220209_BrainDissociate3D/Slide5_IndividualRegions/Corpus\\x_75033y_15293.d       False\n",
       "E:/20220209_BrainDissociate3D/Slide5_IndividualRegions/Corpus\\x_75050y_16593.d       False\n",
       "E:/20220209_BrainDissociate3D/Slide5_IndividualRegions/Corpus\\x_75154y_15888.d       False\n",
       "E:/20220209_BrainDissociate3D/Slide5_IndividualRegions/Corpus\\x_75227y_13834.d       False\n",
       "E:/20220209_BrainDissociate3D/Slide5_IndividualRegions/Corpus\\x_75305y_14826.d       False\n",
       "                                                                                     ...  \n",
       "E:/20220209_BrainDissociate3D/Slide10_IndividualRegions/Thalamus\\x_45337y_18635.d    False\n",
       "E:/20220209_BrainDissociate3D/Slide10_IndividualRegions/Thalamus\\x_45370y_17881.d    False\n",
       "E:/20220209_BrainDissociate3D/Slide10_IndividualRegions/Thalamus\\x_45385y_19631.d    False\n",
       "E:/20220209_BrainDissociate3D/Slide10_IndividualRegions/Thalamus\\x_45397y_13667.d    False\n",
       "E:/20220209_BrainDissociate3D/Slide10_IndividualRegions/Thalamus\\x_45434y_15527.d    False\n",
       "Name: types, Length: 13566, dtype: bool"
      ]
     },
     "execution_count": 9,
     "metadata": {},
     "output_type": "execute_result"
    }
   ],
   "source": [
    "metadata['types']=='Cortex'"
   ]
  },
  {
   "cell_type": "code",
   "execution_count": 10,
   "metadata": {},
   "outputs": [
    {
     "ename": "AttributeError",
     "evalue": "'scMSData' object has no attribute 'intens_mtx'",
     "output_type": "error",
     "traceback": [
      "\u001b[0;31m---------------------------------------------------------------------------\u001b[0m",
      "\u001b[0;31mAttributeError\u001b[0m                            Traceback (most recent call last)",
      "\u001b[0;32m/var/folders/gw/5vpnntfj7dg102qjxmy0d4yh0000gn/T/ipykernel_35942/4106761485.py\u001b[0m in \u001b[0;36m<module>\u001b[0;34m\u001b[0m\n\u001b[0;32m----> 1\u001b[0;31m \u001b[0mscms_decode\u001b[0m\u001b[0;34m.\u001b[0m\u001b[0mintens_mtx\u001b[0m\u001b[0;34m[\u001b[0m\u001b[0mscms_decode\u001b[0m\u001b[0;34m.\u001b[0m\u001b[0mintens_mtx\u001b[0m\u001b[0;34m.\u001b[0m\u001b[0mcolumns\u001b[0m\u001b[0;34m[\u001b[0m\u001b[0mscms_decode\u001b[0m\u001b[0;34m.\u001b[0m\u001b[0mintens_mtx\u001b[0m\u001b[0;34m.\u001b[0m\u001b[0mcolumns\u001b[0m\u001b[0;34m>\u001b[0m\u001b[0;36m734\u001b[0m\u001b[0;34m]\u001b[0m\u001b[0;34m]\u001b[0m\u001b[0;34m\u001b[0m\u001b[0;34m\u001b[0m\u001b[0m\n\u001b[0m",
      "\u001b[0;31mAttributeError\u001b[0m: 'scMSData' object has no attribute 'intens_mtx'"
     ]
    }
   ],
   "source": [
    "scms_decode.intens_mtx[scms_decode.intens_mtx.columns[scms_decode.intens_mtx.columns>734]]"
   ]
  },
  {
   "cell_type": "code",
   "execution_count": 11,
   "metadata": {},
   "outputs": [
    {
     "ename": "AttributeError",
     "evalue": "'scMSData' object has no attribute 'intens_mtx'",
     "output_type": "error",
     "traceback": [
      "\u001b[0;31m---------------------------------------------------------------------------\u001b[0m",
      "\u001b[0;31mAttributeError\u001b[0m                            Traceback (most recent call last)",
      "\u001b[0;32m/var/folders/gw/5vpnntfj7dg102qjxmy0d4yh0000gn/T/ipykernel_35942/1825634261.py\u001b[0m in \u001b[0;36m<module>\u001b[0;34m\u001b[0m\n\u001b[1;32m      1\u001b[0m \u001b[0mplt\u001b[0m\u001b[0;34m.\u001b[0m\u001b[0mfigure\u001b[0m\u001b[0;34m(\u001b[0m\u001b[0;34m)\u001b[0m\u001b[0;34m\u001b[0m\u001b[0;34m\u001b[0m\u001b[0m\n\u001b[0;32m----> 2\u001b[0;31m \u001b[0mplt\u001b[0m\u001b[0;34m.\u001b[0m\u001b[0mplot\u001b[0m\u001b[0;34m(\u001b[0m\u001b[0mscms_decode\u001b[0m\u001b[0;34m.\u001b[0m\u001b[0mintens_mtx\u001b[0m\u001b[0;34m.\u001b[0m\u001b[0mcolumns\u001b[0m\u001b[0;34m,\u001b[0m\u001b[0mscms_decode\u001b[0m\u001b[0;34m.\u001b[0m\u001b[0mintens_mtx\u001b[0m\u001b[0;34m[\u001b[0m\u001b[0mmetadata\u001b[0m\u001b[0;34m[\u001b[0m\u001b[0;34m'types'\u001b[0m\u001b[0;34m]\u001b[0m\u001b[0;34m==\u001b[0m\u001b[0;34m'Hip'\u001b[0m\u001b[0;34m]\u001b[0m\u001b[0;34m.\u001b[0m\u001b[0mvalues\u001b[0m\u001b[0;34m[\u001b[0m\u001b[0;36m548\u001b[0m\u001b[0;34m]\u001b[0m\u001b[0;34m)\u001b[0m\u001b[0;34m\u001b[0m\u001b[0;34m\u001b[0m\u001b[0m\n\u001b[0m",
      "\u001b[0;31mAttributeError\u001b[0m: 'scMSData' object has no attribute 'intens_mtx'"
     ]
    },
    {
     "data": {
      "text/plain": [
       "<Figure size 432x288 with 0 Axes>"
      ]
     },
     "metadata": {},
     "output_type": "display_data"
    }
   ],
   "source": [
    "plt.figure()\n",
    "plt.plot(scms_decode.intens_mtx.columns,scms_decode.intens_mtx[metadata['types']=='Hip'].values[548])"
   ]
  },
  {
   "cell_type": "code",
   "execution_count": 10,
   "metadata": {
    "collapsed": true
   },
   "outputs": [],
   "source": [
    "# scms_orig.getIntensMtxData(ppm=2, feature_n=0.15, mz_range=(400,1600))"
   ]
  },
  {
   "cell_type": "code",
   "execution_count": 14,
   "metadata": {},
   "outputs": [
    {
     "name": "stdout",
     "output_type": "stream",
     "text": [
      "number of mass bins 168602\n"
     ]
    },
    {
     "name": "stderr",
     "output_type": "stream",
     "text": [
      "100%|█████████████████████████████████| 168602/168602 [00:18<00:00, 9362.99it/s]\n"
     ]
    }
   ],
   "source": [
    "scms_decode.getIntensMtxData(ppm=3, feature_n=0.1, mz_range=(400,1100))"
   ]
  },
  {
   "cell_type": "code",
   "execution_count": 15,
   "metadata": {
    "collapsed": true
   },
   "outputs": [],
   "source": [
    "sc_decode_data=scms_decode.intens_mtx.replace(-1,0)"
   ]
  },
  {
   "cell_type": "code",
   "execution_count": 120,
   "metadata": {},
   "outputs": [
    {
     "name": "stdout",
     "output_type": "stream",
     "text": [
      "filtered intensity matrix with shape (13563, 6812)\n"
     ]
    }
   ],
   "source": [
    "sc_decode = scMSAnalysis(metadata)\n",
    "sc_decode.preprocessing(sc_decode_data,norm_method='rms',feat_drop_rate=0.05,cell_drop_rate=0.05)"
   ]
  },
  {
   "cell_type": "code",
   "execution_count": 121,
   "metadata": {
    "collapsed": true
   },
   "outputs": [],
   "source": [
    "sc_decode.get_labels(['types','batch'])"
   ]
  },
  {
   "cell_type": "code",
   "execution_count": 122,
   "metadata": {},
   "outputs": [
    {
     "name": "stdout",
     "output_type": "stream",
     "text": [
      "computing neighbors..\n",
      "performing umap...\n",
      "performing clustering...\n"
     ]
    },
    {
     "name": "stderr",
     "output_type": "stream",
     "text": [
      "/Users/richard/anaconda/envs/scms/lib/python3.8/site-packages/anndata/_core/anndata.py:1220: FutureWarning: The `inplace` parameter in pandas.Categorical.reorder_categories is deprecated and will be removed in a future version. Removing unused categories will always return a new Categorical object.\n",
      "  c.reorder_categories(natsorted(c.categories), inplace=True)\n",
      "... storing 'types' as categorical\n",
      "/Users/richard/anaconda/envs/scms/lib/python3.8/site-packages/anndata/_core/anndata.py:1220: FutureWarning: The `inplace` parameter in pandas.Categorical.reorder_categories is deprecated and will be removed in a future version. Removing unused categories will always return a new Categorical object.\n",
      "  c.reorder_categories(natsorted(c.categories), inplace=True)\n",
      "... storing 'batch' as categorical\n"
     ]
    }
   ],
   "source": [
    "#process(adata_orig, n_pcs=30, min_dist=0.7, resolution = 0.15)\n",
    "sc_decode.analyze(n_neighbors=30, n_pcs=40, min_dist=0.5,\n",
    "                  resolution = 0.25,categories=['types','leiden'])"
   ]
  },
  {
   "cell_type": "code",
   "execution_count": 98,
   "metadata": {
    "collapsed": true
   },
   "outputs": [],
   "source": [
    "label = 'types'\n",
    "show_feat = widgets.interactive(sc_decode.show_featrank, label = label, region = sc_decode.label_class[label], \n",
    "                                rank_by=sc_decode.feat_rank[label].keys(), num_select=8000,\n",
    "                                num_show=IntSlider(min=0, max=8000, step=20, value=0));"
   ]
  },
  {
   "cell_type": "code",
   "execution_count": 99,
   "metadata": {},
   "outputs": [
    {
     "data": {
      "application/vnd.jupyter.widget-view+json": {
       "model_id": "9f406937bf624d4c9127a99acd41b469",
       "version_major": 2,
       "version_minor": 0
      },
      "text/plain": [
       "interactive(children=(Text(value='types', description='label'), Dropdown(description='region', options=('Corpu…"
      ]
     },
     "metadata": {},
     "output_type": "display_data"
    }
   ],
   "source": [
    "show_feat"
   ]
  },
  {
   "cell_type": "code",
   "execution_count": 77,
   "metadata": {
    "collapsed": true
   },
   "outputs": [],
   "source": [
    "feat_dict = {'Corpus':['796.6226','694.5831','495.8252'],\n",
    "            'Cortex':['573.5085','567.4671','827.7746'],\n",
    "            'Hip':['508.1432','511.1501','605.4745'],\n",
    "            'Striatum':['468.1804','663.0444','491.3288'],\n",
    "            'Thalamus':['488.3164','534.0306','554.265']}\n",
    "# feat_dict = {'Corpus':['529.5635','694.5831','495.8252','429.776','842.3544'],\n",
    "#             'Cortex':['716.0154','573.5085','567.4671','551.7268','827.7746'],\n",
    "#             'Hip':['424.8109','508.1432','511.1501','475.8933','605.4745'],\n",
    "#             'Striatum':['416.9825','468.1804','663.0444','795.8344','491.3288'],\n",
    "#             'Thalamus':['412.9987','488.3164','534.0306','456.9225','468.3958']}"
   ]
  },
  {
   "cell_type": "code",
   "execution_count": 78,
   "metadata": {},
   "outputs": [
    {
     "ename": "NameError",
     "evalue": "name 'matched' is not defined",
     "output_type": "error",
     "traceback": [
      "\u001b[0;31m---------------------------------------------------------------------------\u001b[0m",
      "\u001b[0;31mNameError\u001b[0m                                 Traceback (most recent call last)",
      "\u001b[0;32m/var/folders/gw/5vpnntfj7dg102qjxmy0d4yh0000gn/T/ipykernel_56244/2871655706.py\u001b[0m in \u001b[0;36m<module>\u001b[0;34m\u001b[0m\n\u001b[0;32m----> 1\u001b[0;31m \u001b[0mmatched\u001b[0m\u001b[0;34m\u001b[0m\u001b[0;34m\u001b[0m\u001b[0m\n\u001b[0m",
      "\u001b[0;31mNameError\u001b[0m: name 'matched' is not defined"
     ]
    }
   ],
   "source": [
    "matched"
   ]
  },
  {
   "cell_type": "code",
   "execution_count": 100,
   "metadata": {},
   "outputs": [
    {
     "data": {
      "image/png": "[encoded data removed]",
      "text/plain": [
       "<Figure size 360x288 with 1 Axes>"
      ]
     },
     "metadata": {
      "needs_background": "light"
     },
     "output_type": "display_data"
    },
    {
     "data": {
      "text/plain": [
       "<Figure size 432x288 with 0 Axes>"
      ]
     },
     "metadata": {},
     "output_type": "display_data"
    }
   ],
   "source": [
    "fig,axes = plt.subplots(1,1,figsize=(5,4))\n",
    "axes.scatter(show_feat.result['logfoldchanges'],show_feat.result['pvals_adj'],s=4,c='k',edgecolors='k')\n",
    "axes.axvline(0,linestyle='--',c='k',alpha=0.5)\n",
    "axes.spines['right'].set_visible(False)\n",
    "axes.spines['top'].set_visible(False)\n",
    "plt.xlabel('log2(treated/nontreated)')\n",
    "plt.ylabel('-log10(p-values)')\n",
    "plt.xlim([-6,6])\n",
    "plt.show()\n",
    "plt.savefig('figures/volcano_str.pdf')"
   ]
  },
  {
   "cell_type": "code",
   "execution_count": 131,
   "metadata": {
    "collapsed": true
   },
   "outputs": [],
   "source": [
    "show_featdist = widgets.interactive(sc_decode.show_featdist, features=show_feat.result['feature names'].astype(str),\n",
    "                                 embed_method=sc_decode.adata.obsm.keys(),size=(0.05,1,0.1));"
   ]
  },
  {
   "cell_type": "code",
   "execution_count": 132,
   "metadata": {},
   "outputs": [
    {
     "data": {
      "application/vnd.jupyter.widget-view+json": {
       "model_id": "988edbf5ed8a4313b198f8aaba836341",
       "version_major": 2,
       "version_minor": 0
      },
      "text/plain": [
       "interactive(children=(Dropdown(description='features', options=('440.3405', '499.0209', '522.0116', '546.0058'…"
      ]
     },
     "metadata": {},
     "output_type": "display_data"
    }
   ],
   "source": [
    "show_featdist"
   ]
  },
  {
   "cell_type": "code",
   "execution_count": 30,
   "metadata": {
    "collapsed": true
   },
   "outputs": [],
   "source": [
    "# sc_decode.adata.layers['scaled'] = sc.pp.scale(sc_decode.adata, copy=True).X\n",
    "# sc.pl.rank_genes_groups_matrixplot(sc_decode.adata, n_genes=5,swap_axes=True,groupby='leiden',\n",
    "#                                 layer='scaled',cmap='coolwarm',figsize=(4,6))"
   ]
  },
  {
   "cell_type": "code",
   "execution_count": null,
   "metadata": {
    "collapsed": true
   },
   "outputs": [],
   "source": [
    "# with open('../singlecell_peak_data_decode_use.pkl', 'rb') as handle:\n",
    "#     peak_data_decode = pickle.load(handle)\n",
    "# cell_names = list(peak_data_decode.keys())\n",
    "# cell_info = pd.DataFrame({'batch':[cell.split('/')[3] for cell in cell_names],\n",
    "#                           'name':[cell.split('\\\\')[1] for cell in cell_names]})\n",
    "# #cell_info.to_pickle('../cell_info.pkl')"
   ]
  },
  {
   "cell_type": "code",
   "execution_count": 123,
   "metadata": {
    "collapsed": true
   },
   "outputs": [],
   "source": [
    "show_embed = widgets.interactive(sc_decode.show_cellEmbed, label=sc_decode.adata.obs.columns,\n",
    "                                 embed_method=sc_decode.adata.obsm.keys(),size=(0.05,1,0.1));"
   ]
  },
  {
   "cell_type": "code",
   "execution_count": 129,
   "metadata": {},
   "outputs": [
    {
     "data": {
      "application/vnd.jupyter.widget-view+json": {
       "model_id": "68fc2fe4250d4c6aba01d794b6c9245d",
       "version_major": 2,
       "version_minor": 0
      },
      "text/plain": [
       "interactive(children=(Dropdown(description='label', options=('types', 'batch', 'leiden'), value='types'), Drop…"
      ]
     },
     "metadata": {},
     "output_type": "display_data"
    }
   ],
   "source": [
    "show_embed"
   ]
  },
  {
   "cell_type": "code",
   "execution_count": 130,
   "metadata": {},
   "outputs": [
    {
     "data": {
      "text/plain": [
       "<Figure size 432x288 with 0 Axes>"
      ]
     },
     "metadata": {},
     "output_type": "display_data"
    }
   ],
   "source": [
    "plt.savefig('figures/sc_deepmsi_regions.pdf')"
   ]
  },
  {
   "cell_type": "code",
   "execution_count": 63,
   "metadata": {
    "collapsed": true
   },
   "outputs": [],
   "source": [
    "show_embed_label = widgets.interactive(sc_decode.show_cellEmbed_label,label=show_embed.kwargs['label'],\n",
    "                                 classes=sc_decode.label_class[show_embed.kwargs['label']],embed_method=sc_decode.adata.obsm.keys(),size=(0.05,1,0.1));\n"
   ]
  },
  {
   "cell_type": "code",
   "execution_count": 64,
   "metadata": {},
   "outputs": [
    {
     "data": {
      "application/vnd.jupyter.widget-view+json": {
       "model_id": "ce19dd650c2446ec8543017930b46248",
       "version_major": 2,
       "version_minor": 0
      },
      "text/plain": [
       "interactive(children=(Text(value='types', description='label'), Dropdown(description='classes', options=('Corp…"
      ]
     },
     "metadata": {},
     "output_type": "display_data"
    }
   ],
   "source": [
    "show_embed_label"
   ]
  },
  {
   "cell_type": "code",
   "execution_count": 176,
   "metadata": {},
   "outputs": [
    {
     "ename": "NameError",
     "evalue": "name 'feat_dict' is not defined",
     "output_type": "error",
     "traceback": [
      "\u001b[0;31m---------------------------------------------------------------------------\u001b[0m",
      "\u001b[0;31mNameError\u001b[0m                                 Traceback (most recent call last)",
      "\u001b[0;32m/var/folders/gw/5vpnntfj7dg102qjxmy0d4yh0000gn/T/ipykernel_81375/3355923545.py\u001b[0m in \u001b[0;36m<module>\u001b[0;34m\u001b[0m\n\u001b[1;32m      1\u001b[0m \u001b[0msc_decode\u001b[0m\u001b[0;34m.\u001b[0m\u001b[0madata\u001b[0m\u001b[0;34m.\u001b[0m\u001b[0mlayers\u001b[0m\u001b[0;34m[\u001b[0m\u001b[0;34m'scaled'\u001b[0m\u001b[0;34m]\u001b[0m \u001b[0;34m=\u001b[0m \u001b[0msc\u001b[0m\u001b[0;34m.\u001b[0m\u001b[0mpp\u001b[0m\u001b[0;34m.\u001b[0m\u001b[0mscale\u001b[0m\u001b[0;34m(\u001b[0m\u001b[0msc_decode\u001b[0m\u001b[0;34m.\u001b[0m\u001b[0madata\u001b[0m\u001b[0;34m,\u001b[0m \u001b[0mcopy\u001b[0m\u001b[0;34m=\u001b[0m\u001b[0;32mTrue\u001b[0m\u001b[0;34m,\u001b[0m \u001b[0mzero_center\u001b[0m\u001b[0;34m=\u001b[0m\u001b[0;32mTrue\u001b[0m\u001b[0;34m)\u001b[0m\u001b[0;34m.\u001b[0m\u001b[0mX\u001b[0m\u001b[0;34m\u001b[0m\u001b[0;34m\u001b[0m\u001b[0m\n\u001b[0;32m----> 2\u001b[0;31m sc.pl.heatmap(sc_decode.adata, feat_dict,groupby='leiden', use_raw=False,vmax=2,dendrogram=True,\n\u001b[0m\u001b[1;32m      3\u001b[0m                                    cmap='RdBu_r', layer='scaled')\n",
      "\u001b[0;31mNameError\u001b[0m: name 'feat_dict' is not defined"
     ]
    }
   ],
   "source": [
    "sc_decode.adata.layers['scaled'] = sc.pp.scale(sc_decode.adata, copy=True, zero_center=True).X\n",
    "sc.pl.heatmap(sc_decode.adata, feat_dict,groupby='leiden', use_raw=False,vmax=2,dendrogram=True,\n",
    "                                   cmap='RdBu_r', layer='scaled')"
   ]
  },
  {
   "cell_type": "code",
   "execution_count": null,
   "metadata": {},
   "outputs": [
    {
     "data": {
      "text/plain": [
       "array([796.6226, 694.5831, 495.8252, 573.5085, 567.4671, 827.7746,\n",
       "       508.1432, 511.1501, 605.4745, 468.1804, 663.0444, 491.3288,\n",
       "       488.3164, 534.0306, 554.265 ])"
      ]
     },
     "execution_count": 990,
     "metadata": {},
     "output_type": "execute_result"
    }
   ],
   "source": [
    "np.array(sum([val for val in feat_dict.values()],[])).astype(float)"
   ]
  },
  {
   "cell_type": "code",
   "execution_count": 985,
   "metadata": {},
   "outputs": [
    {
     "name": "stderr",
     "output_type": "stream",
     "text": [
      "  0%|                                                                                                  | 0/15 [00:00<?, ?it/s]/var/folders/gw/5vpnntfj7dg102qjxmy0d4yh0000gn/T/ipykernel_19823/67124110.py:4: FutureWarning: The error_bad_lines argument has been deprecated and will be removed in a future version.\n",
      "\n",
      "\n",
      "  annot_df, matched, unmatched = LipidMaps_annotate(np.array(sum([val for val in feat_dict.values()],[])).astype(float),\n",
      "100%|█████████████████████████████████████████████████████████████████████████████████████████| 15/15 [00:33<00:00,  2.21s/it]\n"
     ]
    }
   ],
   "source": [
    "adducts = ['M+H','M+Na','M+K']\n",
    "site_url = 'https://www.lipidmaps.org/rest/moverz/LIPIDS'\n",
    "\n",
    "annot_df, matched, unmatched = LipidMaps_annotate(np.array(sum([val for val in feat_dict.values()],[])).astype(float),\n",
    "                                                  adducts, 10, site_url)"
   ]
  },
  {
   "cell_type": "code",
   "execution_count": 84,
   "metadata": {
    "collapsed": true
   },
   "outputs": [],
   "source": [
    "type_count = []\n",
    "for i in sc_decode.metadata['leiden'].unique():\n",
    "    cells = sc_decode.metadata[sc_decode.metadata['leiden']==i]['types']\n",
    "    type_count.append(cells.value_counts()/cells.shape[0])"
   ]
  },
  {
   "cell_type": "code",
   "execution_count": 85,
   "metadata": {},
   "outputs": [
    {
     "data": {
      "text/plain": [
       "<seaborn.axisgrid.FacetGrid at 0x7fcbd6359340>"
      ]
     },
     "execution_count": 85,
     "metadata": {},
     "output_type": "execute_result"
    },
    {
     "data": {
      "image/png": "[encoded data removed]",
      "text/plain": [
       "<Figure size 444.75x360 with 1 Axes>"
      ]
     },
     "metadata": {
      "needs_background": "light"
     },
     "output_type": "display_data"
    }
   ],
   "source": [
    "sns.displot(x='leiden',hue='types',data=sc_decode.metadata,stat='density',multiple='stack')"
   ]
  },
  {
   "cell_type": "code",
   "execution_count": 12,
   "metadata": {
    "collapsed": true
   },
   "outputs": [],
   "source": [
    "tiss_mz_use = np.load('../mz_use_imzml.npy')"
   ]
  },
  {
   "cell_type": "code",
   "execution_count": 32,
   "metadata": {},
   "outputs": [
    {
     "name": "stdout",
     "output_type": "stream",
     "text": [
      "number of mass bins 1156\n"
     ]
    },
    {
     "name": "stderr",
     "output_type": "stream",
     "text": [
      "100%|█████████████████████████████████████| 1156/1156 [00:00<00:00, 6977.23it/s]\n"
     ]
    }
   ],
   "source": [
    "scms_tiss.getIntensMtxData(ppm=5, feature_n=0.05, mz_range=(300,1600),mz_features=tiss_mz_use)\n",
    "#annot_df_tiss[annot_df_tiss['Input m/z'].isin(scms_tiss.intens_mtx.columns.unique())].to_pickle('Coronal3D_annotation_decoded_shared.pkl')\n",
    "norm_factor = sc_decode_data.sum(1).values.reshape(-1,1)\n",
    "# regional_fc.sort_values(by='cortex',ascending=False)\n",
    "\n",
    "# matched_mz = annot_df_tiss[annot_df_tiss['Input m/z']==regional_fc.sort_values(by='striatum'\n",
    "#                                                                                ,ascending=False).index[2]]['Input m/z']\n",
    "# df = pd.DataFrame(scms_tiss.intens_mtx[matched_mz.unique()[0]].values,\n",
    "#                   columns=[matched_mz.unique()[0]])\n",
    "# df['types'] = metadata['types'].values\n",
    "\n",
    "# plt.figure()\n",
    "# sns.barplot(y=matched_mz.unique()[0],x='types',data=df)\n",
    "# plt.show()"
   ]
  },
  {
   "cell_type": "code",
   "execution_count": 33,
   "metadata": {},
   "outputs": [
    {
     "name": "stdout",
     "output_type": "stream",
     "text": [
      "filtered intensity matrix with shape (13566, 211)\n"
     ]
    }
   ],
   "source": [
    "sc_decode_tiss = scMSAnalysis(metadata)\n",
    "sc_decode_tiss.preprocessing(scms_tiss.intens_mtx,\n",
    "                            norm_method='rms',feat_drop_rate=0,cell_drop_rate=0)"
   ]
  },
  {
   "cell_type": "code",
   "execution_count": 24,
   "metadata": {
    "scrolled": false
   },
   "outputs": [
    {
     "data": {
      "text/plain": [
       "(array([ 5.,  5.,  0.,  0.,  3.,  2.,  4.,  3.,  3., 11., 10., 16., 11.,\n",
       "        10., 11., 10.,  6., 13., 20., 18., 22., 33., 17., 27., 16., 26.,\n",
       "        14.,  8.,  9.,  7., 11.,  3., 12.,  3.,  6.,  2.,  3.,  3.,  1.,\n",
       "         2.]),\n",
       " array([ 400.3409  ,  416.309085,  432.27727 ,  448.245455,  464.21364 ,\n",
       "         480.181825,  496.15001 ,  512.118195,  528.08638 ,  544.054565,\n",
       "         560.02275 ,  575.990935,  591.95912 ,  607.927305,  623.89549 ,\n",
       "         639.863675,  655.83186 ,  671.800045,  687.76823 ,  703.736415,\n",
       "         719.7046  ,  735.672785,  751.64097 ,  767.609155,  783.57734 ,\n",
       "         799.545525,  815.51371 ,  831.481895,  847.45008 ,  863.418265,\n",
       "         879.38645 ,  895.354635,  911.32282 ,  927.291005,  943.25919 ,\n",
       "         959.227375,  975.19556 ,  991.163745, 1007.13193 , 1023.100115,\n",
       "        1039.0683  ]),\n",
       " <BarContainer object of 40 artists>)"
      ]
     },
     "execution_count": 24,
     "metadata": {},
     "output_type": "execute_result"
    },
    {
     "data": {
      "image/png": "[encoded data removed]",
      "text/plain": [
       "<Figure size 432x288 with 1 Axes>"
      ]
     },
     "metadata": {
      "needs_background": "light"
     },
     "output_type": "display_data"
    }
   ],
   "source": [
    "plt.hist(sc_decode_tiss.intens_mtx.columns.astype(float),bins=40)"
   ]
  },
  {
   "cell_type": "code",
   "execution_count": 18,
   "metadata": {},
   "outputs": [
    {
     "ename": "NameError",
     "evalue": "name 'regional_avg' is not defined",
     "output_type": "error",
     "traceback": [
      "\u001b[0;31m---------------------------------------------------------------------------\u001b[0m",
      "\u001b[0;31mNameError\u001b[0m                                 Traceback (most recent call last)",
      "\u001b[0;32m/var/folders/gw/5vpnntfj7dg102qjxmy0d4yh0000gn/T/ipykernel_35942/613750019.py\u001b[0m in \u001b[0;36m<module>\u001b[0;34m\u001b[0m\n\u001b[0;32m----> 1\u001b[0;31m \u001b[0mregional_avg\u001b[0m\u001b[0;34m.\u001b[0m\u001b[0mloc\u001b[0m\u001b[0;34m[\u001b[0m\u001b[0msc_decode_tiss\u001b[0m\u001b[0;34m.\u001b[0m\u001b[0mintens_mtx\u001b[0m\u001b[0;34m.\u001b[0m\u001b[0mcolumns\u001b[0m\u001b[0;34m]\u001b[0m\u001b[0;34m\u001b[0m\u001b[0;34m\u001b[0m\u001b[0m\n\u001b[0m",
      "\u001b[0;31mNameError\u001b[0m: name 'regional_avg' is not defined"
     ]
    }
   ],
   "source": [
    "regional_avg.loc[sc_decode_tiss.intens_mtx.columns]"
   ]
  },
  {
   "cell_type": "code",
   "execution_count": 248,
   "metadata": {},
   "outputs": [
    {
     "data": {
      "text/plain": [
       "SpearmanrResult(correlation=0.018470383695109564, pvalue=0.7175467650454372)"
      ]
     },
     "execution_count": 248,
     "metadata": {},
     "output_type": "execute_result"
    },
    {
     "data": {
      "image/png": "[encoded data removed]",
      "text/plain": [
       "<Figure size 288x288 with 1 Axes>"
      ]
     },
     "metadata": {
      "needs_background": "light"
     },
     "output_type": "display_data"
    }
   ],
   "source": [
    "plt.figure(figsize=(4,4))\n",
    "x = np.log10(regional_avg.loc[sc_decode_tiss.intens_mtx.columns]['hippocampal region'])\n",
    "y = np.log10(sc_decode_tiss.intens_mtx[sc_decode_tiss.metadata['types']=='Hip'].mean())\n",
    "plt.scatter(x,y)\n",
    "spearmanr(x,y)"
   ]
  },
  {
   "cell_type": "code",
   "execution_count": 25,
   "metadata": {},
   "outputs": [
    {
     "name": "stdout",
     "output_type": "stream",
     "text": [
      "computing neighbors..\n",
      "performing umap...\n",
      "performing clustering...\n"
     ]
    },
    {
     "name": "stderr",
     "output_type": "stream",
     "text": [
      "/Users/richard/anaconda/envs/scms/lib/python3.8/site-packages/anndata/_core/anndata.py:1220: FutureWarning: The `inplace` parameter in pandas.Categorical.reorder_categories is deprecated and will be removed in a future version. Removing unused categories will always return a new Categorical object.\n",
      "  c.reorder_categories(natsorted(c.categories), inplace=True)\n",
      "... storing 'types' as categorical\n",
      "/Users/richard/anaconda/envs/scms/lib/python3.8/site-packages/anndata/_core/anndata.py:1220: FutureWarning: The `inplace` parameter in pandas.Categorical.reorder_categories is deprecated and will be removed in a future version. Removing unused categories will always return a new Categorical object.\n",
      "  c.reorder_categories(natsorted(c.categories), inplace=True)\n",
      "... storing 'batch' as categorical\n",
      "/Users/richard/anaconda/envs/scms/lib/python3.8/site-packages/scanpy/tools/_rank_genes_groups.py:420: RuntimeWarning: invalid value encountered in log2\n",
      "  self.stats[group_name, 'logfoldchanges'] = np.log2(\n"
     ]
    }
   ],
   "source": [
    "sc_decode_tiss.get_labels(['types','batch'])\n",
    "sc_decode_tiss.analyze(n_neighbors=50, n_pcs=30, min_dist=1,\n",
    "                  resolution = 0.25,categories=['types','leiden'])"
   ]
  },
  {
   "cell_type": "code",
   "execution_count": 26,
   "metadata": {},
   "outputs": [
    {
     "data": {
      "application/vnd.jupyter.widget-view+json": {
       "model_id": "ab2a2049bbda4cbab0116814dbd53ea1",
       "version_major": 2,
       "version_minor": 0
      },
      "text/plain": [
       "interactive(children=(Dropdown(description='label', options=('types', 'batch', 'leiden'), value='types'), Drop…"
      ]
     },
     "metadata": {},
     "output_type": "display_data"
    }
   ],
   "source": [
    "show_embed = widgets.interactive(sc_decode_tiss.show_cellEmbed, label=sc_decode_tiss.adata.obs.columns,\n",
    "                                 embed_method=sc_decode_tiss.adata.obsm.keys(),size=(0.05,1,0.1));\n",
    "show_embed"
   ]
  },
  {
   "cell_type": "code",
   "execution_count": 27,
   "metadata": {},
   "outputs": [
    {
     "name": "stdout",
     "output_type": "stream",
     "text": [
      "filtered intensity matrix with shape (2692, 386)\n"
     ]
    }
   ],
   "source": [
    "sc_decode_hip = scMSAnalysis(metadata=metadata[metadata['types']=='Hip'])\n",
    "sc_decode_hip.preprocessing((scms_tiss.intens_mtx)[metadata['types']=='Hip'],\n",
    "                            norm_method='rms',feat_drop_rate=0,cell_drop_rate=0)"
   ]
  },
  {
   "cell_type": "code",
   "execution_count": 28,
   "metadata": {},
   "outputs": [
    {
     "name": "stdout",
     "output_type": "stream",
     "text": [
      "computing neighbors..\n",
      "performing umap...\n",
      "performing clustering...\n"
     ]
    }
   ],
   "source": [
    "sc_decode_hip.analyze(n_neighbors=30, n_pcs=10, min_dist=0.9, resolution = 0.2, categories=['leiden'])"
   ]
  },
  {
   "cell_type": "code",
   "execution_count": 29,
   "metadata": {
    "collapsed": true
   },
   "outputs": [],
   "source": [
    "sc_decode_hip.get_labels(['batch','leiden'])"
   ]
  },
  {
   "cell_type": "code",
   "execution_count": 30,
   "metadata": {},
   "outputs": [
    {
     "data": {
      "application/vnd.jupyter.widget-view+json": {
       "model_id": "9c5b1d9d7218446ca169f340a05fcacf",
       "version_major": 2,
       "version_minor": 0
      },
      "text/plain": [
       "interactive(children=(Dropdown(description='label', options=('leiden', 'batch'), value='leiden'), Dropdown(des…"
      ]
     },
     "metadata": {},
     "output_type": "display_data"
    }
   ],
   "source": [
    "show_embed = widgets.interactive(sc_decode_hip.show_cellEmbed, label=sc_decode_hip.adata.obs.columns,\n",
    "                                 embed_method=sc_decode_hip.adata.obsm.keys(),size=(1,3,0.1));\n",
    "show_embed"
   ]
  },
  {
   "cell_type": "code",
   "execution_count": 1360,
   "metadata": {
    "collapsed": true
   },
   "outputs": [],
   "source": [
    "plt.savefig('figures/tiss_sc_hip_cluster.pdf')"
   ]
  },
  {
   "cell_type": "code",
   "execution_count": 31,
   "metadata": {},
   "outputs": [
    {
     "data": {
      "application/vnd.jupyter.widget-view+json": {
       "model_id": "d942fd0d994347f2af11a76eebb18165",
       "version_major": 2,
       "version_minor": 0
      },
      "text/plain": [
       "interactive(children=(Text(value='leiden', description='label'), Dropdown(description='region', options=('0', …"
      ]
     },
     "metadata": {},
     "output_type": "display_data"
    }
   ],
   "source": [
    "label = 'leiden'\n",
    "show_feat = widgets.interactive(sc_decode_hip.show_featrank, label = label, region = sc_decode_hip.label_class[label], \n",
    "                                rank_by=sc_decode_hip.feat_rank[label].keys(), num_select=8000,\n",
    "                                num_show=IntSlider(min=0, max=8000, step=20, value=0));\n",
    "show_feat"
   ]
  },
  {
   "cell_type": "code",
   "execution_count": 251,
   "metadata": {},
   "outputs": [
    {
     "data": {
      "text/html": [
       "<div>\n",
       "<style scoped>\n",
       "    .dataframe tbody tr th:only-of-type {\n",
       "        vertical-align: middle;\n",
       "    }\n",
       "\n",
       "    .dataframe tbody tr th {\n",
       "        vertical-align: top;\n",
       "    }\n",
       "\n",
       "    .dataframe thead th {\n",
       "        text-align: right;\n",
       "    }\n",
       "</style>\n",
       "<table border=\"1\" class=\"dataframe\">\n",
       "  <thead>\n",
       "    <tr style=\"text-align: right;\">\n",
       "      <th></th>\n",
       "      <th>basal forebrain</th>\n",
       "      <th>corpus collusum</th>\n",
       "      <th>cortex</th>\n",
       "      <th>corticofugal pathway</th>\n",
       "      <th>hippocampal region</th>\n",
       "      <th>hypothalamus</th>\n",
       "      <th>striatum</th>\n",
       "      <th>thalamus</th>\n",
       "      <th>brainstem</th>\n",
       "      <th>superior colliculus</th>\n",
       "      <th>septal region</th>\n",
       "    </tr>\n",
       "  </thead>\n",
       "  <tbody>\n",
       "    <tr>\n",
       "      <th>602.0059</th>\n",
       "      <td>0.026769</td>\n",
       "      <td>-0.023948</td>\n",
       "      <td>0.858417</td>\n",
       "      <td>-0.535360</td>\n",
       "      <td>0.834165</td>\n",
       "      <td>-0.020909</td>\n",
       "      <td>0.260723</td>\n",
       "      <td>-0.099996</td>\n",
       "      <td>-0.669600</td>\n",
       "      <td>-1.022569</td>\n",
       "      <td>-0.633549</td>\n",
       "    </tr>\n",
       "    <tr>\n",
       "      <th>523.0148</th>\n",
       "      <td>1.060521</td>\n",
       "      <td>-1.594650</td>\n",
       "      <td>0.679737</td>\n",
       "      <td>-0.363842</td>\n",
       "      <td>-0.982044</td>\n",
       "      <td>2.122796</td>\n",
       "      <td>0.710019</td>\n",
       "      <td>-1.852360</td>\n",
       "      <td>-2.796054</td>\n",
       "      <td>-2.107784</td>\n",
       "      <td>-1.732312</td>\n",
       "    </tr>\n",
       "    <tr>\n",
       "      <th>544.9977</th>\n",
       "      <td>1.103491</td>\n",
       "      <td>-1.619284</td>\n",
       "      <td>0.674384</td>\n",
       "      <td>-0.287905</td>\n",
       "      <td>-1.291319</td>\n",
       "      <td>2.123530</td>\n",
       "      <td>0.765533</td>\n",
       "      <td>-1.947544</td>\n",
       "      <td>-2.898821</td>\n",
       "      <td>-2.227145</td>\n",
       "      <td>-1.653773</td>\n",
       "    </tr>\n",
       "    <tr>\n",
       "      <th>551.0148</th>\n",
       "      <td>1.059349</td>\n",
       "      <td>-1.536446</td>\n",
       "      <td>0.657855</td>\n",
       "      <td>-0.267806</td>\n",
       "      <td>-0.940643</td>\n",
       "      <td>2.048966</td>\n",
       "      <td>0.721935</td>\n",
       "      <td>-1.798569</td>\n",
       "      <td>-2.679503</td>\n",
       "      <td>-2.099745</td>\n",
       "      <td>-1.627644</td>\n",
       "    </tr>\n",
       "    <tr>\n",
       "      <th>501.034</th>\n",
       "      <td>1.041849</td>\n",
       "      <td>-1.558050</td>\n",
       "      <td>0.654216</td>\n",
       "      <td>-0.334733</td>\n",
       "      <td>-0.904609</td>\n",
       "      <td>2.143395</td>\n",
       "      <td>0.662354</td>\n",
       "      <td>-1.892797</td>\n",
       "      <td>-2.929104</td>\n",
       "      <td>-2.154605</td>\n",
       "      <td>-1.594358</td>\n",
       "    </tr>\n",
       "    <tr>\n",
       "      <th>721.0084</th>\n",
       "      <td>1.064962</td>\n",
       "      <td>-1.550479</td>\n",
       "      <td>0.648208</td>\n",
       "      <td>-0.276272</td>\n",
       "      <td>-1.219532</td>\n",
       "      <td>2.122037</td>\n",
       "      <td>0.727407</td>\n",
       "      <td>-1.894514</td>\n",
       "      <td>-2.754577</td>\n",
       "      <td>-2.072333</td>\n",
       "      <td>-1.611712</td>\n",
       "    </tr>\n",
       "    <tr>\n",
       "      <th>914.4548</th>\n",
       "      <td>0.216015</td>\n",
       "      <td>-0.250472</td>\n",
       "      <td>0.601621</td>\n",
       "      <td>-0.575636</td>\n",
       "      <td>0.374026</td>\n",
       "      <td>0.025898</td>\n",
       "      <td>0.057406</td>\n",
       "      <td>0.157524</td>\n",
       "      <td>-0.146771</td>\n",
       "      <td>-0.258474</td>\n",
       "      <td>-0.596285</td>\n",
       "    </tr>\n",
       "    <tr>\n",
       "      <th>722.4287</th>\n",
       "      <td>0.372984</td>\n",
       "      <td>-0.592042</td>\n",
       "      <td>0.593966</td>\n",
       "      <td>-0.596827</td>\n",
       "      <td>0.596664</td>\n",
       "      <td>0.481895</td>\n",
       "      <td>0.085943</td>\n",
       "      <td>-0.132545</td>\n",
       "      <td>-0.402932</td>\n",
       "      <td>-0.708250</td>\n",
       "      <td>-0.442841</td>\n",
       "    </tr>\n",
       "    <tr>\n",
       "      <th>832.5159</th>\n",
       "      <td>0.008614</td>\n",
       "      <td>-0.581782</td>\n",
       "      <td>0.588720</td>\n",
       "      <td>-0.576233</td>\n",
       "      <td>-0.181058</td>\n",
       "      <td>0.002548</td>\n",
       "      <td>-0.089537</td>\n",
       "      <td>0.518084</td>\n",
       "      <td>0.159017</td>\n",
       "      <td>0.474031</td>\n",
       "      <td>-1.029575</td>\n",
       "    </tr>\n",
       "    <tr>\n",
       "      <th>815.5187</th>\n",
       "      <td>0.053573</td>\n",
       "      <td>-0.214884</td>\n",
       "      <td>0.572546</td>\n",
       "      <td>-0.691277</td>\n",
       "      <td>0.387572</td>\n",
       "      <td>0.411282</td>\n",
       "      <td>-0.200135</td>\n",
       "      <td>0.478052</td>\n",
       "      <td>-0.056608</td>\n",
       "      <td>-0.200827</td>\n",
       "      <td>-1.433033</td>\n",
       "    </tr>\n",
       "  </tbody>\n",
       "</table>\n",
       "</div>"
      ],
      "text/plain": [
       "          basal forebrain  corpus collusum    cortex  corticofugal pathway  \\\n",
       "602.0059         0.026769        -0.023948  0.858417             -0.535360   \n",
       "523.0148         1.060521        -1.594650  0.679737             -0.363842   \n",
       "544.9977         1.103491        -1.619284  0.674384             -0.287905   \n",
       "551.0148         1.059349        -1.536446  0.657855             -0.267806   \n",
       "501.034          1.041849        -1.558050  0.654216             -0.334733   \n",
       "721.0084         1.064962        -1.550479  0.648208             -0.276272   \n",
       "914.4548         0.216015        -0.250472  0.601621             -0.575636   \n",
       "722.4287         0.372984        -0.592042  0.593966             -0.596827   \n",
       "832.5159         0.008614        -0.581782  0.588720             -0.576233   \n",
       "815.5187         0.053573        -0.214884  0.572546             -0.691277   \n",
       "\n",
       "          hippocampal region  hypothalamus  striatum  thalamus  brainstem  \\\n",
       "602.0059            0.834165     -0.020909  0.260723 -0.099996  -0.669600   \n",
       "523.0148           -0.982044      2.122796  0.710019 -1.852360  -2.796054   \n",
       "544.9977           -1.291319      2.123530  0.765533 -1.947544  -2.898821   \n",
       "551.0148           -0.940643      2.048966  0.721935 -1.798569  -2.679503   \n",
       "501.034            -0.904609      2.143395  0.662354 -1.892797  -2.929104   \n",
       "721.0084           -1.219532      2.122037  0.727407 -1.894514  -2.754577   \n",
       "914.4548            0.374026      0.025898  0.057406  0.157524  -0.146771   \n",
       "722.4287            0.596664      0.481895  0.085943 -0.132545  -0.402932   \n",
       "832.5159           -0.181058      0.002548 -0.089537  0.518084   0.159017   \n",
       "815.5187            0.387572      0.411282 -0.200135  0.478052  -0.056608   \n",
       "\n",
       "          superior colliculus  septal region  \n",
       "602.0059            -1.022569      -0.633549  \n",
       "523.0148            -2.107784      -1.732312  \n",
       "544.9977            -2.227145      -1.653773  \n",
       "551.0148            -2.099745      -1.627644  \n",
       "501.034             -2.154605      -1.594358  \n",
       "721.0084            -2.072333      -1.611712  \n",
       "914.4548            -0.258474      -0.596285  \n",
       "722.4287            -0.708250      -0.442841  \n",
       "832.5159             0.474031      -1.029575  \n",
       "815.5187            -0.200827      -1.433033  "
      ]
     },
     "execution_count": 251,
     "metadata": {},
     "output_type": "execute_result"
    }
   ],
   "source": [
    "regional_fc = pd.read_pickle('../coronal3d_regional_fc_shared.pkl')\n",
    "regional_avg = pd.read_pickle('../coronal3d_regional_avg_shared.pkl')\n",
    "regional_avg.index = np.round(regional_avg.index,4).astype(str)\n",
    "regional_fc.index = np.round(regional_fc.index,4).astype(str)\n",
    "\n",
    "regional_fc = regional_fc.loc[sc_decode_tiss.intens_mtx.columns]\n",
    "\n",
    "regional_fc.sort_values(by='cortex',ascending=False).head(10)"
   ]
  },
  {
   "cell_type": "code",
   "execution_count": 252,
   "metadata": {},
   "outputs": [
    {
     "name": "stderr",
     "output_type": "stream",
     "text": [
      "/Users/richard/anaconda/envs/scms/lib/python3.8/site-packages/pandas/core/arraylike.py:364: RuntimeWarning: invalid value encountered in log2\n",
      "  result = getattr(ufunc, method)(*inputs, **kwargs)\n"
     ]
    }
   ],
   "source": [
    "regional_change_sc = {}\n",
    "\n",
    "for types in sc_decode_tiss.metadata['types'].unique():\n",
    "    _ = sc_decode_tiss.intens_mtx.loc[sc_decode_tiss.metadata['types']==types]\n",
    "    __ = sc_decode_tiss.intens_mtx.loc[sc_decode_tiss.metadata['types']!=types]\n",
    "    regional_change_sc[types] = np.log2(_.mean(0)/__.mean(0))\n",
    "regional_change_sc = pd.DataFrame(regional_change_sc)"
   ]
  },
  {
   "cell_type": "code",
   "execution_count": 262,
   "metadata": {},
   "outputs": [
    {
     "data": {
      "text/html": [
       "<div>\n",
       "<style scoped>\n",
       "    .dataframe tbody tr th:only-of-type {\n",
       "        vertical-align: middle;\n",
       "    }\n",
       "\n",
       "    .dataframe tbody tr th {\n",
       "        vertical-align: top;\n",
       "    }\n",
       "\n",
       "    .dataframe thead th {\n",
       "        text-align: right;\n",
       "    }\n",
       "</style>\n",
       "<table border=\"1\" class=\"dataframe\">\n",
       "  <thead>\n",
       "    <tr style=\"text-align: right;\">\n",
       "      <th></th>\n",
       "      <th>Corpus</th>\n",
       "      <th>Cortex</th>\n",
       "      <th>Hip</th>\n",
       "      <th>Striatum</th>\n",
       "      <th>Thalamus</th>\n",
       "    </tr>\n",
       "  </thead>\n",
       "  <tbody>\n",
       "    <tr>\n",
       "      <th>783.5685</th>\n",
       "      <td>2.789070</td>\n",
       "      <td>-2.406851</td>\n",
       "      <td>-2.309063</td>\n",
       "      <td>0.220176</td>\n",
       "      <td>-1.238578</td>\n",
       "    </tr>\n",
       "    <tr>\n",
       "      <th>851.6744</th>\n",
       "      <td>1.772210</td>\n",
       "      <td>-2.067511</td>\n",
       "      <td>-2.795179</td>\n",
       "      <td>0.344156</td>\n",
       "      <td>0.568256</td>\n",
       "    </tr>\n",
       "    <tr>\n",
       "      <th>731.6065</th>\n",
       "      <td>1.576526</td>\n",
       "      <td>-1.728131</td>\n",
       "      <td>-1.660289</td>\n",
       "      <td>0.904165</td>\n",
       "      <td>-0.294405</td>\n",
       "    </tr>\n",
       "    <tr>\n",
       "      <th>689.4188</th>\n",
       "      <td>1.526162</td>\n",
       "      <td>-2.738953</td>\n",
       "      <td>-2.008581</td>\n",
       "      <td>0.974516</td>\n",
       "      <td>0.323273</td>\n",
       "    </tr>\n",
       "    <tr>\n",
       "      <th>590.1221</th>\n",
       "      <td>1.135288</td>\n",
       "      <td>-1.578630</td>\n",
       "      <td>-1.896949</td>\n",
       "      <td>0.820616</td>\n",
       "      <td>0.497767</td>\n",
       "    </tr>\n",
       "    <tr>\n",
       "      <th>665.4563</th>\n",
       "      <td>1.042346</td>\n",
       "      <td>-2.724054</td>\n",
       "      <td>-1.458663</td>\n",
       "      <td>0.757784</td>\n",
       "      <td>0.950452</td>\n",
       "    </tr>\n",
       "    <tr>\n",
       "      <th>400.3409</th>\n",
       "      <td>0.899941</td>\n",
       "      <td>-1.062304</td>\n",
       "      <td>-0.904512</td>\n",
       "      <td>0.554617</td>\n",
       "      <td>0.271688</td>\n",
       "    </tr>\n",
       "    <tr>\n",
       "      <th>595.3785</th>\n",
       "      <td>0.784765</td>\n",
       "      <td>0.149404</td>\n",
       "      <td>-2.730832</td>\n",
       "      <td>0.046582</td>\n",
       "      <td>0.351595</td>\n",
       "    </tr>\n",
       "    <tr>\n",
       "      <th>523.0148</th>\n",
       "      <td>0.767462</td>\n",
       "      <td>-1.320602</td>\n",
       "      <td>-1.231346</td>\n",
       "      <td>0.883020</td>\n",
       "      <td>0.455124</td>\n",
       "    </tr>\n",
       "    <tr>\n",
       "      <th>932.5623</th>\n",
       "      <td>0.738526</td>\n",
       "      <td>-0.579032</td>\n",
       "      <td>-1.106368</td>\n",
       "      <td>0.451764</td>\n",
       "      <td>0.273319</td>\n",
       "    </tr>\n",
       "  </tbody>\n",
       "</table>\n",
       "</div>"
      ],
      "text/plain": [
       "            Corpus    Cortex       Hip  Striatum  Thalamus\n",
       "783.5685  2.789070 -2.406851 -2.309063  0.220176 -1.238578\n",
       "851.6744  1.772210 -2.067511 -2.795179  0.344156  0.568256\n",
       "731.6065  1.576526 -1.728131 -1.660289  0.904165 -0.294405\n",
       "689.4188  1.526162 -2.738953 -2.008581  0.974516  0.323273\n",
       "590.1221  1.135288 -1.578630 -1.896949  0.820616  0.497767\n",
       "665.4563  1.042346 -2.724054 -1.458663  0.757784  0.950452\n",
       "400.3409  0.899941 -1.062304 -0.904512  0.554617  0.271688\n",
       "595.3785  0.784765  0.149404 -2.730832  0.046582  0.351595\n",
       "523.0148  0.767462 -1.320602 -1.231346  0.883020  0.455124\n",
       "932.5623  0.738526 -0.579032 -1.106368  0.451764  0.273319"
      ]
     },
     "execution_count": 262,
     "metadata": {},
     "output_type": "execute_result"
    }
   ],
   "source": [
    "regional_change_sc.sort_values(by='Corpus',ascending=False).head(10)"
   ]
  },
  {
   "cell_type": "code",
   "execution_count": 265,
   "metadata": {},
   "outputs": [
    {
     "data": {
      "text/plain": [
       "<matplotlib.collections.PathCollection at 0x7ff1c9fd0af0>"
      ]
     },
     "execution_count": 265,
     "metadata": {},
     "output_type": "execute_result"
    },
    {
     "data": {
      "image/png": "[encoded data removed]",
      "text/plain": [
       "<Figure size 432x288 with 1 Axes>"
      ]
     },
     "metadata": {
      "needs_background": "light"
     },
     "output_type": "display_data"
    }
   ],
   "source": [
    "plt.scatter(regional_change_sc['Hip'],regional_fc['hippocampal region'])"
   ]
  },
  {
   "cell_type": "code",
   "execution_count": 263,
   "metadata": {},
   "outputs": [
    {
     "data": {
      "text/plain": [
       "<AxesSubplot:ylabel='851.6744'>"
      ]
     },
     "execution_count": 263,
     "metadata": {},
     "output_type": "execute_result"
    },
    {
     "data": {
      "image/png": "[encoded data removed]",
      "text/plain": [
       "<Figure size 432x288 with 1 Axes>"
      ]
     },
     "metadata": {
      "needs_background": "light"
     },
     "output_type": "display_data"
    },
    {
     "data": {
      "image/png": "[encoded data removed]",
      "text/plain": [
       "<Figure size 432x288 with 1 Axes>"
      ]
     },
     "metadata": {
      "needs_background": "light"
     },
     "output_type": "display_data"
    }
   ],
   "source": [
    "plt.figure()\n",
    "sns.barplot(x=['corpus collusum','cortex','hippocampal region','thalamus','striatum'],\n",
    "            y=regional_fc.loc['851.6744'][['corpus collusum','cortex','hippocampal region','thalamus','striatum']])\n",
    "plt.figure()\n",
    "sns.barplot(x=['Corpus','Cortex','Hip','Thalamus','Striatum'],\n",
    "            y=regional_change_sc.loc['851.6744'][['Corpus','Cortex','Hip','Thalamus','Striatum']])\n",
    "#plt.savefig('figures/710mz_tiss_fc.pdf')"
   ]
  },
  {
   "cell_type": "code",
   "execution_count": 23,
   "metadata": {
    "collapsed": true
   },
   "outputs": [],
   "source": [
    "pixel_data = pd.read_pickle('../coronal3D_regional_pixel.pkl')"
   ]
  },
  {
   "cell_type": "code",
   "execution_count": 27,
   "metadata": {
    "collapsed": true
   },
   "outputs": [],
   "source": [
    "pixel_data_metadata = pd.read_pickle('../coronal3D_regional_pixel_metadata.pkl')"
   ]
  },
  {
   "cell_type": "code",
   "execution_count": 216,
   "metadata": {
    "collapsed": true
   },
   "outputs": [],
   "source": [
    "# import random\n",
    "# random.seed(19)\n",
    "# sc_region_list = ['cortex','hippocampal region','striatum','thalamus','corpus collusum']\n",
    "# rows_id = random.sample(range(0, pixel_data_metadata['regions'].isin(sc_region_list).sum()), 50000)\n",
    "# sc_region_list = ['cortex','hippocampal region','striatum','thalamus','corpus collusum']\n",
    "# pixel_data_sampled = pixel_data.iloc[rows_id]\n",
    "# pixel_data_metadata_sampled = pixel_data_metadata.iloc[rows_id]\n",
    "# pixel_data_sampled = pixel_data_sampled[scms_tiss.intens_mtx.columns]\n",
    "# del pixel_data\n",
    "\n",
    "# from sklearn.metrics.pairwise import cosine_similarity\n",
    "# tiss_sc_cossim = cosine_similarity(sc_decode_tiss.intens_mtx,pixel_data_sampled)\n",
    "\n",
    "# tiss_sc_cossim_data = pd.DataFrame({'corr':tiss_sc_cossim[:,pixel_data_metadata_sampled['regions']=='hippocampal region'].mean(1),\n",
    "#               'type':sc_decode_tiss.metadata['types']})\n",
    "\n",
    "# sns.boxplot(x='type',y='corr',data=tiss_sc_cossim_data)\n"
   ]
  },
  {
   "cell_type": "code",
   "execution_count": 1499,
   "metadata": {
    "collapsed": true
   },
   "outputs": [],
   "source": [
    "# plt.figure()\n",
    "# plt.scatter(np.log10(regional_avg.loc[sc_decode_hip.intens_mtx.columns]['hippocampal region']),\n",
    "#             np.log10(sc_decode_hip.intens_mtx.mean(0)))"
   ]
  },
  {
   "cell_type": "code",
   "execution_count": 1530,
   "metadata": {},
   "outputs": [
    {
     "data": {
      "text/plain": [
       "[749, 62, 702, 280, 1003, 525, 660, 685, 922, 427, 418]"
      ]
     },
     "execution_count": 1530,
     "metadata": {},
     "output_type": "execute_result"
    }
   ],
   "source": [
    "annot_df_tiss.set_index('Input m/z').loc[regional_fc.sort_values(by='hippocampal region',ascending=False).head(15).index]['index'].unique()\n",
    "\n",
    "[749,   62,  702,  280, 1003,  525,  660,  685, 922,  427,  418]\n"
   ]
  },
  {
   "cell_type": "code",
   "execution_count": 186,
   "metadata": {},
   "outputs": [
    {
     "data": {
      "text/plain": [
       "Index(['795.5777', '544.9977', '721.0084', '807.6352', '501.034', '409.0554',\n",
       "       '560.9689', '736.977', '823.6077', '826.6277', '590.1221', '757.6236',\n",
       "       '742.9975', '494.36', '682.4593'],\n",
       "      dtype='object')"
      ]
     },
     "execution_count": 186,
     "metadata": {},
     "output_type": "execute_result"
    }
   ],
   "source": [
    "regional_fc.sort_values(by='striatum',ascending=False).head(15).index"
   ]
  },
  {
   "cell_type": "code",
   "execution_count": 171,
   "metadata": {
    "collapsed": true
   },
   "outputs": [],
   "source": [
    "regional_fc = regional_fc.loc[sc_decode_tiss.intens_mtx.columns]"
   ]
  },
  {
   "cell_type": "code",
   "execution_count": 34,
   "metadata": {},
   "outputs": [
    {
     "ename": "ValueError",
     "evalue": "groupby has to be a valid observation. Given leiden, is not in observations: []",
     "output_type": "error",
     "traceback": [
      "\u001b[0;31m---------------------------------------------------------------------------\u001b[0m",
      "\u001b[0;31mValueError\u001b[0m                                Traceback (most recent call last)",
      "\u001b[0;32m/var/folders/gw/5vpnntfj7dg102qjxmy0d4yh0000gn/T/ipykernel_35942/3879986589.py\u001b[0m in \u001b[0;36m<module>\u001b[0;34m\u001b[0m\n\u001b[1;32m      1\u001b[0m \u001b[0msc_decode_tiss\u001b[0m\u001b[0;34m.\u001b[0m\u001b[0madata\u001b[0m\u001b[0;34m.\u001b[0m\u001b[0mlayers\u001b[0m\u001b[0;34m[\u001b[0m\u001b[0;34m'scaled'\u001b[0m\u001b[0;34m]\u001b[0m \u001b[0;34m=\u001b[0m \u001b[0msc\u001b[0m\u001b[0;34m.\u001b[0m\u001b[0mpp\u001b[0m\u001b[0;34m.\u001b[0m\u001b[0mscale\u001b[0m\u001b[0;34m(\u001b[0m\u001b[0msc_decode_tiss\u001b[0m\u001b[0;34m.\u001b[0m\u001b[0madata\u001b[0m\u001b[0;34m,\u001b[0m \u001b[0mcopy\u001b[0m\u001b[0;34m=\u001b[0m\u001b[0;32mTrue\u001b[0m\u001b[0;34m,\u001b[0m \u001b[0mzero_center\u001b[0m\u001b[0;34m=\u001b[0m\u001b[0;32mTrue\u001b[0m\u001b[0;34m)\u001b[0m\u001b[0;34m.\u001b[0m\u001b[0mX\u001b[0m\u001b[0;34m\u001b[0m\u001b[0;34m\u001b[0m\u001b[0m\n\u001b[0;32m----> 2\u001b[0;31m sc.pl.matrixplot(sc_decode_tiss.adata,['795.5777', '410.272', '745.4758', '830.5701', '602.0059', '721.9564',\n\u001b[0m\u001b[1;32m      3\u001b[0m        \u001b[0;34m'807.6352'\u001b[0m\u001b[0;34m,\u001b[0m \u001b[0;34m'831.5724'\u001b[0m\u001b[0;34m,\u001b[0m \u001b[0;34m'682.4593'\u001b[0m\u001b[0;34m,\u001b[0m \u001b[0;34m'722.4287'\u001b[0m\u001b[0;34m,\u001b[0m \u001b[0;34m'741.5278'\u001b[0m\u001b[0;34m,\u001b[0m \u001b[0;34m'553.9517'\u001b[0m\u001b[0;34m,\u001b[0m\u001b[0;34m\u001b[0m\u001b[0;34m\u001b[0m\u001b[0m\n\u001b[1;32m      4\u001b[0m        \u001b[0;34m'807.514'\u001b[0m\u001b[0;34m,\u001b[0m \u001b[0;34m'759.4349'\u001b[0m\u001b[0;34m,\u001b[0m \u001b[0;34m'745.9322'\u001b[0m\u001b[0;34m,\u001b[0m\u001b[0;34m'636.461'\u001b[0m\u001b[0;34m,\u001b[0m \u001b[0;34m'815.5187'\u001b[0m\u001b[0;34m,\u001b[0m \u001b[0;34m'871.4672'\u001b[0m\u001b[0;34m,\u001b[0m \u001b[0;34m'870.4586'\u001b[0m\u001b[0;34m,\u001b[0m \u001b[0;34m'835.6036'\u001b[0m\u001b[0;34m,\u001b[0m \u001b[0;34m'829.5591'\u001b[0m\u001b[0;34m,\u001b[0m \u001b[0;34m'828.5493'\u001b[0m\u001b[0;34m,\u001b[0m\u001b[0;34m\u001b[0m\u001b[0;34m\u001b[0m\u001b[0m\n\u001b[1;32m      5\u001b[0m        \u001b[0;34m'863.6177'\u001b[0m\u001b[0;34m,\u001b[0m \u001b[0;34m'740.5008'\u001b[0m\u001b[0;34m,\u001b[0m \u001b[0;34m'624.5037'\u001b[0m\u001b[0;34m,\u001b[0m \u001b[0;34m'580.3605'\u001b[0m\u001b[0;34m,\u001b[0m \u001b[0;34m'738.5174'\u001b[0m\u001b[0;34m,\u001b[0m \u001b[0;34m'803.5605'\u001b[0m\u001b[0;34m,\u001b[0m\u001b[0;34m\u001b[0m\u001b[0;34m\u001b[0m\u001b[0m\n",
      "\u001b[0;32m~/anaconda/envs/scms/lib/python3.8/site-packages/scanpy/plotting/_matrixplot.py\u001b[0m in \u001b[0;36mmatrixplot\u001b[0;34m(adata, var_names, groupby, use_raw, log, num_categories, figsize, dendrogram, title, cmap, colorbar_title, gene_symbols, var_group_positions, var_group_labels, var_group_rotation, layer, standard_scale, values_df, swap_axes, show, save, ax, return_fig, vmin, vmax, vcenter, norm, **kwds)\u001b[0m\n\u001b[1;32m    376\u001b[0m     \"\"\"\n\u001b[1;32m    377\u001b[0m \u001b[0;34m\u001b[0m\u001b[0m\n\u001b[0;32m--> 378\u001b[0;31m     mp = MatrixPlot(\n\u001b[0m\u001b[1;32m    379\u001b[0m         \u001b[0madata\u001b[0m\u001b[0;34m,\u001b[0m\u001b[0;34m\u001b[0m\u001b[0;34m\u001b[0m\u001b[0m\n\u001b[1;32m    380\u001b[0m         \u001b[0mvar_names\u001b[0m\u001b[0;34m,\u001b[0m\u001b[0;34m\u001b[0m\u001b[0;34m\u001b[0m\u001b[0m\n",
      "\u001b[0;32m~/anaconda/envs/scms/lib/python3.8/site-packages/scanpy/plotting/_matrixplot.py\u001b[0m in \u001b[0;36m__init__\u001b[0;34m(self, adata, var_names, groupby, use_raw, log, num_categories, categories_order, title, figsize, gene_symbols, var_group_positions, var_group_labels, var_group_rotation, layer, standard_scale, ax, values_df, vmin, vmax, vcenter, norm, **kwds)\u001b[0m\n\u001b[1;32m    116\u001b[0m         \u001b[0;34m**\u001b[0m\u001b[0mkwds\u001b[0m\u001b[0;34m,\u001b[0m\u001b[0;34m\u001b[0m\u001b[0;34m\u001b[0m\u001b[0m\n\u001b[1;32m    117\u001b[0m     ):\n\u001b[0;32m--> 118\u001b[0;31m         BasePlot.__init__(\n\u001b[0m\u001b[1;32m    119\u001b[0m             \u001b[0mself\u001b[0m\u001b[0;34m,\u001b[0m\u001b[0;34m\u001b[0m\u001b[0;34m\u001b[0m\u001b[0m\n\u001b[1;32m    120\u001b[0m             \u001b[0madata\u001b[0m\u001b[0;34m,\u001b[0m\u001b[0;34m\u001b[0m\u001b[0;34m\u001b[0m\u001b[0m\n",
      "\u001b[0;32m~/anaconda/envs/scms/lib/python3.8/site-packages/scanpy/plotting/_baseplot_class.py\u001b[0m in \u001b[0;36m__init__\u001b[0;34m(self, adata, var_names, groupby, use_raw, log, num_categories, categories_order, title, figsize, gene_symbols, var_group_positions, var_group_labels, var_group_rotation, layer, ax, vmin, vmax, vcenter, norm, **kwds)\u001b[0m\n\u001b[1;32m    109\u001b[0m         \u001b[0mself\u001b[0m\u001b[0;34m.\u001b[0m\u001b[0m_update_var_groups\u001b[0m\u001b[0;34m(\u001b[0m\u001b[0;34m)\u001b[0m\u001b[0;34m\u001b[0m\u001b[0;34m\u001b[0m\u001b[0m\n\u001b[1;32m    110\u001b[0m \u001b[0;34m\u001b[0m\u001b[0m\n\u001b[0;32m--> 111\u001b[0;31m         self.categories, self.obs_tidy = _prepare_dataframe(\n\u001b[0m\u001b[1;32m    112\u001b[0m             \u001b[0madata\u001b[0m\u001b[0;34m,\u001b[0m\u001b[0;34m\u001b[0m\u001b[0;34m\u001b[0m\u001b[0m\n\u001b[1;32m    113\u001b[0m             \u001b[0mself\u001b[0m\u001b[0;34m.\u001b[0m\u001b[0mvar_names\u001b[0m\u001b[0;34m,\u001b[0m\u001b[0;34m\u001b[0m\u001b[0;34m\u001b[0m\u001b[0m\n",
      "\u001b[0;32m~/anaconda/envs/scms/lib/python3.8/site-packages/scanpy/plotting/_anndata.py\u001b[0m in \u001b[0;36m_prepare_dataframe\u001b[0;34m(adata, var_names, groupby, use_raw, log, num_categories, layer, gene_symbols)\u001b[0m\n\u001b[1;32m   1900\u001b[0m                 \u001b[0;32melse\u001b[0m\u001b[0;34m:\u001b[0m\u001b[0;34m\u001b[0m\u001b[0;34m\u001b[0m\u001b[0m\n\u001b[1;32m   1901\u001b[0m                     \u001b[0mmsg\u001b[0m \u001b[0;34m=\u001b[0m \u001b[0;34m''\u001b[0m\u001b[0;34m\u001b[0m\u001b[0;34m\u001b[0m\u001b[0m\n\u001b[0;32m-> 1902\u001b[0;31m                 raise ValueError(\n\u001b[0m\u001b[1;32m   1903\u001b[0m                     \u001b[0;34m'groupby has to be a valid observation. '\u001b[0m\u001b[0;34m\u001b[0m\u001b[0;34m\u001b[0m\u001b[0m\n\u001b[1;32m   1904\u001b[0m                     \u001b[0;34mf'Given {group}, is not in observations: {adata.obs_keys()}'\u001b[0m \u001b[0;34m+\u001b[0m \u001b[0mmsg\u001b[0m\u001b[0;34m\u001b[0m\u001b[0;34m\u001b[0m\u001b[0m\n",
      "\u001b[0;31mValueError\u001b[0m: groupby has to be a valid observation. Given leiden, is not in observations: []"
     ]
    }
   ],
   "source": [
    "sc_decode_tiss.adata.layers['scaled'] = sc.pp.scale(sc_decode_tiss.adata, copy=True, zero_center=True).X\n",
    "sc.pl.matrixplot(sc_decode_tiss.adata,['795.5777', '410.272', '745.4758', '830.5701', '602.0059', '721.9564',\n",
    "       '807.6352', '831.5724', '682.4593', '722.4287', '741.5278', '553.9517',\n",
    "       '807.514', '759.4349', '745.9322','636.461', '815.5187', '871.4672', '870.4586', '835.6036', '829.5591', '828.5493',\n",
    "       '863.6177', '740.5008', '624.5037', '580.3605', '738.5174', '803.5605',\n",
    "       '825.4629', '802.5631', '880.6605','795.5777', '544.9977', '721.0084', '807.6352', '501.034', '409.0554',\n",
    "       '560.9689', '736.977', '823.6077', '826.6277', '590.1221', '757.6236',\n",
    "       '742.9975', '494.36', '682.4593'],\n",
    "              groupby='leiden',swap_axes=True,dendrogram=True,layer='scaled',cmap='RdBu_r',vmax=1.2,figsize=(4,8),save='hip_sc_top.pdf')\n"
   ]
  },
  {
   "cell_type": "code",
   "execution_count": 1540,
   "metadata": {},
   "outputs": [
    {
     "data": {
      "text/html": [
       "<div>\n",
       "<style scoped>\n",
       "    .dataframe tbody tr th:only-of-type {\n",
       "        vertical-align: middle;\n",
       "    }\n",
       "\n",
       "    .dataframe tbody tr th {\n",
       "        vertical-align: top;\n",
       "    }\n",
       "\n",
       "    .dataframe thead th {\n",
       "        text-align: right;\n",
       "    }\n",
       "</style>\n",
       "<table border=\"1\" class=\"dataframe\">\n",
       "  <thead>\n",
       "    <tr style=\"text-align: right;\">\n",
       "      <th></th>\n",
       "      <th>Input m/z</th>\n",
       "      <th>Matched m/z</th>\n",
       "      <th>Delta</th>\n",
       "      <th>Name</th>\n",
       "      <th>Formula</th>\n",
       "      <th>Ion</th>\n",
       "      <th>ppm</th>\n",
       "      <th>index</th>\n",
       "    </tr>\n",
       "  </thead>\n",
       "  <tbody>\n",
       "    <tr>\n",
       "      <th>2583</th>\n",
       "      <td>800.407895</td>\n",
       "      <td>800.4109</td>\n",
       "      <td>0.0030</td>\n",
       "      <td>PS 35:8;O</td>\n",
       "      <td>C41H64NO11PNa</td>\n",
       "      <td>[M+Na]+</td>\n",
       "      <td>3.748089</td>\n",
       "      <td>418</td>\n",
       "    </tr>\n",
       "    <tr>\n",
       "      <th>2584</th>\n",
       "      <td>800.407895</td>\n",
       "      <td>800.4111</td>\n",
       "      <td>0.0032</td>\n",
       "      <td>IPC 32:4;O3</td>\n",
       "      <td>C38H68NO12PK</td>\n",
       "      <td>[M+K]+</td>\n",
       "      <td>3.997962</td>\n",
       "      <td>418</td>\n",
       "    </tr>\n",
       "  </tbody>\n",
       "</table>\n",
       "</div>"
      ],
      "text/plain": [
       "       Input m/z  Matched m/z   Delta         Name        Formula  \\\n",
       "2583  800.407895     800.4109  0.0030    PS 35:8;O  C41H64NO11PNa   \n",
       "2584  800.407895     800.4111  0.0032  IPC 32:4;O3   C38H68NO12PK   \n",
       "\n",
       "                 Ion       ppm  index  \n",
       "2583         [M+Na]+  3.748089    418  \n",
       "2584          [M+K]+  3.997962    418  "
      ]
     },
     "execution_count": 1540,
     "metadata": {},
     "output_type": "execute_result"
    }
   ],
   "source": [
    "annot_df_tiss[annot_df_tiss['index'].isin([418])]"
   ]
  },
  {
   "cell_type": "code",
   "execution_count": 1522,
   "metadata": {
    "collapsed": true
   },
   "outputs": [],
   "source": [
    "show_featdist = widgets.interactive(sc_decode_hip.show_featdist, features=['660.3661', '997.5441', '689.3629', '859.6074',\n",
    "       '423.2731', '768.4213', '713.4042', '698.3802', '772.4949', \n",
    "       '796.5884', '800.4079'],\n",
    "                                 embed_method=sc_decode_hip.adata.obsm.keys(),size=(0.5,2,0.1));"
   ]
  },
  {
   "cell_type": "code",
   "execution_count": 1523,
   "metadata": {},
   "outputs": [
    {
     "data": {
      "application/vnd.jupyter.widget-view+json": {
       "model_id": "6a5ffbfff90c45eba04b22d0e367020d",
       "version_major": 2,
       "version_minor": 0
      },
      "text/plain": [
       "interactive(children=(Dropdown(description='features', options=('660.3661', '997.5441', '689.3629', '859.6074'…"
      ]
     },
     "metadata": {},
     "output_type": "display_data"
    }
   ],
   "source": [
    "show_featdist"
   ]
  },
  {
   "cell_type": "code",
   "execution_count": 1524,
   "metadata": {
    "collapsed": true
   },
   "outputs": [],
   "source": [
    "plt.savefig('figures/423mz_sc_dist.pdf')"
   ]
  },
  {
   "cell_type": "code",
   "execution_count": 1371,
   "metadata": {},
   "outputs": [
    {
     "name": "stdout",
     "output_type": "stream",
     "text": [
      "filtered intensity matrix with shape (2143, 176)\n"
     ]
    }
   ],
   "source": [
    "sc_decode_str = scMSAnalysis(metadata=metadata[metadata['types']=='Striatum'])\n",
    "sc_decode_str.preprocessing(scms_tiss.intens_mtx[metadata['types']=='Striatum'],\n",
    "                            norm_method='rms',feat_drop_rate=0,cell_drop_rate=0)"
   ]
  },
  {
   "cell_type": "code",
   "execution_count": 1372,
   "metadata": {},
   "outputs": [
    {
     "name": "stdout",
     "output_type": "stream",
     "text": [
      "computing neighbors..\n",
      "performing umap...\n",
      "performing clustering...\n"
     ]
    }
   ],
   "source": [
    "sc_decode_str.analyze(n_neighbors=30, n_pcs=15, min_dist=0.8, resolution = 0.15, categories=['leiden'])"
   ]
  },
  {
   "cell_type": "code",
   "execution_count": 1373,
   "metadata": {
    "collapsed": true
   },
   "outputs": [],
   "source": [
    "sc_decode_str.get_labels(['batch','leiden'])"
   ]
  },
  {
   "cell_type": "code",
   "execution_count": 1374,
   "metadata": {},
   "outputs": [
    {
     "data": {
      "application/vnd.jupyter.widget-view+json": {
       "model_id": "595a0ee625504b2fa7cc9dcacaf3d662",
       "version_major": 2,
       "version_minor": 0
      },
      "text/plain": [
       "interactive(children=(Dropdown(description='label', options=('leiden', 'batch'), value='leiden'), Dropdown(des…"
      ]
     },
     "metadata": {},
     "output_type": "display_data"
    }
   ],
   "source": [
    "show_embed = widgets.interactive(sc_decode_str.show_cellEmbed, label=sc_decode_str.adata.obs.columns,\n",
    "                                 embed_method=sc_decode_str.adata.obsm.keys(),size=(1,3,0.1));\n",
    "show_embed"
   ]
  },
  {
   "cell_type": "code",
   "execution_count": 1375,
   "metadata": {},
   "outputs": [
    {
     "data": {
      "text/plain": [
       "array([ 56, 819, 280, 745, 256, 727, 648, 927, 728, 381, 342, 681, 599,\n",
       "       989, 619])"
      ]
     },
     "execution_count": 1375,
     "metadata": {},
     "output_type": "execute_result"
    }
   ],
   "source": [
    "annot_df_tiss.set_index('Input m/z').loc[regional_fc.sort_values(by='cortex',ascending=False).head(15).index]['index'].unique()\n"
   ]
  },
  {
   "cell_type": "code",
   "execution_count": 1376,
   "metadata": {},
   "outputs": [
    {
     "data": {
      "text/html": [
       "<div>\n",
       "<style scoped>\n",
       "    .dataframe tbody tr th:only-of-type {\n",
       "        vertical-align: middle;\n",
       "    }\n",
       "\n",
       "    .dataframe tbody tr th {\n",
       "        vertical-align: top;\n",
       "    }\n",
       "\n",
       "    .dataframe thead th {\n",
       "        text-align: right;\n",
       "    }\n",
       "</style>\n",
       "<table border=\"1\" class=\"dataframe\">\n",
       "  <thead>\n",
       "    <tr style=\"text-align: right;\">\n",
       "      <th></th>\n",
       "      <th>basal forebrain</th>\n",
       "      <th>corpus collusum</th>\n",
       "      <th>cortex</th>\n",
       "      <th>corticofugal pathway</th>\n",
       "      <th>hippocampal region</th>\n",
       "      <th>hypothalamus</th>\n",
       "      <th>striatum</th>\n",
       "      <th>thalamus</th>\n",
       "      <th>brainstem</th>\n",
       "      <th>superior colliculus</th>\n",
       "      <th>septal region</th>\n",
       "    </tr>\n",
       "  </thead>\n",
       "  <tbody>\n",
       "    <tr>\n",
       "      <th>1003.592027</th>\n",
       "      <td>0.099869</td>\n",
       "      <td>-0.602469</td>\n",
       "      <td>0.669422</td>\n",
       "      <td>-1.019781</td>\n",
       "      <td>0.197138</td>\n",
       "      <td>0.099144</td>\n",
       "      <td>-0.132004</td>\n",
       "      <td>0.462063</td>\n",
       "      <td>0.094794</td>\n",
       "      <td>0.313477</td>\n",
       "      <td>-1.056594</td>\n",
       "    </tr>\n",
       "    <tr>\n",
       "      <th>615.476554</th>\n",
       "      <td>0.276983</td>\n",
       "      <td>-0.359124</td>\n",
       "      <td>0.499216</td>\n",
       "      <td>-0.551843</td>\n",
       "      <td>0.298473</td>\n",
       "      <td>0.111655</td>\n",
       "      <td>0.097762</td>\n",
       "      <td>-0.032313</td>\n",
       "      <td>-0.245668</td>\n",
       "      <td>-0.286634</td>\n",
       "      <td>-0.095498</td>\n",
       "    </tr>\n",
       "    <tr>\n",
       "      <th>859.607445</th>\n",
       "      <td>0.233012</td>\n",
       "      <td>-0.349909</td>\n",
       "      <td>0.465496</td>\n",
       "      <td>-0.516603</td>\n",
       "      <td>0.297664</td>\n",
       "      <td>0.216893</td>\n",
       "      <td>0.120593</td>\n",
       "      <td>-0.060139</td>\n",
       "      <td>-0.273433</td>\n",
       "      <td>-0.299006</td>\n",
       "      <td>-0.112448</td>\n",
       "    </tr>\n",
       "    <tr>\n",
       "      <th>662.345086</th>\n",
       "      <td>0.175785</td>\n",
       "      <td>-0.240659</td>\n",
       "      <td>0.451179</td>\n",
       "      <td>-0.369643</td>\n",
       "      <td>0.321004</td>\n",
       "      <td>0.079465</td>\n",
       "      <td>0.105128</td>\n",
       "      <td>-0.033585</td>\n",
       "      <td>-0.251683</td>\n",
       "      <td>-0.284232</td>\n",
       "      <td>-0.157793</td>\n",
       "    </tr>\n",
       "    <tr>\n",
       "      <th>871.547146</th>\n",
       "      <td>0.021068</td>\n",
       "      <td>-0.593228</td>\n",
       "      <td>0.444868</td>\n",
       "      <td>-0.702675</td>\n",
       "      <td>-0.154394</td>\n",
       "      <td>0.142428</td>\n",
       "      <td>-0.064632</td>\n",
       "      <td>0.289741</td>\n",
       "      <td>0.045161</td>\n",
       "      <td>0.553092</td>\n",
       "      <td>-0.443736</td>\n",
       "    </tr>\n",
       "    <tr>\n",
       "      <th>674.380580</th>\n",
       "      <td>-0.084290</td>\n",
       "      <td>-0.071070</td>\n",
       "      <td>0.439564</td>\n",
       "      <td>-0.303789</td>\n",
       "      <td>0.320730</td>\n",
       "      <td>-0.184081</td>\n",
       "      <td>-0.008945</td>\n",
       "      <td>0.295116</td>\n",
       "      <td>-0.096504</td>\n",
       "      <td>-0.019203</td>\n",
       "      <td>-0.511262</td>\n",
       "    </tr>\n",
       "    <tr>\n",
       "      <th>718.502526</th>\n",
       "      <td>-0.024973</td>\n",
       "      <td>0.170650</td>\n",
       "      <td>0.377041</td>\n",
       "      <td>-0.140213</td>\n",
       "      <td>0.692723</td>\n",
       "      <td>-0.101804</td>\n",
       "      <td>0.285437</td>\n",
       "      <td>-0.070770</td>\n",
       "      <td>-0.495225</td>\n",
       "      <td>-0.848880</td>\n",
       "      <td>-0.357382</td>\n",
       "    </tr>\n",
       "    <tr>\n",
       "      <th>550.331588</th>\n",
       "      <td>0.018219</td>\n",
       "      <td>-0.632589</td>\n",
       "      <td>0.375435</td>\n",
       "      <td>-0.894041</td>\n",
       "      <td>-0.156074</td>\n",
       "      <td>0.195826</td>\n",
       "      <td>-0.201508</td>\n",
       "      <td>0.455037</td>\n",
       "      <td>0.249861</td>\n",
       "      <td>0.591571</td>\n",
       "      <td>-0.682706</td>\n",
       "    </tr>\n",
       "    <tr>\n",
       "      <th>674.346095</th>\n",
       "      <td>0.192259</td>\n",
       "      <td>-0.291743</td>\n",
       "      <td>0.350204</td>\n",
       "      <td>-0.427291</td>\n",
       "      <td>0.248580</td>\n",
       "      <td>0.256389</td>\n",
       "      <td>0.080505</td>\n",
       "      <td>-0.091534</td>\n",
       "      <td>-0.219516</td>\n",
       "      <td>-0.270321</td>\n",
       "      <td>-0.021542</td>\n",
       "    </tr>\n",
       "    <tr>\n",
       "      <th>811.606360</th>\n",
       "      <td>0.361822</td>\n",
       "      <td>-0.376395</td>\n",
       "      <td>0.337873</td>\n",
       "      <td>-0.335254</td>\n",
       "      <td>0.196573</td>\n",
       "      <td>0.495720</td>\n",
       "      <td>0.078455</td>\n",
       "      <td>-0.161749</td>\n",
       "      <td>-0.291244</td>\n",
       "      <td>-0.542633</td>\n",
       "      <td>-0.102440</td>\n",
       "    </tr>\n",
       "  </tbody>\n",
       "</table>\n",
       "</div>"
      ],
      "text/plain": [
       "             basal forebrain  corpus collusum    cortex  corticofugal pathway  \\\n",
       "1003.592027         0.099869        -0.602469  0.669422             -1.019781   \n",
       "615.476554          0.276983        -0.359124  0.499216             -0.551843   \n",
       "859.607445          0.233012        -0.349909  0.465496             -0.516603   \n",
       "662.345086          0.175785        -0.240659  0.451179             -0.369643   \n",
       "871.547146          0.021068        -0.593228  0.444868             -0.702675   \n",
       "674.380580         -0.084290        -0.071070  0.439564             -0.303789   \n",
       "718.502526         -0.024973         0.170650  0.377041             -0.140213   \n",
       "550.331588          0.018219        -0.632589  0.375435             -0.894041   \n",
       "674.346095          0.192259        -0.291743  0.350204             -0.427291   \n",
       "811.606360          0.361822        -0.376395  0.337873             -0.335254   \n",
       "\n",
       "             hippocampal region  hypothalamus  striatum  thalamus  brainstem  \\\n",
       "1003.592027            0.197138      0.099144 -0.132004  0.462063   0.094794   \n",
       "615.476554             0.298473      0.111655  0.097762 -0.032313  -0.245668   \n",
       "859.607445             0.297664      0.216893  0.120593 -0.060139  -0.273433   \n",
       "662.345086             0.321004      0.079465  0.105128 -0.033585  -0.251683   \n",
       "871.547146            -0.154394      0.142428 -0.064632  0.289741   0.045161   \n",
       "674.380580             0.320730     -0.184081 -0.008945  0.295116  -0.096504   \n",
       "718.502526             0.692723     -0.101804  0.285437 -0.070770  -0.495225   \n",
       "550.331588            -0.156074      0.195826 -0.201508  0.455037   0.249861   \n",
       "674.346095             0.248580      0.256389  0.080505 -0.091534  -0.219516   \n",
       "811.606360             0.196573      0.495720  0.078455 -0.161749  -0.291244   \n",
       "\n",
       "             superior colliculus  septal region  \n",
       "1003.592027             0.313477      -1.056594  \n",
       "615.476554             -0.286634      -0.095498  \n",
       "859.607445             -0.299006      -0.112448  \n",
       "662.345086             -0.284232      -0.157793  \n",
       "871.547146              0.553092      -0.443736  \n",
       "674.380580             -0.019203      -0.511262  \n",
       "718.502526             -0.848880      -0.357382  \n",
       "550.331588              0.591571      -0.682706  \n",
       "674.346095             -0.270321      -0.021542  \n",
       "811.606360             -0.542633      -0.102440  "
      ]
     },
     "execution_count": 1376,
     "metadata": {},
     "output_type": "execute_result"
    }
   ],
   "source": [
    "regional_fc.sort_values(by='cortex',ascending=False).head(10)"
   ]
  },
  {
   "cell_type": "code",
   "execution_count": 1377,
   "metadata": {},
   "outputs": [
    {
     "data": {
      "text/plain": [
       "Index(['1003.592', '550.3316', '567.3265', '645.3183', '713.4042', '1039.6712',\n",
       "       '536.2954', '699.4853', '674.3806', '871.5471'],\n",
       "      dtype='object')"
      ]
     },
     "execution_count": 1377,
     "metadata": {},
     "output_type": "execute_result"
    }
   ],
   "source": [
    "np.round(regional_fc.sort_values(by='thalamus',ascending=False).head(10).index,4).astype(str)"
   ]
  },
  {
   "cell_type": "code",
   "execution_count": 1379,
   "metadata": {},
   "outputs": [
    {
     "data": {
      "application/vnd.jupyter.widget-view+json": {
       "model_id": "44f4ff67018647b8b49878cc107e8c16",
       "version_major": 2,
       "version_minor": 0
      },
      "image/png": "[encoded data removed]",
      "text/html": [
       "\n",
       "            <div style=\"display: inline-block;\">\n",
       "                <div class=\"jupyter-widgets widget-label\" style=\"text-align: center;\">\n",
       "                    Figure\n",
       "                </div>\n",
       "                <img src='data:image/png;base64,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' width=600.0/>\n",
       "            </div>\n",
       "        "
      ],
      "text/plain": [
       "Canvas(toolbar=Toolbar(toolitems=[('Home', 'Reset original view', 'home', 'home'), ('Back', 'Back to previous …"
      ]
     },
     "metadata": {},
     "output_type": "display_data"
    }
   ],
   "source": [
    "sc_decode_str.adata.layers['scaled'] = sc.pp.scale(sc_decode_str.adata, copy=True, zero_center=True).X\n",
    "sc.pl.heatmap(sc_decode_str.adata,[''],\n",
    "              groupby='leiden',swap_axes=True,dendrogram=True,layer='scaled',cmap='RdBu_r',vmax=1.5,figsize=(6,2.5))"
   ]
  },
  {
   "cell_type": "code",
   "execution_count": 1380,
   "metadata": {
    "collapsed": true
   },
   "outputs": [],
   "source": [
    "show_featdist = widgets.interactive(sc_decode_str.show_featdist, features=['710.3046', '573.4862', '631.3589', '662.3451', '674.3806', '615.4766', '859.6074', '698.3802'],\n",
    "                                 embed_method=sc_decode_str.adata.obsm.keys(),size=(0.5,2,0.1));"
   ]
  },
  {
   "cell_type": "code",
   "execution_count": 1381,
   "metadata": {},
   "outputs": [
    {
     "data": {
      "application/vnd.jupyter.widget-view+json": {
       "model_id": "3a56fc3a2d6045f0906c74ebda397481",
       "version_major": 2,
       "version_minor": 0
      },
      "text/plain": [
       "interactive(children=(Dropdown(description='features', options=('710.3046', '573.4862', '631.3589', '662.3451'…"
      ]
     },
     "metadata": {},
     "output_type": "display_data"
    }
   ],
   "source": [
    "show_featdist"
   ]
  },
  {
   "cell_type": "code",
   "execution_count": null,
   "metadata": {
    "collapsed": true
   },
   "outputs": [],
   "source": []
  }
 ],
 "metadata": {
  "kernelspec": {
   "display_name": "scms",
   "language": "python",
   "name": "scms"
  },
  "language_info": {
   "codemirror_mode": {
    "name": "ipython",
    "version": 3
   },
   "file_extension": ".py",
   "mimetype": "text/x-python",
   "name": "python",
   "nbconvert_exporter": "python",
   "pygments_lexer": "ipython3",
   "version": "3.8.2"
  },
  "toc": {
   "base_numbering": 1,
   "nav_menu": {},
   "number_sections": true,
   "sideBar": true,
   "skip_h1_title": false,
   "title_cell": "Table of Contents",
   "title_sidebar": "Contents",
   "toc_cell": false,
   "toc_position": {},
   "toc_section_display": true,
   "toc_window_display": false
  }
 },
 "nbformat": 4,
 "nbformat_minor": 5
}
